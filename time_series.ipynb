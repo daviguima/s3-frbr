{
 "cells": [
  {
   "cell_type": "code",
   "execution_count": 1,
   "metadata": {},
   "outputs": [],
   "source": [
    "import os\n",
    "\n",
    "from datetime import datetime\n",
    "\n",
    "from nc_explorer import NcExplorer\n"
   ]
  },
  {
   "cell_type": "code",
   "execution_count": 2,
   "metadata": {},
   "outputs": [
    {
     "name": "stdout",
     "output_type": "stream",
     "text": [
      "S3A_OL_2_WFR____20190309T141223_20190309T141523_20190310T211622_0179_042_167_3060_MAR_O_NT_002.SEN3\n"
     ]
    }
   ],
   "source": [
    "work_dir = '/d_drive_data/L2_WFR'\n",
    "\n",
    "field_files = os.listdir(work_dir)\n",
    "\n",
    "# just in case we want to take a look at all the file names\n",
    "# [print(f\"{datetime.strptime(ff[16:31], '%Y%m%dT%H%M%S')} :: {ff}\") for ff in field_files]\n",
    "\n",
    "print(field_files[0])"
   ]
  },
  {
   "cell_type": "code",
   "execution_count": 9,
   "metadata": {},
   "outputs": [
    {
     "name": "stdout",
     "output_type": "stream",
     "text": [
      "/d_drive_data/L2_WFR/S3A_OL_2_WFR____20190309T141223_20190309T141523_20190310T211622_0179_042_167_3060_MAR_O_NT_002.SEN3\n"
     ]
    }
   ],
   "source": [
    "os.path.join(work_dir,field_files[0])\n",
    "print(file_name)"
   ]
  },
  {
   "cell_type": "code",
   "execution_count": 4,
   "metadata": {},
   "outputs": [
    {
     "name": "stdout",
     "output_type": "stream",
     "text": [
      "Declaring class instance from: S3-FRBR:Nc_Explorer\n",
      "Verbose set to True.\n"
     ]
    }
   ],
   "source": [
    "exp = NcExplorer(verbose=True, \n",
    "                 input_nc_folder=file_name)"
   ]
  },
  {
   "cell_type": "code",
   "execution_count": 5,
   "metadata": {},
   "outputs": [],
   "source": [
    "# Manacapuru\n",
    "query_lon, query_lat = -60.571213, -3.325576 "
   ]
  },
  {
   "cell_type": "code",
   "execution_count": 6,
   "metadata": {},
   "outputs": [],
   "source": [
    "b8 = 'Oa08_reflectance.nc'\n",
    "b17 = 'Oa17_reflectance.nc'"
   ]
  },
  {
   "cell_type": "code",
   "execution_count": 7,
   "metadata": {},
   "outputs": [
    {
     "name": "stdout",
     "output_type": "stream",
     "text": [
      "S3-FRBR:Nc_Explorer.extract_data_from_single_band()\n",
      "\n",
      "extracting band: Oa08_reflectance.nc\n",
      "\n",
      "Done in 0h:0m:0s\n",
      "\n"
     ]
    }
   ],
   "source": [
    "b8data = exp.extract_data_from_single_band(b8)"
   ]
  },
  {
   "cell_type": "code",
   "execution_count": 8,
   "metadata": {},
   "outputs": [
    {
     "data": {
      "text/plain": [
       "4091"
      ]
     },
     "execution_count": 8,
     "metadata": {},
     "output_type": "execute_result"
    }
   ],
   "source": [
    "len(b8data)"
   ]
  },
  {
   "cell_type": "code",
   "execution_count": null,
   "metadata": {},
   "outputs": [],
   "source": []
  }
 ],
 "metadata": {
  "kernelspec": {
   "display_name": "Python 3",
   "language": "python",
   "name": "python3"
  },
  "language_info": {
   "codemirror_mode": {
    "name": "ipython",
    "version": 3
   },
   "file_extension": ".py",
   "mimetype": "text/x-python",
   "name": "python",
   "nbconvert_exporter": "python",
   "pygments_lexer": "ipython3",
   "version": "3.6.9"
  }
 },
 "nbformat": 4,
 "nbformat_minor": 2
}
