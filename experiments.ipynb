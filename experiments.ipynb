{
 "cells": [
  {
   "cell_type": "code",
   "execution_count": 1,
   "metadata": {
    "pycharm": {
     "is_executing": true
    }
   },
   "outputs": [],
   "source": [
    "import os\n",
    "import pandas as pd\n",
    "from nc_explorer import NcExplorer"
   ]
  },
  {
   "cell_type": "code",
   "execution_count": 2,
   "metadata": {
    "pycharm": {
     "is_executing": true,
     "name": "#%%\n"
    }
   },
   "outputs": [],
   "source": [
    "work_dir = 'D:\\processing\\\\'\n",
    "point_file = 'points.txt'"
   ]
  },
  {
   "cell_type": "code",
   "execution_count": 3,
   "metadata": {},
   "outputs": [
    {
     "data": {
      "text/html": [
       "<div>\n",
       "<style scoped>\n",
       "    .dataframe tbody tr th:only-of-type {\n",
       "        vertical-align: middle;\n",
       "    }\n",
       "\n",
       "    .dataframe tbody tr th {\n",
       "        vertical-align: top;\n",
       "    }\n",
       "\n",
       "    .dataframe thead th {\n",
       "        text-align: right;\n",
       "    }\n",
       "</style>\n",
       "<table border=\"1\" class=\"dataframe\">\n",
       "  <thead>\n",
       "    <tr style=\"text-align: right;\">\n",
       "      <th></th>\n",
       "      <th>Name</th>\n",
       "      <th>X</th>\n",
       "      <th>Y</th>\n",
       "      <th>Lon</th>\n",
       "      <th>Lat</th>\n",
       "      <th>Delta Lon</th>\n",
       "      <th>Delta Lat</th>\n",
       "      <th>Label</th>\n",
       "      <th>Desc</th>\n",
       "    </tr>\n",
       "  </thead>\n",
       "  <tbody>\n",
       "    <tr>\n",
       "      <td>0</td>\n",
       "      <td>gcp_2</td>\n",
       "      <td>4680.5</td>\n",
       "      <td>141.5</td>\n",
       "      <td>-58.149705</td>\n",
       "      <td>-2.985699</td>\n",
       "      <td>0.000734</td>\n",
       "      <td>0.001379</td>\n",
       "      <td>GCP 2</td>\n",
       "      <td>NaN</td>\n",
       "    </tr>\n",
       "    <tr>\n",
       "      <td>1</td>\n",
       "      <td>gcp_3</td>\n",
       "      <td>4403.5</td>\n",
       "      <td>312.5</td>\n",
       "      <td>-58.904525</td>\n",
       "      <td>-3.284106</td>\n",
       "      <td>0.000964</td>\n",
       "      <td>0.000208</td>\n",
       "      <td>GCP 3</td>\n",
       "      <td>NaN</td>\n",
       "    </tr>\n",
       "    <tr>\n",
       "      <td>2</td>\n",
       "      <td>gcp_4</td>\n",
       "      <td>4409.5</td>\n",
       "      <td>435.5</td>\n",
       "      <td>-58.960732</td>\n",
       "      <td>-3.606903</td>\n",
       "      <td>0.001058</td>\n",
       "      <td>0.000232</td>\n",
       "      <td>GCP 4</td>\n",
       "      <td>NaN</td>\n",
       "    </tr>\n",
       "    <tr>\n",
       "      <td>3</td>\n",
       "      <td>gcp_6</td>\n",
       "      <td>3934.5</td>\n",
       "      <td>420.5</td>\n",
       "      <td>-60.078984</td>\n",
       "      <td>-3.317089</td>\n",
       "      <td>0.000950</td>\n",
       "      <td>0.001626</td>\n",
       "      <td>GCP 6</td>\n",
       "      <td>NaN</td>\n",
       "    </tr>\n",
       "    <tr>\n",
       "      <td>4</td>\n",
       "      <td>gcp_7</td>\n",
       "      <td>3661.5</td>\n",
       "      <td>1446.5</td>\n",
       "      <td>-61.319945</td>\n",
       "      <td>-5.839723</td>\n",
       "      <td>0.001453</td>\n",
       "      <td>0.000439</td>\n",
       "      <td>GCP 7</td>\n",
       "      <td>NaN</td>\n",
       "    </tr>\n",
       "    <tr>\n",
       "      <td>5</td>\n",
       "      <td>gcp_8</td>\n",
       "      <td>4075.5</td>\n",
       "      <td>1797.5</td>\n",
       "      <td>-60.536226</td>\n",
       "      <td>-6.971325</td>\n",
       "      <td>0.003439</td>\n",
       "      <td>0.000921</td>\n",
       "      <td>GCP 8</td>\n",
       "      <td>NaN</td>\n",
       "    </tr>\n",
       "    <tr>\n",
       "      <td>6</td>\n",
       "      <td>gcp_9</td>\n",
       "      <td>2458.5</td>\n",
       "      <td>1598.5</td>\n",
       "      <td>-64.269349</td>\n",
       "      <td>-5.587854</td>\n",
       "      <td>0.002210</td>\n",
       "      <td>0.000398</td>\n",
       "      <td>GCP 9</td>\n",
       "      <td>NaN</td>\n",
       "    </tr>\n",
       "    <tr>\n",
       "      <td>7</td>\n",
       "      <td>gcp_10</td>\n",
       "      <td>2197.5</td>\n",
       "      <td>840.5</td>\n",
       "      <td>-64.441170</td>\n",
       "      <td>-3.479314</td>\n",
       "      <td>0.000512</td>\n",
       "      <td>0.000925</td>\n",
       "      <td>GCP 10</td>\n",
       "      <td>NaN</td>\n",
       "    </tr>\n",
       "    <tr>\n",
       "      <td>8</td>\n",
       "      <td>gcp_11</td>\n",
       "      <td>596.5</td>\n",
       "      <td>1133.5</td>\n",
       "      <td>-68.405969</td>\n",
       "      <td>-3.361451</td>\n",
       "      <td>0.000184</td>\n",
       "      <td>0.001097</td>\n",
       "      <td>GCP 11</td>\n",
       "      <td>NaN</td>\n",
       "    </tr>\n",
       "    <tr>\n",
       "      <td>9</td>\n",
       "      <td>gcp_12</td>\n",
       "      <td>2478.5</td>\n",
       "      <td>3384.5</td>\n",
       "      <td>-65.295901</td>\n",
       "      <td>-10.231528</td>\n",
       "      <td>0.003066</td>\n",
       "      <td>0.000447</td>\n",
       "      <td>GCP 12</td>\n",
       "      <td>NaN</td>\n",
       "    </tr>\n",
       "  </tbody>\n",
       "</table>\n",
       "</div>"
      ],
      "text/plain": [
       "     Name       X       Y        Lon        Lat  Delta Lon  Delta Lat   Label  \\\n",
       "0   gcp_2  4680.5   141.5 -58.149705  -2.985699   0.000734   0.001379   GCP 2   \n",
       "1   gcp_3  4403.5   312.5 -58.904525  -3.284106   0.000964   0.000208   GCP 3   \n",
       "2   gcp_4  4409.5   435.5 -58.960732  -3.606903   0.001058   0.000232   GCP 4   \n",
       "3   gcp_6  3934.5   420.5 -60.078984  -3.317089   0.000950   0.001626   GCP 6   \n",
       "4   gcp_7  3661.5  1446.5 -61.319945  -5.839723   0.001453   0.000439   GCP 7   \n",
       "5   gcp_8  4075.5  1797.5 -60.536226  -6.971325   0.003439   0.000921   GCP 8   \n",
       "6   gcp_9  2458.5  1598.5 -64.269349  -5.587854   0.002210   0.000398   GCP 9   \n",
       "7  gcp_10  2197.5   840.5 -64.441170  -3.479314   0.000512   0.000925  GCP 10   \n",
       "8  gcp_11   596.5  1133.5 -68.405969  -3.361451   0.000184   0.001097  GCP 11   \n",
       "9  gcp_12  2478.5  3384.5 -65.295901 -10.231528   0.003066   0.000447  GCP 12   \n",
       "\n",
       "   Desc  \n",
       "0   NaN  \n",
       "1   NaN  \n",
       "2   NaN  \n",
       "3   NaN  \n",
       "4   NaN  \n",
       "5   NaN  \n",
       "6   NaN  \n",
       "7   NaN  \n",
       "8   NaN  \n",
       "9   NaN  "
      ]
     },
     "execution_count": 3,
     "metadata": {},
     "output_type": "execute_result"
    }
   ],
   "source": [
    "snap_gc_points = pd.read_csv(work_dir+point_file, sep='\\t', skiprows=(0,1,2,3,4))\n",
    "snap_gc_points"
   ]
  },
  {
   "cell_type": "code",
   "execution_count": 5,
   "metadata": {},
   "outputs": [],
   "source": [
    "file_name = work_dir + 'S3A_OL_1_EFR____20190830T140112_20190830T140412_20190831T183009_0179_048_338_3060_LN1_O_NT_002.SEN3'"
   ]
  },
  {
   "cell_type": "code",
   "execution_count": 6,
   "metadata": {},
   "outputs": [
    {
     "name": "stdout",
     "output_type": "stream",
     "text": [
      "Declaring class instance from: S3-FRBR:Nc_Explorer\n",
      "Verbose set to True.\n"
     ]
    }
   ],
   "source": [
    "exp = NcExplorer(input_nc_folder=file_name, \n",
    "                 verbose=True)"
   ]
  },
  {
   "cell_type": "code",
   "execution_count": 7,
   "metadata": {},
   "outputs": [
    {
     "name": "stdout",
     "output_type": "stream",
     "text": [
      "S3-FRBR:Nc_Explorer.get_lon_lat_from_nc()\n",
      "Extracting Lon/Lat dataframes from: \n",
      "D:\\processing\\S3A_OL_1_EFR____20190830T140112_20190830T140412_20190831T183009_0179_048_338_3060_LN1_O_NT_002.SEN3\n",
      "Longitude shape: (4091, 4865), size: 19902715\n",
      "Latitude shape: (4091, 4865), size: 19902715\n",
      "Done in 0h:0m:1s\n"
     ]
    }
   ],
   "source": [
    "lon, lat = exp.get_lon_lat_from_nc()"
   ]
  },
  {
   "cell_type": "code",
   "execution_count": 8,
   "metadata": {},
   "outputs": [
    {
     "name": "stdout",
     "output_type": "stream",
     "text": [
      "S3-FRBR:Nc_Explorer.get_valid_band_files()\n",
      "Sentinel-3 Image folder:\n",
      "D:\\processing\\S3A_OL_1_EFR____20190830T140112_20190830T140412_20190831T183009_0179_048_338_3060_LN1_O_NT_002.SEN3\n",
      "Total files in folder: 30\n",
      "Total NetCDF files: 29\n",
      "Total S3 \"Oa\" bands: 21\n"
     ]
    },
    {
     "data": {
      "text/plain": [
       "['Oa01_radiance.nc',\n",
       " 'Oa02_radiance.nc',\n",
       " 'Oa03_radiance.nc',\n",
       " 'Oa04_radiance.nc',\n",
       " 'Oa05_radiance.nc',\n",
       " 'Oa06_radiance.nc',\n",
       " 'Oa07_radiance.nc',\n",
       " 'Oa08_radiance.nc',\n",
       " 'Oa09_radiance.nc',\n",
       " 'Oa10_radiance.nc',\n",
       " 'Oa11_radiance.nc',\n",
       " 'Oa12_radiance.nc',\n",
       " 'Oa13_radiance.nc',\n",
       " 'Oa14_radiance.nc',\n",
       " 'Oa15_radiance.nc',\n",
       " 'Oa16_radiance.nc',\n",
       " 'Oa17_radiance.nc',\n",
       " 'Oa18_radiance.nc',\n",
       " 'Oa19_radiance.nc',\n",
       " 'Oa20_radiance.nc',\n",
       " 'Oa21_radiance.nc']"
      ]
     },
     "execution_count": 8,
     "metadata": {},
     "output_type": "execute_result"
    }
   ],
   "source": [
    "valid_nc_band_names = exp.get_valid_band_files()\n",
    "valid_nc_band_names"
   ]
  },
  {
   "cell_type": "code",
   "execution_count": 9,
   "metadata": {},
   "outputs": [
    {
     "name": "stdout",
     "output_type": "stream",
     "text": [
      "S3-FRBR:Nc_Explorer.extract_data_from_netcdf_bands()\n",
      "extracting band: Oa01_radiance.nc -- 1 of 21\n",
      "extracting band: Oa02_radiance.nc -- 2 of 21\n",
      "extracting band: Oa03_radiance.nc -- 3 of 21\n",
      "extracting band: Oa04_radiance.nc -- 4 of 21\n",
      "extracting band: Oa05_radiance.nc -- 5 of 21\n",
      "extracting band: Oa06_radiance.nc -- 6 of 21\n",
      "extracting band: Oa07_radiance.nc -- 7 of 21\n",
      "extracting band: Oa08_radiance.nc -- 8 of 21\n",
      "extracting band: Oa09_radiance.nc -- 9 of 21\n",
      "extracting band: Oa10_radiance.nc -- 10 of 21\n",
      "extracting band: Oa11_radiance.nc -- 11 of 21\n",
      "extracting band: Oa12_radiance.nc -- 12 of 21\n",
      "extracting band: Oa13_radiance.nc -- 13 of 21\n",
      "extracting band: Oa14_radiance.nc -- 14 of 21\n",
      "extracting band: Oa15_radiance.nc -- 15 of 21\n",
      "extracting band: Oa16_radiance.nc -- 16 of 21\n",
      "extracting band: Oa17_radiance.nc -- 17 of 21\n",
      "extracting band: Oa18_radiance.nc -- 18 of 21\n",
      "extracting band: Oa19_radiance.nc -- 19 of 21\n",
      "extracting band: Oa20_radiance.nc -- 20 of 21\n",
      "extracting band: Oa21_radiance.nc -- 21 of 21\n",
      "Done in 0h:0m:12s\n"
     ]
    }
   ],
   "source": [
    "bands = exp.extract_data_from_netcdf_bands(valid_nc_band_names)"
   ]
  },
  {
   "cell_type": "code",
   "execution_count": 11,
   "metadata": {},
   "outputs": [
    {
     "name": "stdout",
     "output_type": "stream",
     "text": [
      "S3-FRBR:Nc_Explorer.get_radiance_in_bands()\n"
     ]
    },
    {
     "data": {
      "text/plain": [
       "[67.50086,\n",
       " 70.4036,\n",
       " 63.13378,\n",
       " 49.661945,\n",
       " 44.075905,\n",
       " 33.392323,\n",
       " 25.636333,\n",
       " 22.45693,\n",
       " 21.940262,\n",
       " 21.352966,\n",
       " 18.799805,\n",
       " 17.207045,\n",
       " 5.7350826,\n",
       " 8.884782,\n",
       " 14.370531,\n",
       " 15.377743,\n",
       " 11.403182,\n",
       " 10.71876,\n",
       " 6.5219254,\n",
       " 1.9680593,\n",
       " 7.2699666]"
      ]
     },
     "execution_count": 11,
     "metadata": {},
     "output_type": "execute_result"
    }
   ],
   "source": [
    "query_lon, query_lat = -60.014493, -3.158980\n",
    "\n",
    "mat_x_y, band_radiances = exp.get_radiance_in_bands(bands, lon, lat, query_lon, query_lat)\n",
    "\n",
    "band_radiances"
   ]
  },
  {
   "cell_type": "code",
   "execution_count": 34,
   "metadata": {},
   "outputs": [
    {
     "ename": "TypeError",
     "evalue": "'str' object is not callable",
     "output_type": "error",
     "traceback": [
      "\u001b[1;31m---------------------------------------------------------------------------\u001b[0m",
      "\u001b[1;31mTypeError\u001b[0m                                 Traceback (most recent call last)",
      "\u001b[1;32m<ipython-input-34-2cc98001298f>\u001b[0m in \u001b[0;36m<module>\u001b[1;34m\u001b[0m\n\u001b[0;32m      1\u001b[0m \u001b[0mrad_by_points\u001b[0m \u001b[1;33m=\u001b[0m \u001b[0msnap_gc_points\u001b[0m\u001b[1;33m[\u001b[0m\u001b[1;33m[\u001b[0m\u001b[1;34m'Lon'\u001b[0m\u001b[1;33m,\u001b[0m\u001b[1;34m'Lat'\u001b[0m\u001b[1;33m]\u001b[0m\u001b[1;33m]\u001b[0m\u001b[1;33m\u001b[0m\u001b[1;33m\u001b[0m\u001b[0m\n\u001b[0;32m      2\u001b[0m \u001b[1;33m\u001b[0m\u001b[0m\n\u001b[1;32m----> 3\u001b[1;33m \u001b[0mrad_by_points\u001b[0m\u001b[1;33m[\u001b[0m\u001b[1;34m'Rad'\u001b[0m\u001b[1;33m]\u001b[0m \u001b[1;33m=\u001b[0m \u001b[0mrad_by_points\u001b[0m\u001b[1;33m[\u001b[0m\u001b[1;33m[\u001b[0m\u001b[1;34m'Lon'\u001b[0m\u001b[1;33m,\u001b[0m\u001b[1;34m'Lat'\u001b[0m\u001b[1;33m]\u001b[0m\u001b[1;33m]\u001b[0m\u001b[1;33m.\u001b[0m\u001b[0mapply\u001b[0m\u001b[1;33m(\u001b[0m\u001b[1;34m'+'\u001b[0m\u001b[1;33m(\u001b[0m\u001b[1;33m)\u001b[0m\u001b[1;33m)\u001b[0m\u001b[1;33m\u001b[0m\u001b[1;33m\u001b[0m\u001b[0m\n\u001b[0m",
      "\u001b[1;31mTypeError\u001b[0m: 'str' object is not callable"
     ]
    }
   ],
   "source": [
    "rad_by_points = snap_gc_points[['Lon','Lat']]\n",
    "\n",
    "rad_by_points['Rad'] = rad_by_points[['Lon','Lat']].apply()"
   ]
  },
  {
   "cell_type": "code",
   "execution_count": null,
   "metadata": {},
   "outputs": [],
   "source": []
  }
 ],
 "metadata": {
  "kernelspec": {
   "display_name": "Python 3",
   "language": "python",
   "name": "python3"
  },
  "language_info": {
   "codemirror_mode": {
    "name": "ipython",
    "version": 3
   },
   "file_extension": ".py",
   "mimetype": "text/x-python",
   "name": "python",
   "nbconvert_exporter": "python",
   "pygments_lexer": "ipython3",
   "version": "3.7.4"
  },
  "pycharm": {
   "stem_cell": {
    "cell_type": "raw",
    "metadata": {
     "collapsed": false
    },
    "source": []
   }
  }
 },
 "nbformat": 4,
 "nbformat_minor": 1
}
