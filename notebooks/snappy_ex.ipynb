{
 "cells": [
  {
   "cell_type": "code",
   "execution_count": 3,
   "metadata": {},
   "outputs": [
    {
     "data": {
      "image/png": "[encoded data removed]",
      "text/plain": [
       "<Figure size 432x288 with 1 Axes>"
      ]
     },
     "metadata": {
      "needs_background": "light"
     },
     "output_type": "display_data"
    }
   ],
   "source": [
    "from snappy import ProductIO\n",
    "import numpy as np\n",
    "import matplotlib.pyplot as plt\n",
    " \n",
    "p = ProductIO.readProduct('C:\\Temp\\S3A_OL_1_EFR____20190830T140112_20190830T140412_20190831T183009_0179_048_338_3060_LN1_O_NT_002_processed.dim')\n",
    "rad13 = p.getBand('band_8')\n",
    "w = rad13.getRasterWidth()\n",
    "h = rad13.getRasterHeight()\n",
    "rad13_data = np.zeros(w * h, np.float32)\n",
    "rad13.readPixels(0, 0, w, h, rad13_data)\n",
    "p.dispose()\n",
    "rad13_data.shape = h, w\n",
    "imgplot = plt.imshow(rad13_data)\n",
    "#imgplot.write_png('radiance_13.png')"
   ]
  },
  {
   "cell_type": "code",
   "execution_count": null,
   "metadata": {},
   "outputs": [],
   "source": []
  }
 ],
 "metadata": {
  "kernelspec": {
   "display_name": "Python 3",
   "language": "python",
   "name": "python3"
  },
  "language_info": {
   "codemirror_mode": {
    "name": "ipython",
    "version": 3
   },
   "file_extension": ".py",
   "mimetype": "text/x-python",
   "name": "python",
   "nbconvert_exporter": "python",
   "pygments_lexer": "ipython3",
   "version": "3.6.10"
  }
 },
 "nbformat": 4,
 "nbformat_minor": 4
}
