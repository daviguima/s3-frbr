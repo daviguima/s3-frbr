{
 "cells": [
  {
   "cell_type": "code",
   "execution_count": 1,
   "metadata": {},
   "outputs": [],
   "source": [
    "import os\n",
    "import sys\n",
    "import pandas as pd\n",
    "import matplotlib.pyplot as plt\n",
    "\n",
    "sys.path.append('../')\n",
    "from tsgen import TsGenerator"
   ]
  },
  {
   "cell_type": "code",
   "execution_count": 2,
   "metadata": {},
   "outputs": [],
   "source": [
    "tsgen = TsGenerator()"
   ]
  },
  {
   "cell_type": "code",
   "execution_count": 3,
   "metadata": {},
   "outputs": [],
   "source": [
    "datafolders = [\"D:\\\\processing\\\\win\\\\COARI\",\n",
    "              \"D:\\\\processing\\\\win\\\\FONTE_BOA\",\n",
    "              \"D:\\\\processing\\\\win\\\\MADEIRA\",\n",
    "              \"D:\\\\processing\\\\win\\\\MANACAPURU\",\n",
    "              \"D:\\\\processing\\\\win\\\\NEGRO\",\n",
    "              \"D:\\\\processing\\\\win\\\\TEFE\"]"
   ]
  },
  {
   "cell_type": "code",
   "execution_count": null,
   "metadata": {},
   "outputs": [],
   "source": [
    "# subset_path = os.path.join(datafolders[0],os.listdir(datafolders[0])[0])\n",
    "prettydate = 'S3B_OL_2_WFR____20191002T140633_20191002T140933_20191003T222714_0179_030_281_3060_MAR_O_NT_002_subset.txt'\n",
    "# prettydate = 'S3A_OL_2_WFR____20191231T141226_20191231T141526_20200105T031511_0179_053_167_3060_MAR_O_NT_002_subset.txt'\n",
    "# prettydate = 'S3B_OL_2_WFR____20200214T140633_20200214T140933_20200215T210517_0179_035_281_3060_MAR_O_NT_002_subset.txt'\n",
    "subset_path = os.path.join(datafolders[0],prettydate)\n",
    "subset_path"
   ]
  },
  {
   "cell_type": "code",
   "execution_count": null,
   "metadata": {},
   "outputs": [],
   "source": [
    "# read text file and convert to pandas dataframe\n",
    "df = pd.read_csv(subset_path, sep='\\t', skiprows=1)"
   ]
  },
  {
   "cell_type": "code",
   "execution_count": null,
   "metadata": {},
   "outputs": [],
   "source": [
    "df.columns.values"
   ]
  },
  {
   "cell_type": "markdown",
   "metadata": {},
   "source": [
    "## GDAL"
   ]
  },
  {
   "cell_type": "code",
   "execution_count": 22,
   "metadata": {},
   "outputs": [],
   "source": [
    "from osgeo import gdal\n",
    "import numpy as np"
   ]
  },
  {
   "cell_type": "code",
   "execution_count": 5,
   "metadata": {},
   "outputs": [],
   "source": [
    "filename = r'D:\\processing\\win\\icor_mask\\S3B_OL_1_EFR____20190722T133256_20190722T133556_20190723T181207_0179_028_024_3060_LN1_O_NT_002_processed.tif'"
   ]
  },
  {
   "cell_type": "code",
   "execution_count": 7,
   "metadata": {},
   "outputs": [],
   "source": [
    "SourceDS = gdal.Open(filename)"
   ]
  },
  {
   "cell_type": "code",
   "execution_count": 9,
   "metadata": {},
   "outputs": [],
   "source": [
    "projection = SourceDS.GetProjection()\n",
    "geo_transform = SourceDS.GetGeoTransform()"
   ]
  },
  {
   "cell_type": "code",
   "execution_count": 10,
   "metadata": {
    "scrolled": true
   },
   "outputs": [
    {
     "name": "stdout",
     "output_type": "stream",
     "text": [
      "GEOGCS[\"WGS 84\",DATUM[\"WGS_1984\",SPHEROID[\"WGS 84\",6378137,298.257223563,AUTHORITY[\"EPSG\",\"7030\"]],AUTHORITY[\"EPSG\",\"6326\"]],PRIMEM[\"Greenwich\",0,AUTHORITY[\"EPSG\",\"8901\"]],UNIT[\"degree\",0.0174532925199433,AUTHORITY[\"EPSG\",\"9122\"]],AXIS[\"Latitude\",NORTH],AXIS[\"Longitude\",EAST],AUTHORITY[\"EPSG\",\"4326\"]] \n",
      " --- \n",
      " (-64.66684894352004, 0.002888197418897582, 0.0, -0.1263540012212161, 0.0, -0.002888197418897582)\n"
     ]
    }
   ],
   "source": [
    "print(projection,'\\n --- \\n',geo_transform)"
   ]
  },
  {
   "cell_type": "code",
   "execution_count": 34,
   "metadata": {},
   "outputs": [
    {
     "data": {
      "text/plain": [
       "(16, 4577, 4866)"
      ]
     },
     "execution_count": 34,
     "metadata": {},
     "output_type": "execute_result"
    }
   ],
   "source": [
    "SourceDS.ReadAsArray().shape"
   ]
  },
  {
   "cell_type": "code",
   "execution_count": 41,
   "metadata": {},
   "outputs": [
    {
     "data": {
      "text/plain": [
       "<matplotlib.image.AxesImage at 0x292ade0b7f0>"
      ]
     },
     "execution_count": 41,
     "metadata": {},
     "output_type": "execute_result"
    },
    {
     "name": "stderr",
     "output_type": "stream",
     "text": [
      "C:\\Users\\david\\.conda\\envs\\git-prj\\lib\\site-packages\\matplotlib\\image.py:468: RuntimeWarning: overflow encountered in subtract\n",
      "  A_scaled -= a_min\n",
      "C:\\Users\\david\\.conda\\envs\\git-prj\\lib\\site-packages\\matplotlib\\image.py:488: RuntimeWarning: overflow encountered in multiply\n",
      "  A_resampled *= ((a_max - a_min) / 0.8)\n",
      "C:\\Users\\david\\.conda\\envs\\git-prj\\lib\\site-packages\\matplotlib\\colors.py:1026: RuntimeWarning: overflow encountered in float_scalars\n",
      "  resdat /= (vmax - vmin)\n",
      "C:\\Users\\david\\.conda\\envs\\git-prj\\lib\\site-packages\\matplotlib\\colors.py:1026: RuntimeWarning: invalid value encountered in true_divide\n",
      "  resdat /= (vmax - vmin)\n",
      "C:\\Users\\david\\.conda\\envs\\git-prj\\lib\\site-packages\\matplotlib\\colors.py:581: RuntimeWarning: invalid value encountered in less\n",
      "  xa[xa < 0] = -1\n"
     ]
    },
    {
     "data": {
      "image/png": "[encoded data removed]",
      "text/plain": [
       "<Figure size 432x288 with 1 Axes>"
      ]
     },
     "metadata": {
      "needs_background": "light"
     },
     "output_type": "display_data"
    }
   ],
   "source": [
    "plt.imshow(SourceDS.ReadAsArray()[0])"
   ]
  },
  {
   "cell_type": "code",
   "execution_count": null,
   "metadata": {},
   "outputs": [],
   "source": []
  },
  {
   "cell_type": "code",
   "execution_count": null,
   "metadata": {},
   "outputs": [],
   "source": []
  },
  {
   "cell_type": "code",
   "execution_count": 11,
   "metadata": {},
   "outputs": [],
   "source": [
    "def array2raster(filename, array, geo_transform, projection, nodatavalue=0, dtype=gdal.GDT_Float32):\n",
    "\n",
    "    cols = array.shape[1]\n",
    "    rows = array.shape[0]\n",
    "\n",
    "    print('Saving image: ' + filename)\n",
    "\n",
    "    driver = gdal.GetDriverByName('GTiff')\n",
    "    out_raster = driver.Create(filename, cols, rows, 1, dtype, options=['COMPRESS=PACKBITS'])\n",
    "    out_raster.SetGeoTransform(geo_transform)\n",
    "    out_raster.SetProjection(projection)\n",
    "    outband = out_raster.GetRasterBand(1)\n",
    "    outband.SetNoDataValue(nodatavalue)\n",
    "    outband.WriteArray(array)\n",
    "    outband.FlushCache()\n",
    "    return"
   ]
  },
  {
   "cell_type": "code",
   "execution_count": 39,
   "metadata": {},
   "outputs": [],
   "source": [
    "# Read iCOR cloud mask\n",
    "cloudmask = r'D:\\processing\\win\\icor_mask\\S3B_OL_1_EFR____20190722T133256_20190722T133556_20190723T181207_0179_028_024_3060_LN1_O_NT_002_SEN3_cloudmask.tif'\n",
    "cloudm_raster = gdal.Open(cloudmask)"
   ]
  },
  {
   "cell_type": "code",
   "execution_count": 40,
   "metadata": {},
   "outputs": [
    {
     "data": {
      "text/plain": [
       "(4091, 4865)"
      ]
     },
     "execution_count": 40,
     "metadata": {},
     "output_type": "execute_result"
    }
   ],
   "source": [
    "# cloudm_raster.SetProjection(projection)\n",
    "# cloudm_raster.SetGeoTransform(geo_transform)\n",
    "cloudm_raster.ReadAsArray().shape"
   ]
  },
  {
   "cell_type": "code",
   "execution_count": 14,
   "metadata": {},
   "outputs": [],
   "source": [
    "cloudm_rasterArray = cloudm_raster.ReadAsArray()"
   ]
  },
  {
   "cell_type": "code",
   "execution_count": 16,
   "metadata": {},
   "outputs": [
    {
     "data": {
      "text/plain": [
       "(4091, 4865)"
      ]
     },
     "execution_count": 16,
     "metadata": {},
     "output_type": "execute_result"
    }
   ],
   "source": [
    "cloudm_rasterArray.shape"
   ]
  },
  {
   "cell_type": "code",
   "execution_count": 17,
   "metadata": {},
   "outputs": [
    {
     "data": {
      "image/png": "[encoded data removed]",
      "text/plain": [
       "<Figure size 432x288 with 1 Axes>"
      ]
     },
     "metadata": {
      "needs_background": "light"
     },
     "output_type": "display_data"
    }
   ],
   "source": [
    "plt.imshow(cloudm_rasterArray)\n",
    "plt.show()"
   ]
  },
  {
   "cell_type": "code",
   "execution_count": 26,
   "metadata": {},
   "outputs": [
    {
     "data": {
      "text/plain": [
       "255"
      ]
     },
     "execution_count": 26,
     "metadata": {},
     "output_type": "execute_result"
    }
   ],
   "source": [
    "cloudm_rasterArray.max()"
   ]
  },
  {
   "cell_type": "code",
   "execution_count": 31,
   "metadata": {},
   "outputs": [],
   "source": [
    "Masked_CloudrasterArray = np.ma.masked_equal(cloudm_rasterArray, 255)"
   ]
  },
  {
   "cell_type": "code",
   "execution_count": 32,
   "metadata": {},
   "outputs": [
    {
     "data": {
      "image/png": "[encoded data removed]",
      "text/plain": [
       "<Figure size 432x288 with 1 Axes>"
      ]
     },
     "metadata": {
      "needs_background": "light"
     },
     "output_type": "display_data"
    }
   ],
   "source": [
    "plt.imshow(Masked_CloudrasterArray)\n",
    "plt.show()"
   ]
  },
  {
   "cell_type": "code",
   "execution_count": 33,
   "metadata": {},
   "outputs": [
    {
     "name": "stdout",
     "output_type": "stream",
     "text": [
      "Saving image: D:\\processing\\win\\icor_mask\\py_out\\geo_cloud_mask.tif\n"
     ]
    }
   ],
   "source": [
    "array2raster(filename=r'D:\\processing\\win\\icor_mask\\py_out\\geo_cloud_mask.tif',\n",
    "             array=cloudm_rasterArray,\n",
    "             geo_transform=geo_transform,\n",
    "             projection=projection, \n",
    "             nodatavalue=255)"
   ]
  },
  {
   "cell_type": "code",
   "execution_count": null,
   "metadata": {},
   "outputs": [],
   "source": []
  }
 ],
 "metadata": {
  "kernelspec": {
   "display_name": "Python 3",
   "language": "python",
   "name": "python3"
  },
  "language_info": {
   "codemirror_mode": {
    "name": "ipython",
    "version": 3
   },
   "file_extension": ".py",
   "mimetype": "text/x-python",
   "name": "python",
   "nbconvert_exporter": "python",
   "pygments_lexer": "ipython3",
   "version": "3.6.10"
  }
 },
 "nbformat": 4,
 "nbformat_minor": 4
}
