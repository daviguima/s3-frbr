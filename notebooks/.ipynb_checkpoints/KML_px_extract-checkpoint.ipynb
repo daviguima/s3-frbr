{
 "cells": [
  {
   "cell_type": "code",
   "execution_count": null,
   "metadata": {},
   "outputs": [],
   "source": [
    "import os\n",
    "import time\n",
    "import subprocess\n",
    "import logging\n",
    "\n",
    "from datetime import datetime\n",
    "\n",
    "import matplotlib.pyplot as plt\n",
    "import matplotlib.dates as mdates\n",
    "\n",
    "import pandas as pd\n",
    "\n",
    "import numpy as np\n",
    "\n",
    "import sys\n",
    "sys.path.append('../')\n",
    "\n",
    "import outsourcing as out\n",
    "from nc_explorer import NcExplorer\n",
    "import utils\n"
   ]
  },
  {
   "cell_type": "code",
   "execution_count": null,
   "metadata": {},
   "outputs": [],
   "source": [
    "logging.basicConfig(format='%(asctime)s - %(message)s', datefmt='%d/%m/%Y %H:%M:%S', level=logging.DEBUG)\n",
    "\n",
    "work_dir = 'D:\\S3\\L2_WFR'\n",
    "\n",
    "field_files = os.listdir(work_dir)\n",
    "\n",
    "gpt = out.GPTBridge('C:\\\\Program Files\\\\snap\\\\bin\\\\gpt.exe', 'D:\\\\S3\\\\L2_WFR_subset\\\\COARI', verbose=True)\n",
    "gpt"
   ]
  },
  {
   "cell_type": "code",
   "execution_count": null,
   "metadata": {},
   "outputs": [],
   "source": [
    "kmls = ['D:\\\\A1_JM\\\\areas\\\\coari.kml',\n",
    "        'D:\\\\A1_JM\\\\areas\\\\fonte_boa.kml',\n",
    "        'D:\\\\A1_JM\\\\areas\\\\madeira.kml',\n",
    "        'D:\\\\A1_JM\\\\areas\\\\manacapuru.kml',\n",
    "        'D:\\\\A1_JM\\\\areas\\\\negro.kml',\n",
    "        'D:\\\\A1_JM\\\\areas\\\\tefe.kml']\n",
    "\n",
    "outpaths = ['D:\\\\S3\\\\L2_WFR_subset\\\\COARI',\n",
    "            'D:\\\\S3\\\\L2_WFR_subset\\\\FONTE_BOA',\n",
    "            'D:\\\\S3\\\\L2_WFR_subset\\\\MADEIRA',\n",
    "            'D:\\\\S3\\\\L2_WFR_subset\\\\MANACAPURU',\n",
    "            'D:\\\\S3\\\\L2_WFR_subset\\\\NEGRO',\n",
    "            'D:\\\\S3\\\\L2_WFR_subset\\\\TEFE']"
   ]
  },
  {
   "cell_type": "code",
   "execution_count": null,
   "metadata": {},
   "outputs": [],
   "source": [
    "t1 = time.perf_counter()\n",
    "\n",
    "for e,region in enumerate(outpaths):\n",
    "    print(f'KML:{kmls[e]} --- Output folder:{region}')\n",
    "    \n",
    "    gpt.output_path = region\n",
    "    \n",
    "    total = len(field_files)\n",
    "    \n",
    "    for n, image in enumerate(field_files):\n",
    "        \n",
    "        file_name = os.path.join(work_dir, image)\n",
    "        \n",
    "        print(f'Processing image {n} of {total}:\\n{image}\\n')\n",
    "\n",
    "        gpt.get_pixels_by_kml(kmls[e], file_name)\n",
    "\n",
    "t2 = time.perf_counter()\n",
    "print(f'Finished in {round(t2 - t1, 2)} second(s).')"
   ]
  },
  {
   "cell_type": "code",
   "execution_count": null,
   "metadata": {},
   "outputs": [],
   "source": [
    "testfile = os.path.join(work_dir, field_files[0])\n",
    "\n",
    "t1 = time.perf_counter()\n",
    "\n",
    "gpt.kml_path = 'D:\\\\A1_JM\\\\areas\\\\coari.kml'\n",
    "gpt.output_path = 'D:\\\\S3\\\\L2_WFR_subset\\\\COARI'\n",
    "gpt.get_pixels_by_kml(testfile)\n",
    "\n",
    "t2 = time.perf_counter()\n",
    "print(f'Finished in {round(t2 - t1, 2)} second(s).')"
   ]
  },
  {
   "cell_type": "code",
   "execution_count": null,
   "metadata": {},
   "outputs": [],
   "source": [
    "gpt.gpt_path"
   ]
  },
  {
   "cell_type": "code",
   "execution_count": null,
   "metadata": {},
   "outputs": [],
   "source": [
    "process = subprocess.Popen(gpt.gpt_path+' -h', stdout=subprocess.PIPE)\n",
    "stdout = process.communicate()[0]\n",
    "print(f'STDOUT:{stdout}')"
   ]
  },
  {
   "cell_type": "code",
   "execution_count": null,
   "metadata": {},
   "outputs": [],
   "source": []
  }
 ],
 "metadata": {
  "kernelspec": {
   "display_name": "Python 3",
   "language": "python",
   "name": "python3"
  },
  "language_info": {
   "codemirror_mode": {
    "name": "ipython",
    "version": 3
   },
   "file_extension": ".py",
   "mimetype": "text/x-python",
   "name": "python",
   "nbconvert_exporter": "python",
   "pygments_lexer": "ipython3",
   "version": "3.6.10"
  }
 },
 "nbformat": 4,
 "nbformat_minor": 4
}
