{
 "cells": [
  {
   "cell_type": "code",
   "execution_count": 5,
   "metadata": {},
   "outputs": [],
   "source": [
    "import os\n",
    "import pandas as pd\n",
    "import matplotlib.pyplot as plt\n",
    "import sys\n",
    "sys.path.append('../')\n",
    "\n",
    "from tsgen import TsGenerator"
   ]
  },
  {
   "cell_type": "code",
   "execution_count": 6,
   "metadata": {},
   "outputs": [],
   "source": [
    "tsg = TsGenerator()"
   ]
  },
  {
   "cell_type": "code",
   "execution_count": 10,
   "metadata": {},
   "outputs": [],
   "source": [
    "workdir = \"D:\\\\processing\\\\win\"\n",
    "\n",
    "ts_list = [\"coari-ts.csv\",\n",
    "          \"fonte-boa-ts.csv\",\n",
    "          \"madeira-ts.csv\",\n",
    "          \"manacapuru-ts.csv\",\n",
    "          \"negro-ts.csv\",\n",
    "          \"tefe-ts.csv\"]\n",
    "\n",
    "coari_dict = pd.read_csv(os.path.join(workdir,ts_list[0]), parse_dates=['Datetime'])\n",
    "fonte_boa_dict = pd.read_csv(os.path.join(workdir,ts_list[1]), parse_dates=['Datetime'])\n",
    "madeira_dict = pd.read_csv(os.path.join(workdir,ts_list[2]), parse_dates=['Datetime'])\n",
    "manacapuru_dict = pd.read_csv(os.path.join(workdir,ts_list[3]), parse_dates=['Datetime'])\n",
    "negro_dict = pd.read_csv(os.path.join(workdir,ts_list[4]), parse_dates=['Datetime'])\n",
    "tefe_dict = pd.read_csv(os.path.join(workdir,ts_list[5]), parse_dates=['Datetime'])"
   ]
  },
  {
   "cell_type": "code",
   "execution_count": 11,
   "metadata": {},
   "outputs": [
    {
     "data": {
      "text/plain": [
       "Index(['Unnamed: 0', 'Datetime', 'Date-String', 'B1-400', 'B2-412.5',\n",
       "       'B3-442.5', 'B4-490', 'B5-510', 'B6-560', 'B7-620', 'B8-665',\n",
       "       'B9-673.75', 'B10-681.25', 'B11-708.75', 'B12-753.75', 'B16-778.75',\n",
       "       'B17-865', 'B18-885', 'B21-1020', 'filename'],\n",
       "      dtype='object')"
      ]
     },
     "execution_count": 11,
     "metadata": {},
     "output_type": "execute_result"
    }
   ],
   "source": [
    "coari_dict.keys()"
   ]
  },
  {
   "cell_type": "code",
   "execution_count": null,
   "metadata": {},
   "outputs": [],
   "source": []
  },
  {
   "cell_type": "code",
   "execution_count": null,
   "metadata": {},
   "outputs": [],
   "source": [
    "\n",
    "plt.rcParams['figure.figsize'] = [16, 6]\n",
    "# fig = plt.figure()\n",
    "ax = plt.axes()\n",
    "ax.set_title(fig_title, fontsize=16)\n",
    "ax.plot(tms_dict['Datetime'], tms_dict[tms_key], marker='o', markersize=5, label=self.bname_dict[tms_key])\n",
    "ax.set_xlabel('Date', fontsize=16)\n",
    "ax.set_ylabel('Reflectance', fontsize=16)\n",
    "ax.legend()\n",
    "# plt.savefig(save_title, dpi=300)\n",
    "plt.show()"
   ]
  }
 ],
 "metadata": {
  "kernelspec": {
   "display_name": "Python 3",
   "language": "python",
   "name": "python3"
  },
  "language_info": {
   "codemirror_mode": {
    "name": "ipython",
    "version": 3
   },
   "file_extension": ".py",
   "mimetype": "text/x-python",
   "name": "python",
   "nbconvert_exporter": "python",
   "pygments_lexer": "ipython3",
   "version": "3.6.10"
  }
 },
 "nbformat": 4,
 "nbformat_minor": 4
}
