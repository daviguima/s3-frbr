{
 "cells": [
  {
   "cell_type": "code",
   "execution_count": 9,
   "metadata": {},
   "outputs": [],
   "source": [
    "import os\n",
    "import pandas as pd\n",
    "import numpy as np"
   ]
  },
  {
   "cell_type": "code",
   "execution_count": 10,
   "metadata": {},
   "outputs": [],
   "source": [
    "workdir = 'D:\\\\processing\\\\win\\\\MANACAPURU'\n",
    "# savedir = 'D:\\\\processing\\\\win\\\\a1_plots\\\\mass_jm_scatter_cloudmask_on_WFR'"
   ]
  },
  {
   "cell_type": "code",
   "execution_count": 41,
   "metadata": {},
   "outputs": [],
   "source": [
    "# REMOVE\n",
    "toremove = ['INVALID','CLOUD','CLOUD_AMBIGUOUS','CLOUD_MARGIN','SNOW_ICE','SUSPECT','SATURATED','AC_FAIL']\n",
    "\n",
    "bin_to_flag = {0:'INVALID',\n",
    "               1:'WATER',\n",
    "               2:'LAND',\n",
    "               3:'CLOUD',\n",
    "               24:'CLOUD_AMBIGUOUS',\n",
    "               25:'CLOUD_MARGIN',\n",
    "               4:'SNOW_ICE',\n",
    "               5:'INLAND_WATER',\n",
    "               6:'TIDAL',\n",
    "               7:'COSMETIC',\n",
    "               8:'SUSPECT',\n",
    "               9:'HISOLZEN',\n",
    "               10:'SATURATED',\n",
    "               11:'MEGLINT',\n",
    "               12:'HIGHGLINT',\n",
    "               13:'WHITECAPS',\n",
    "               14:'ADJAC',\n",
    "               15:'WV_FAIL',\n",
    "               16:'PAR_FAIL',\n",
    "               17:'AC_FAIL',\n",
    "               18:'OC4ME_FAIL',\n",
    "               19:'OCNN_FAIL',\n",
    "               21:'KDM_FAIL',\n",
    "               25:'BPAC_ON',\n",
    "               26:'WHITE_SCATT',\n",
    "               27:'LOWRW',\n",
    "               28:'HIGHRW',\n",
    "               32:'ANNOT_ANGSTROM',\n",
    "               33:'ANNOT_AERO_B',\n",
    "               34:'ANNOT_ABSO_D',\n",
    "               35:'ANNOT_ACLIM',\n",
    "               36:'ANNOT_ABSOA',\n",
    "               37:'ANNOT_MIXR1',\n",
    "               38:'ANNOT_DROUT',\n",
    "               39:'ANNOT_TAU06',\n",
    "               40:'RWNEG_O1',\n",
    "               41:'RWNEG_O2',\n",
    "               42:'RWNEG_O3',\n",
    "               43:'RWNEG_O4',\n",
    "               44:'RWNEG_O5',\n",
    "               45:'RWNEG_O6',\n",
    "               46:'RWNEG_O7',\n",
    "               47:'RWNEG_O8',\n",
    "               48:'RWNEG_O9',\n",
    "               49:'RWNEG_O10',\n",
    "               50:'RWNEG_O11',\n",
    "               51:'RWNEG_O12',\n",
    "               52:'RWNEG_O16',\n",
    "               53:'RWNEG_O17',\n",
    "               54:'RWNEG_O18',\n",
    "               55:'RWNEG_O21'}"
   ]
  },
  {
   "cell_type": "code",
   "execution_count": 20,
   "metadata": {},
   "outputs": [],
   "source": [
    "# https://sentinel.esa.int/web/sentinel/technical-guides/sentinel-3-olci/level-2/quality-and-science-flags-op\n",
    "float_flag_masks = {'INVALID':1.0,\n",
    "                    'WATER':2.0,\n",
    "                    'LAND':4.0,\n",
    "                    'CLOUD':8.0, #\n",
    "                    'CLOUD_AMBIGUOUS':8388608.0, #\n",
    "                    'CLOUD_MARGIN':16777216.0, #\n",
    "                    'SNOW_ICE':16.0, #\n",
    "                    'INLAND_WATER':32.0,\n",
    "                    'TIDAL':64.0,\n",
    "                    'COSMETIC':128.0,\n",
    "                    'SUSPECT':256.0, #\n",
    "                    'HISOLZEN':512.0,\n",
    "                    'SATURATED':1024.0, #\n",
    "                    'MEGLINT':2048.0,\n",
    "                    'HIGHGLINT':4096.0, #\n",
    "                    'WHITECAPS':8192.0,\n",
    "                    'ADJAC':16384.0,\n",
    "                    'WV_FAIL':32768.0,\n",
    "                    'PAR_FAIL':65536.0,\n",
    "                    'AC_FAIL':131072.0,\n",
    "                    'OC4ME_FAIL':262144.0,\n",
    "                    'OCNN_FAIL':524288.0,\n",
    "                    'KDM_FAIL':2097152.0,\n",
    "                    'BPAC_ON':33554432.0,\n",
    "                    'WHITE_SCATT':67108864.0,\n",
    "                    'LOWRW':134217728.0,\n",
    "                    'HIGHRW':268435456.0,\n",
    "                    'ANNOT_ANGSTROM':4294967296.0, #\n",
    "                    'ANNOT_AERO_B':8589934592.0,\n",
    "                    'ANNOT_ABSO_D':17179869184.0,\n",
    "                    'ANNOT_ACLIM':34359738368.0,\n",
    "                    'ANNOT_ABSOA':68719476736.0,\n",
    "                    'ANNOT_MIXR1':137438953472.0,\n",
    "                    'ANNOT_DROUT':274877906944.0,\n",
    "                    'ANNOT_TAU06':549755813888.0,\n",
    "                    'RWNEG_O1':1099511627776.0,\n",
    "                    'RWNEG_O2':2199023255552.0,\n",
    "                    'RWNEG_O3':4398046511104.0,\n",
    "                    'RWNEG_O4':8796093022208.0,\n",
    "                    'RWNEG_O5':17592186044416.0,\n",
    "                    'RWNEG_O6':35184372088832.0,\n",
    "                    'RWNEG_O7':70368744177664.0,\n",
    "                    'RWNEG_O8':140737488355328.0,\n",
    "                    'RWNEG_O9':281474976710656.0,\n",
    "                    'RWNEG_O10':562949953421312.0,\n",
    "                    'RWNEG_O11':1125899906842624.0,\n",
    "                    'RWNEG_O12':2251799813685248.0,\n",
    "                    'RWNEG_O16':4503599627370496.0,\n",
    "                    'RWNEG_O17':9007199254740992.0,\n",
    "                    'RWNEG_O18':18014398509481984.0,\n",
    "                    'RWNEG_O21':36028797018963968.0}"
   ]
  },
  {
   "cell_type": "code",
   "execution_count": 11,
   "metadata": {},
   "outputs": [
    {
     "data": {
      "text/plain": [
       "370"
      ]
     },
     "execution_count": 11,
     "metadata": {},
     "output_type": "execute_result"
    }
   ],
   "source": [
    "len(os.listdir(workdir))"
   ]
  },
  {
   "cell_type": "code",
   "execution_count": 12,
   "metadata": {},
   "outputs": [
    {
     "data": {
      "text/plain": [
       "'D:\\\\processing\\\\win\\\\MANACAPURU\\\\S3B_OL_2_WFR____20191002T140633_20191002T140933_20191003T222714_0179_030_281_3060_MAR_O_NT_002_subset.txt'"
      ]
     },
     "execution_count": 12,
     "metadata": {},
     "output_type": "execute_result"
    }
   ],
   "source": [
    "myday = 'S3B_OL_2_WFR____20191002T140633_20191002T140933_20191003T222714_0179_030_281_3060_MAR_O_NT_002_subset.txt'\n",
    "complete_path = os.path.join(workdir,myday)\n",
    "complete_path"
   ]
  },
  {
   "cell_type": "code",
   "execution_count": 13,
   "metadata": {},
   "outputs": [
    {
     "data": {
      "text/plain": [
       "'20191002T140633'"
      ]
     },
     "execution_count": 13,
     "metadata": {},
     "output_type": "execute_result"
    }
   ],
   "source": [
    "figdate = os.path.basename(complete_path).split('____')[1].split('_')[0]\n",
    "figdate"
   ]
  },
  {
   "cell_type": "code",
   "execution_count": 39,
   "metadata": {},
   "outputs": [
    {
     "name": "stdout",
     "output_type": "stream",
     "text": [
      "64064\n"
     ]
    }
   ],
   "source": [
    "# read text file and convert to pandas dataframe\n",
    "df = pd.read_csv(complete_path, sep='\\t', skiprows=1)\n",
    "print(len(df))"
   ]
  },
  {
   "cell_type": "code",
   "execution_count": 40,
   "metadata": {},
   "outputs": [
    {
     "name": "stdout",
     "output_type": "stream",
     "text": [
      "60153\n",
      "3911\n"
     ]
    }
   ],
   "source": [
    "# Get + Delete: indexes for which column LON has value 0\n",
    "indexNames = df[ df['longitude:double'] == 0 ].index\n",
    "print(len(indexNames))\n",
    "df.drop(indexNames , inplace=True)\n",
    "print(len(df))"
   ]
  },
  {
   "cell_type": "code",
   "execution_count": 15,
   "metadata": {},
   "outputs": [
    {
     "data": {
      "text/plain": [
       "1020        4136.0\n",
       "1021        4136.0\n",
       "1022        4136.0\n",
       "1369        4136.0\n",
       "1370    17436708.0\n",
       "Name: WQSF_lsb:double, dtype: float64"
      ]
     },
     "execution_count": 15,
     "metadata": {},
     "output_type": "execute_result"
    }
   ],
   "source": [
    "df['WQSF_lsb:double'].head()"
   ]
  },
  {
   "cell_type": "code",
   "execution_count": 16,
   "metadata": {},
   "outputs": [
    {
     "data": {
      "text/plain": [
       "(array([4.10400000e+03, 4.13600000e+03, 6.59492000e+05, 2.88771600e+06,\n",
       "        1.67813160e+07, 1.74367080e+07, 1.96649320e+07, 3.42139240e+07,\n",
       "        3.64421480e+07, 5.04668520e+07, 5.09911400e+07, 5.32193640e+07,\n",
       "        2.88100388e+08, 3.02518308e+08, 3.02780452e+08, 3.04877604e+08,\n",
       "        3.19295524e+08, 3.19557668e+08, 3.21654820e+08]),\n",
       " array([ 471, 2668,   11,   13,   44,   72,   14,   11,    2,    1,  141,\n",
       "           4,    2,  122,    4,    1,  324,    2,    4], dtype=int64))"
      ]
     },
     "execution_count": 16,
     "metadata": {},
     "output_type": "execute_result"
    }
   ],
   "source": [
    "np.unique(df['WQSF_lsb:double'], return_counts=True)"
   ]
  },
  {
   "cell_type": "code",
   "execution_count": 28,
   "metadata": {},
   "outputs": [
    {
     "name": "stdout",
     "output_type": "stream",
     "text": [
      "302518308 = 10010000010000001000000100100 (29 bit)\n",
      "\n",
      "0: 0\n",
      "1: 0\n",
      "2: 1 - LAND\n",
      "3: 0\n",
      "4: 0\n",
      "5: 1 - INLAND_WATER\n",
      "6: 0\n",
      "7: 0\n",
      "8: 0\n",
      "9: 0\n",
      "10: 0\n",
      "11: 0\n",
      "12: 1 - HIGHGLINT\n",
      "13: 0\n",
      "14: 0\n",
      "15: 0\n",
      "16: 0\n",
      "17: 0\n",
      "18: 0\n",
      "19: 1 - OCNN_FAIL\n",
      "20: 0\n",
      "21: 0\n",
      "22: 0\n",
      "23: 0\n",
      "24: 0\n",
      "25: 1 - BPAC_ON\n",
      "26: 0\n",
      "27: 0\n",
      "28: 1 - HIGHRW\n"
     ]
    }
   ],
   "source": [
    "exval = 302518308\n",
    "#exval = int(df['WQSF_lsb:double'].iloc[1001])\n",
    "binexval = \"{0:b}\".format(exval)\n",
    "print(f'{exval} = {binexval} ({len(binexval)} bit)\\n')\n",
    "\n",
    "for n,e in enumerate(binexval[::-1]):\n",
    "    if e=='1':\n",
    "        print(f'{n}: {e} - {bin_to_flag[n]}')\n",
    "    else:\n",
    "        print(f'{n}: {e}')"
   ]
  },
  {
   "cell_type": "code",
   "execution_count": 21,
   "metadata": {},
   "outputs": [
    {
     "name": "stdout",
     "output_type": "stream",
     "text": [
      "1.0: 1 (1)\n",
      "2.0: 10 (2)\n",
      "4.0: 100 (3)\n",
      "8.0: 1000 (4)\n",
      "8388608.0: 100000000000000000000000 (24)\n",
      "16777216.0: 1000000000000000000000000 (25)\n",
      "16.0: 10000 (5)\n",
      "32.0: 100000 (6)\n",
      "64.0: 1000000 (7)\n",
      "128.0: 10000000 (8)\n",
      "256.0: 100000000 (9)\n",
      "512.0: 1000000000 (10)\n",
      "1024.0: 10000000000 (11)\n",
      "2048.0: 100000000000 (12)\n",
      "4096.0: 1000000000000 (13)\n",
      "8192.0: 10000000000000 (14)\n",
      "16384.0: 100000000000000 (15)\n",
      "32768.0: 1000000000000000 (16)\n",
      "65536.0: 10000000000000000 (17)\n",
      "131072.0: 100000000000000000 (18)\n",
      "262144.0: 1000000000000000000 (19)\n",
      "524288.0: 10000000000000000000 (20)\n",
      "2097152.0: 1000000000000000000000 (22)\n",
      "33554432.0: 10000000000000000000000000 (26)\n",
      "67108864.0: 100000000000000000000000000 (27)\n",
      "134217728.0: 1000000000000000000000000000 (28)\n",
      "268435456.0: 10000000000000000000000000000 (29)\n",
      "4294967296.0: 100000000000000000000000000000000 (33)\n",
      "8589934592.0: 1000000000000000000000000000000000 (34)\n",
      "17179869184.0: 10000000000000000000000000000000000 (35)\n",
      "34359738368.0: 100000000000000000000000000000000000 (36)\n",
      "68719476736.0: 1000000000000000000000000000000000000 (37)\n",
      "137438953472.0: 10000000000000000000000000000000000000 (38)\n",
      "274877906944.0: 100000000000000000000000000000000000000 (39)\n",
      "549755813888.0: 1000000000000000000000000000000000000000 (40)\n",
      "1099511627776.0: 10000000000000000000000000000000000000000 (41)\n",
      "2199023255552.0: 100000000000000000000000000000000000000000 (42)\n",
      "4398046511104.0: 1000000000000000000000000000000000000000000 (43)\n",
      "8796093022208.0: 10000000000000000000000000000000000000000000 (44)\n",
      "17592186044416.0: 100000000000000000000000000000000000000000000 (45)\n",
      "35184372088832.0: 1000000000000000000000000000000000000000000000 (46)\n",
      "70368744177664.0: 10000000000000000000000000000000000000000000000 (47)\n",
      "140737488355328.0: 100000000000000000000000000000000000000000000000 (48)\n",
      "281474976710656.0: 1000000000000000000000000000000000000000000000000 (49)\n",
      "562949953421312.0: 10000000000000000000000000000000000000000000000000 (50)\n",
      "1125899906842624.0: 100000000000000000000000000000000000000000000000000 (51)\n",
      "2251799813685248.0: 1000000000000000000000000000000000000000000000000000 (52)\n",
      "4503599627370496.0: 10000000000000000000000000000000000000000000000000000 (53)\n",
      "9007199254740992.0: 100000000000000000000000000000000000000000000000000000 (54)\n",
      "1.8014398509481984e+16: 1000000000000000000000000000000000000000000000000000000 (55)\n",
      "3.602879701896397e+16: 10000000000000000000000000000000000000000000000000000000 (56)\n"
     ]
    }
   ],
   "source": [
    "for k in float_flag_masks.keys():\n",
    "    binexval = \"{0:b}\".format(int(float_flag_masks[k]))\n",
    "    print(f'{float_flag_masks[k]}: {binexval} ({len(binexval)})')"
   ]
  },
  {
   "cell_type": "code",
   "execution_count": 52,
   "metadata": {},
   "outputs": [],
   "source": [
    "def get_flags(val):\n",
    "    if isinstance(val, float):\n",
    "        binexval = \"{0:b}\".format(int(val))\n",
    "    elif isinstance(val, int):\n",
    "        binexval = \"{0:b}\".format(val)\n",
    "    else:\n",
    "        print('Input must be of type int or float.')\n",
    "        pass\n",
    "    flags = [bin_to_flag[n] for n,e in enumerate(binexval[::-1]) if e=='1']\n",
    "    return flags"
   ]
  },
  {
   "cell_type": "code",
   "execution_count": 53,
   "metadata": {},
   "outputs": [
    {
     "ename": "NameError",
     "evalue": "name 'floatval' is not defined",
     "output_type": "error",
     "traceback": [
      "\u001b[1;31m---------------------------------------------------------------------------\u001b[0m",
      "\u001b[1;31mNameError\u001b[0m                                 Traceback (most recent call last)",
      "\u001b[1;32m<ipython-input-53-c17feb544229>\u001b[0m in \u001b[0;36m<module>\u001b[1;34m\u001b[0m\n\u001b[1;32m----> 1\u001b[1;33m \u001b[0mget_flags\u001b[0m\u001b[1;33m(\u001b[0m\u001b[1;36m302518308\u001b[0m\u001b[1;33m)\u001b[0m\u001b[1;33m\u001b[0m\u001b[1;33m\u001b[0m\u001b[0m\n\u001b[0m",
      "\u001b[1;32m<ipython-input-52-c63830bf3a19>\u001b[0m in \u001b[0;36mget_flags\u001b[1;34m(val)\u001b[0m\n\u001b[0;32m      1\u001b[0m \u001b[1;32mdef\u001b[0m \u001b[0mget_flags\u001b[0m\u001b[1;33m(\u001b[0m\u001b[0mval\u001b[0m\u001b[1;33m)\u001b[0m\u001b[1;33m:\u001b[0m\u001b[1;33m\u001b[0m\u001b[1;33m\u001b[0m\u001b[0m\n\u001b[1;32m----> 2\u001b[1;33m     \u001b[1;32mif\u001b[0m \u001b[0misinstance\u001b[0m\u001b[1;33m(\u001b[0m\u001b[0mfloatval\u001b[0m\u001b[1;33m,\u001b[0m \u001b[0mfloat\u001b[0m\u001b[1;33m)\u001b[0m\u001b[1;33m:\u001b[0m\u001b[1;33m\u001b[0m\u001b[1;33m\u001b[0m\u001b[0m\n\u001b[0m\u001b[0;32m      3\u001b[0m         \u001b[0mbinexval\u001b[0m \u001b[1;33m=\u001b[0m \u001b[1;34m\"{0:b}\"\u001b[0m\u001b[1;33m.\u001b[0m\u001b[0mformat\u001b[0m\u001b[1;33m(\u001b[0m\u001b[0mint\u001b[0m\u001b[1;33m(\u001b[0m\u001b[0mval\u001b[0m\u001b[1;33m)\u001b[0m\u001b[1;33m)\u001b[0m\u001b[1;33m\u001b[0m\u001b[1;33m\u001b[0m\u001b[0m\n\u001b[0;32m      4\u001b[0m     \u001b[1;32melif\u001b[0m \u001b[0misinstance\u001b[0m\u001b[1;33m(\u001b[0m\u001b[0mfloatval\u001b[0m\u001b[1;33m,\u001b[0m \u001b[0mint\u001b[0m\u001b[1;33m)\u001b[0m\u001b[1;33m:\u001b[0m\u001b[1;33m\u001b[0m\u001b[1;33m\u001b[0m\u001b[0m\n\u001b[0;32m      5\u001b[0m         \u001b[0mbinexval\u001b[0m \u001b[1;33m=\u001b[0m \u001b[1;34m\"{0:b}\"\u001b[0m\u001b[1;33m.\u001b[0m\u001b[0mformat\u001b[0m\u001b[1;33m(\u001b[0m\u001b[0mval\u001b[0m\u001b[1;33m)\u001b[0m\u001b[1;33m\u001b[0m\u001b[1;33m\u001b[0m\u001b[0m\n",
      "\u001b[1;31mNameError\u001b[0m: name 'floatval' is not defined"
     ]
    }
   ],
   "source": [
    "get_flags(302518308)"
   ]
  },
  {
   "cell_type": "code",
   "execution_count": null,
   "metadata": {},
   "outputs": [],
   "source": []
  }
 ],
 "metadata": {
  "kernelspec": {
   "display_name": "Python 3",
   "language": "python",
   "name": "python3"
  },
  "language_info": {
   "codemirror_mode": {
    "name": "ipython",
    "version": 3
   },
   "file_extension": ".py",
   "mimetype": "text/x-python",
   "name": "python",
   "nbconvert_exporter": "python",
   "pygments_lexer": "ipython3",
   "version": "3.6.10"
  }
 },
 "nbformat": 4,
 "nbformat_minor": 4
}
