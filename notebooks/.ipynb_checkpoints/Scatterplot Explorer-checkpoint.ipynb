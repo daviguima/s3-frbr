{
 "cells": [
  {
   "cell_type": "code",
   "execution_count": 2,
   "metadata": {},
   "outputs": [],
   "source": [
    "import shutil\n",
    "import rasterio\n",
    "import matplotlib.pyplot as plt\n",
    "import numpy as np\n",
    "from rasterio.plot import show, show_hist"
   ]
  },
  {
   "cell_type": "code",
   "execution_count": 3,
   "metadata": {
    "scrolled": false
   },
   "outputs": [
    {
     "ename": "RasterioIOError",
     "evalue": "D:\\L1_EFR_iCOR\\S3B_OL_1_EFR____20190921T135136_20190921T135436_20190922T173309_0179_030_124_3060_LN1_O_NT_002_processed.tif: No such file or directory",
     "output_type": "error",
     "traceback": [
      "\u001b[1;31m---------------------------------------------------------------------------\u001b[0m",
      "\u001b[1;31mCPLE_OpenFailedError\u001b[0m                      Traceback (most recent call last)",
      "\u001b[1;32mrasterio\\_base.pyx\u001b[0m in \u001b[0;36mrasterio._base.DatasetBase.__init__\u001b[1;34m()\u001b[0m\n",
      "\u001b[1;32mrasterio\\_shim.pyx\u001b[0m in \u001b[0;36mrasterio._shim.open_dataset\u001b[1;34m()\u001b[0m\n",
      "\u001b[1;32mrasterio\\_err.pyx\u001b[0m in \u001b[0;36mrasterio._err.exc_wrap_pointer\u001b[1;34m()\u001b[0m\n",
      "\u001b[1;31mCPLE_OpenFailedError\u001b[0m: D:\\L1_EFR_iCOR\\S3B_OL_1_EFR____20190921T135136_20190921T135436_20190922T173309_0179_030_124_3060_LN1_O_NT_002_processed.tif: No such file or directory",
      "\nDuring handling of the above exception, another exception occurred:\n",
      "\u001b[1;31mRasterioIOError\u001b[0m                           Traceback (most recent call last)",
      "\u001b[1;32m<ipython-input-3-ea6479753a44>\u001b[0m in \u001b[0;36m<module>\u001b[1;34m\u001b[0m\n\u001b[0;32m      3\u001b[0m \u001b[0mfilepath\u001b[0m \u001b[1;33m=\u001b[0m \u001b[1;34m'D:\\\\L1_EFR_iCOR\\\\S3B_OL_1_EFR____20190921T135136_20190921T135436_20190922T173309_0179_030_124_3060_LN1_O_NT_002_processed.tif'\u001b[0m\u001b[1;33m\u001b[0m\u001b[1;33m\u001b[0m\u001b[0m\n\u001b[0;32m      4\u001b[0m \u001b[1;33m\u001b[0m\u001b[0m\n\u001b[1;32m----> 5\u001b[1;33m \u001b[1;32mwith\u001b[0m \u001b[0mrasterio\u001b[0m\u001b[1;33m.\u001b[0m\u001b[0mopen\u001b[0m\u001b[1;33m(\u001b[0m\u001b[0mfilepath\u001b[0m\u001b[1;33m)\u001b[0m \u001b[1;32mas\u001b[0m \u001b[0msrc\u001b[0m\u001b[1;33m:\u001b[0m\u001b[1;33m\u001b[0m\u001b[1;33m\u001b[0m\u001b[0m\n\u001b[0m\u001b[0;32m      6\u001b[0m     \u001b[0mprint\u001b[0m\u001b[1;33m(\u001b[0m\u001b[0msrc\u001b[0m\u001b[1;33m.\u001b[0m\u001b[0mprofile\u001b[0m\u001b[1;33m)\u001b[0m\u001b[1;33m\u001b[0m\u001b[1;33m\u001b[0m\u001b[0m\n\u001b[0;32m      7\u001b[0m     \u001b[0moviews\u001b[0m \u001b[1;33m=\u001b[0m \u001b[0msrc\u001b[0m\u001b[1;33m.\u001b[0m\u001b[0moverviews\u001b[0m\u001b[1;33m(\u001b[0m\u001b[1;36m1\u001b[0m\u001b[1;33m)\u001b[0m\u001b[1;33m\u001b[0m\u001b[1;33m\u001b[0m\u001b[0m\n",
      "\u001b[1;32m~\\.conda\\envs\\git-prj\\lib\\site-packages\\rasterio\\env.py\u001b[0m in \u001b[0;36mwrapper\u001b[1;34m(*args, **kwds)\u001b[0m\n\u001b[0;32m    443\u001b[0m \u001b[1;33m\u001b[0m\u001b[0m\n\u001b[0;32m    444\u001b[0m         \u001b[1;32mwith\u001b[0m \u001b[0menv_ctor\u001b[0m\u001b[1;33m(\u001b[0m\u001b[0msession\u001b[0m\u001b[1;33m=\u001b[0m\u001b[0msession\u001b[0m\u001b[1;33m)\u001b[0m\u001b[1;33m:\u001b[0m\u001b[1;33m\u001b[0m\u001b[1;33m\u001b[0m\u001b[0m\n\u001b[1;32m--> 445\u001b[1;33m             \u001b[1;32mreturn\u001b[0m \u001b[0mf\u001b[0m\u001b[1;33m(\u001b[0m\u001b[1;33m*\u001b[0m\u001b[0margs\u001b[0m\u001b[1;33m,\u001b[0m \u001b[1;33m**\u001b[0m\u001b[0mkwds\u001b[0m\u001b[1;33m)\u001b[0m\u001b[1;33m\u001b[0m\u001b[1;33m\u001b[0m\u001b[0m\n\u001b[0m\u001b[0;32m    446\u001b[0m \u001b[1;33m\u001b[0m\u001b[0m\n\u001b[0;32m    447\u001b[0m     \u001b[1;32mreturn\u001b[0m \u001b[0mwrapper\u001b[0m\u001b[1;33m\u001b[0m\u001b[1;33m\u001b[0m\u001b[0m\n",
      "\u001b[1;32m~\\.conda\\envs\\git-prj\\lib\\site-packages\\rasterio\\__init__.py\u001b[0m in \u001b[0;36mopen\u001b[1;34m(fp, mode, driver, width, height, count, crs, transform, dtype, nodata, sharing, **kwargs)\u001b[0m\n\u001b[0;32m    217\u001b[0m         \u001b[1;31m# None.\u001b[0m\u001b[1;33m\u001b[0m\u001b[1;33m\u001b[0m\u001b[1;33m\u001b[0m\u001b[0m\n\u001b[0;32m    218\u001b[0m         \u001b[1;32mif\u001b[0m \u001b[0mmode\u001b[0m \u001b[1;33m==\u001b[0m \u001b[1;34m'r'\u001b[0m\u001b[1;33m:\u001b[0m\u001b[1;33m\u001b[0m\u001b[1;33m\u001b[0m\u001b[0m\n\u001b[1;32m--> 219\u001b[1;33m             \u001b[0ms\u001b[0m \u001b[1;33m=\u001b[0m \u001b[0mDatasetReader\u001b[0m\u001b[1;33m(\u001b[0m\u001b[0mpath\u001b[0m\u001b[1;33m,\u001b[0m \u001b[0mdriver\u001b[0m\u001b[1;33m=\u001b[0m\u001b[0mdriver\u001b[0m\u001b[1;33m,\u001b[0m \u001b[0msharing\u001b[0m\u001b[1;33m=\u001b[0m\u001b[0msharing\u001b[0m\u001b[1;33m,\u001b[0m \u001b[1;33m**\u001b[0m\u001b[0mkwargs\u001b[0m\u001b[1;33m)\u001b[0m\u001b[1;33m\u001b[0m\u001b[1;33m\u001b[0m\u001b[0m\n\u001b[0m\u001b[0;32m    220\u001b[0m         \u001b[1;32melif\u001b[0m \u001b[0mmode\u001b[0m \u001b[1;33m==\u001b[0m \u001b[1;34m'r+'\u001b[0m\u001b[1;33m:\u001b[0m\u001b[1;33m\u001b[0m\u001b[1;33m\u001b[0m\u001b[0m\n\u001b[0;32m    221\u001b[0m             \u001b[0ms\u001b[0m \u001b[1;33m=\u001b[0m \u001b[0mget_writer_for_path\u001b[0m\u001b[1;33m(\u001b[0m\u001b[0mpath\u001b[0m\u001b[1;33m)\u001b[0m\u001b[1;33m(\u001b[0m\u001b[0mpath\u001b[0m\u001b[1;33m,\u001b[0m \u001b[0mmode\u001b[0m\u001b[1;33m,\u001b[0m \u001b[0mdriver\u001b[0m\u001b[1;33m=\u001b[0m\u001b[0mdriver\u001b[0m\u001b[1;33m,\u001b[0m \u001b[0msharing\u001b[0m\u001b[1;33m=\u001b[0m\u001b[0msharing\u001b[0m\u001b[1;33m,\u001b[0m \u001b[1;33m**\u001b[0m\u001b[0mkwargs\u001b[0m\u001b[1;33m)\u001b[0m\u001b[1;33m\u001b[0m\u001b[1;33m\u001b[0m\u001b[0m\n",
      "\u001b[1;32mrasterio\\_base.pyx\u001b[0m in \u001b[0;36mrasterio._base.DatasetBase.__init__\u001b[1;34m()\u001b[0m\n",
      "\u001b[1;31mRasterioIOError\u001b[0m: D:\\L1_EFR_iCOR\\S3B_OL_1_EFR____20190921T135136_20190921T135436_20190922T173309_0179_030_124_3060_LN1_O_NT_002_processed.tif: No such file or directory"
     ]
    }
   ],
   "source": [
    "#src = rasterio.open('D:\\\\L1_EFR_iCOR\\\\S3B_OL_1_EFR____20190921T135136_20190921T135436_20190922T173309_0179_030_124_3060_LN1_O_NT_002_processed.tif')\n",
    "\n",
    "filepath = 'D:\\\\L1_EFR_iCOR\\\\S3B_OL_1_EFR____20190921T135136_20190921T135436_20190922T173309_0179_030_124_3060_LN1_O_NT_002_processed.tif'\n",
    "\n",
    "with rasterio.open(filepath) as src:\n",
    "    print(src.profile)\n",
    "    oviews = src.overviews(1)\n",
    "    oview = oviews[0]\n",
    "    thumbnail = src.read(1, out_shape=(1, int(src.height // oview), int(src.width // oview)))\n",
    "\n",
    "plt.imshow(thumbnail)\n",
    "plt.colorbar()\n",
    "plt.title('Overview - Band 4 {}'.format(thumbnail.shape))\n",
    "plt.xlabel('Column #')\n",
    "plt.ylabel('Row #')"
   ]
  },
  {
   "cell_type": "code",
   "execution_count": 30,
   "metadata": {
    "scrolled": true
   },
   "outputs": [
    {
     "name": "stdout",
     "output_type": "stream",
     "text": [
      "Help on DatasetReader in module rasterio.io object:\n",
      "\n",
      "class DatasetReader(rasterio._io.DatasetReaderBase, rasterio.windows.WindowMethodsMixin, rasterio.transform.TransformMethodsMixin)\n",
      " |  An unbuffered data and metadata reader\n",
      " |  \n",
      " |  Method resolution order:\n",
      " |      DatasetReader\n",
      " |      rasterio._io.DatasetReaderBase\n",
      " |      rasterio._base.DatasetBase\n",
      " |      rasterio.windows.WindowMethodsMixin\n",
      " |      rasterio.transform.TransformMethodsMixin\n",
      " |      builtins.object\n",
      " |  \n",
      " |  Methods defined here:\n",
      " |  \n",
      " |  __repr__(self)\n",
      " |      Return repr(self).\n",
      " |  \n",
      " |  ----------------------------------------------------------------------\n",
      " |  Data descriptors defined here:\n",
      " |  \n",
      " |  __dict__\n",
      " |      dictionary for instance variables (if defined)\n",
      " |  \n",
      " |  __weakref__\n",
      " |      list of weak references to the object (if defined)\n",
      " |  \n",
      " |  ----------------------------------------------------------------------\n",
      " |  Methods inherited from rasterio._io.DatasetReaderBase:\n",
      " |  \n",
      " |  __new__(*args, **kwargs) from builtins.type\n",
      " |      Create and return a new object.  See help(type) for accurate signature.\n",
      " |  \n",
      " |  __reduce__ = __reduce_cython__(...)\n",
      " |  \n",
      " |  __setstate__ = __setstate_cython__(...)\n",
      " |  \n",
      " |  dataset_mask(...)\n",
      " |      Calculate the dataset's 2D mask. Derived from the individual band masks\n",
      " |      provided by read_masks().\n",
      " |      \n",
      " |      Parameters\n",
      " |      ----------\n",
      " |      out, out_shape, window, boundless and resampling are passed directly to read_masks()\n",
      " |      \n",
      " |      Returns\n",
      " |      -------\n",
      " |      ndarray, shape=(self.height, self.width), dtype='uint8'\n",
      " |      0 = nodata, 255 = valid data\n",
      " |      \n",
      " |      The dataset mask is calculate based on the individual band masks according to\n",
      " |      the following logic, in order of precedence:\n",
      " |      \n",
      " |      1. If a .msk file, dataset-wide alpha or internal mask exists,\n",
      " |         it will be used as the dataset mask.\n",
      " |      2. If an 4-band RGBA with a shadow nodata value,\n",
      " |         band 4 will be used as the dataset mask.\n",
      " |      3. If a nodata value exists, use the binary OR (|) of the band masks\n",
      " |      4. If no nodata value exists, return a mask filled with 255\n",
      " |      \n",
      " |      Note that this differs from read_masks and GDAL RFC15\n",
      " |      in that it applies per-dataset, not per-band\n",
      " |      (see https://trac.osgeo.org/gdal/wiki/rfc15_nodatabitmask)\n",
      " |  \n",
      " |  read(...)\n",
      " |      Read a dataset's raw pixels as an N-d array\n",
      " |      \n",
      " |      This data is read from the dataset's band cache, which means\n",
      " |      that repeated reads of the same windows may avoid I/O.\n",
      " |      \n",
      " |      Parameters\n",
      " |      ----------\n",
      " |      indexes : list of ints or a single int, optional\n",
      " |          If `indexes` is a list, the result is a 3D array, but is\n",
      " |          a 2D array if it is a band index number.\n",
      " |      \n",
      " |      out : numpy ndarray, optional\n",
      " |          As with Numpy ufuncs, this is an optional reference to an\n",
      " |          output array into which data will be placed. If the height\n",
      " |          and width of `out` differ from that of the specified\n",
      " |          window (see below), the raster image will be decimated or\n",
      " |          replicated using the specified resampling method (also see\n",
      " |          below).\n",
      " |      \n",
      " |          *Note*: the method's return value may be a view on this\n",
      " |          array. In other words, `out` is likely to be an\n",
      " |          incomplete representation of the method's results.\n",
      " |      \n",
      " |          This parameter cannot be combined with `out_shape`.\n",
      " |      \n",
      " |      out_dtype : str or numpy dtype\n",
      " |          The desired output data type. For example: 'uint8' or\n",
      " |          rasterio.uint16.\n",
      " |      \n",
      " |      out_shape : tuple, optional\n",
      " |          A tuple describing the shape of a new output array. See\n",
      " |          `out` (above) for notes on image decimation and\n",
      " |          replication.\n",
      " |      \n",
      " |          Cannot combined with `out`.\n",
      " |      \n",
      " |      window : a pair (tuple) of pairs of ints or Window, optional\n",
      " |          The optional `window` argument is a 2 item tuple. The first\n",
      " |          item is a tuple containing the indexes of the rows at which\n",
      " |          the window starts and stops and the second is a tuple\n",
      " |          containing the indexes of the columns at which the window\n",
      " |          starts and stops. For example, ((0, 2), (0, 2)) defines\n",
      " |          a 2x2 window at the upper left of the raster dataset.\n",
      " |      \n",
      " |      masked : bool, optional\n",
      " |          If `masked` is `True` the return value will be a masked\n",
      " |          array. Otherwise (the default) the return value will be a\n",
      " |          regular array. Masks will be exactly the inverse of the\n",
      " |          GDAL RFC 15 conforming arrays returned by read_masks().\n",
      " |      \n",
      " |      boundless : bool, optional (default `False`)\n",
      " |          If `True`, windows that extend beyond the dataset's extent\n",
      " |          are permitted and partially or completely filled arrays will\n",
      " |          be returned as appropriate.\n",
      " |      \n",
      " |      resampling : Resampling\n",
      " |          By default, pixel values are read raw or interpolated using\n",
      " |          a nearest neighbor algorithm from the band cache. Other\n",
      " |          resampling algorithms may be specified. Resampled pixels\n",
      " |          are not cached.\n",
      " |      \n",
      " |      fill_value : scalar\n",
      " |          Fill value applied in the `boundless=True` case only.\n",
      " |      \n",
      " |      Returns\n",
      " |      -------\n",
      " |      Numpy ndarray or a view on a Numpy ndarray\n",
      " |      \n",
      " |      Note: as with Numpy ufuncs, an object is returned even if you\n",
      " |      use the optional `out` argument and the return value shall be\n",
      " |      preferentially used by callers.\n",
      " |  \n",
      " |  read_masks(...)\n",
      " |      Read raster band masks as a multidimensional array\n",
      " |      \n",
      " |      This data is read from the dataset's band cache, which means\n",
      " |      that repeated reads of the same windows may avoid I/O.\n",
      " |      \n",
      " |      Parameters\n",
      " |      ----------\n",
      " |      indexes : list of ints or a single int, optional\n",
      " |          If `indexes` is a list, the result is a 3D array, but is\n",
      " |          a 2D array if it is a band index number.\n",
      " |      \n",
      " |      out : numpy ndarray, optional\n",
      " |          As with Numpy ufuncs, this is an optional reference to an\n",
      " |          output array with the same dimensions and shape into which\n",
      " |          data will be placed.\n",
      " |      \n",
      " |          *Note*: the method's return value may be a view on this\n",
      " |          array. In other words, `out` is likely to be an\n",
      " |          incomplete representation of the method's results.\n",
      " |      \n",
      " |          Cannot combine with `out_shape`.\n",
      " |      \n",
      " |      out_shape : tuple, optional\n",
      " |          A tuple describing the output array's shape.  Allows for decimated\n",
      " |          reads without constructing an output Numpy array.\n",
      " |      \n",
      " |          Cannot combined with `out`.\n",
      " |      \n",
      " |      window : a pair (tuple) of pairs of ints or Window, optional\n",
      " |          The optional `window` argument is a 2 item tuple. The first\n",
      " |          item is a tuple containing the indexes of the rows at which\n",
      " |          the window starts and stops and the second is a tuple\n",
      " |          containing the indexes of the columns at which the window\n",
      " |          starts and stops. For example, ((0, 2), (0, 2)) defines\n",
      " |          a 2x2 window at the upper left of the raster dataset.\n",
      " |      \n",
      " |      boundless : bool, optional (default `False`)\n",
      " |          If `True`, windows that extend beyond the dataset's extent\n",
      " |          are permitted and partially or completely filled arrays will\n",
      " |          be returned as appropriate.\n",
      " |      \n",
      " |      resampling : Resampling\n",
      " |          By default, pixel values are read raw or interpolated using\n",
      " |          a nearest neighbor algorithm from the band cache. Other\n",
      " |          resampling algorithms may be specified. Resampled pixels\n",
      " |          are not cached.\n",
      " |      \n",
      " |      Returns\n",
      " |      -------\n",
      " |      Numpy ndarray or a view on a Numpy ndarray\n",
      " |      \n",
      " |      Note: as with Numpy ufuncs, an object is returned even if you\n",
      " |      use the optional `out` argument and the return value shall be\n",
      " |      preferentially used by callers.\n",
      " |  \n",
      " |  sample(...)\n",
      " |      Get the values of a dataset at certain positions\n",
      " |      \n",
      " |      Values are from the nearest pixel. They are not interpolated.\n",
      " |      \n",
      " |      Parameters\n",
      " |      ----------\n",
      " |      xy : iterable, pairs of floats\n",
      " |          A sequence or generator of (x, y) pairs.\n",
      " |      \n",
      " |      indexes : list of ints or a single int, optional\n",
      " |          If `indexes` is a list, the result is a 3D array, but is\n",
      " |          a 2D array if it is a band index number.\n",
      " |      \n",
      " |      Returns\n",
      " |      -------\n",
      " |      Iterable, yielding dataset values for the specified `indexes`\n",
      " |      as an ndarray.\n",
      " |  \n",
      " |  ----------------------------------------------------------------------\n",
      " |  Data and other attributes inherited from rasterio._io.DatasetReaderBase:\n",
      " |  \n",
      " |  __pyx_vtable__ = <capsule object NULL>\n",
      " |  \n",
      " |  ----------------------------------------------------------------------\n",
      " |  Methods inherited from rasterio._base.DatasetBase:\n",
      " |  \n",
      " |  __enter__(...)\n",
      " |  \n",
      " |  __exit__(...)\n",
      " |  \n",
      " |  __init__(...)\n",
      " |      Construct a new dataset\n",
      " |      \n",
      " |      Parameters\n",
      " |      ----------\n",
      " |      path : rasterio.path.Path\n",
      " |          Path of the local or remote dataset.\n",
      " |      driver : str or list of str\n",
      " |          A single driver name or a list of driver names to consider when\n",
      " |          opening the dataset.\n",
      " |      sharing : bool, optional\n",
      " |          Whether to share underlying GDAL dataset handles (default: False).\n",
      " |      kwargs : dict\n",
      " |          GDAL dataset opening options.\n",
      " |      \n",
      " |      Returns\n",
      " |      -------\n",
      " |      dataset\n",
      " |  \n",
      " |  block_size(...)\n",
      " |      Returns the size in bytes of a particular block\n",
      " |      \n",
      " |      Only useful for TIFF formatted datasets.\n",
      " |      \n",
      " |      Parameters\n",
      " |      ----------\n",
      " |      bidx: int\n",
      " |          Band index, starting with 1.\n",
      " |      i: int\n",
      " |          Row index of the block, starting with 0.\n",
      " |      j: int\n",
      " |          Column index of the block, starting with 0.\n",
      " |      \n",
      " |      Returns\n",
      " |      -------\n",
      " |      int\n",
      " |  \n",
      " |  block_window(...)\n",
      " |      Returns the window for a particular block\n",
      " |      \n",
      " |      Parameters\n",
      " |      ----------\n",
      " |      bidx: int\n",
      " |          Band index, starting with 1.\n",
      " |      i: int\n",
      " |          Row index of the block, starting with 0.\n",
      " |      j: int\n",
      " |          Column index of the block, starting with 0.\n",
      " |      \n",
      " |      Returns\n",
      " |      -------\n",
      " |      Window\n",
      " |  \n",
      " |  block_windows(...)\n",
      " |      Iterator over a band's blocks and their windows\n",
      " |      \n",
      " |      \n",
      " |      The primary use of this method is to obtain windows to pass to\n",
      " |      `read()` for highly efficient access to raster block data.\n",
      " |      \n",
      " |      The positional parameter `bidx` takes the index (starting at 1) of the\n",
      " |      desired band.  This iterator yields blocks \"left to right\" and \"top to\n",
      " |      bottom\" and is similar to Python's ``enumerate()`` in that the first\n",
      " |      element is the block index and the second is the dataset window.\n",
      " |      \n",
      " |      Blocks are built-in to a dataset and describe how pixels are grouped\n",
      " |      within each band and provide a mechanism for efficient I/O.  A window\n",
      " |      is a range of pixels within a single band defined by row start, row\n",
      " |      stop, column start, and column stop.  For example, ``((0, 2), (0, 2))``\n",
      " |      defines a ``2 x 2`` window at the upper left corner of a raster band.\n",
      " |      Blocks are referenced by an ``(i, j)`` tuple where ``(0, 0)`` would be\n",
      " |      a band's upper left block.\n",
      " |      \n",
      " |      Raster I/O is performed at the block level, so accessing a window\n",
      " |      spanning multiple rows in a striped raster requires reading each row.\n",
      " |      Accessing a ``2 x 2`` window at the center of a ``1800 x 3600`` image\n",
      " |      requires reading 2 rows, or 7200 pixels just to get the target 4.  The\n",
      " |      same image with internal ``256 x 256`` blocks would require reading at\n",
      " |      least 1 block (if the window entire window falls within a single block)\n",
      " |      and at most 4 blocks, or at least 512 pixels and at most 2048.\n",
      " |      \n",
      " |      Given an image that is ``512 x 512`` with blocks that are\n",
      " |      ``256 x 256``, its blocks and windows would look like::\n",
      " |      \n",
      " |          Blocks:\n",
      " |      \n",
      " |                  0       256     512\n",
      " |                0 +--------+--------+\n",
      " |                  |        |        |\n",
      " |                  | (0, 0) | (0, 1) |\n",
      " |                  |        |        |\n",
      " |              256 +--------+--------+\n",
      " |                  |        |        |\n",
      " |                  | (1, 0) | (1, 1) |\n",
      " |                  |        |        |\n",
      " |              512 +--------+--------+\n",
      " |      \n",
      " |      \n",
      " |          Windows:\n",
      " |      \n",
      " |              UL: ((0, 256), (0, 256))\n",
      " |              UR: ((0, 256), (256, 512))\n",
      " |              LL: ((256, 512), (0, 256))\n",
      " |              LR: ((256, 512), (256, 512))\n",
      " |      \n",
      " |      \n",
      " |      Parameters\n",
      " |      ----------\n",
      " |      bidx : int, optional\n",
      " |          The band index (using 1-based indexing) from which to extract\n",
      " |          windows. A value less than 1 uses the first band if all bands have\n",
      " |          homogeneous windows and raises an exception otherwise.\n",
      " |      \n",
      " |      Yields\n",
      " |      ------\n",
      " |      block, window\n",
      " |  \n",
      " |  checksum(...)\n",
      " |      Compute an integer checksum for the stored band\n",
      " |      \n",
      " |      Parameters\n",
      " |      ----------\n",
      " |      bidx : int\n",
      " |          The band's index (1-indexed).\n",
      " |      window: tuple, optional\n",
      " |          A window of the band. Default is the entire extent of the band.\n",
      " |      \n",
      " |      Returns\n",
      " |      -------\n",
      " |      An int.\n",
      " |  \n",
      " |  close(...)\n",
      " |      Close the dataset\n",
      " |  \n",
      " |  colormap(...)\n",
      " |      Returns a dict containing the colormap for a band or None.\n",
      " |  \n",
      " |  get_gcps(...)\n",
      " |      Get GCPs and their associated CRS.\n",
      " |  \n",
      " |  get_nodatavals(...)\n",
      " |  \n",
      " |  get_tag_item(...)\n",
      " |      Returns tag item value\n",
      " |      \n",
      " |      Parameters\n",
      " |      ----------\n",
      " |      ns: str\n",
      " |          The key for the metadata item to fetch.\n",
      " |      dm: str\n",
      " |          The domain to fetch for.\n",
      " |      bidx: int\n",
      " |          Band index, starting with 1.\n",
      " |      ovr: int\n",
      " |          Overview level\n",
      " |      \n",
      " |      Returns\n",
      " |      -------\n",
      " |      str\n",
      " |  \n",
      " |  get_transform(...)\n",
      " |      Returns a GDAL geotransform in its native form.\n",
      " |  \n",
      " |  lnglat(...)\n",
      " |  \n",
      " |  overviews(...)\n",
      " |  \n",
      " |  read_crs(...)\n",
      " |      Return the GDAL dataset's stored CRS\n",
      " |  \n",
      " |  read_transform(...)\n",
      " |      Return the stored GDAL GeoTransform\n",
      " |  \n",
      " |  stop(...)\n",
      " |      Ends the dataset's life cycle\n",
      " |  \n",
      " |  tag_namespaces(...)\n",
      " |      Get a list of the dataset's metadata domains.\n",
      " |      \n",
      " |      Returned items may be passed as `ns` to the tags method.\n",
      " |      \n",
      " |      Parameters\n",
      " |      ----------\n",
      " |      bidx int, optional\n",
      " |          Can be used to select a specific band, otherwise the\n",
      " |          dataset's general metadata domains are returned.\n",
      " |      \n",
      " |      Returns\n",
      " |      -------\n",
      " |      list of str\n",
      " |  \n",
      " |  tags(...)\n",
      " |      Returns a dict containing copies of the dataset or band's\n",
      " |      tags.\n",
      " |      \n",
      " |      Tags are pairs of key and value strings. Tags belong to\n",
      " |      namespaces.  The standard namespaces are: default (None) and\n",
      " |      'IMAGE_STRUCTURE'.  Applications can create their own additional\n",
      " |      namespaces.\n",
      " |      \n",
      " |      The optional bidx argument can be used to select the tags of\n",
      " |      a specific band. The optional ns argument can be used to select\n",
      " |      a namespace other than the default.\n",
      " |  \n",
      " |  write_transform(...)\n",
      " |  \n",
      " |  ----------------------------------------------------------------------\n",
      " |  Data descriptors inherited from rasterio._base.DatasetBase:\n",
      " |  \n",
      " |  block_shapes\n",
      " |      An ordered list of block shapes for each bands\n",
      " |      \n",
      " |      Shapes are tuples and have the same ordering as the dataset's\n",
      " |      shape: (count of image rows, count of image columns).\n",
      " |      \n",
      " |      Returns\n",
      " |      -------\n",
      " |      list\n",
      " |  \n",
      " |  bounds\n",
      " |      Returns the lower left and upper right bounds of the dataset\n",
      " |      in the units of its coordinate reference system.\n",
      " |      \n",
      " |      The returned value is a tuple:\n",
      " |      (lower left x, lower left y, upper right x, upper right y)\n",
      " |  \n",
      " |  closed\n",
      " |      Test if the dataset is closed\n",
      " |      \n",
      " |      Returns\n",
      " |      -------\n",
      " |      bool\n",
      " |  \n",
      " |  colorinterp\n",
      " |      Returns a sequence of ``ColorInterp.<enum>`` representing\n",
      " |      color interpretation in band order.\n",
      " |      \n",
      " |      To set color interpretation, provide a sequence of\n",
      " |      ``ColorInterp.<enum>``:\n",
      " |      \n",
      " |          import rasterio\n",
      " |          from rasterio.enums import ColorInterp\n",
      " |      \n",
      " |          with rasterio.open('rgba.tif', 'r+') as src:\n",
      " |              src.colorinterp = (\n",
      " |                  ColorInterp.red,\n",
      " |                  ColorInterp.green,\n",
      " |                  ColorInterp.blue,\n",
      " |                  ColorInterp.alpha)\n",
      " |      \n",
      " |      Returns\n",
      " |      -------\n",
      " |      tuple\n",
      " |  \n",
      " |  compression\n",
      " |  \n",
      " |  count\n",
      " |      The number of raster bands in the dataset\n",
      " |      \n",
      " |      Returns\n",
      " |      -------\n",
      " |      int\n",
      " |  \n",
      " |  crs\n",
      " |      The dataset's coordinate reference system\n",
      " |      \n",
      " |      In setting this property, the value may be a CRS object or an\n",
      " |      EPSG:nnnn or WKT string.\n",
      " |      \n",
      " |      Returns\n",
      " |      -------\n",
      " |      CRS\n",
      " |  \n",
      " |  descriptions\n",
      " |      Descriptions for each dataset band\n",
      " |      \n",
      " |      To set descriptions, one for each band is required.\n",
      " |      \n",
      " |      Returns\n",
      " |      -------\n",
      " |      list of str\n",
      " |  \n",
      " |  driver\n",
      " |  \n",
      " |  dtypes\n",
      " |      The data types of each band in index order\n",
      " |      \n",
      " |      Returns\n",
      " |      -------\n",
      " |      list of str\n",
      " |  \n",
      " |  files\n",
      " |      Returns a sequence of files associated with the dataset.\n",
      " |      \n",
      " |      Returns\n",
      " |      -------\n",
      " |      tuple\n",
      " |  \n",
      " |  gcps\n",
      " |      ground control points and their coordinate reference system.\n",
      " |      \n",
      " |      This property is a 2-tuple, or pair: (gcps, crs).\n",
      " |      \n",
      " |      gcps : list of GroundControlPoint\n",
      " |          Zero or more ground control points.\n",
      " |      crs: CRS\n",
      " |          The coordinate reference system of the ground control points.\n",
      " |  \n",
      " |  height\n",
      " |  \n",
      " |  indexes\n",
      " |      The 1-based indexes of each band in the dataset\n",
      " |      \n",
      " |      For a 3-band dataset, this property will be ``[1, 2, 3]``.\n",
      " |      \n",
      " |      Returns\n",
      " |      -------\n",
      " |      list of int\n",
      " |  \n",
      " |  interleaving\n",
      " |  \n",
      " |  is_tiled\n",
      " |  \n",
      " |  mask_flag_enums\n",
      " |      Sets of flags describing the sources of band masks.\n",
      " |      \n",
      " |      all_valid: There are no invalid pixels, all mask values will be\n",
      " |          255. When used this will normally be the only flag set.\n",
      " |      per_dataset: The mask band is shared between all bands on the\n",
      " |          dataset.\n",
      " |      alpha: The mask band is actually an alpha band and may have\n",
      " |          values other than 0 and 255.\n",
      " |      nodata: Indicates the mask is actually being generated from\n",
      " |          nodata values (mutually exclusive of \"alpha\").\n",
      " |      \n",
      " |      Returns\n",
      " |      -------\n",
      " |      list [, list*]\n",
      " |          One list of rasterio.enums.MaskFlags members per band.\n",
      " |      \n",
      " |      Examples\n",
      " |      --------\n",
      " |      \n",
      " |      For a 3 band dataset that has masks derived from nodata values:\n",
      " |      \n",
      " |      >>> dataset.mask_flag_enums\n",
      " |      ([<MaskFlags.nodata: 8>], [<MaskFlags.nodata: 8>], [<MaskFlags.nodata: 8>])\n",
      " |      >>> band1_flags = dataset.mask_flag_enums[0]\n",
      " |      >>> rasterio.enums.MaskFlags.nodata in band1_flags\n",
      " |      True\n",
      " |      >>> rasterio.enums.MaskFlags.alpha in band1_flags\n",
      " |      False\n",
      " |  \n",
      " |  meta\n",
      " |      The basic metadata of this dataset.\n",
      " |  \n",
      " |  mode\n",
      " |  \n",
      " |  name\n",
      " |  \n",
      " |  nodata\n",
      " |      The dataset's single nodata value\n",
      " |      \n",
      " |      Notes\n",
      " |      -----\n",
      " |      May be set.\n",
      " |      \n",
      " |      Returns\n",
      " |      -------\n",
      " |      float\n",
      " |  \n",
      " |  nodatavals\n",
      " |      Nodata values for each band\n",
      " |      \n",
      " |      Notes\n",
      " |      -----\n",
      " |      This may not be set.\n",
      " |      \n",
      " |      Returns\n",
      " |      -------\n",
      " |      list of float\n",
      " |  \n",
      " |  offsets\n",
      " |      Raster offset for each dataset band\n",
      " |      \n",
      " |      To set offsets, one for each band is required.\n",
      " |      \n",
      " |      Returns\n",
      " |      -------\n",
      " |      list of float\n",
      " |  \n",
      " |  options\n",
      " |  \n",
      " |  photometric\n",
      " |  \n",
      " |  profile\n",
      " |      Basic metadata and creation options of this dataset.\n",
      " |      \n",
      " |      May be passed as keyword arguments to `rasterio.open()` to\n",
      " |      create a clone of this dataset.\n",
      " |  \n",
      " |  res\n",
      " |      Returns the (width, height) of pixels in the units of its\n",
      " |      coordinate reference system.\n",
      " |  \n",
      " |  scales\n",
      " |      Raster scale for each dataset band\n",
      " |      \n",
      " |      To set scales, one for each band is required.\n",
      " |      \n",
      " |      Returns\n",
      " |      -------\n",
      " |      list of float\n",
      " |  \n",
      " |  shape\n",
      " |  \n",
      " |  subdatasets\n",
      " |      Sequence of subdatasets\n",
      " |  \n",
      " |  transform\n",
      " |      The dataset's georeferencing transformation matrix\n",
      " |      \n",
      " |      This transform maps pixel row/column coordinates to coordinates\n",
      " |      in the dataset's coordinate reference system.\n",
      " |      \n",
      " |      Returns\n",
      " |      -------\n",
      " |      Affine\n",
      " |  \n",
      " |  units\n",
      " |      A list of str: one units string for each dataset band\n",
      " |      \n",
      " |      Possible values include 'meters' or 'degC'. See the Pint\n",
      " |      project for a suggested list of units.\n",
      " |      \n",
      " |      To set units, one for each band is required.\n",
      " |      \n",
      " |      Returns\n",
      " |      -------\n",
      " |      list of str\n",
      " |  \n",
      " |  width\n",
      " |  \n",
      " |  ----------------------------------------------------------------------\n",
      " |  Methods inherited from rasterio.windows.WindowMethodsMixin:\n",
      " |  \n",
      " |  window(self, left, bottom, right, top, precision=None)\n",
      " |      Get the window corresponding to the bounding coordinates.\n",
      " |      \n",
      " |      The resulting window is not cropped to the row and column\n",
      " |      limits of the dataset.\n",
      " |      \n",
      " |      Parameters\n",
      " |      ----------\n",
      " |      left: float\n",
      " |          Left (west) bounding coordinate\n",
      " |      bottom: float\n",
      " |          Bottom (south) bounding coordinate\n",
      " |      right: float\n",
      " |          Right (east) bounding coordinate\n",
      " |      top: float\n",
      " |          Top (north) bounding coordinate\n",
      " |      precision: int, optional\n",
      " |          Number of decimal points of precision when computing inverse\n",
      " |          transform.\n",
      " |      \n",
      " |      Returns\n",
      " |      -------\n",
      " |      window: Window\n",
      " |  \n",
      " |  window_bounds(self, window)\n",
      " |      Get the bounds of a window\n",
      " |      \n",
      " |      Parameters\n",
      " |      ----------\n",
      " |      window: rasterio.windows.Window\n",
      " |          Dataset window\n",
      " |      \n",
      " |      Returns\n",
      " |      -------\n",
      " |      bounds : tuple\n",
      " |          x_min, y_min, x_max, y_max for the given window\n",
      " |  \n",
      " |  window_transform(self, window)\n",
      " |      Get the affine transform for a dataset window.\n",
      " |      \n",
      " |      Parameters\n",
      " |      ----------\n",
      " |      window: rasterio.windows.Window\n",
      " |          Dataset window\n",
      " |      \n",
      " |      Returns\n",
      " |      -------\n",
      " |      transform: Affine\n",
      " |          The affine transform matrix for the given window\n",
      " |  \n",
      " |  ----------------------------------------------------------------------\n",
      " |  Methods inherited from rasterio.transform.TransformMethodsMixin:\n",
      " |  \n",
      " |  index(self, x, y, op=<built-in function floor>, precision=None)\n",
      " |      Returns the (row, col) index of the pixel containing (x, y) given a\n",
      " |      coordinate reference system.\n",
      " |      \n",
      " |      Use an epsilon, magnitude determined by the precision parameter\n",
      " |      and sign determined by the op function:\n",
      " |          positive for floor, negative for ceil.\n",
      " |      \n",
      " |      Parameters\n",
      " |      ----------\n",
      " |      x : float\n",
      " |          x value in coordinate reference system\n",
      " |      y : float\n",
      " |          y value in coordinate reference system\n",
      " |      op : function, optional (default: math.floor)\n",
      " |          Function to convert fractional pixels to whole numbers (floor,\n",
      " |          ceiling, round)\n",
      " |      precision : int, optional (default: None)\n",
      " |          Decimal places of precision in indexing, as in `round()`.\n",
      " |      \n",
      " |      Returns\n",
      " |      -------\n",
      " |      tuple\n",
      " |          (row index, col index)\n",
      " |  \n",
      " |  xy(self, row, col, offset='center')\n",
      " |      Returns the coordinates ``(x, y)`` of a pixel at `row` and `col`.\n",
      " |      The pixel's center is returned by default, but a corner can be returned\n",
      " |      by setting `offset` to one of `ul, ur, ll, lr`.\n",
      " |      \n",
      " |      Parameters\n",
      " |      ----------\n",
      " |      row : int\n",
      " |          Pixel row.\n",
      " |      col : int\n",
      " |          Pixel column.\n",
      " |      offset : str, optional\n",
      " |          Determines if the returned coordinates are for the center of the\n",
      " |          pixel or for a corner.\n",
      " |      \n",
      " |      Returns\n",
      " |      -------\n",
      " |      tuple\n",
      " |          ``(x, y)``\n",
      "\n"
     ]
    }
   ],
   "source": [
    "help(src)"
   ]
  },
  {
   "cell_type": "markdown",
   "metadata": {},
   "source": [
    "## Masking NoData from S3"
   ]
  },
  {
   "cell_type": "code",
   "execution_count": 68,
   "metadata": {},
   "outputs": [],
   "source": [
    "filepath = 'D:\\\\L1_EFR_iCOR\\\\S3B_OL_1_EFR____20190921T135136_20190921T135436_20190922T173309_0179_030_124_3060_LN1_O_NT_002_processed.tif'\n",
    "tmp = shutil.copy(filepath, \"D:\\\\processing\\\\tmp\\\\RGB.byte.tif\")\n",
    "src = rasterio.open(tmp, mode=\"r+\")\n",
    "\n",
    "# https://rasterio.readthedocs.io/en/latest/topics/masks.html"
   ]
  },
  {
   "cell_type": "code",
   "execution_count": 69,
   "metadata": {},
   "outputs": [
    {
     "data": {
      "text/plain": [
       "True"
      ]
     },
     "execution_count": 69,
     "metadata": {},
     "output_type": "execute_result"
    }
   ],
   "source": [
    "src.write_mask(True)\n",
    "src.read_masks(1).all()"
   ]
  },
  {
   "cell_type": "code",
   "execution_count": 72,
   "metadata": {},
   "outputs": [
    {
     "ename": "TypeError",
     "evalue": "Invalid shape (4866, 16, 4577) for image data",
     "output_type": "error",
     "traceback": [
      "\u001b[1;31m---------------------------------------------------------------------------\u001b[0m",
      "\u001b[1;31mTypeError\u001b[0m                                 Traceback (most recent call last)",
      "\u001b[1;32m<ipython-input-72-a965712eb3ee>\u001b[0m in \u001b[0;36m<module>\u001b[1;34m\u001b[0m\n\u001b[0;32m      3\u001b[0m \u001b[0msrc\u001b[0m \u001b[1;33m=\u001b[0m \u001b[0mrasterio\u001b[0m\u001b[1;33m.\u001b[0m\u001b[0mopen\u001b[0m\u001b[1;33m(\u001b[0m\u001b[0mtmp\u001b[0m\u001b[1;33m,\u001b[0m \u001b[0mmode\u001b[0m\u001b[1;33m=\u001b[0m\u001b[1;34m\"r+\"\u001b[0m\u001b[1;33m)\u001b[0m\u001b[1;33m\u001b[0m\u001b[1;33m\u001b[0m\u001b[0m\n\u001b[0;32m      4\u001b[0m \u001b[0mmsk\u001b[0m \u001b[1;33m=\u001b[0m \u001b[0msrc\u001b[0m\u001b[1;33m.\u001b[0m\u001b[0mread_masks\u001b[0m\u001b[1;33m(\u001b[0m\u001b[1;33m)\u001b[0m\u001b[1;33m\u001b[0m\u001b[1;33m\u001b[0m\u001b[0m\n\u001b[1;32m----> 5\u001b[1;33m \u001b[0mshow\u001b[0m\u001b[1;33m(\u001b[0m\u001b[0mnp\u001b[0m\u001b[1;33m.\u001b[0m\u001b[0mdstack\u001b[0m\u001b[1;33m(\u001b[0m\u001b[0mmsk\u001b[0m\u001b[1;33m)\u001b[0m\u001b[1;33m)\u001b[0m\u001b[1;33m\u001b[0m\u001b[1;33m\u001b[0m\u001b[0m\n\u001b[0m",
      "\u001b[1;32m~\\.conda\\envs\\git-prj\\lib\\site-packages\\rasterio\\plot.py\u001b[0m in \u001b[0;36mshow\u001b[1;34m(source, with_bounds, contour, contour_label_kws, ax, title, transform, adjust, **kwargs)\u001b[0m\n\u001b[0;32m    138\u001b[0m             \u001b[0max\u001b[0m\u001b[1;33m.\u001b[0m\u001b[0mclabel\u001b[0m\u001b[1;33m(\u001b[0m\u001b[0mC\u001b[0m\u001b[1;33m,\u001b[0m \u001b[1;33m**\u001b[0m\u001b[0mcontour_label_kws\u001b[0m\u001b[1;33m)\u001b[0m\u001b[1;33m\u001b[0m\u001b[1;33m\u001b[0m\u001b[0m\n\u001b[0;32m    139\u001b[0m     \u001b[1;32melse\u001b[0m\u001b[1;33m:\u001b[0m\u001b[1;33m\u001b[0m\u001b[1;33m\u001b[0m\u001b[0m\n\u001b[1;32m--> 140\u001b[1;33m         \u001b[0max\u001b[0m\u001b[1;33m.\u001b[0m\u001b[0mimshow\u001b[0m\u001b[1;33m(\u001b[0m\u001b[0marr\u001b[0m\u001b[1;33m,\u001b[0m \u001b[1;33m**\u001b[0m\u001b[0mkwargs\u001b[0m\u001b[1;33m)\u001b[0m\u001b[1;33m\u001b[0m\u001b[1;33m\u001b[0m\u001b[0m\n\u001b[0m\u001b[0;32m    141\u001b[0m     \u001b[1;32mif\u001b[0m \u001b[0mtitle\u001b[0m\u001b[1;33m:\u001b[0m\u001b[1;33m\u001b[0m\u001b[1;33m\u001b[0m\u001b[0m\n\u001b[0;32m    142\u001b[0m         \u001b[0max\u001b[0m\u001b[1;33m.\u001b[0m\u001b[0mset_title\u001b[0m\u001b[1;33m(\u001b[0m\u001b[0mtitle\u001b[0m\u001b[1;33m,\u001b[0m \u001b[0mfontweight\u001b[0m\u001b[1;33m=\u001b[0m\u001b[1;34m'bold'\u001b[0m\u001b[1;33m)\u001b[0m\u001b[1;33m\u001b[0m\u001b[1;33m\u001b[0m\u001b[0m\n",
      "\u001b[1;32m~\\.conda\\envs\\git-prj\\lib\\site-packages\\matplotlib\\__init__.py\u001b[0m in \u001b[0;36minner\u001b[1;34m(ax, data, *args, **kwargs)\u001b[0m\n\u001b[0;32m   1563\u001b[0m     \u001b[1;32mdef\u001b[0m \u001b[0minner\u001b[0m\u001b[1;33m(\u001b[0m\u001b[0max\u001b[0m\u001b[1;33m,\u001b[0m \u001b[1;33m*\u001b[0m\u001b[0margs\u001b[0m\u001b[1;33m,\u001b[0m \u001b[0mdata\u001b[0m\u001b[1;33m=\u001b[0m\u001b[1;32mNone\u001b[0m\u001b[1;33m,\u001b[0m \u001b[1;33m**\u001b[0m\u001b[0mkwargs\u001b[0m\u001b[1;33m)\u001b[0m\u001b[1;33m:\u001b[0m\u001b[1;33m\u001b[0m\u001b[1;33m\u001b[0m\u001b[0m\n\u001b[0;32m   1564\u001b[0m         \u001b[1;32mif\u001b[0m \u001b[0mdata\u001b[0m \u001b[1;32mis\u001b[0m \u001b[1;32mNone\u001b[0m\u001b[1;33m:\u001b[0m\u001b[1;33m\u001b[0m\u001b[1;33m\u001b[0m\u001b[0m\n\u001b[1;32m-> 1565\u001b[1;33m             \u001b[1;32mreturn\u001b[0m \u001b[0mfunc\u001b[0m\u001b[1;33m(\u001b[0m\u001b[0max\u001b[0m\u001b[1;33m,\u001b[0m \u001b[1;33m*\u001b[0m\u001b[0mmap\u001b[0m\u001b[1;33m(\u001b[0m\u001b[0msanitize_sequence\u001b[0m\u001b[1;33m,\u001b[0m \u001b[0margs\u001b[0m\u001b[1;33m)\u001b[0m\u001b[1;33m,\u001b[0m \u001b[1;33m**\u001b[0m\u001b[0mkwargs\u001b[0m\u001b[1;33m)\u001b[0m\u001b[1;33m\u001b[0m\u001b[1;33m\u001b[0m\u001b[0m\n\u001b[0m\u001b[0;32m   1566\u001b[0m \u001b[1;33m\u001b[0m\u001b[0m\n\u001b[0;32m   1567\u001b[0m         \u001b[0mbound\u001b[0m \u001b[1;33m=\u001b[0m \u001b[0mnew_sig\u001b[0m\u001b[1;33m.\u001b[0m\u001b[0mbind\u001b[0m\u001b[1;33m(\u001b[0m\u001b[0max\u001b[0m\u001b[1;33m,\u001b[0m \u001b[1;33m*\u001b[0m\u001b[0margs\u001b[0m\u001b[1;33m,\u001b[0m \u001b[1;33m**\u001b[0m\u001b[0mkwargs\u001b[0m\u001b[1;33m)\u001b[0m\u001b[1;33m\u001b[0m\u001b[1;33m\u001b[0m\u001b[0m\n",
      "\u001b[1;32m~\\.conda\\envs\\git-prj\\lib\\site-packages\\matplotlib\\cbook\\deprecation.py\u001b[0m in \u001b[0;36mwrapper\u001b[1;34m(*args, **kwargs)\u001b[0m\n\u001b[0;32m    356\u001b[0m                 \u001b[1;34mf\"%(removal)s.  If any parameter follows {name!r}, they \"\u001b[0m\u001b[1;33m\u001b[0m\u001b[1;33m\u001b[0m\u001b[0m\n\u001b[0;32m    357\u001b[0m                 f\"should be pass as keyword, not positionally.\")\n\u001b[1;32m--> 358\u001b[1;33m         \u001b[1;32mreturn\u001b[0m \u001b[0mfunc\u001b[0m\u001b[1;33m(\u001b[0m\u001b[1;33m*\u001b[0m\u001b[0margs\u001b[0m\u001b[1;33m,\u001b[0m \u001b[1;33m**\u001b[0m\u001b[0mkwargs\u001b[0m\u001b[1;33m)\u001b[0m\u001b[1;33m\u001b[0m\u001b[1;33m\u001b[0m\u001b[0m\n\u001b[0m\u001b[0;32m    359\u001b[0m \u001b[1;33m\u001b[0m\u001b[0m\n\u001b[0;32m    360\u001b[0m     \u001b[1;32mreturn\u001b[0m \u001b[0mwrapper\u001b[0m\u001b[1;33m\u001b[0m\u001b[1;33m\u001b[0m\u001b[0m\n",
      "\u001b[1;32m~\\.conda\\envs\\git-prj\\lib\\site-packages\\matplotlib\\cbook\\deprecation.py\u001b[0m in \u001b[0;36mwrapper\u001b[1;34m(*args, **kwargs)\u001b[0m\n\u001b[0;32m    356\u001b[0m                 \u001b[1;34mf\"%(removal)s.  If any parameter follows {name!r}, they \"\u001b[0m\u001b[1;33m\u001b[0m\u001b[1;33m\u001b[0m\u001b[0m\n\u001b[0;32m    357\u001b[0m                 f\"should be pass as keyword, not positionally.\")\n\u001b[1;32m--> 358\u001b[1;33m         \u001b[1;32mreturn\u001b[0m \u001b[0mfunc\u001b[0m\u001b[1;33m(\u001b[0m\u001b[1;33m*\u001b[0m\u001b[0margs\u001b[0m\u001b[1;33m,\u001b[0m \u001b[1;33m**\u001b[0m\u001b[0mkwargs\u001b[0m\u001b[1;33m)\u001b[0m\u001b[1;33m\u001b[0m\u001b[1;33m\u001b[0m\u001b[0m\n\u001b[0m\u001b[0;32m    359\u001b[0m \u001b[1;33m\u001b[0m\u001b[0m\n\u001b[0;32m    360\u001b[0m     \u001b[1;32mreturn\u001b[0m \u001b[0mwrapper\u001b[0m\u001b[1;33m\u001b[0m\u001b[1;33m\u001b[0m\u001b[0m\n",
      "\u001b[1;32m~\\.conda\\envs\\git-prj\\lib\\site-packages\\matplotlib\\axes\\_axes.py\u001b[0m in \u001b[0;36mimshow\u001b[1;34m(self, X, cmap, norm, aspect, interpolation, alpha, vmin, vmax, origin, extent, shape, filternorm, filterrad, imlim, resample, url, **kwargs)\u001b[0m\n\u001b[0;32m   5613\u001b[0m                               resample=resample, **kwargs)\n\u001b[0;32m   5614\u001b[0m \u001b[1;33m\u001b[0m\u001b[0m\n\u001b[1;32m-> 5615\u001b[1;33m         \u001b[0mim\u001b[0m\u001b[1;33m.\u001b[0m\u001b[0mset_data\u001b[0m\u001b[1;33m(\u001b[0m\u001b[0mX\u001b[0m\u001b[1;33m)\u001b[0m\u001b[1;33m\u001b[0m\u001b[1;33m\u001b[0m\u001b[0m\n\u001b[0m\u001b[0;32m   5616\u001b[0m         \u001b[0mim\u001b[0m\u001b[1;33m.\u001b[0m\u001b[0mset_alpha\u001b[0m\u001b[1;33m(\u001b[0m\u001b[0malpha\u001b[0m\u001b[1;33m)\u001b[0m\u001b[1;33m\u001b[0m\u001b[1;33m\u001b[0m\u001b[0m\n\u001b[0;32m   5617\u001b[0m         \u001b[1;32mif\u001b[0m \u001b[0mim\u001b[0m\u001b[1;33m.\u001b[0m\u001b[0mget_clip_path\u001b[0m\u001b[1;33m(\u001b[0m\u001b[1;33m)\u001b[0m \u001b[1;32mis\u001b[0m \u001b[1;32mNone\u001b[0m\u001b[1;33m:\u001b[0m\u001b[1;33m\u001b[0m\u001b[1;33m\u001b[0m\u001b[0m\n",
      "\u001b[1;32m~\\.conda\\envs\\git-prj\\lib\\site-packages\\matplotlib\\image.py\u001b[0m in \u001b[0;36mset_data\u001b[1;34m(self, A)\u001b[0m\n\u001b[0;32m    697\u001b[0m                 or self._A.ndim == 3 and self._A.shape[-1] in [3, 4]):\n\u001b[0;32m    698\u001b[0m             raise TypeError(\"Invalid shape {} for image data\"\n\u001b[1;32m--> 699\u001b[1;33m                             .format(self._A.shape))\n\u001b[0m\u001b[0;32m    700\u001b[0m \u001b[1;33m\u001b[0m\u001b[0m\n\u001b[0;32m    701\u001b[0m         \u001b[1;32mif\u001b[0m \u001b[0mself\u001b[0m\u001b[1;33m.\u001b[0m\u001b[0m_A\u001b[0m\u001b[1;33m.\u001b[0m\u001b[0mndim\u001b[0m \u001b[1;33m==\u001b[0m \u001b[1;36m3\u001b[0m\u001b[1;33m:\u001b[0m\u001b[1;33m\u001b[0m\u001b[1;33m\u001b[0m\u001b[0m\n",
      "\u001b[1;31mTypeError\u001b[0m: Invalid shape (4866, 16, 4577) for image data"
     ]
    },
    {
     "data": {
      "image/png": "[encoded data removed]",
      "text/plain": [
       "<Figure size 432x288 with 1 Axes>"
      ]
     },
     "metadata": {
      "needs_background": "light"
     },
     "output_type": "display_data"
    }
   ],
   "source": [
    "src.close()\n",
    "tmp = shutil.copy(filepath, \"D:\\\\processing\\\\tmp\\\\RGB.byte.tif\")\n",
    "src = rasterio.open(tmp, mode=\"r+\")\n",
    "msk = src.read_masks()\n",
    "show(np.dstack(msk))  "
   ]
  },
  {
   "cell_type": "code",
   "execution_count": 64,
   "metadata": {},
   "outputs": [
    {
     "name": "stdout",
     "output_type": "stream",
     "text": [
      "(4577, 4866)\n",
      "16\n",
      "('float32', 'float32', 'float32', 'float32', 'float32', 'float32', 'float32', 'float32', 'float32', 'float32', 'float32', 'float32', 'float32', 'float32', 'float32', 'float32')\n",
      "(None, None, None, None, None, None, None, None, None, None, None, None, None, None, None, None)\n",
      "None\n"
     ]
    }
   ],
   "source": [
    "src = rasterio.open(filepath)\n",
    "print(src.shape)\n",
    "\n",
    "print(src.count)\n",
    "\n",
    "print(src.dtypes)\n",
    "\n",
    "print(src.nodatavals)\n",
    "\n",
    "print(src.nodata)"
   ]
  },
  {
   "cell_type": "code",
   "execution_count": 33,
   "metadata": {},
   "outputs": [
    {
     "ename": "RasterioIOError",
     "evalue": "Dataset is closed: D:\\L1_EFR_iCOR\\S3B_OL_1_EFR____20190921T135136_20190921T135436_20190922T173309_0179_030_124_3060_LN1_O_NT_002_processed.tif",
     "output_type": "error",
     "traceback": [
      "\u001b[1;31m---------------------------------------------------------------------------\u001b[0m",
      "\u001b[1;31mRasterioIOError\u001b[0m                           Traceback (most recent call last)",
      "\u001b[1;32m<ipython-input-33-c11e47407d63>\u001b[0m in \u001b[0;36m<module>\u001b[1;34m\u001b[0m\n\u001b[1;32m----> 1\u001b[1;33m \u001b[0mplt\u001b[0m\u001b[1;33m.\u001b[0m\u001b[0mimshow\u001b[0m\u001b[1;33m(\u001b[0m\u001b[0msrc\u001b[0m\u001b[1;33m.\u001b[0m\u001b[0mread\u001b[0m\u001b[1;33m(\u001b[0m\u001b[1;36m1\u001b[0m\u001b[1;33m)\u001b[0m\u001b[1;33m,\u001b[0m \u001b[0mcmap\u001b[0m\u001b[1;33m=\u001b[0m\u001b[1;34m'pink'\u001b[0m\u001b[1;33m)\u001b[0m\u001b[1;33m\u001b[0m\u001b[1;33m\u001b[0m\u001b[0m\n\u001b[0m\u001b[0;32m      2\u001b[0m \u001b[0mplt\u001b[0m\u001b[1;33m.\u001b[0m\u001b[0mshow\u001b[0m\u001b[1;33m(\u001b[0m\u001b[1;33m)\u001b[0m\u001b[1;33m\u001b[0m\u001b[1;33m\u001b[0m\u001b[0m\n",
      "\u001b[1;32mrasterio\\_io.pyx\u001b[0m in \u001b[0;36mrasterio._io.DatasetReaderBase.read\u001b[1;34m()\u001b[0m\n",
      "\u001b[1;32mrasterio\\_base.pyx\u001b[0m in \u001b[0;36mrasterio._base.DatasetBase.mask_flag_enums.__get__\u001b[1;34m()\u001b[0m\n",
      "\u001b[1;32mrasterio\\_base.pyx\u001b[0m in \u001b[0;36mgenexpr\u001b[1;34m()\u001b[0m\n",
      "\u001b[1;32mrasterio\\_base.pyx\u001b[0m in \u001b[0;36mgenexpr\u001b[1;34m()\u001b[0m\n",
      "\u001b[1;32mrasterio\\_base.pyx\u001b[0m in \u001b[0;36mgenexpr\u001b[1;34m()\u001b[0m\n",
      "\u001b[1;32mrasterio\\_base.pyx\u001b[0m in \u001b[0;36mrasterio._base.DatasetBase.band\u001b[1;34m()\u001b[0m\n",
      "\u001b[1;32mrasterio\\_base.pyx\u001b[0m in \u001b[0;36mrasterio._base.DatasetBase.handle\u001b[1;34m()\u001b[0m\n",
      "\u001b[1;31mRasterioIOError\u001b[0m: Dataset is closed: D:\\L1_EFR_iCOR\\S3B_OL_1_EFR____20190921T135136_20190921T135436_20190922T173309_0179_030_124_3060_LN1_O_NT_002_processed.tif"
     ]
    }
   ],
   "source": [
    "plt.imshow(src.read(1), cmap='pink')\n",
    "plt.show()"
   ]
  },
  {
   "cell_type": "code",
   "execution_count": 13,
   "metadata": {},
   "outputs": [
    {
     "data": {
      "image/png": "[encoded data removed]",
      "text/plain": [
       "<Figure size 432x288 with 1 Axes>"
      ]
     },
     "metadata": {
      "needs_background": "light"
     },
     "output_type": "display_data"
    },
    {
     "data": {
      "text/plain": [
       "<matplotlib.axes._subplots.AxesSubplot at 0x1e918c43dd8>"
      ]
     },
     "execution_count": 13,
     "metadata": {},
     "output_type": "execute_result"
    }
   ],
   "source": [
    "#RGB\n",
    "show(src.read(7), transform=src.transform)"
   ]
  },
  {
   "cell_type": "code",
   "execution_count": 16,
   "metadata": {},
   "outputs": [
    {
     "data": {
      "image/png": "[encoded data removed]",
      "text/plain": [
       "<Figure size 432x288 with 1 Axes>"
      ]
     },
     "metadata": {
      "needs_background": "light"
     },
     "output_type": "display_data"
    }
   ],
   "source": [
    "show_hist(src)"
   ]
  },
  {
   "cell_type": "code",
   "execution_count": 50,
   "metadata": {},
   "outputs": [],
   "source": [
    "import os\n",
    "import sys\n",
    "import logging\n",
    "import argparse\n",
    "\n",
    "sys.path.append('../')\n",
    "\n",
    "import tif_explorer\n",
    "import outsourcing as outsrc\n",
    "from rasterstats import zonal_stats\n",
    "from datetime import datetime\n",
    "from osgeo import ogr\n",
    "from osgeo import gdal\n",
    "\n",
    "from sklearn import cluster\n",
    "\n",
    "# Tell GDAL to throw Python exceptions, and register all drivers\n",
    "gdal.UseExceptions()\n",
    "gdal.AllRegister()"
   ]
  },
  {
   "cell_type": "code",
   "execution_count": 38,
   "metadata": {},
   "outputs": [
    {
     "name": "stdout",
     "output_type": "stream",
     "text": [
      "16\n"
     ]
    }
   ],
   "source": [
    "# Read in raster image\n",
    "filepath = 'D:\\\\L1_EFR_iCOR\\\\S3B_OL_1_EFR____20190921T135136_20190921T135436_20190922T173309_0179_030_124_3060_LN1_O_NT_002_processed.tif'\n",
    "\n",
    "img_ds = gdal.Open(filepath, gdal.GA_ReadOnly)\n",
    "\n",
    "print(img_ds.RasterCount)"
   ]
  },
  {
   "cell_type": "code",
   "execution_count": 63,
   "metadata": {},
   "outputs": [
    {
     "data": {
      "text/plain": [
       "<matplotlib.image.AxesImage at 0x1e94a914b70>"
      ]
     },
     "execution_count": 63,
     "metadata": {},
     "output_type": "execute_result"
    },
    {
     "data": {
      "image/png": "[encoded data removed]",
      "text/plain": [
       "<Figure size 432x288 with 1 Axes>"
      ]
     },
     "metadata": {
      "needs_background": "light"
     },
     "output_type": "display_data"
    }
   ],
   "source": [
    "# S3 RGB = 9,6,4\n",
    "\n",
    "band = img_ds.GetRasterBand(9)\n",
    "\n",
    "img = band.ReadAsArray()\n",
    "\n",
    "# img.DeleteNoDataValue()\n",
    "\n",
    "plt.imshow(img)"
   ]
  },
  {
   "cell_type": "code",
   "execution_count": 62,
   "metadata": {},
   "outputs": [
    {
     "data": {
      "text/plain": [
       "{1: 'B1-400',\n",
       " 2: 'B2-412.5',\n",
       " 3: 'B3-442.5',\n",
       " 4: 'B4-490',\n",
       " 5: 'B5-510',\n",
       " 6: 'B6-560',\n",
       " 7: 'B7-620',\n",
       " 8: 'B8-665',\n",
       " 9: 'B9-673.75',\n",
       " 10: 'B10-681.25',\n",
       " 11: 'B11-708.75',\n",
       " 12: 'B12-753.75',\n",
       " 13: 'B16-778.75',\n",
       " 14: 'B17-865',\n",
       " 15: 'B18-885',\n",
       " 16: 'B21-1020'}"
      ]
     },
     "execution_count": 62,
     "metadata": {},
     "output_type": "execute_result"
    }
   ],
   "source": [
    "tfxp = tif_explorer.TFXP()\n",
    "tfxp.band_id"
   ]
  },
  {
   "cell_type": "markdown",
   "metadata": {},
   "source": [
    "## Scatterplots"
   ]
  },
  {
   "cell_type": "code",
   "execution_count": 4,
   "metadata": {},
   "outputs": [],
   "source": [
    "import os\n",
    "import sys\n",
    "import pandas as pd\n",
    "import matplotlib.pyplot as plt\n",
    "\n",
    "sys.path.append('../')\n",
    "from tsgen import TsGenerator"
   ]
  },
  {
   "cell_type": "code",
   "execution_count": 5,
   "metadata": {},
   "outputs": [],
   "source": [
    "tsgen = TsGenerator()"
   ]
  },
  {
   "cell_type": "code",
   "execution_count": 6,
   "metadata": {},
   "outputs": [],
   "source": [
    "datafolders = [\"D:\\\\processing\\\\win\\\\COARI\",\n",
    "              \"D:\\\\processing\\\\win\\\\FONTE_BOA\",\n",
    "              \"D:\\\\processing\\\\win\\\\MADEIRA\",\n",
    "              \"D:\\\\processing\\\\win\\\\MANACAPURU\",\n",
    "              \"D:\\\\processing\\\\win\\\\NEGRO\",\n",
    "              \"D:\\\\processing\\\\win\\\\TEFE\"]"
   ]
  },
  {
   "cell_type": "code",
   "execution_count": 7,
   "metadata": {},
   "outputs": [
    {
     "data": {
      "text/plain": [
       "['S3A_OL_2_WFR____20190309T141223_20190309T141523_20190310T211622_0179_042_167_3060_MAR_O_NT_002_subset.txt',\n",
       " 'S3A_OL_2_WFR____20190313T140838_20190313T141138_20190314T214804_0179_042_224_3060_MAR_O_NT_002_subset.txt',\n",
       " 'S3A_OL_2_WFR____20190317T140455_20190317T140755_20190318T205900_0179_042_281_3060_MAR_O_NT_002_subset.txt',\n",
       " 'S3A_OL_2_WFR____20190318T133844_20190318T134144_20190319T213345_0179_042_295_3060_MAR_O_NT_002_subset.txt',\n",
       " 'S3A_OL_2_WFR____20190321T140111_20190321T140411_20190322T231105_0179_042_338_3060_MAR_O_NT_002_subset.txt',\n",
       " 'S3A_OL_2_WFR____20190322T133501_20190322T133801_20190323T225416_0179_042_352_3060_MAR_O_NT_002_subset.txt',\n",
       " 'S3A_OL_2_WFR____20190325T135728_20190325T140028_20190326T224511_0179_043_010_3060_MAR_O_NT_002_subset.txt',\n",
       " 'S3A_OL_2_WFR____20190326T133117_20190326T133417_20190327T220644_0179_043_024_3060_MAR_O_NT_002_subset.txt',\n",
       " 'S3A_OL_2_WFR____20190329T135344_20190329T135644_20190330T223455_0179_043_067_3060_MAR_O_NT_002_subset.txt',\n",
       " 'S3A_OL_2_WFR____20190402T135001_20190402T135301_20190403T202417_0180_043_124_3060_MAR_O_NT_002_subset.txt',\n",
       " 'S3A_OL_2_WFR____20190526T135005_20190526T135305_20190527T233329_0179_045_124_3060_MAR_O_NT_002_subset.txt',\n",
       " 'S3A_OL_2_WFR____20190529T141231_20190529T141531_20190530T235929_0179_045_167_3060_MAR_O_NT_002_subset.txt',\n",
       " 'S3A_OL_2_WFR____20190530T134620_20190530T134920_20190531T232415_0179_045_181_3060_MAR_O_NT_002_subset.txt',\n",
       " 'S3A_OL_2_WFR____20190602T140847_20190602T141147_20190604T020618_0179_045_224_3060_MAR_O_NT_002_subset.txt',\n",
       " 'S3A_OL_2_WFR____20190603T134236_20190603T134536_20190604T235114_0179_045_238_3060_MAR_O_NT_002_subset.txt',\n",
       " 'S3A_OL_2_WFR____20190606T140502_20190606T140802_20190608T002453_0179_045_281_3060_MAR_O_NT_002_subset.txt',\n",
       " 'S3A_OL_2_WFR____20190607T133851_20190607T134151_20190609T014324_0179_045_295_3060_MAR_O_NT_002_subset.txt',\n",
       " 'S3A_OL_2_WFR____20190610T140117_20190610T140417_20190612T012617_0179_045_338_3060_MAR_O_NT_002_subset.txt',\n",
       " 'S3A_OL_2_WFR____20190611T133506_20190611T133806_20190612T231042_0179_045_352_3060_MAR_O_NT_002_subset.txt',\n",
       " 'S3A_OL_2_WFR____20190614T135732_20190614T140032_20190616T015133_0179_046_010_3060_MAR_O_NT_002_subset.txt',\n",
       " 'S3A_OL_2_WFR____20190615T133121_20190615T133421_20190617T015932_0179_046_024_3060_MAR_O_NT_002_subset.txt',\n",
       " 'S3A_OL_2_WFR____20190618T135348_20190618T135648_20190619T204406_0180_046_067_3060_MAR_O_NT_002_subset.txt',\n",
       " 'S3A_OL_2_WFR____20190622T135004_20190622T135304_20190623T223203_0179_046_124_3060_MAR_O_NT_002_subset.txt',\n",
       " 'S3A_OL_2_WFR____20190625T141230_20190625T141530_20190626T231813_0179_046_167_3060_MAR_O_NT_002_subset.txt',\n",
       " 'S3A_OL_2_WFR____20190626T134620_20190626T134920_20190627T221647_0180_046_181_3060_MAR_O_NT_002_subset.txt',\n",
       " 'S3A_OL_2_WFR____20190629T140846_20190629T141146_20190630T232542_0180_046_224_3060_MAR_O_NT_002_subset.txt',\n",
       " 'S3A_OL_2_WFR____20190630T134235_20190630T134535_20190701T223549_0179_046_238_3060_MAR_O_NT_002_subset.txt',\n",
       " 'S3A_OL_2_WFR____20190703T140502_20190703T140802_20190704T223737_0179_046_281_3060_MAR_O_NT_002_subset.txt',\n",
       " 'S3A_OL_2_WFR____20190704T133851_20190704T134151_20190705T212259_0179_046_295_3060_MAR_O_NT_002_subset.txt',\n",
       " 'S3A_OL_2_WFR____20190707T140117_20190707T140417_20190708T233108_0179_046_338_3060_MAR_O_NT_002_subset.txt',\n",
       " 'S3A_OL_2_WFR____20190708T133506_20190708T133806_20190709T223145_0179_046_352_3060_MAR_O_NT_002_subset.txt',\n",
       " 'S3A_OL_2_WFR____20190711T135733_20190711T140033_20190712T202156_0179_047_010_3060_MAR_O_NT_002_subset.txt',\n",
       " 'S3A_OL_2_WFR____20190712T133122_20190712T133422_20190713T230810_0179_047_024_3060_MAR_O_NT_002_subset.txt',\n",
       " 'S3A_OL_2_WFR____20190715T135348_20190715T135648_20190716T211211_0179_047_067_3060_MAR_O_NT_002_subset.txt',\n",
       " 'S3A_OL_2_WFR____20190719T135004_20190719T135304_20190720T232725_0179_047_124_3060_MAR_O_NT_002_subset.txt',\n",
       " 'S3A_OL_2_WFR____20190722T141230_20190722T141530_20190723T225447_0179_047_167_3060_MAR_O_NT_002_subset.txt',\n",
       " 'S3A_OL_2_WFR____20190723T134619_20190723T134919_20190724T222406_0179_047_181_3060_MAR_O_NT_002_subset.txt',\n",
       " 'S3A_OL_2_WFR____20190726T140845_20190726T141145_20190728T000636_0179_047_224_3060_MAR_O_NT_002_subset.txt',\n",
       " 'S3A_OL_2_WFR____20190727T134234_20190727T134534_20190728T230442_0180_047_238_3060_MAR_O_NT_002_subset.txt',\n",
       " 'S3A_OL_2_WFR____20190730T140500_20190730T140800_20190731T224655_0179_047_281_3060_MAR_O_NT_002_subset.txt',\n",
       " 'S3A_OL_2_WFR____20190731T133849_20190731T134149_20190801T220241_0179_047_295_3060_MAR_O_NT_002_subset.txt',\n",
       " 'S3A_OL_2_WFR____20190803T140115_20190803T140415_20190804T230912_0179_047_338_3060_MAR_O_NT_002_subset.txt',\n",
       " 'S3A_OL_2_WFR____20190804T133504_20190804T133804_20190805T221925_0179_047_352_3060_MAR_O_NT_002_subset.txt',\n",
       " 'S3A_OL_2_WFR____20190807T135730_20190807T140030_20190808T221439_0179_048_010_3060_MAR_O_NT_002_subset.txt',\n",
       " 'S3A_OL_2_WFR____20190808T133119_20190808T133419_20190809T214839_0179_048_024_3060_MAR_O_NT_002_subset.txt',\n",
       " 'S3A_OL_2_WFR____20190811T135345_20190811T135645_20190812T224431_0179_048_067_3060_MAR_O_NT_002_subset.txt',\n",
       " 'S3A_OL_2_WFR____20190815T135000_20190815T135300_20190816T203800_0179_048_124_3060_MAR_O_NT_002_subset.txt',\n",
       " 'S3A_OL_2_WFR____20190818T141226_20190818T141526_20190819T213241_0179_048_167_3060_MAR_O_NT_002_subset.txt',\n",
       " 'S3A_OL_2_WFR____20190819T134615_20190819T134915_20190820T230117_0179_048_181_3060_MAR_O_NT_002_subset.txt',\n",
       " 'S3A_OL_2_WFR____20190822T140841_20190822T141141_20190823T224212_0179_048_224_3060_MAR_O_NT_002_subset.txt',\n",
       " 'S3A_OL_2_WFR____20190823T134230_20190823T134530_20190824T220745_0179_048_238_3060_MAR_O_NT_002_subset.txt',\n",
       " 'S3A_OL_2_WFR____20190826T140456_20190826T140756_20190827T230718_0179_048_281_3060_MAR_O_NT_002_subset.txt',\n",
       " 'S3A_OL_2_WFR____20190827T133845_20190827T134145_20190828T222419_0179_048_295_3060_MAR_O_NT_002_subset.txt',\n",
       " 'S3A_OL_2_WFR____20190830T140112_20190830T140412_20190831T221607_0179_048_338_3060_MAR_O_NT_002_subset.txt',\n",
       " 'S3A_OL_2_WFR____20190831T133501_20190831T133801_20190901T224633_0179_048_352_3060_MAR_O_NT_002_subset.txt',\n",
       " 'S3A_OL_2_WFR____20190903T135728_20190903T140028_20190904T224859_0179_049_010_3060_MAR_O_NT_002_subset.txt',\n",
       " 'S3A_OL_2_WFR____20190904T133117_20190904T133417_20190905T220743_0179_049_024_3060_MAR_O_NT_002_subset.txt',\n",
       " 'S3A_OL_2_WFR____20190907T135344_20190907T135644_20190908T214622_0179_049_067_3060_MAR_O_NT_002_subset.txt',\n",
       " 'S3A_OL_2_WFR____20190911T135000_20190911T135300_20190912T224330_0179_049_124_3060_MAR_O_NT_002_subset.txt',\n",
       " 'S3A_OL_2_WFR____20190914T141227_20190914T141527_20190915T220950_0179_049_167_3060_MAR_O_NT_002_subset.txt',\n",
       " 'S3A_OL_2_WFR____20190915T134616_20190915T134916_20190916T225142_0180_049_181_3060_MAR_O_NT_002_subset.txt',\n",
       " 'S3A_OL_2_WFR____20190918T140843_20190918T141143_20190919T222614_0179_049_224_3060_MAR_O_NT_002_subset.txt',\n",
       " 'S3A_OL_2_WFR____20190919T134232_20190919T134532_20190920T195042_0179_049_238_3060_MAR_O_NT_002_subset.txt',\n",
       " 'S3A_OL_2_WFR____20190922T140459_20190922T140759_20190923T230346_0179_049_281_3060_MAR_O_NT_002_subset.txt',\n",
       " 'S3A_OL_2_WFR____20190923T133848_20190923T134148_20190924T223318_0179_049_295_3060_MAR_O_NT_002_subset.txt',\n",
       " 'S3A_OL_2_WFR____20190926T140115_20190926T140415_20190927T221713_0179_049_338_3060_MAR_O_NT_002_subset.txt',\n",
       " 'S3A_OL_2_WFR____20190927T133504_20190927T133804_20190928T220100_0179_049_352_3060_MAR_O_NT_002_subset.txt',\n",
       " 'S3A_OL_2_WFR____20190930T135731_20190930T140031_20191001T221706_0179_050_010_3060_MAR_O_NT_002_subset.txt',\n",
       " 'S3A_OL_2_WFR____20191001T133120_20191001T133420_20191002T221509_0179_050_024_3060_MAR_O_NT_002_subset.txt',\n",
       " 'S3A_OL_2_WFR____20191004T135347_20191004T135647_20191005T214048_0180_050_067_3060_MAR_O_NT_002_subset.txt',\n",
       " 'S3A_OL_2_WFR____20191008T135003_20191008T135303_20191009T221915_0179_050_124_3060_MAR_O_NT_002_subset.txt',\n",
       " 'S3A_OL_2_WFR____20191011T141229_20191011T141529_20191012T201505_0179_050_167_3060_MAR_O_NT_002_subset.txt',\n",
       " 'S3A_OL_2_WFR____20191012T134618_20191012T134918_20191013T234816_0179_050_181_3060_MAR_O_NT_002_subset.txt',\n",
       " 'S3A_OL_2_WFR____20191015T140845_20191015T141145_20191016T225911_0179_050_224_3060_MAR_O_NT_002_subset.txt',\n",
       " 'S3A_OL_2_WFR____20191016T134234_20191016T134534_20191017T215349_0180_050_238_3060_MAR_O_NT_002_subset.txt',\n",
       " 'S3A_OL_2_WFR____20191019T140500_20191019T140800_20191020T213735_0180_050_281_3060_MAR_O_NT_002_subset.txt',\n",
       " 'S3A_OL_2_WFR____20191020T133849_20191020T134149_20191021T231123_0179_050_295_3060_MAR_O_NT_002_subset.txt',\n",
       " 'S3A_OL_2_WFR____20191023T140116_20191023T140416_20191024T225102_0179_050_338_3060_MAR_O_NT_002_subset.txt',\n",
       " 'S3A_OL_2_WFR____20191024T133505_20191024T133805_20191025T221236_0179_050_352_3060_MAR_O_NT_002_subset.txt',\n",
       " 'S3A_OL_2_WFR____20191027T135731_20191027T140031_20191028T224350_0179_051_010_3060_MAR_O_NT_002_subset.txt',\n",
       " 'S3A_OL_2_WFR____20191028T133120_20191028T133420_20191029T221115_0180_051_024_3060_MAR_O_NT_002_subset.txt',\n",
       " 'S3A_OL_2_WFR____20191031T135347_20191031T135647_20191113T155040_0180_051_067_3060_MAR_O_NT_002_subset.txt',\n",
       " 'S3A_OL_2_WFR____20191104T135002_20191104T135302_20191124T134508_0179_051_124_3060_MAR_O_NT_002_subset.txt',\n",
       " 'S3A_OL_2_WFR____20191107T141228_20191107T141528_20191108T223432_0179_051_167_3060_MAR_O_NT_002_subset.txt',\n",
       " 'S3A_OL_2_WFR____20191108T134617_20191108T134917_20191109T201344_0179_051_181_3060_MAR_O_NT_002_subset.txt',\n",
       " 'S3A_OL_2_WFR____20191111T140843_20191111T141143_20191128T053500_0179_051_224_3060_MAR_O_NT_002_subset.txt',\n",
       " 'S3A_OL_2_WFR____20191112T134232_20191112T134532_20191129T055638_0179_051_238_3060_MAR_O_NT_002_subset.txt',\n",
       " 'S3A_OL_2_WFR____20191115T140458_20191115T140758_20191116T222049_0179_051_281_3060_MAR_O_NT_002_subset.txt',\n",
       " 'S3A_OL_2_WFR____20191116T133847_20191116T134147_20191130T105657_0179_051_295_3060_MAR_O_NT_002_subset.txt',\n",
       " 'S3A_OL_2_WFR____20191119T140113_20191119T140413_20191202T235318_0179_051_338_3060_MAR_O_NT_002_subset.txt',\n",
       " 'S3A_OL_2_WFR____20191120T133502_20191120T133802_20191203T162904_0179_051_352_3060_MAR_O_NT_002_subset.txt',\n",
       " 'S3A_OL_2_WFR____20191123T135728_20191123T140028_20191206T010521_0179_052_010_3060_MAR_O_NT_002_subset.txt',\n",
       " 'S3A_OL_2_WFR____20191124T133117_20191124T133417_20191206T193946_0179_052_024_3060_MAR_O_NT_002_subset.txt',\n",
       " 'S3A_OL_2_WFR____20191127T135343_20191127T135643_20191209T032851_0179_052_067_3060_MAR_O_NT_002_subset.txt',\n",
       " 'S3A_OL_2_WFR____20191201T134958_20191201T135258_20191212T081550_0179_052_124_3060_MAR_O_NT_002_subset.txt',\n",
       " 'S3A_OL_2_WFR____20191204T141224_20191204T141524_20191214T175238_0179_052_167_3060_MAR_O_NT_002_subset.txt',\n",
       " 'S3A_OL_2_WFR____20191205T134613_20191205T134913_20191215T133250_0179_052_181_3060_MAR_O_NT_002_subset.txt',\n",
       " 'S3A_OL_2_WFR____20191208T140839_20191208T141139_20191217T224709_0179_052_224_3060_MAR_O_NT_002_subset.txt',\n",
       " 'S3A_OL_2_WFR____20191209T134228_20191209T134528_20191218T172915_0179_052_238_3060_MAR_O_NT_002_subset.txt',\n",
       " 'S3A_OL_2_WFR____20191212T140454_20191212T140754_20191221T024949_0179_052_281_3060_MAR_O_NT_002_subset.txt',\n",
       " 'S3A_OL_2_WFR____20191213T133844_20191213T134144_20191221T212839_0179_052_295_3060_MAR_O_NT_002_subset.txt',\n",
       " 'S3A_OL_2_WFR____20191216T140111_20191216T140411_20191224T074855_0179_052_338_3060_MAR_O_NT_002_subset.txt',\n",
       " 'S3A_OL_2_WFR____20191217T133500_20191217T133800_20191225T023412_0179_052_352_3060_MAR_O_NT_002_subset.txt',\n",
       " 'S3A_OL_2_WFR____20191220T135727_20191220T140027_20191227T104236_0179_053_010_3060_MAR_O_NT_002_subset.txt',\n",
       " 'S3A_OL_2_WFR____20191221T133116_20191221T133416_20191228T054851_0179_053_024_3060_MAR_O_NT_002_subset.txt',\n",
       " 'S3A_OL_2_WFR____20191224T135343_20191224T135643_20191230T151313_0180_053_067_3060_MAR_O_NT_002_subset.txt',\n",
       " 'S3A_OL_2_WFR____20191228T134959_20191228T135259_20200102T183124_0179_053_124_3060_MAR_O_NT_002_subset.txt',\n",
       " 'S3A_OL_2_WFR____20191231T141226_20191231T141526_20200105T031511_0179_053_167_3060_MAR_O_NT_002_subset.txt',\n",
       " 'S3A_OL_2_WFR____20200101T134615_20200101T134915_20200105T221243_0179_053_181_3060_MAR_O_NT_002_subset.txt',\n",
       " 'S3A_OL_2_WFR____20200104T140842_20200104T141142_20200108T061956_0179_053_224_3060_MAR_O_NT_002_subset.txt',\n",
       " 'S3A_OL_2_WFR____20200105T134231_20200105T134531_20200109T023755_0179_053_238_3060_MAR_O_NT_002_subset.txt',\n",
       " 'S3A_OL_2_WFR____20200108T140458_20200108T140758_20200109T222027_0179_053_281_3060_MAR_O_NT_002_subset.txt',\n",
       " 'S3A_OL_2_WFR____20200109T133847_20200109T134147_20200110T220922_0180_053_295_3060_MAR_O_NT_002_subset.txt',\n",
       " 'S3A_OL_2_WFR____20200112T140114_20200112T140414_20200113T231806_0179_053_338_3060_MAR_O_NT_002_subset.txt',\n",
       " 'S3A_OL_2_WFR____20200113T133503_20200113T133803_20200114T222122_0179_053_352_3060_MAR_O_NT_002_subset.txt',\n",
       " 'S3A_OL_2_WFR____20200116T135730_20200116T140030_20200117T205932_0179_054_010_3060_MAR_O_NT_002_subset.txt',\n",
       " 'S3A_OL_2_WFR____20200117T133119_20200117T133419_20200118T210454_0180_054_024_3060_MAR_O_NT_002_subset.txt',\n",
       " 'S3A_OL_2_WFR____20200120T135345_20200120T135645_20200121T230403_0179_054_067_3060_MAR_O_NT_002_subset.txt',\n",
       " 'S3A_OL_2_WFR____20200124T135001_20200124T135301_20200125T215208_0179_054_124_3060_MAR_O_NT_002_subset.txt',\n",
       " 'S3A_OL_2_WFR____20200127T141228_20200127T141528_20200128T231059_0179_054_167_3060_MAR_O_NT_002_subset.txt',\n",
       " 'S3A_OL_2_WFR____20200128T134617_20200128T134917_20200129T222345_0180_054_181_3060_MAR_O_NT_002_subset.txt',\n",
       " 'S3A_OL_2_WFR____20200131T140843_20200131T141143_20200201T205438_0179_054_224_3060_MAR_O_NT_002_subset.txt',\n",
       " 'S3A_OL_2_WFR____20200201T134232_20200201T134532_20200202T215950_0179_054_238_3060_MAR_O_NT_002_subset.txt',\n",
       " 'S3A_OL_2_WFR____20200204T140459_20200204T140759_20200205T224626_0179_054_281_3060_MAR_O_NT_002_subset.txt',\n",
       " 'S3A_OL_2_WFR____20200205T133848_20200205T134148_20200206T220030_0179_054_295_3060_MAR_O_NT_002_subset.txt',\n",
       " 'S3A_OL_2_WFR____20200208T140115_20200208T140415_20200209T201228_0180_054_338_3060_MAR_O_NT_002_subset.txt',\n",
       " 'S3A_OL_2_WFR____20200209T133504_20200209T133804_20200210T210735_0179_054_352_3060_MAR_O_NT_002_subset.txt',\n",
       " 'S3A_OL_2_WFR____20200212T135730_20200212T140030_20200213T222202_0180_055_010_3060_MAR_O_NT_002_subset.txt',\n",
       " 'S3A_OL_2_WFR____20200213T133119_20200213T133419_20200214T214939_0179_055_024_3060_MAR_O_NT_002_subset.txt',\n",
       " 'S3A_OL_2_WFR____20200216T135345_20200216T135645_20200217T214045_0180_055_067_3060_MAR_O_NT_002_subset.txt',\n",
       " 'S3A_OL_2_WFR____20200220T135001_20200220T135301_20200221T221922_0179_055_124_3060_MAR_O_NT_002_subset.txt',\n",
       " 'S3A_OL_2_WFR____20200223T141227_20200223T141527_20200224T202309_0180_055_167_3060_MAR_O_NT_002_subset.txt',\n",
       " 'S3A_OL_2_WFR____20200224T134616_20200224T134916_20200225T211517_0179_055_181_3060_MAR_O_NT_002_subset.txt',\n",
       " 'S3A_OL_2_WFR____20200227T140842_20200227T141142_20200228T224554_0179_055_224_3060_MAR_O_NT_002_subset.txt',\n",
       " 'S3A_OL_2_WFR____20200228T134231_20200228T134531_20200229T221531_0179_055_238_3060_MAR_O_NT_002_subset.txt',\n",
       " 'S3A_OL_2_WFR____20200302T140458_20200302T140758_20200303T223539_0179_055_281_3060_MAR_O_NT_002_subset.txt',\n",
       " 'S3A_OL_2_WFR____20200303T133847_20200303T134147_20200304T223604_0179_055_295_3060_MAR_O_NT_002_subset.txt',\n",
       " 'S3A_OL_2_WFR____20200306T140113_20200306T140413_20200307T222210_0179_055_338_3060_MAR_O_NT_002_subset.txt',\n",
       " 'S3A_OL_2_WFR____20200307T133502_20200307T133802_20200308T214531_0179_055_352_3060_MAR_O_NT_002_subset.txt',\n",
       " 'S3A_OL_2_WFR____20200310T135728_20200310T140028_20200311T223515_0179_056_010_3060_MAR_O_NT_002_subset.txt',\n",
       " 'S3A_OL_2_WFR____20200311T133117_20200311T133417_20200312T204127_0179_056_024_3060_MAR_O_NT_002_subset.txt',\n",
       " 'S3A_OL_2_WFR____20200314T135344_20200314T135644_20200315T220705_0179_056_067_3060_MAR_O_NT_002_subset.txt',\n",
       " 'S3A_OL_2_WFR____20200318T135001_20200318T135301_20200319T210614_0179_056_124_3060_MAR_O_NT_002_subset.txt',\n",
       " 'S3A_OL_2_WFR____20200321T141228_20200321T141528_20200322T204038_0179_056_167_3060_MAR_O_NT_002_subset.txt',\n",
       " 'S3A_OL_2_WFR____20200322T134618_20200322T134918_20200323T200833_0179_056_181_3060_MAR_O_NT_002_subset.txt',\n",
       " 'S3A_OL_2_WFR____20200325T140845_20200325T141145_20200326T214202_0179_056_224_3060_MAR_O_NT_002_subset.txt',\n",
       " 'S3A_OL_2_WFR____20200326T134234_20200326T134534_20200327T204251_0179_056_238_3060_MAR_O_NT_002_subset.txt',\n",
       " 'S3A_OL_2_WFR____20200329T140501_20200329T140801_20200330T212406_0179_056_281_3060_MAR_O_NT_002_subset.txt',\n",
       " 'S3A_OL_2_WFR____20200330T133850_20200330T134150_20200331T210755_0179_056_295_3060_MAR_O_NT_002_subset.txt',\n",
       " 'S3B_OL_2_WFR____20190319T141408_20190319T141708_20190320T210620_0179_023_167_3060_MAR_O_NT_002_subset.txt',\n",
       " 'S3B_OL_2_WFR____20190320T134757_20190320T135057_20190321T224821_0179_023_181_3060_MAR_O_NT_002_subset.txt',\n",
       " 'S3B_OL_2_WFR____20190323T141024_20190323T141324_20190324T210000_0179_023_224_3060_MAR_O_NT_002_subset.txt',\n",
       " 'S3B_OL_2_WFR____20190324T134413_20190324T134713_20190325T230419_0179_023_238_3060_MAR_O_NT_002_subset.txt',\n",
       " 'S3B_OL_2_WFR____20190327T140640_20190327T140940_20190328T223826_0179_023_281_3060_MAR_O_NT_002_subset.txt',\n",
       " 'S3B_OL_2_WFR____20190328T134029_20190328T134329_20190329T192306_0179_023_295_3060_MAR_O_NT_002_subset.txt',\n",
       " 'S3B_OL_2_WFR____20190331T140256_20190331T140556_20190401T204718_0179_023_338_3060_MAR_O_NT_002_subset.txt',\n",
       " 'S3B_OL_2_WFR____20190401T133645_20190401T133945_20190402T194737_0180_023_352_3060_MAR_O_NT_002_subset.txt',\n",
       " 'S3B_OL_2_WFR____20190404T135911_20190404T140211_20190405T223919_0179_024_010_3060_MAR_O_NT_002_subset.txt',\n",
       " 'S3B_OL_2_WFR____20190405T133300_20190405T133600_20190406T211825_0179_024_024_3060_MAR_O_NT_002_subset.txt',\n",
       " 'S3B_OL_2_WFR____20190408T135527_20190408T135827_20190409T223814_0179_024_067_3060_MAR_O_NT_002_subset.txt',\n",
       " 'S3B_OL_2_WFR____20190412T135143_20190412T135443_20190413T201149_0179_024_124_3060_MAR_O_NT_002_subset.txt',\n",
       " 'S3B_OL_2_WFR____20190415T141409_20190415T141709_20190416T231639_0179_024_167_3060_MAR_O_NT_002_subset.txt',\n",
       " 'S3B_OL_2_WFR____20190416T134758_20190416T135058_20190417T194948_0179_024_181_3060_MAR_O_NT_002_subset.txt',\n",
       " 'S3B_OL_2_WFR____20190419T141025_20190419T141325_20190420T222059_0179_024_224_3060_MAR_O_NT_002_subset.txt',\n",
       " 'S3B_OL_2_WFR____20190420T134414_20190420T134714_20190421T203823_0180_024_238_3060_MAR_O_NT_002_subset.txt',\n",
       " 'S3B_OL_2_WFR____20190423T140640_20190423T140940_20190424T202127_0179_024_281_3060_MAR_O_NT_002_subset.txt',\n",
       " 'S3B_OL_2_WFR____20190424T134029_20190424T134329_20190425T221344_0179_024_295_3060_MAR_O_NT_002_subset.txt',\n",
       " 'S3B_OL_2_WFR____20190427T140255_20190427T140555_20190428T192057_0179_024_338_3060_MAR_O_NT_002_subset.txt',\n",
       " 'S3B_OL_2_WFR____20190428T133644_20190428T133944_20190429T224445_0179_024_352_3060_MAR_O_NT_002_subset.txt',\n",
       " 'S3B_OL_2_WFR____20190501T135911_20190501T140211_20190502T200605_0179_025_010_3060_MAR_O_NT_002_subset.txt',\n",
       " 'S3B_OL_2_WFR____20190502T133300_20190502T133600_20190503T191830_0179_025_024_3060_MAR_O_NT_002_subset.txt',\n",
       " 'S3B_OL_2_WFR____20190505T135526_20190505T135826_20190506T204618_0179_025_067_3060_MAR_O_NT_002_subset.txt',\n",
       " 'S3B_OL_2_WFR____20190509T135141_20190509T135441_20190510T193200_0179_025_124_3060_MAR_O_NT_002_subset.txt',\n",
       " 'S3B_OL_2_WFR____20190512T141407_20190512T141707_20190513T205858_0179_025_167_3060_MAR_O_NT_002_subset.txt',\n",
       " 'S3B_OL_2_WFR____20190513T134756_20190513T135056_20190514T201056_0179_025_181_3060_MAR_O_NT_002_subset.txt',\n",
       " 'S3B_OL_2_WFR____20190516T141022_20190516T141322_20190517T221919_0179_025_224_3060_MAR_O_NT_002_subset.txt',\n",
       " 'S3B_OL_2_WFR____20190517T134411_20190517T134711_20190518T190927_0180_025_238_3060_MAR_O_NT_002_subset.txt',\n",
       " 'S3B_OL_2_WFR____20190520T140637_20190520T140937_20190521T231729_0179_025_281_3060_MAR_O_NT_002_subset.txt',\n",
       " 'S3B_OL_2_WFR____20190521T134026_20190521T134326_20190522T224447_0179_025_295_3060_MAR_O_NT_002_subset.txt',\n",
       " 'S3B_OL_2_WFR____20190524T140252_20190524T140552_20190525T192318_0180_025_338_3060_MAR_O_NT_002_subset.txt',\n",
       " 'S3B_OL_2_WFR____20190525T133641_20190525T133941_20190526T213800_0179_025_352_3060_MAR_O_NT_002_subset.txt',\n",
       " 'S3B_OL_2_WFR____20190528T135906_20190528T140206_20190529T231025_0179_026_010_3060_MAR_O_NT_002_subset.txt',\n",
       " 'S3B_OL_2_WFR____20190529T133255_20190529T133555_20190530T194330_0179_026_024_3060_MAR_O_NT_002_subset.txt',\n",
       " 'S3B_OL_2_WFR____20190601T135521_20190601T135821_20190602T220639_0179_026_067_3060_MAR_O_NT_002_subset.txt',\n",
       " 'S3B_OL_2_WFR____20190605T135136_20190605T135436_20190606T225705_0179_026_124_3060_MAR_O_NT_002_subset.txt',\n",
       " 'S3B_OL_2_WFR____20190608T141402_20190608T141702_20190609T210254_0179_026_167_3060_MAR_O_NT_002_subset.txt',\n",
       " 'S3B_OL_2_WFR____20190609T134751_20190609T135051_20190610T204655_0179_026_181_3060_MAR_O_NT_002_subset.txt',\n",
       " 'S3B_OL_2_WFR____20190612T141017_20190612T141317_20190613T213817_0179_026_224_3060_MAR_O_NT_002_subset.txt',\n",
       " 'S3B_OL_2_WFR____20190613T134406_20190613T134706_20190614T222508_0179_026_238_3060_MAR_O_NT_002_subset.txt',\n",
       " 'S3B_OL_2_WFR____20190616T140632_20190616T140932_20190617T204901_0179_026_281_3060_MAR_O_NT_002_subset.txt',\n",
       " 'S3B_OL_2_WFR____20190617T134021_20190617T134321_20190618T223238_0179_026_295_3060_MAR_O_NT_002_subset.txt',\n",
       " 'S3B_OL_2_WFR____20190620T140248_20190620T140548_20190621T195510_0179_026_338_3060_MAR_O_NT_002_subset.txt',\n",
       " 'S3B_OL_2_WFR____20190621T133637_20190621T133937_20190622T204224_0179_026_352_3060_MAR_O_NT_002_subset.txt',\n",
       " 'S3B_OL_2_WFR____20190624T135904_20190624T140204_20190625T234257_0179_027_010_3060_MAR_O_NT_002_subset.txt',\n",
       " 'S3B_OL_2_WFR____20190625T133253_20190625T133553_20190626T223220_0179_027_024_3060_MAR_O_NT_002_subset.txt',\n",
       " 'S3B_OL_2_WFR____20190628T135520_20190628T135820_20190629T221239_0180_027_067_3060_MAR_O_NT_002_subset.txt',\n",
       " 'S3B_OL_2_WFR____20190702T135136_20190702T135436_20190703T231007_0179_027_124_3060_MAR_O_NT_002_subset.txt',\n",
       " 'S3B_OL_2_WFR____20190705T141403_20190705T141703_20190706T220644_0179_027_167_3060_MAR_O_NT_002_subset.txt',\n",
       " 'S3B_OL_2_WFR____20190706T134752_20190706T135052_20190707T221118_0179_027_181_3060_MAR_O_NT_002_subset.txt',\n",
       " 'S3B_OL_2_WFR____20190709T141019_20190709T141319_20190710T230126_0179_027_224_3060_MAR_O_NT_002_subset.txt',\n",
       " 'S3B_OL_2_WFR____20190710T134408_20190710T134708_20190711T224146_0180_027_238_3060_MAR_O_NT_002_subset.txt',\n",
       " 'S3B_OL_2_WFR____20190713T140635_20190713T140935_20190714T194159_0180_027_281_3060_MAR_O_NT_002_subset.txt',\n",
       " 'S3B_OL_2_WFR____20190714T134024_20190714T134324_20190715T213527_0180_027_295_3060_MAR_O_NT_002_subset.txt',\n",
       " 'S3B_OL_2_WFR____20190717T140251_20190717T140551_20190718T223732_0179_027_338_3060_MAR_O_NT_002_subset.txt',\n",
       " 'S3B_OL_2_WFR____20190718T133640_20190718T133940_20190719T193700_0179_027_352_3060_MAR_O_NT_002_subset.txt',\n",
       " 'S3B_OL_2_WFR____20190721T135907_20190721T140207_20190722T214638_0179_028_010_3060_MAR_O_NT_002_subset.txt',\n",
       " 'S3B_OL_2_WFR____20190722T133256_20190722T133556_20190723T215914_0179_028_024_3060_MAR_O_NT_002_subset.txt',\n",
       " 'S3B_OL_2_WFR____20190725T135522_20190725T135822_20190726T213655_0179_028_067_3060_MAR_O_NT_002_subset.txt',\n",
       " 'S3B_OL_2_WFR____20190729T135138_20190729T135438_20190730T232312_0179_028_124_3060_MAR_O_NT_002_subset.txt',\n",
       " 'S3B_OL_2_WFR____20190801T141405_20190801T141705_20190802T215720_0179_028_167_3060_MAR_O_NT_002_subset.txt',\n",
       " 'S3B_OL_2_WFR____20190802T134754_20190802T135054_20190803T193405_0179_028_181_3060_MAR_O_NT_002_subset.txt',\n",
       " 'S3B_OL_2_WFR____20190805T141020_20190805T141320_20190806T231533_0179_028_224_3060_MAR_O_NT_002_subset.txt',\n",
       " 'S3B_OL_2_WFR____20190806T134409_20190806T134709_20190807T231126_0179_028_238_3060_MAR_O_NT_002_subset.txt',\n",
       " 'S3B_OL_2_WFR____20190809T140636_20190809T140936_20190810T213443_0179_028_281_3060_MAR_O_NT_002_subset.txt',\n",
       " 'S3B_OL_2_WFR____20190810T134025_20190810T134325_20190811T220524_0179_028_295_3060_MAR_O_NT_002_subset.txt',\n",
       " 'S3B_OL_2_WFR____20190813T140251_20190813T140551_20190814T232809_0179_028_338_3060_MAR_O_NT_002_subset.txt',\n",
       " 'S3B_OL_2_WFR____20190814T133640_20190814T133940_20190815T223205_0179_028_352_3060_MAR_O_NT_002_subset.txt',\n",
       " 'S3B_OL_2_WFR____20190817T135907_20190817T140207_20190818T223704_0179_029_010_3060_MAR_O_NT_002_subset.txt',\n",
       " 'S3B_OL_2_WFR____20190818T133256_20190818T133556_20190819T190419_0180_029_024_3060_MAR_O_NT_002_subset.txt',\n",
       " 'S3B_OL_2_WFR____20190821T135522_20190821T135822_20190822T230644_0179_029_067_3060_MAR_O_NT_002_subset.txt',\n",
       " 'S3B_OL_2_WFR____20190825T135137_20190825T135437_20190826T221952_0179_029_124_3060_MAR_O_NT_002_subset.txt',\n",
       " 'S3B_OL_2_WFR____20190828T141403_20190828T141703_20190829T232024_0180_029_167_3060_MAR_O_NT_002_subset.txt',\n",
       " 'S3B_OL_2_WFR____20190829T134752_20190829T135052_20190830T200953_0179_029_181_3060_MAR_O_NT_002_subset.txt',\n",
       " 'S3B_OL_2_WFR____20190901T141019_20190901T141319_20190902T224002_0179_029_224_3060_MAR_O_NT_002_subset.txt',\n",
       " 'S3B_OL_2_WFR____20190902T134408_20190902T134708_20190903T223305_0179_029_238_3060_MAR_O_NT_002_subset.txt',\n",
       " 'S3B_OL_2_WFR____20190905T140635_20190905T140935_20190906T201441_0180_029_281_3060_MAR_O_NT_002_subset.txt',\n",
       " 'S3B_OL_2_WFR____20190906T134024_20190906T134324_20190907T221023_0179_029_295_3060_MAR_O_NT_002_subset.txt',\n",
       " 'S3B_OL_2_WFR____20190909T140250_20190909T140550_20190911T001620_0180_029_338_3060_MAR_O_NT_002_subset.txt',\n",
       " 'S3B_OL_2_WFR____20190910T133639_20190910T133939_20190911T201548_0179_029_352_3060_MAR_O_NT_002_subset.txt',\n",
       " 'S3B_OL_2_WFR____20190913T135906_20190913T140206_20190914T223601_0179_030_010_3060_MAR_O_NT_002_subset.txt',\n",
       " 'S3B_OL_2_WFR____20190914T133255_20190914T133555_20190915T201218_0180_030_024_3060_MAR_O_NT_002_subset.txt',\n",
       " 'S3B_OL_2_WFR____20190917T135521_20190917T135821_20190918T222807_0179_030_067_3060_MAR_O_NT_002_subset.txt',\n",
       " 'S3B_OL_2_WFR____20190921T135136_20190921T135436_20190922T191342_0179_030_124_3060_MAR_O_NT_002_subset.txt',\n",
       " 'S3B_OL_2_WFR____20190924T141403_20190924T141703_20190925T230431_0180_030_167_3060_MAR_O_NT_002_subset.txt',\n",
       " 'S3B_OL_2_WFR____20190925T134752_20190925T135052_20190926T224651_0179_030_181_3060_MAR_O_NT_002_subset.txt',\n",
       " 'S3B_OL_2_WFR____20190928T141018_20190928T141318_20190929T224828_0179_030_224_3060_MAR_O_NT_002_subset.txt',\n",
       " 'S3B_OL_2_WFR____20190929T134407_20190929T134707_20190930T223218_0179_030_238_3060_MAR_O_NT_002_subset.txt',\n",
       " 'S3B_OL_2_WFR____20191002T140633_20191002T140933_20191003T222714_0179_030_281_3060_MAR_O_NT_002_subset.txt',\n",
       " 'S3B_OL_2_WFR____20191003T134022_20191003T134322_20191004T194233_0179_030_295_3060_MAR_O_NT_002_subset.txt',\n",
       " 'S3B_OL_2_WFR____20191006T140248_20191006T140548_20191007T193450_0179_030_338_3060_MAR_O_NT_002_subset.txt',\n",
       " 'S3B_OL_2_WFR____20191007T133637_20191007T133937_20191008T220834_0179_030_352_3060_MAR_O_NT_002_subset.txt',\n",
       " 'S3B_OL_2_WFR____20191010T135903_20191010T140203_20191011T205039_0179_031_010_3060_MAR_O_NT_002_subset.txt',\n",
       " 'S3B_OL_2_WFR____20191011T133252_20191011T133552_20191012T221904_0179_031_024_3060_MAR_O_NT_002_subset.txt',\n",
       " 'S3B_OL_2_WFR____20191014T135517_20191014T135817_20191015T201228_0179_031_067_3060_MAR_O_NT_002_subset.txt',\n",
       " 'S3B_OL_2_WFR____20191018T135133_20191018T135433_20191019T222301_0179_031_124_3060_MAR_O_NT_002_subset.txt',\n",
       " 'S3B_OL_2_WFR____20191022T134749_20191022T135049_20191023T205012_0179_031_181_3060_MAR_O_NT_002_subset.txt',\n",
       " 'S3B_OL_2_WFR____20191025T141016_20191025T141316_20191026T201808_0179_031_224_3060_MAR_O_NT_002_subset.txt',\n",
       " 'S3B_OL_2_WFR____20191026T134406_20191026T134706_20191027T215853_0179_031_238_3060_MAR_O_NT_002_subset.txt',\n",
       " 'S3B_OL_2_WFR____20191029T140633_20191029T140933_20191030T234050_0179_031_281_3060_MAR_O_NT_002_subset.txt',\n",
       " 'S3B_OL_2_WFR____20191030T134022_20191030T134322_20191112T213415_0180_031_295_3060_MAR_O_NT_002_subset.txt',\n",
       " 'S3B_OL_2_WFR____20191102T140249_20191102T140549_20191122T173636_0179_031_338_3060_MAR_O_NT_002_subset.txt',\n",
       " 'S3B_OL_2_WFR____20191103T133638_20191103T133938_20191106T193256_0179_031_352_3060_MAR_O_NT_002_subset.txt',\n",
       " 'S3B_OL_2_WFR____20191106T135905_20191106T140205_20191125T121351_0179_032_010_3060_MAR_O_NT_002_subset.txt',\n",
       " 'S3B_OL_2_WFR____20191107T133255_20191107T133555_20191108T222639_0179_032_024_3060_MAR_O_NT_002_subset.txt',\n",
       " 'S3B_OL_2_WFR____20191110T135522_20191110T135822_20191111T211847_0179_032_067_3060_MAR_O_NT_002_subset.txt',\n",
       " 'S3B_OL_2_WFR____20191114T135138_20191114T135438_20191115T221503_0179_032_124_3060_MAR_O_NT_002_subset.txt',\n",
       " 'S3B_OL_2_WFR____20191118T134754_20191118T135054_20191202T105229_0179_032_181_3060_MAR_O_NT_002_subset.txt',\n",
       " 'S3B_OL_2_WFR____20191121T141020_20191121T141320_20191204T194421_0179_032_224_3060_MAR_O_NT_002_subset.txt',\n",
       " 'S3B_OL_2_WFR____20191122T134409_20191122T134709_20191205T165219_0179_032_238_3060_MAR_O_NT_002_subset.txt',\n",
       " 'S3B_OL_2_WFR____20191125T140636_20191125T140936_20191208T002044_0179_032_281_3060_MAR_O_NT_002_subset.txt',\n",
       " 'S3B_OL_2_WFR____20191126T134025_20191126T134325_20191208T221202_0179_032_295_3060_MAR_O_NT_002_subset.txt',\n",
       " 'S3B_OL_2_WFR____20191129T140252_20191129T140552_20191211T045749_0179_032_338_3060_MAR_O_NT_002_subset.txt',\n",
       " 'S3B_OL_2_WFR____20191130T133641_20191130T133941_20191212T061729_0179_032_352_3060_MAR_O_NT_002_subset.txt',\n",
       " 'S3B_OL_2_WFR____20191203T135907_20191203T140207_20191214T181905_0179_033_010_3060_MAR_O_NT_002_subset.txt',\n",
       " 'S3B_OL_2_WFR____20191204T133256_20191204T133556_20191215T144348_0179_033_024_3060_MAR_O_NT_002_subset.txt',\n",
       " 'S3B_OL_2_WFR____20191207T135523_20191207T135823_20191218T075950_0179_033_067_3060_MAR_O_NT_002_subset.txt',\n",
       " 'S3B_OL_2_WFR____20191211T135138_20191211T135438_20191221T160615_0179_033_124_3060_MAR_O_NT_002_subset.txt',\n",
       " 'S3B_OL_2_WFR____20191215T134754_20191215T135054_20191225T013424_0179_033_181_3060_MAR_O_NT_002_subset.txt',\n",
       " 'S3B_OL_2_WFR____20191218T141020_20191218T141320_20191227T140202_0179_033_224_3060_MAR_O_NT_002_subset.txt',\n",
       " 'S3B_OL_2_WFR____20191219T134409_20191219T134709_20191228T073240_0179_033_238_3060_MAR_O_NT_002_subset.txt',\n",
       " 'S3B_OL_2_WFR____20191222T140636_20191222T140936_20191230T225830_0179_033_281_3060_MAR_O_NT_002_subset.txt',\n",
       " 'S3B_OL_2_WFR____20191223T134025_20191223T134325_20191231T185722_0179_033_295_3060_MAR_O_NT_002_subset.txt',\n",
       " 'S3B_OL_2_WFR____20191226T140251_20191226T140551_20200103T064308_0179_033_338_3060_MAR_O_NT_002_subset.txt',\n",
       " 'S3B_OL_2_WFR____20191227T133640_20191227T133940_20200104T033911_0179_033_352_3060_MAR_O_NT_002_subset.txt',\n",
       " 'S3B_OL_2_WFR____20191230T135906_20191230T140206_20200106T170021_0179_034_010_3060_MAR_O_NT_002_subset.txt',\n",
       " 'S3B_OL_2_WFR____20191231T133256_20191231T133556_20200107T114914_0179_034_024_3060_MAR_O_NT_002_subset.txt',\n",
       " 'S3B_OL_2_WFR____20200103T135522_20200103T135822_20200109T202923_0180_034_067_3060_MAR_O_NT_002_subset.txt',\n",
       " 'S3B_OL_2_WFR____20200107T135137_20200107T135437_20200113T002108_0179_034_124_3060_MAR_O_NT_002_subset.txt',\n",
       " 'S3B_OL_2_WFR____20200111T134752_20200111T135052_20200116T060233_0179_034_181_3060_MAR_O_NT_002_subset.txt',\n",
       " 'S3B_OL_2_WFR____20200114T141019_20200114T141319_20200118T060819_0179_034_224_3060_MAR_O_NT_002_subset.txt',\n",
       " 'S3B_OL_2_WFR____20200115T134408_20200115T134708_20200118T222049_0180_034_238_3060_MAR_O_NT_002_subset.txt',\n",
       " 'S3B_OL_2_WFR____20200118T140634_20200118T140934_20200121T123441_0179_034_281_3060_MAR_O_NT_002_subset.txt',\n",
       " 'S3B_OL_2_WFR____20200119T134023_20200119T134323_20200122T065315_0179_034_295_3060_MAR_O_NT_002_subset.txt',\n",
       " 'S3B_OL_2_WFR____20200122T140249_20200122T140549_20200123T224319_0179_034_338_3060_MAR_O_NT_002_subset.txt',\n",
       " 'S3B_OL_2_WFR____20200123T133638_20200123T133938_20200124T222121_0179_034_352_3060_MAR_O_NT_002_subset.txt',\n",
       " 'S3B_OL_2_WFR____20200126T135904_20200126T140204_20200127T195407_0179_035_010_3060_MAR_O_NT_002_subset.txt',\n",
       " 'S3B_OL_2_WFR____20200127T133253_20200127T133553_20200128T195208_0180_035_024_3060_MAR_O_NT_002_subset.txt',\n",
       " 'S3B_OL_2_WFR____20200130T135519_20200130T135819_20200131T224540_0179_035_067_3060_MAR_O_NT_002_subset.txt',\n",
       " 'S3B_OL_2_WFR____20200203T135134_20200203T135434_20200204T214900_0179_035_124_3060_MAR_O_NT_002_subset.txt',\n",
       " 'S3B_OL_2_WFR____20200207T134750_20200207T135050_20200208T224053_0179_035_181_3060_MAR_O_NT_002_subset.txt',\n",
       " 'S3B_OL_2_WFR____20200210T141017_20200210T141317_20200211T223612_0179_035_224_3060_MAR_O_NT_002_subset.txt',\n",
       " 'S3B_OL_2_WFR____20200211T134406_20200211T134706_20200212T190206_0179_035_238_3060_MAR_O_NT_002_subset.txt',\n",
       " 'S3B_OL_2_WFR____20200214T140633_20200214T140933_20200215T210517_0179_035_281_3060_MAR_O_NT_002_subset.txt',\n",
       " 'S3B_OL_2_WFR____20200215T134022_20200215T134322_20200216T220036_0179_035_295_3060_MAR_O_NT_002_subset.txt',\n",
       " 'S3B_OL_2_WFR____20200218T140249_20200218T140549_20200219T214456_0179_035_338_3060_MAR_O_NT_002_subset.txt',\n",
       " 'S3B_OL_2_WFR____20200219T133638_20200219T133938_20200220T212005_0179_035_352_3060_MAR_O_NT_002_subset.txt',\n",
       " 'S3B_OL_2_WFR____20200222T135905_20200222T140205_20200223T223142_0179_036_010_3060_MAR_O_NT_002_subset.txt',\n",
       " 'S3B_OL_2_WFR____20200223T133255_20200223T133555_20200224T220719_0179_036_024_3060_MAR_O_NT_002_subset.txt',\n",
       " 'S3B_OL_2_WFR____20200226T135521_20200226T135821_20200302T071746_0179_036_067_3060_MAR_O_NT_002_subset.txt',\n",
       " 'S3B_OL_2_WFR____20200301T135137_20200301T135437_20200302T213617_0179_036_124_3060_MAR_O_NT_002_subset.txt',\n",
       " 'S3B_OL_2_WFR____20200305T134753_20200305T135053_20200306T225842_0179_036_181_3060_MAR_O_NT_002_subset.txt',\n",
       " 'S3B_OL_2_WFR____20200308T141020_20200308T141320_20200309T225533_0180_036_224_3060_MAR_O_NT_002_subset.txt',\n",
       " 'S3B_OL_2_WFR____20200309T134409_20200309T134709_20200310T215230_0179_036_238_3060_MAR_O_NT_002_subset.txt',\n",
       " 'S3B_OL_2_WFR____20200312T140636_20200312T140936_20200313T233134_0179_036_281_3060_MAR_O_NT_002_subset.txt',\n",
       " 'S3B_OL_2_WFR____20200313T134025_20200313T134325_20200314T220041_0180_036_295_3060_MAR_O_NT_002_subset.txt',\n",
       " 'S3B_OL_2_WFR____20200316T140252_20200316T140552_20200317T194658_0179_036_338_3060_MAR_O_NT_002_subset.txt',\n",
       " 'S3B_OL_2_WFR____20200317T133641_20200317T133941_20200318T201158_0179_036_352_3060_MAR_O_NT_002_subset.txt',\n",
       " 'S3B_OL_2_WFR____20200320T135908_20200320T140208_20200321T230125_0179_037_010_3060_MAR_O_NT_002_subset.txt',\n",
       " 'S3B_OL_2_WFR____20200321T133257_20200321T133557_20200322T221345_0179_037_024_3060_MAR_O_NT_002_subset.txt',\n",
       " 'S3B_OL_2_WFR____20200324T135523_20200324T135823_20200325T221820_0179_037_067_3060_MAR_O_NT_002_subset.txt',\n",
       " 'S3B_OL_2_WFR____20200328T135139_20200328T135439_20200329T224045_0179_037_124_3060_MAR_O_NT_002_subset.txt']"
      ]
     },
     "execution_count": 7,
     "metadata": {},
     "output_type": "execute_result"
    }
   ],
   "source": [
    "os.listdir(datafolders[0])"
   ]
  },
  {
   "cell_type": "code",
   "execution_count": 8,
   "metadata": {},
   "outputs": [
    {
     "data": {
      "text/plain": [
       "311"
      ]
     },
     "execution_count": 8,
     "metadata": {},
     "output_type": "execute_result"
    }
   ],
   "source": [
    "len(os.listdir(datafolders[0]))"
   ]
  },
  {
   "cell_type": "code",
   "execution_count": 9,
   "metadata": {},
   "outputs": [
    {
     "data": {
      "text/plain": [
       "'D:\\\\processing\\\\win\\\\COARI\\\\S3B_OL_2_WFR____20191002T140633_20191002T140933_20191003T222714_0179_030_281_3060_MAR_O_NT_002_subset.txt'"
      ]
     },
     "execution_count": 9,
     "metadata": {},
     "output_type": "execute_result"
    }
   ],
   "source": [
    "# subset_path = os.path.join(datafolders[0],os.listdir(datafolders[0])[0])\n",
    "prettydate = 'S3B_OL_2_WFR____20191002T140633_20191002T140933_20191003T222714_0179_030_281_3060_MAR_O_NT_002_subset.txt'\n",
    "# prettydate = 'S3A_OL_2_WFR____20191231T141226_20191231T141526_20200105T031511_0179_053_167_3060_MAR_O_NT_002_subset.txt'\n",
    "# prettydate = 'S3B_OL_2_WFR____20200214T140633_20200214T140933_20200215T210517_0179_035_281_3060_MAR_O_NT_002_subset.txt'\n",
    "subset_path = os.path.join(datafolders[0],prettydate)\n",
    "subset_path"
   ]
  },
  {
   "cell_type": "code",
   "execution_count": 10,
   "metadata": {},
   "outputs": [],
   "source": [
    "# read text file and convert to pandas dataframe\n",
    "df = pd.read_csv(subset_path, sep='\\t', skiprows=1)"
   ]
  },
  {
   "cell_type": "code",
   "execution_count": 11,
   "metadata": {
    "scrolled": false
   },
   "outputs": [
    {
     "data": {
      "text/plain": [
       "array(['featureId', 'Oa01_reflectance:float',\n",
       "       'Oa01_reflectance_err:float', 'Oa02_reflectance:float',\n",
       "       'Oa02_reflectance_err:float', 'Oa03_reflectance:float',\n",
       "       'Oa03_reflectance_err:float', 'Oa04_reflectance:float',\n",
       "       'Oa04_reflectance_err:float', 'Oa05_reflectance:float',\n",
       "       'Oa05_reflectance_err:float', 'Oa06_reflectance:float',\n",
       "       'Oa06_reflectance_err:float', 'Oa07_reflectance:float',\n",
       "       'Oa07_reflectance_err:float', 'Oa08_reflectance:float',\n",
       "       'Oa08_reflectance_err:float', 'Oa09_reflectance:float',\n",
       "       'Oa09_reflectance_err:float', 'Oa10_reflectance:float',\n",
       "       'Oa10_reflectance_err:float', 'Oa11_reflectance:float',\n",
       "       'Oa11_reflectance_err:float', 'Oa12_reflectance:float',\n",
       "       'Oa12_reflectance_err:float', 'Oa16_reflectance:float',\n",
       "       'Oa16_reflectance_err:float', 'Oa17_reflectance:float',\n",
       "       'Oa17_reflectance_err:float', 'Oa18_reflectance:float',\n",
       "       'Oa18_reflectance_err:float', 'Oa21_reflectance:float',\n",
       "       'Oa21_reflectance_err:float', 'CHL_NN:float', 'CHL_NN_err:float',\n",
       "       'CHL_OC4ME:float', 'CHL_OC4ME_err:float', 'altitude:short',\n",
       "       'latitude:double', 'longitude:double', 'detector_index:short',\n",
       "       'FWHM_band_1:float', 'FWHM_band_2:float', 'FWHM_band_3:float',\n",
       "       'FWHM_band_4:float', 'FWHM_band_5:float', 'FWHM_band_6:float',\n",
       "       'FWHM_band_7:float', 'FWHM_band_8:float', 'FWHM_band_9:float',\n",
       "       'FWHM_band_10:float', 'FWHM_band_11:float', 'FWHM_band_12:float',\n",
       "       'FWHM_band_13:float', 'FWHM_band_14:float', 'FWHM_band_15:float',\n",
       "       'FWHM_band_16:float', 'FWHM_band_17:float', 'FWHM_band_18:float',\n",
       "       'FWHM_band_19:float', 'FWHM_band_20:float', 'FWHM_band_21:float',\n",
       "       'frame_offset:short', 'lambda0_band_1:float',\n",
       "       'lambda0_band_2:float', 'lambda0_band_3:float',\n",
       "       'lambda0_band_4:float', 'lambda0_band_5:float',\n",
       "       'lambda0_band_6:float', 'lambda0_band_7:float',\n",
       "       'lambda0_band_8:float', 'lambda0_band_9:float',\n",
       "       'lambda0_band_10:float', 'lambda0_band_11:float',\n",
       "       'lambda0_band_12:float', 'lambda0_band_13:float',\n",
       "       'lambda0_band_14:float', 'lambda0_band_15:float',\n",
       "       'lambda0_band_16:float', 'lambda0_band_17:float',\n",
       "       'lambda0_band_18:float', 'lambda0_band_19:float',\n",
       "       'lambda0_band_20:float', 'lambda0_band_21:float',\n",
       "       'solar_flux_band_1:float', 'solar_flux_band_2:float',\n",
       "       'solar_flux_band_3:float', 'solar_flux_band_4:float',\n",
       "       'solar_flux_band_5:float', 'solar_flux_band_6:float',\n",
       "       'solar_flux_band_7:float', 'solar_flux_band_8:float',\n",
       "       'solar_flux_band_9:float', 'solar_flux_band_10:float',\n",
       "       'solar_flux_band_11:float', 'solar_flux_band_12:float',\n",
       "       'solar_flux_band_13:float', 'solar_flux_band_14:float',\n",
       "       'solar_flux_band_15:float', 'solar_flux_band_16:float',\n",
       "       'solar_flux_band_17:float', 'solar_flux_band_18:float',\n",
       "       'solar_flux_band_19:float', 'solar_flux_band_20:float',\n",
       "       'solar_flux_band_21:float', 'ADG443_NN:float',\n",
       "       'ADG443_NN_err:float', 'IWV:float', 'IWV_err:float', 'PAR:float',\n",
       "       'PAR_err:float', 'KD490_M07:float', 'KD490_M07_err:float',\n",
       "       'TSM_NN:float', 'TSM_NN_err:float', 'A865:float', 'A865_err:float',\n",
       "       'T865:float', 'T865_err:float', 'WQSF_lsb:double',\n",
       "       'WQSF_msb:double', 'TP_latitude:float', 'TP_longitude:float',\n",
       "       'OAA:float', 'OZA:float', 'SAA:float', 'SZA:float',\n",
       "       'atmospheric_temperature_profile_pressure_level_1:float',\n",
       "       'atmospheric_temperature_profile_pressure_level_2:float',\n",
       "       'atmospheric_temperature_profile_pressure_level_3:float',\n",
       "       'atmospheric_temperature_profile_pressure_level_4:float',\n",
       "       'atmospheric_temperature_profile_pressure_level_5:float',\n",
       "       'atmospheric_temperature_profile_pressure_level_6:float',\n",
       "       'atmospheric_temperature_profile_pressure_level_7:float',\n",
       "       'atmospheric_temperature_profile_pressure_level_8:float',\n",
       "       'atmospheric_temperature_profile_pressure_level_9:float',\n",
       "       'atmospheric_temperature_profile_pressure_level_10:float',\n",
       "       'atmospheric_temperature_profile_pressure_level_11:float',\n",
       "       'atmospheric_temperature_profile_pressure_level_12:float',\n",
       "       'atmospheric_temperature_profile_pressure_level_13:float',\n",
       "       'atmospheric_temperature_profile_pressure_level_14:float',\n",
       "       'atmospheric_temperature_profile_pressure_level_15:float',\n",
       "       'atmospheric_temperature_profile_pressure_level_16:float',\n",
       "       'atmospheric_temperature_profile_pressure_level_17:float',\n",
       "       'atmospheric_temperature_profile_pressure_level_18:float',\n",
       "       'atmospheric_temperature_profile_pressure_level_19:float',\n",
       "       'atmospheric_temperature_profile_pressure_level_20:float',\n",
       "       'atmospheric_temperature_profile_pressure_level_21:float',\n",
       "       'atmospheric_temperature_profile_pressure_level_22:float',\n",
       "       'atmospheric_temperature_profile_pressure_level_23:float',\n",
       "       'atmospheric_temperature_profile_pressure_level_24:float',\n",
       "       'atmospheric_temperature_profile_pressure_level_25:float',\n",
       "       'horizontal_wind_vector_1:float', 'horizontal_wind_vector_2:float',\n",
       "       'humidity:float', 'sea_level_pressure:float',\n",
       "       'total_columnar_water_vapour:float', 'total_ozone:float'],\n",
       "      dtype=object)"
      ]
     },
     "execution_count": 11,
     "metadata": {},
     "output_type": "execute_result"
    }
   ],
   "source": [
    "df.columns.values"
   ]
  },
  {
   "cell_type": "code",
   "execution_count": 37,
   "metadata": {
    "scrolled": true
   },
   "outputs": [
    {
     "data": {
      "text/plain": [
       "1000    0.0\n",
       "1001    0.0\n",
       "1002    0.0\n",
       "1003    0.0\n",
       "1004    0.0\n",
       "Name: longitude:double, dtype: float64"
      ]
     },
     "execution_count": 37,
     "metadata": {},
     "output_type": "execute_result"
    }
   ],
   "source": [
    "df['longitude:double'][1000:1005]"
   ]
  },
  {
   "cell_type": "code",
   "execution_count": 39,
   "metadata": {},
   "outputs": [
    {
     "data": {
      "text/plain": [
       "(10509,)"
      ]
     },
     "execution_count": 39,
     "metadata": {},
     "output_type": "execute_result"
    }
   ],
   "source": [
    "# Get names of indexes for which column LON has value 0\n",
    "indexNames = df[ df['longitude:double'] == 0 ].index\n",
    "indexNames.shape"
   ]
  },
  {
   "cell_type": "code",
   "execution_count": 40,
   "metadata": {},
   "outputs": [],
   "source": [
    "# Delete these row indexes from dataFrame\n",
    "df.drop(indexNames , inplace=True)"
   ]
  },
  {
   "cell_type": "code",
   "execution_count": 49,
   "metadata": {},
   "outputs": [
    {
     "data": {
      "text/plain": [
       "(831, 158)"
      ]
     },
     "execution_count": 49,
     "metadata": {},
     "output_type": "execute_result"
    }
   ],
   "source": [
    "df.shape"
   ]
  },
  {
   "cell_type": "code",
   "execution_count": 41,
   "metadata": {
    "scrolled": true
   },
   "outputs": [
    {
     "data": {
      "text/plain": [
       "-62.418130000000005"
      ]
     },
     "execution_count": 41,
     "metadata": {},
     "output_type": "execute_result"
    }
   ],
   "source": [
    "df['TP_longitude:float'].max()"
   ]
  },
  {
   "cell_type": "code",
   "execution_count": 42,
   "metadata": {
    "scrolled": true
   },
   "outputs": [
    {
     "data": {
      "text/plain": [
       "-62.792805"
      ]
     },
     "execution_count": 42,
     "metadata": {},
     "output_type": "execute_result"
    }
   ],
   "source": [
    "df['TP_longitude:float'].min()"
   ]
  },
  {
   "cell_type": "code",
   "execution_count": 43,
   "metadata": {},
   "outputs": [
    {
     "data": {
      "text/plain": [
       "-3.8095167"
      ]
     },
     "execution_count": 43,
     "metadata": {},
     "output_type": "execute_result"
    }
   ],
   "source": [
    "df['TP_latitude:float'].max()"
   ]
  },
  {
   "cell_type": "code",
   "execution_count": 44,
   "metadata": {},
   "outputs": [
    {
     "data": {
      "text/plain": [
       "-3.9123144"
      ]
     },
     "execution_count": 44,
     "metadata": {},
     "output_type": "execute_result"
    }
   ],
   "source": [
    "df['TP_latitude:float'].min()"
   ]
  },
  {
   "cell_type": "code",
   "execution_count": 45,
   "metadata": {},
   "outputs": [
    {
     "data": {
      "text/plain": [
       "[8.0, 6.0]"
      ]
     },
     "execution_count": 45,
     "metadata": {},
     "output_type": "execute_result"
    }
   ],
   "source": [
    "plt.rcParams['figure.figsize']"
   ]
  },
  {
   "cell_type": "code",
   "execution_count": 46,
   "metadata": {},
   "outputs": [],
   "source": [
    "plt.rcParams['figure.figsize'] = [8.0, 6.0]"
   ]
  },
  {
   "cell_type": "code",
   "execution_count": 74,
   "metadata": {
    "scrolled": false
   },
   "outputs": [
    {
     "data": {
      "text/plain": [
       "<matplotlib.colorbar.Colorbar at 0x1587408c4e0>"
      ]
     },
     "execution_count": 74,
     "metadata": {},
     "output_type": "execute_result"
    },
    {
     "data": {
      "image/png": "[encoded data removed]",
      "text/plain": [
       "<Figure size 576x432 with 2 Axes>"
      ]
     },
     "metadata": {
      "needs_background": "light"
     },
     "output_type": "display_data"
    }
   ],
   "source": [
    "plt.scatter(df['TP_longitude:float'],df['TP_latitude:float'],c=df['Oa17_reflectance:float'])\n",
    "plt.colorbar()"
   ]
  },
  {
   "cell_type": "code",
   "execution_count": 75,
   "metadata": {},
   "outputs": [
    {
     "data": {
      "text/plain": [
       "<matplotlib.colorbar.Colorbar at 0x158770d6fd0>"
      ]
     },
     "execution_count": 75,
     "metadata": {},
     "output_type": "execute_result"
    },
    {
     "data": {
      "image/png": "[encoded data removed]",
      "text/plain": [
       "<Figure size 576x432 with 2 Axes>"
      ]
     },
     "metadata": {
      "needs_background": "light"
     },
     "output_type": "display_data"
    }
   ],
   "source": [
    "plt.scatter(df['TP_longitude:float'],df['TP_latitude:float'],c=df['WQSF_lsb:double'])\n",
    "plt.colorbar()"
   ]
  },
  {
   "cell_type": "code",
   "execution_count": 48,
   "metadata": {},
   "outputs": [
    {
     "data": {
      "text/plain": [
       "8.0"
      ]
     },
     "execution_count": 48,
     "metadata": {},
     "output_type": "execute_result"
    }
   ],
   "source": [
    "df['WQSF_lsb:double'].min()"
   ]
  },
  {
   "cell_type": "code",
   "execution_count": 28,
   "metadata": {
    "scrolled": false
   },
   "outputs": [
    {
     "data": {
      "text/plain": [
       "(array([  831.,     0.,     0.,     0.,     0.,     0.,     0.,     0.,\n",
       "            0., 10509.]),\n",
       " array([8.00000000e+00, 4.29496737e+08, 8.58993465e+08, 1.28849019e+09,\n",
       "        1.71798692e+09, 2.14748365e+09, 2.57698038e+09, 3.00647711e+09,\n",
       "        3.43597384e+09, 3.86547057e+09, 4.29496729e+09]),\n",
       " <a list of 10 Patch objects>)"
      ]
     },
     "execution_count": 28,
     "metadata": {},
     "output_type": "execute_result"
    },
    {
     "data": {
      "image/png": "[encoded data removed]",
      "text/plain": [
       "<Figure size 576x432 with 1 Axes>"
      ]
     },
     "metadata": {
      "needs_background": "light"
     },
     "output_type": "display_data"
    }
   ],
   "source": [
    "plt.hist(df['WQSF_lsb:double'])"
   ]
  },
  {
   "cell_type": "code",
   "execution_count": 79,
   "metadata": {
    "scrolled": true
   },
   "outputs": [
    {
     "data": {
      "text/plain": [
       "294"
      ]
     },
     "execution_count": 79,
     "metadata": {},
     "output_type": "execute_result"
    }
   ],
   "source": [
    "len(df[df['WQSF_lsb:double']==40])"
   ]
  },
  {
   "cell_type": "code",
   "execution_count": 80,
   "metadata": {},
   "outputs": [
    {
     "data": {
      "text/plain": [
       "8"
      ]
     },
     "execution_count": 80,
     "metadata": {},
     "output_type": "execute_result"
    }
   ],
   "source": [
    "len(df[df['WQSF_lsb:double']==8])"
   ]
  },
  {
   "cell_type": "code",
   "execution_count": 83,
   "metadata": {},
   "outputs": [
    {
     "data": {
      "text/plain": [
       "302"
      ]
     },
     "execution_count": 83,
     "metadata": {},
     "output_type": "execute_result"
    }
   ],
   "source": [
    "len(df[df['WQSF_lsb:double']<=40])"
   ]
  },
  {
   "cell_type": "code",
   "execution_count": 18,
   "metadata": {
    "scrolled": false
   },
   "outputs": [
    {
     "name": "stdout",
     "output_type": "stream",
     "text": [
      "0 : 4294967294.0\n",
      "1 : 40.0\n",
      "2 : 319424548.0\n",
      "3 : 17434660.0\n",
      "4 : 321652772.0\n",
      "5 : 319293476.0\n",
      "6 : 50989092.0\n",
      "7 : 8.0\n",
      "8 : 16777220.0\n",
      "9 : 16910372.0\n",
      "10 : 19662884.0\n",
      "11 : 319326244.0\n",
      "12 : 302549028.0\n",
      "13 : 302516260.0\n",
      "14 : 302647332.0\n",
      "15 : 304875556.0\n",
      "16 : 17467428.0\n",
      "17 : 321685540.0\n",
      "18 : 2918436.0\n",
      "19 : 657444.0\n",
      "20 : 2885668.0\n"
     ]
    }
   ],
   "source": [
    "for n,i in enumerate(df['WQSF_lsb:double'].unique()):\n",
    "    print(n,':',i)"
   ]
  },
  {
   "cell_type": "code",
   "execution_count": 27,
   "metadata": {},
   "outputs": [],
   "source": [
    "# https://sentinel.esa.int/web/sentinel/technical-guides/sentinel-3-olci/level-2/quality-and-science-flags-op\n",
    "flag_masks = {'INVALID':1.0,\n",
    "              'WATER':2.0,\n",
    "              'LAND':4.0,\n",
    "              'CLOUD':8.0, #\n",
    "              'CLOUD_AMBIGUOUS':8388608.0, #\n",
    "              'CLOUD_MARGIN':16777216.0, #\n",
    "              'SNOW_ICE':16.0, #\n",
    "              'INLAND_WATER':32.0,\n",
    "              'TIDAL':64.0,\n",
    "              'COSMETIC':128.0,\n",
    "              'SUSPECT':256.0, #\n",
    "              'HISOLZEN':512.0,\n",
    "              'SATURATED':1024.0, #\n",
    "              'MEGLINT':2048.0,\n",
    "              'HIGHGLINT':4096.0, #\n",
    "              'WHITECAPS':8192.0,\n",
    "              'ADJAC':16384.0,\n",
    "              'WV_FAIL':32768.0,\n",
    "              'PAR_FAIL':65536.0,\n",
    "              'AC_FAIL':131072.0,\n",
    "              'OC4ME_FAIL':262144.0,\n",
    "              'OCNN_FAIL':524288.0,\n",
    "              'KDM_FAIL':2097152.0,\n",
    "              'BPAC_ON':33554432.0,\n",
    "              'WHITE_SCATT':67108864.0,\n",
    "              'LOWRW':134217728.0,\n",
    "              'HIGHRW':268435456.0,\n",
    "              'ANNOT_ANGSTROM':4294967296.0, #\n",
    "              'ANNOT_AERO_B':8589934592.0,\n",
    "              'ANNOT_ABSO_D':17179869184.0,\n",
    "              'ANNOT_ACLIM':34359738368.0,\n",
    "              'ANNOT_ABSOA':68719476736.0,\n",
    "              'ANNOT_MIXR1':137438953472.0,\n",
    "              'ANNOT_DROUT':274877906944.0,\n",
    "              'ANNOT_TAU06':549755813888.0,\n",
    "              'RWNEG_O1':1099511627776.0,\n",
    "              'RWNEG_O2':2199023255552.0,\n",
    "              'RWNEG_O3':4398046511104.0,\n",
    "              'RWNEG_O4':8796093022208.0,\n",
    "              'RWNEG_O5':17592186044416.0,\n",
    "              'RWNEG_O6':35184372088832.0,\n",
    "              'RWNEG_O7':70368744177664.0,\n",
    "              'RWNEG_O8':140737488355328.0,\n",
    "              'RWNEG_O9':281474976710656.0,\n",
    "              'RWNEG_O10':562949953421312.0,\n",
    "              'RWNEG_O11':1125899906842624.0,\n",
    "              'RWNEG_O12':2251799813685248.0,\n",
    "              'RWNEG_O16':4503599627370496.0,\n",
    "              'RWNEG_O17':9007199254740992.0,\n",
    "              'RWNEG_O18':18014398509481984.0,\n",
    "              'RWNEG_O21':36028797018963968.0}"
   ]
  },
  {
   "cell_type": "code",
   "execution_count": 29,
   "metadata": {},
   "outputs": [
    {
     "ename": "ValueError",
     "evalue": "4294967294.0 is not in list",
     "output_type": "error",
     "traceback": [
      "\u001b[1;31m---------------------------------------------------------------------------\u001b[0m",
      "\u001b[1;31mValueError\u001b[0m                                Traceback (most recent call last)",
      "\u001b[1;32m<ipython-input-29-a011f269f0d5>\u001b[0m in \u001b[0;36m<module>\u001b[1;34m\u001b[0m\n\u001b[0;32m      1\u001b[0m \u001b[1;32mfor\u001b[0m \u001b[0mn\u001b[0m\u001b[1;33m,\u001b[0m\u001b[0mi\u001b[0m \u001b[1;32min\u001b[0m \u001b[0menumerate\u001b[0m\u001b[1;33m(\u001b[0m\u001b[0mdf\u001b[0m\u001b[1;33m[\u001b[0m\u001b[1;34m'WQSF_lsb:double'\u001b[0m\u001b[1;33m]\u001b[0m\u001b[1;33m.\u001b[0m\u001b[0munique\u001b[0m\u001b[1;33m(\u001b[0m\u001b[1;33m)\u001b[0m\u001b[1;33m)\u001b[0m\u001b[1;33m:\u001b[0m\u001b[1;33m\u001b[0m\u001b[1;33m\u001b[0m\u001b[0m\n\u001b[1;32m----> 2\u001b[1;33m     \u001b[0mprint\u001b[0m\u001b[1;33m(\u001b[0m\u001b[0mn\u001b[0m\u001b[1;33m,\u001b[0m\u001b[1;34m':'\u001b[0m\u001b[1;33m,\u001b[0m\u001b[0mi\u001b[0m\u001b[1;33m,\u001b[0m \u001b[0mlist\u001b[0m\u001b[1;33m(\u001b[0m\u001b[0mflag_masks\u001b[0m\u001b[1;33m.\u001b[0m\u001b[0mkeys\u001b[0m\u001b[1;33m(\u001b[0m\u001b[1;33m)\u001b[0m\u001b[1;33m)\u001b[0m\u001b[1;33m[\u001b[0m\u001b[0mlist\u001b[0m\u001b[1;33m(\u001b[0m\u001b[0mflag_masks\u001b[0m\u001b[1;33m.\u001b[0m\u001b[0mvalues\u001b[0m\u001b[1;33m(\u001b[0m\u001b[1;33m)\u001b[0m\u001b[1;33m)\u001b[0m\u001b[1;33m.\u001b[0m\u001b[0mindex\u001b[0m\u001b[1;33m(\u001b[0m\u001b[0mi\u001b[0m\u001b[1;33m)\u001b[0m\u001b[1;33m]\u001b[0m\u001b[1;33m)\u001b[0m\u001b[1;33m\u001b[0m\u001b[1;33m\u001b[0m\u001b[0m\n\u001b[0m",
      "\u001b[1;31mValueError\u001b[0m: 4294967294.0 is not in list"
     ]
    }
   ],
   "source": [
    "for n,i in enumerate(df['WQSF_lsb:double'].unique()):\n",
    "    print(n,':',i, list(flag_masks.keys())[list(flag_masks.values()).index(i)])"
   ]
  },
  {
   "cell_type": "code",
   "execution_count": null,
   "metadata": {},
   "outputs": [],
   "source": []
  },
  {
   "cell_type": "code",
   "execution_count": 77,
   "metadata": {},
   "outputs": [
    {
     "data": {
      "image/png": "[encoded data removed]",
      "text/plain": [
       "<Figure size 676.8x576 with 1 Axes>"
      ]
     },
     "metadata": {
      "needs_background": "light"
     },
     "output_type": "display_data"
    }
   ],
   "source": [
    "fig = plt.figure()\n",
    "ax = plt.axes()\n",
    "ax.set_title('COARI L2_WFR - DATE - BX : BY')\n",
    "\n",
    "ax.scatter(df['Oa08_reflectance:float'],df['Oa17_reflectance:float'])\n",
    "\n",
    "ax.plot( [0,1],[0,1],'k-' )\n",
    "ax.set_xlabel('WFR')\n",
    "ax.set_ylabel('iCOR')\n",
    "plt.text(0.67,0.006,'% Reflectance')\n",
    "# plt.savefig('D:\\\\processing\\\\win\\\\a1_plots\\\\tefe-icor-vs-wfr-sktr-b17.png', dpi=300)\n",
    "plt.show()\n",
    "\n",
    "# For further plotting it with annotations on each point:\n",
    "# https://stackoverflow.com/questions/14432557/matplotlib-scatter-plot-with-different-text-at-each-data-point"
   ]
  },
  {
   "cell_type": "code",
   "execution_count": 78,
   "metadata": {},
   "outputs": [
    {
     "data": {
      "image/png": "[encoded data removed]",
      "text/plain": [
       "<Figure size 576x576 with 2 Axes>"
      ]
     },
     "metadata": {
      "needs_background": "light"
     },
     "output_type": "display_data"
    }
   ],
   "source": [
    "plt.rcParams['figure.figsize'] = [8, 8]\n",
    "fig = plt.figure()\n",
    "ax = plt.axes()\n",
    "ax.set_title('COARI L2_WFR - DATE - BX : BY')\n",
    "\n",
    "# ax.scatter(df['Oa08_reflectance:float'],df['Oa21_reflectance:float'],s=3,c=df['T865:float'])\n",
    "img = ax.scatter(df['longitude:double'],df['latitude:double'],s=3,c=df['Oa08_reflectance:float'],cmap='bwr')\n",
    "\n",
    "# ax.plot( [-1,1],[-1,1],'k-', linewidth=1)\n",
    "# ax.plot( [0,0],[-1,1], c='grey', linestyle='dashed', linewidth=1)\n",
    "# ax.plot( [-1,1],[0,0], c='grey', linestyle='dashed', linewidth=1)\n",
    "\n",
    "# ax.set_xlabel('Oa08: 665 nm')\n",
    "# ax.set_ylabel('Oa17: 865 nm')\n",
    "\n",
    "ax.set_xlabel('LON')\n",
    "ax.set_ylabel('LAT')\n",
    "\n",
    "# ax.set_xlim(-0.02,0.2)\n",
    "# ax.set_ylim(-0.02,0.2)\n",
    "\n",
    "ax.set_xlim(-63,-62.3)\n",
    "ax.set_ylim(-4,-3.6)\n",
    "\n",
    "\n",
    "# plt.text(0.160,0.003,'% Reflectance')\n",
    "\n",
    "# plt.savefig('D:\\\\processing\\\\win\\\\a1_plots\\\\tefe-icor-vs-wfr-sktr-b17.png', dpi=300)\n",
    "fig.colorbar(img, ax=ax)\n",
    "plt.show()\n",
    "\n",
    "# For further plotting it with annotations on each point:\n",
    "# https://stackoverflow.com/questions/14432557/matplotlib-scatter-plot-with-different-text-at-each-data-point"
   ]
  },
  {
   "cell_type": "code",
   "execution_count": 79,
   "metadata": {
    "scrolled": false
   },
   "outputs": [
    {
     "data": {
      "image/png": "[encoded data removed]",
      "text/plain": [
       "<Figure size 676.8x576 with 2 Axes>"
      ]
     },
     "metadata": {
      "needs_background": "light"
     },
     "output_type": "display_data"
    }
   ],
   "source": [
    "plt.rcParams['figure.figsize'] = [9.4, 8]\n",
    "fig = plt.figure()\n",
    "ax = plt.axes()\n",
    "ax.set_title('COARI L2_WFR - DATE - BX : BY')\n",
    "\n",
    "img = ax.scatter(df['Oa08_reflectance:float'],df['Oa21_reflectance:float'],s=3,c=df['T865:float'],\n",
    "                vmin=0, vmax=0.6)\n",
    "# img = ax.scatter(df['longitude:double'],df['latitude:double'],s=3,c=df['T865:float'])\n",
    "\n",
    "ax.plot( [-1,1],[-1,1],'k-', linewidth=1)\n",
    "ax.plot( [0,0],[-1,1], c='grey', linestyle='dashed', linewidth=1)\n",
    "ax.plot( [-1,1],[0,0], c='grey', linestyle='dashed', linewidth=1)\n",
    "\n",
    "ax.set_xlabel('Oa08: 665 nm')\n",
    "ax.set_ylabel('Oa17: 865 nm')\n",
    "\n",
    "# ax.set_xlabel('LON')\n",
    "# ax.set_ylabel('LAT')\n",
    "\n",
    "ax.set_xlim(-0.02,0.2)\n",
    "ax.set_ylim(-0.02,0.2)\n",
    "\n",
    "# ax.set_xlim(-63,-62.3)\n",
    "# ax.set_ylim(-4,-3.6)\n",
    "\n",
    "\n",
    "# plt.text(0.160,0.003,'% Reflectance')\n",
    "\n",
    "# plt.savefig('D:\\\\processing\\\\win\\\\a1_plots\\\\tefe-icor-vs-wfr-sktr-b17.png', dpi=300)\n",
    "\n",
    "fig.colorbar(img, ax=ax)\n",
    "plt.show()\n",
    "\n",
    "# For further plotting it with annotations on each point:\n",
    "# https://stackoverflow.com/questions/14432557/matplotlib-scatter-plot-with-different-text-at-each-data-point"
   ]
  },
  {
   "cell_type": "code",
   "execution_count": 147,
   "metadata": {},
   "outputs": [],
   "source": [
    "stations = [\"COARI\", \"FONTE_BOA\", \"MADEIRA\", \"MANACAPURU\", \"NEGRO\", \"TEFE\"]"
   ]
  },
  {
   "cell_type": "markdown",
   "metadata": {},
   "source": [
    "## Generating and saving scatters for MANACAPURU"
   ]
  },
  {
   "cell_type": "code",
   "execution_count": 98,
   "metadata": {},
   "outputs": [],
   "source": [
    "workdir = 'D:\\\\processing\\\\win\\\\MANACAPURU'\n",
    "savedir = 'D:\\\\processing\\\\win\\\\a1_plots\\\\mass_jm_scatter_cloudmask_on_WFR'"
   ]
  },
  {
   "cell_type": "code",
   "execution_count": 85,
   "metadata": {
    "scrolled": true
   },
   "outputs": [
    {
     "data": {
      "text/plain": [
       "['S3A_OL_2_WFR____20190309T141223_20190309T141523_20190310T211622_0179_042_167_3060_MAR_O_NT_002_subset.txt',\n",
       " 'S3A_OL_2_WFR____20190310T134612_20190310T134912_20190311T222357_0180_042_181_3060_MAR_O_NT_002_subset.txt',\n",
       " 'S3A_OL_2_WFR____20190313T140838_20190313T141138_20190314T214804_0179_042_224_3060_MAR_O_NT_002_subset.txt',\n",
       " 'S3A_OL_2_WFR____20190314T134227_20190314T134527_20190315T222121_0179_042_238_3060_MAR_O_NT_002_subset.txt',\n",
       " 'S3A_OL_2_WFR____20190317T140455_20190317T140755_20190318T205900_0179_042_281_3060_MAR_O_NT_002_subset.txt',\n",
       " 'S3A_OL_2_WFR____20190318T133844_20190318T134144_20190319T213345_0179_042_295_3060_MAR_O_NT_002_subset.txt',\n",
       " 'S3A_OL_2_WFR____20190325T135728_20190325T140028_20190326T224511_0179_043_010_3060_MAR_O_NT_002_subset.txt',\n",
       " 'S3A_OL_2_WFR____20190329T135344_20190329T135644_20190330T223455_0179_043_067_3060_MAR_O_NT_002_subset.txt',\n",
       " 'S3A_OL_2_WFR____20190330T132734_20190330T133034_20190331T220012_0179_043_081_3060_MAR_O_NT_002_subset.txt',\n",
       " 'S3A_OL_2_WFR____20190403T132350_20190403T132650_20190404T224416_0180_043_138_3060_MAR_O_NT_002_subset.txt',\n",
       " 'S3A_OL_2_WFR____20190405T141228_20190405T141528_20190406T232914_0179_043_167_3060_MAR_O_NT_002_subset.txt',\n",
       " 'S3A_OL_2_WFR____20190409T140844_20190409T141144_20190410T222946_0179_043_224_3060_MAR_O_NT_002_subset.txt',\n",
       " 'S3A_OL_2_WFR____20190410T134233_20190410T134533_20190411T220636_0179_043_238_3060_MAR_O_NT_002_subset.txt',\n",
       " 'S3A_OL_2_WFR____20190413T140500_20190413T140800_20190414T215002_0179_043_281_3060_MAR_O_NT_002_subset.txt',\n",
       " 'S3A_OL_2_WFR____20190414T133849_20190414T134149_20190415T223334_0180_043_295_3060_MAR_O_NT_002_subset.txt',\n",
       " 'S3A_OL_2_WFR____20190417T140116_20190417T140416_20190418T212304_0179_043_338_3060_MAR_O_NT_002_subset.txt',\n",
       " 'S3A_OL_2_WFR____20190418T133506_20190418T133806_20190419T230408_0179_043_352_3060_MAR_O_NT_002_subset.txt',\n",
       " 'S3A_OL_2_WFR____20190421T135732_20190421T140032_20190422T221041_0179_044_010_3060_MAR_O_NT_002_subset.txt',\n",
       " 'S3A_OL_2_WFR____20190422T133122_20190422T133422_20190423T215951_0179_044_024_3060_MAR_O_NT_002_subset.txt',\n",
       " 'S3A_OL_2_WFR____20190425T135348_20190425T135648_20190426T231953_0179_044_067_3060_MAR_O_NT_002_subset.txt',\n",
       " 'S3A_OL_2_WFR____20190429T135004_20190429T135304_20190430T223659_0179_044_124_3060_MAR_O_NT_002_subset.txt',\n",
       " 'S3A_OL_2_WFR____20190502T141231_20190502T141531_20190504T001735_0179_044_167_3060_MAR_O_NT_002_subset.txt',\n",
       " 'S3A_OL_2_WFR____20190503T134620_20190503T134920_20190505T025017_0179_044_181_3060_MAR_O_NT_002_subset.txt',\n",
       " 'S3A_OL_2_WFR____20190510T140503_20190510T140803_20190511T235103_0179_044_281_3060_MAR_O_NT_002_subset.txt',\n",
       " 'S3A_OL_2_WFR____20190518T135734_20190518T140034_20190519T232916_0179_045_010_3060_MAR_O_NT_002_subset.txt',\n",
       " 'S3A_OL_2_WFR____20190519T133123_20190519T133423_20190520T233853_0179_045_024_3060_MAR_O_NT_002_subset.txt',\n",
       " 'S3A_OL_2_WFR____20190522T135349_20190522T135649_20190523T200921_0179_045_067_3060_MAR_O_NT_002_subset.txt',\n",
       " 'S3A_OL_2_WFR____20190523T132739_20190523T133039_20190524T225251_0179_045_081_3060_MAR_O_NT_002_subset.txt',\n",
       " 'S3A_OL_2_WFR____20190526T135005_20190526T135305_20190527T233329_0179_045_124_3060_MAR_O_NT_002_subset.txt',\n",
       " 'S3A_OL_2_WFR____20190527T132354_20190527T132654_20190528T225627_0179_045_138_3060_MAR_O_NT_002_subset.txt',\n",
       " 'S3A_OL_2_WFR____20190529T141231_20190529T141531_20190530T235929_0179_045_167_3060_MAR_O_NT_002_subset.txt',\n",
       " 'S3A_OL_2_WFR____20190530T134620_20190530T134920_20190531T232415_0179_045_181_3060_MAR_O_NT_002_subset.txt',\n",
       " 'S3A_OL_2_WFR____20190602T140847_20190602T141147_20190604T020618_0179_045_224_3060_MAR_O_NT_002_subset.txt',\n",
       " 'S3A_OL_2_WFR____20190603T134236_20190603T134536_20190604T235114_0179_045_238_3060_MAR_O_NT_002_subset.txt',\n",
       " 'S3A_OL_2_WFR____20190606T140502_20190606T140802_20190608T002453_0179_045_281_3060_MAR_O_NT_002_subset.txt',\n",
       " 'S3A_OL_2_WFR____20190607T133851_20190607T134151_20190609T014324_0179_045_295_3060_MAR_O_NT_002_subset.txt',\n",
       " 'S3A_OL_2_WFR____20190610T140117_20190610T140417_20190612T012617_0179_045_338_3060_MAR_O_NT_002_subset.txt',\n",
       " 'S3A_OL_2_WFR____20190611T133506_20190611T133806_20190612T231042_0179_045_352_3060_MAR_O_NT_002_subset.txt',\n",
       " 'S3A_OL_2_WFR____20190614T135732_20190614T140032_20190616T015133_0179_046_010_3060_MAR_O_NT_002_subset.txt',\n",
       " 'S3A_OL_2_WFR____20190615T133121_20190615T133421_20190617T015932_0179_046_024_3060_MAR_O_NT_002_subset.txt',\n",
       " 'S3A_OL_2_WFR____20190618T135348_20190618T135648_20190619T204406_0180_046_067_3060_MAR_O_NT_002_subset.txt',\n",
       " 'S3A_OL_2_WFR____20190619T132737_20190619T133037_20190620T201746_0180_046_081_3060_MAR_O_NT_002_subset.txt',\n",
       " 'S3A_OL_2_WFR____20190622T135004_20190622T135304_20190623T223203_0179_046_124_3060_MAR_O_NT_002_subset.txt',\n",
       " 'S3A_OL_2_WFR____20190623T132353_20190623T132653_20190624T220940_0179_046_138_3060_MAR_O_NT_002_subset.txt',\n",
       " 'S3A_OL_2_WFR____20190625T141230_20190625T141530_20190626T231813_0179_046_167_3060_MAR_O_NT_002_subset.txt',\n",
       " 'S3A_OL_2_WFR____20190626T134620_20190626T134920_20190627T221647_0180_046_181_3060_MAR_O_NT_002_subset.txt',\n",
       " 'S3A_OL_2_WFR____20190629T140846_20190629T141146_20190630T232542_0180_046_224_3060_MAR_O_NT_002_subset.txt',\n",
       " 'S3A_OL_2_WFR____20190630T134235_20190630T134535_20190701T223549_0179_046_238_3060_MAR_O_NT_002_subset.txt',\n",
       " 'S3A_OL_2_WFR____20190703T140502_20190703T140802_20190704T223737_0179_046_281_3060_MAR_O_NT_002_subset.txt',\n",
       " 'S3A_OL_2_WFR____20190704T133851_20190704T134151_20190705T212259_0179_046_295_3060_MAR_O_NT_002_subset.txt',\n",
       " 'S3A_OL_2_WFR____20190708T133506_20190708T133806_20190709T223145_0179_046_352_3060_MAR_O_NT_002_subset.txt',\n",
       " 'S3A_OL_2_WFR____20190711T135733_20190711T140033_20190712T202156_0179_047_010_3060_MAR_O_NT_002_subset.txt',\n",
       " 'S3A_OL_2_WFR____20190715T135348_20190715T135648_20190716T211211_0179_047_067_3060_MAR_O_NT_002_subset.txt',\n",
       " 'S3A_OL_2_WFR____20190716T132737_20190716T133037_20190717T220005_0179_047_081_3060_MAR_O_NT_002_subset.txt',\n",
       " 'S3A_OL_2_WFR____20190719T135004_20190719T135304_20190720T232725_0179_047_124_3060_MAR_O_NT_002_subset.txt',\n",
       " 'S3A_OL_2_WFR____20190720T132353_20190720T132653_20190721T224902_0179_047_138_3060_MAR_O_NT_002_subset.txt',\n",
       " 'S3A_OL_2_WFR____20190722T141230_20190722T141530_20190723T225447_0179_047_167_3060_MAR_O_NT_002_subset.txt',\n",
       " 'S3A_OL_2_WFR____20190723T134619_20190723T134919_20190724T222406_0179_047_181_3060_MAR_O_NT_002_subset.txt',\n",
       " 'S3A_OL_2_WFR____20190726T140845_20190726T141145_20190728T000636_0179_047_224_3060_MAR_O_NT_002_subset.txt',\n",
       " 'S3A_OL_2_WFR____20190727T134234_20190727T134534_20190728T230442_0180_047_238_3060_MAR_O_NT_002_subset.txt',\n",
       " 'S3A_OL_2_WFR____20190730T140500_20190730T140800_20190731T224655_0179_047_281_3060_MAR_O_NT_002_subset.txt',\n",
       " 'S3A_OL_2_WFR____20190731T133849_20190731T134149_20190801T220241_0179_047_295_3060_MAR_O_NT_002_subset.txt',\n",
       " 'S3A_OL_2_WFR____20190803T140115_20190803T140415_20190804T230912_0179_047_338_3060_MAR_O_NT_002_subset.txt',\n",
       " 'S3A_OL_2_WFR____20190804T133504_20190804T133804_20190805T221925_0179_047_352_3060_MAR_O_NT_002_subset.txt',\n",
       " 'S3A_OL_2_WFR____20190807T135730_20190807T140030_20190808T221439_0179_048_010_3060_MAR_O_NT_002_subset.txt',\n",
       " 'S3A_OL_2_WFR____20190808T133119_20190808T133419_20190809T214839_0179_048_024_3060_MAR_O_NT_002_subset.txt',\n",
       " 'S3A_OL_2_WFR____20190811T135345_20190811T135645_20190812T224431_0179_048_067_3060_MAR_O_NT_002_subset.txt',\n",
       " 'S3A_OL_2_WFR____20190812T132734_20190812T133034_20190813T224157_0180_048_081_3060_MAR_O_NT_002_subset.txt',\n",
       " 'S3A_OL_2_WFR____20190815T135000_20190815T135300_20190816T203800_0179_048_124_3060_MAR_O_NT_002_subset.txt',\n",
       " 'S3A_OL_2_WFR____20190816T132349_20190816T132649_20190817T214929_0179_048_138_3060_MAR_O_NT_002_subset.txt',\n",
       " 'S3A_OL_2_WFR____20190818T141226_20190818T141526_20190819T213241_0179_048_167_3060_MAR_O_NT_002_subset.txt',\n",
       " 'S3A_OL_2_WFR____20190819T134615_20190819T134915_20190820T230117_0179_048_181_3060_MAR_O_NT_002_subset.txt',\n",
       " 'S3A_OL_2_WFR____20190822T140841_20190822T141141_20190823T224212_0179_048_224_3060_MAR_O_NT_002_subset.txt',\n",
       " 'S3A_OL_2_WFR____20190823T134230_20190823T134530_20190824T220745_0179_048_238_3060_MAR_O_NT_002_subset.txt',\n",
       " 'S3A_OL_2_WFR____20190826T140456_20190826T140756_20190827T230718_0179_048_281_3060_MAR_O_NT_002_subset.txt',\n",
       " 'S3A_OL_2_WFR____20190827T133845_20190827T134145_20190828T222419_0179_048_295_3060_MAR_O_NT_002_subset.txt',\n",
       " 'S3A_OL_2_WFR____20190830T140112_20190830T140412_20190831T221607_0179_048_338_3060_MAR_O_NT_002_subset.txt',\n",
       " 'S3A_OL_2_WFR____20190831T133501_20190831T133801_20190901T224633_0179_048_352_3060_MAR_O_NT_002_subset.txt',\n",
       " 'S3A_OL_2_WFR____20190903T135728_20190903T140028_20190904T224859_0179_049_010_3060_MAR_O_NT_002_subset.txt',\n",
       " 'S3A_OL_2_WFR____20190904T133117_20190904T133417_20190905T220743_0179_049_024_3060_MAR_O_NT_002_subset.txt',\n",
       " 'S3A_OL_2_WFR____20190907T135344_20190907T135644_20190908T214622_0179_049_067_3060_MAR_O_NT_002_subset.txt',\n",
       " 'S3A_OL_2_WFR____20190908T132733_20190908T133033_20190909T230310_0179_049_081_3060_MAR_O_NT_002_subset.txt',\n",
       " 'S3A_OL_2_WFR____20190911T135000_20190911T135300_20190912T224330_0179_049_124_3060_MAR_O_NT_002_subset.txt',\n",
       " 'S3A_OL_2_WFR____20190912T132349_20190912T132649_20190913T221222_0179_049_138_3060_MAR_O_NT_002_subset.txt',\n",
       " 'S3A_OL_2_WFR____20190914T141227_20190914T141527_20190915T220950_0179_049_167_3060_MAR_O_NT_002_subset.txt',\n",
       " 'S3A_OL_2_WFR____20190915T134616_20190915T134916_20190916T225142_0180_049_181_3060_MAR_O_NT_002_subset.txt',\n",
       " 'S3A_OL_2_WFR____20190918T140843_20190918T141143_20190919T222614_0179_049_224_3060_MAR_O_NT_002_subset.txt',\n",
       " 'S3A_OL_2_WFR____20190919T134232_20190919T134532_20190920T195042_0179_049_238_3060_MAR_O_NT_002_subset.txt',\n",
       " 'S3A_OL_2_WFR____20190922T140459_20190922T140759_20190923T230346_0179_049_281_3060_MAR_O_NT_002_subset.txt',\n",
       " 'S3A_OL_2_WFR____20190923T133848_20190923T134148_20190924T223318_0179_049_295_3060_MAR_O_NT_002_subset.txt',\n",
       " 'S3A_OL_2_WFR____20190926T140115_20190926T140415_20190927T221713_0179_049_338_3060_MAR_O_NT_002_subset.txt',\n",
       " 'S3A_OL_2_WFR____20190927T133504_20190927T133804_20190928T220100_0179_049_352_3060_MAR_O_NT_002_subset.txt',\n",
       " 'S3A_OL_2_WFR____20190930T135731_20190930T140031_20191001T221706_0179_050_010_3060_MAR_O_NT_002_subset.txt',\n",
       " 'S3A_OL_2_WFR____20191001T133120_20191001T133420_20191002T221509_0179_050_024_3060_MAR_O_NT_002_subset.txt',\n",
       " 'S3A_OL_2_WFR____20191004T135347_20191004T135647_20191005T214048_0180_050_067_3060_MAR_O_NT_002_subset.txt',\n",
       " 'S3A_OL_2_WFR____20191005T132736_20191005T133036_20191006T224050_0179_050_081_3060_MAR_O_NT_002_subset.txt',\n",
       " 'S3A_OL_2_WFR____20191008T135003_20191008T135303_20191009T221915_0179_050_124_3060_MAR_O_NT_002_subset.txt',\n",
       " 'S3A_OL_2_WFR____20191009T132352_20191009T132652_20191010T214735_0179_050_138_3060_MAR_O_NT_002_subset.txt',\n",
       " 'S3A_OL_2_WFR____20191011T141229_20191011T141529_20191012T201505_0179_050_167_3060_MAR_O_NT_002_subset.txt',\n",
       " 'S3A_OL_2_WFR____20191012T134618_20191012T134918_20191013T234816_0179_050_181_3060_MAR_O_NT_002_subset.txt',\n",
       " 'S3A_OL_2_WFR____20191015T140845_20191015T141145_20191016T225911_0179_050_224_3060_MAR_O_NT_002_subset.txt',\n",
       " 'S3A_OL_2_WFR____20191016T134234_20191016T134534_20191017T215349_0180_050_238_3060_MAR_O_NT_002_subset.txt',\n",
       " 'S3A_OL_2_WFR____20191019T140500_20191019T140800_20191020T213735_0180_050_281_3060_MAR_O_NT_002_subset.txt',\n",
       " 'S3A_OL_2_WFR____20191020T133849_20191020T134149_20191021T231123_0179_050_295_3060_MAR_O_NT_002_subset.txt',\n",
       " 'S3A_OL_2_WFR____20191023T140116_20191023T140416_20191024T225102_0179_050_338_3060_MAR_O_NT_002_subset.txt',\n",
       " 'S3A_OL_2_WFR____20191024T133505_20191024T133805_20191025T221236_0179_050_352_3060_MAR_O_NT_002_subset.txt',\n",
       " 'S3A_OL_2_WFR____20191027T135731_20191027T140031_20191028T224350_0179_051_010_3060_MAR_O_NT_002_subset.txt',\n",
       " 'S3A_OL_2_WFR____20191028T133120_20191028T133420_20191029T221115_0180_051_024_3060_MAR_O_NT_002_subset.txt',\n",
       " 'S3A_OL_2_WFR____20191031T135347_20191031T135647_20191113T155040_0180_051_067_3060_MAR_O_NT_002_subset.txt',\n",
       " 'S3A_OL_2_WFR____20191101T132736_20191101T133036_20191122T103532_0179_051_081_3060_MAR_O_NT_002_subset.txt',\n",
       " 'S3A_OL_2_WFR____20191104T135002_20191104T135302_20191124T134508_0179_051_124_3060_MAR_O_NT_002_subset.txt',\n",
       " 'S3A_OL_2_WFR____20191105T132351_20191105T132651_20191106T224417_0179_051_138_3060_MAR_O_NT_002_subset.txt',\n",
       " 'S3A_OL_2_WFR____20191107T141228_20191107T141528_20191108T223432_0179_051_167_3060_MAR_O_NT_002_subset.txt',\n",
       " 'S3A_OL_2_WFR____20191108T134617_20191108T134917_20191109T201344_0179_051_181_3060_MAR_O_NT_002_subset.txt',\n",
       " 'S3A_OL_2_WFR____20191111T140843_20191111T141143_20191128T053500_0179_051_224_3060_MAR_O_NT_002_subset.txt',\n",
       " 'S3A_OL_2_WFR____20191112T134232_20191112T134532_20191129T055638_0179_051_238_3060_MAR_O_NT_002_subset.txt',\n",
       " 'S3A_OL_2_WFR____20191115T140458_20191115T140758_20191116T222049_0179_051_281_3060_MAR_O_NT_002_subset.txt',\n",
       " 'S3A_OL_2_WFR____20191116T133847_20191116T134147_20191130T105657_0179_051_295_3060_MAR_O_NT_002_subset.txt',\n",
       " 'S3A_OL_2_WFR____20191119T140113_20191119T140413_20191202T235318_0179_051_338_3060_MAR_O_NT_002_subset.txt',\n",
       " 'S3A_OL_2_WFR____20191120T133502_20191120T133802_20191203T162904_0179_051_352_3060_MAR_O_NT_002_subset.txt',\n",
       " 'S3A_OL_2_WFR____20191123T135728_20191123T140028_20191206T010521_0179_052_010_3060_MAR_O_NT_002_subset.txt',\n",
       " 'S3A_OL_2_WFR____20191124T133117_20191124T133417_20191206T193946_0179_052_024_3060_MAR_O_NT_002_subset.txt',\n",
       " 'S3A_OL_2_WFR____20191127T135343_20191127T135643_20191209T032851_0179_052_067_3060_MAR_O_NT_002_subset.txt',\n",
       " 'S3A_OL_2_WFR____20191128T132732_20191128T133032_20191210T002009_0179_052_081_3060_MAR_O_NT_002_subset.txt',\n",
       " 'S3A_OL_2_WFR____20191201T134958_20191201T135258_20191212T081550_0179_052_124_3060_MAR_O_NT_002_subset.txt',\n",
       " 'S3A_OL_2_WFR____20191202T132347_20191202T132647_20191213T034654_0179_052_138_3060_MAR_O_NT_002_subset.txt',\n",
       " 'S3A_OL_2_WFR____20191204T141224_20191204T141524_20191214T175238_0179_052_167_3060_MAR_O_NT_002_subset.txt',\n",
       " 'S3A_OL_2_WFR____20191205T134613_20191205T134913_20191215T133250_0179_052_181_3060_MAR_O_NT_002_subset.txt',\n",
       " 'S3A_OL_2_WFR____20191208T140839_20191208T141139_20191217T224709_0179_052_224_3060_MAR_O_NT_002_subset.txt',\n",
       " 'S3A_OL_2_WFR____20191209T134228_20191209T134528_20191218T172915_0179_052_238_3060_MAR_O_NT_002_subset.txt',\n",
       " 'S3A_OL_2_WFR____20191212T140454_20191212T140754_20191221T024949_0179_052_281_3060_MAR_O_NT_002_subset.txt',\n",
       " 'S3A_OL_2_WFR____20191213T133844_20191213T134144_20191221T212839_0179_052_295_3060_MAR_O_NT_002_subset.txt',\n",
       " 'S3A_OL_2_WFR____20191216T140111_20191216T140411_20191224T074855_0179_052_338_3060_MAR_O_NT_002_subset.txt',\n",
       " 'S3A_OL_2_WFR____20191217T133500_20191217T133800_20191225T023412_0179_052_352_3060_MAR_O_NT_002_subset.txt',\n",
       " 'S3A_OL_2_WFR____20191220T135727_20191220T140027_20191227T104236_0179_053_010_3060_MAR_O_NT_002_subset.txt',\n",
       " 'S3A_OL_2_WFR____20191221T133116_20191221T133416_20191228T054851_0179_053_024_3060_MAR_O_NT_002_subset.txt',\n",
       " 'S3A_OL_2_WFR____20191224T135343_20191224T135643_20191230T151313_0180_053_067_3060_MAR_O_NT_002_subset.txt',\n",
       " 'S3A_OL_2_WFR____20191225T132732_20191225T133032_20191231T095433_0179_053_081_3060_MAR_O_NT_002_subset.txt',\n",
       " 'S3A_OL_2_WFR____20191228T134959_20191228T135259_20200102T183124_0179_053_124_3060_MAR_O_NT_002_subset.txt',\n",
       " 'S3A_OL_2_WFR____20191229T132348_20191229T132648_20200103T140820_0179_053_138_3060_MAR_O_NT_002_subset.txt',\n",
       " 'S3A_OL_2_WFR____20191231T141226_20191231T141526_20200105T031511_0179_053_167_3060_MAR_O_NT_002_subset.txt',\n",
       " 'S3A_OL_2_WFR____20200101T134615_20200101T134915_20200105T221243_0179_053_181_3060_MAR_O_NT_002_subset.txt',\n",
       " 'S3A_OL_2_WFR____20200104T140842_20200104T141142_20200108T061956_0179_053_224_3060_MAR_O_NT_002_subset.txt',\n",
       " 'S3A_OL_2_WFR____20200105T134231_20200105T134531_20200109T023755_0179_053_238_3060_MAR_O_NT_002_subset.txt',\n",
       " 'S3A_OL_2_WFR____20200108T140458_20200108T140758_20200109T222027_0179_053_281_3060_MAR_O_NT_002_subset.txt',\n",
       " 'S3A_OL_2_WFR____20200109T133847_20200109T134147_20200110T220922_0180_053_295_3060_MAR_O_NT_002_subset.txt',\n",
       " 'S3A_OL_2_WFR____20200112T140114_20200112T140414_20200113T231806_0179_053_338_3060_MAR_O_NT_002_subset.txt',\n",
       " 'S3A_OL_2_WFR____20200113T133503_20200113T133803_20200114T222122_0179_053_352_3060_MAR_O_NT_002_subset.txt',\n",
       " 'S3A_OL_2_WFR____20200116T135730_20200116T140030_20200117T205932_0179_054_010_3060_MAR_O_NT_002_subset.txt',\n",
       " 'S3A_OL_2_WFR____20200117T133119_20200117T133419_20200118T210454_0180_054_024_3060_MAR_O_NT_002_subset.txt',\n",
       " 'S3A_OL_2_WFR____20200120T135345_20200120T135645_20200121T230403_0179_054_067_3060_MAR_O_NT_002_subset.txt',\n",
       " 'S3A_OL_2_WFR____20200121T132735_20200121T133035_20200122T221959_0179_054_081_3060_MAR_O_NT_002_subset.txt',\n",
       " 'S3A_OL_2_WFR____20200124T135001_20200124T135301_20200125T215208_0179_054_124_3060_MAR_O_NT_002_subset.txt',\n",
       " 'S3A_OL_2_WFR____20200125T132350_20200125T132650_20200126T211647_0179_054_138_3060_MAR_O_NT_002_subset.txt',\n",
       " 'S3A_OL_2_WFR____20200127T141228_20200127T141528_20200128T231059_0179_054_167_3060_MAR_O_NT_002_subset.txt',\n",
       " 'S3A_OL_2_WFR____20200128T134617_20200128T134917_20200129T222345_0180_054_181_3060_MAR_O_NT_002_subset.txt',\n",
       " 'S3A_OL_2_WFR____20200131T140843_20200131T141143_20200201T205438_0179_054_224_3060_MAR_O_NT_002_subset.txt',\n",
       " 'S3A_OL_2_WFR____20200201T134232_20200201T134532_20200202T215950_0179_054_238_3060_MAR_O_NT_002_subset.txt',\n",
       " 'S3A_OL_2_WFR____20200204T140459_20200204T140759_20200205T224626_0179_054_281_3060_MAR_O_NT_002_subset.txt',\n",
       " 'S3A_OL_2_WFR____20200205T133848_20200205T134148_20200206T220030_0179_054_295_3060_MAR_O_NT_002_subset.txt',\n",
       " 'S3A_OL_2_WFR____20200208T140115_20200208T140415_20200209T201228_0180_054_338_3060_MAR_O_NT_002_subset.txt',\n",
       " 'S3A_OL_2_WFR____20200209T133504_20200209T133804_20200210T210735_0179_054_352_3060_MAR_O_NT_002_subset.txt',\n",
       " 'S3A_OL_2_WFR____20200212T135730_20200212T140030_20200213T222202_0180_055_010_3060_MAR_O_NT_002_subset.txt',\n",
       " 'S3A_OL_2_WFR____20200213T133119_20200213T133419_20200214T214939_0179_055_024_3060_MAR_O_NT_002_subset.txt',\n",
       " 'S3A_OL_2_WFR____20200216T135345_20200216T135645_20200217T214045_0180_055_067_3060_MAR_O_NT_002_subset.txt',\n",
       " 'S3A_OL_2_WFR____20200217T132735_20200217T133035_20200305T013709_0179_055_081_3060_MAR_O_NT_002_subset.txt',\n",
       " 'S3A_OL_2_WFR____20200220T135001_20200220T135301_20200221T221922_0179_055_124_3060_MAR_O_NT_002_subset.txt',\n",
       " 'S3A_OL_2_WFR____20200221T132350_20200221T132650_20200222T213240_0179_055_138_3060_MAR_O_NT_002_subset.txt',\n",
       " 'S3A_OL_2_WFR____20200223T141227_20200223T141527_20200224T202309_0180_055_167_3060_MAR_O_NT_002_subset.txt',\n",
       " 'S3A_OL_2_WFR____20200224T134616_20200224T134916_20200225T211517_0179_055_181_3060_MAR_O_NT_002_subset.txt',\n",
       " 'S3A_OL_2_WFR____20200227T140842_20200227T141142_20200228T224554_0179_055_224_3060_MAR_O_NT_002_subset.txt',\n",
       " 'S3A_OL_2_WFR____20200228T134231_20200228T134531_20200229T221531_0179_055_238_3060_MAR_O_NT_002_subset.txt',\n",
       " 'S3A_OL_2_WFR____20200302T140458_20200302T140758_20200303T223539_0179_055_281_3060_MAR_O_NT_002_subset.txt',\n",
       " 'S3A_OL_2_WFR____20200303T133847_20200303T134147_20200304T223604_0179_055_295_3060_MAR_O_NT_002_subset.txt',\n",
       " 'S3A_OL_2_WFR____20200306T140113_20200306T140413_20200307T222210_0179_055_338_3060_MAR_O_NT_002_subset.txt',\n",
       " 'S3A_OL_2_WFR____20200307T133502_20200307T133802_20200308T214531_0179_055_352_3060_MAR_O_NT_002_subset.txt',\n",
       " 'S3A_OL_2_WFR____20200310T135728_20200310T140028_20200311T223515_0179_056_010_3060_MAR_O_NT_002_subset.txt',\n",
       " 'S3A_OL_2_WFR____20200311T133117_20200311T133417_20200312T204127_0179_056_024_3060_MAR_O_NT_002_subset.txt',\n",
       " 'S3A_OL_2_WFR____20200314T135344_20200314T135644_20200315T220705_0179_056_067_3060_MAR_O_NT_002_subset.txt',\n",
       " 'S3A_OL_2_WFR____20200315T132734_20200315T133034_20200316T210705_0179_056_081_3060_MAR_O_NT_002_subset.txt',\n",
       " 'S3A_OL_2_WFR____20200318T135001_20200318T135301_20200319T210614_0179_056_124_3060_MAR_O_NT_002_subset.txt',\n",
       " 'S3A_OL_2_WFR____20200319T132350_20200319T132650_20200320T220408_0180_056_138_3060_MAR_O_NT_002_subset.txt',\n",
       " 'S3A_OL_2_WFR____20200321T141228_20200321T141528_20200322T204038_0179_056_167_3060_MAR_O_NT_002_subset.txt',\n",
       " 'S3A_OL_2_WFR____20200322T134618_20200322T134918_20200323T200833_0179_056_181_3060_MAR_O_NT_002_subset.txt',\n",
       " 'S3A_OL_2_WFR____20200325T140845_20200325T141145_20200326T214202_0179_056_224_3060_MAR_O_NT_002_subset.txt',\n",
       " 'S3A_OL_2_WFR____20200326T134234_20200326T134534_20200327T204251_0179_056_238_3060_MAR_O_NT_002_subset.txt',\n",
       " 'S3A_OL_2_WFR____20200329T140501_20200329T140801_20200330T212406_0179_056_281_3060_MAR_O_NT_002_subset.txt',\n",
       " 'S3A_OL_2_WFR____20200330T133850_20200330T134150_20200331T210755_0179_056_295_3060_MAR_O_NT_002_subset.txt',\n",
       " 'S3B_OL_2_WFR____20190319T141408_20190319T141708_20190320T210620_0179_023_167_3060_MAR_O_NT_002_subset.txt',\n",
       " 'S3B_OL_2_WFR____20190320T134757_20190320T135057_20190321T224821_0179_023_181_3060_MAR_O_NT_002_subset.txt',\n",
       " 'S3B_OL_2_WFR____20190323T141024_20190323T141324_20190324T210000_0179_023_224_3060_MAR_O_NT_002_subset.txt',\n",
       " 'S3B_OL_2_WFR____20190324T134413_20190324T134713_20190325T230419_0179_023_238_3060_MAR_O_NT_002_subset.txt',\n",
       " 'S3B_OL_2_WFR____20190327T140640_20190327T140940_20190328T223826_0179_023_281_3060_MAR_O_NT_002_subset.txt',\n",
       " 'S3B_OL_2_WFR____20190328T134029_20190328T134329_20190329T192306_0179_023_295_3060_MAR_O_NT_002_subset.txt',\n",
       " 'S3B_OL_2_WFR____20190331T140256_20190331T140556_20190401T204718_0179_023_338_3060_MAR_O_NT_002_subset.txt',\n",
       " 'S3B_OL_2_WFR____20190401T133645_20190401T133945_20190402T194737_0180_023_352_3060_MAR_O_NT_002_subset.txt',\n",
       " 'S3B_OL_2_WFR____20190404T135911_20190404T140211_20190405T223919_0179_024_010_3060_MAR_O_NT_002_subset.txt',\n",
       " 'S3B_OL_2_WFR____20190405T133300_20190405T133600_20190406T211825_0179_024_024_3060_MAR_O_NT_002_subset.txt',\n",
       " 'S3B_OL_2_WFR____20190409T132916_20190409T133216_20190410T222838_0179_024_081_3060_MAR_O_NT_002_subset.txt',\n",
       " 'S3B_OL_2_WFR____20190412T135143_20190412T135443_20190413T201149_0179_024_124_3060_MAR_O_NT_002_subset.txt',\n",
       " 'S3B_OL_2_WFR____20190413T132532_20190413T132832_20190414T230718_0179_024_138_3060_MAR_O_NT_002_subset.txt',\n",
       " 'S3B_OL_2_WFR____20190415T141409_20190415T141709_20190416T231639_0179_024_167_3060_MAR_O_NT_002_subset.txt',\n",
       " 'S3B_OL_2_WFR____20190416T134758_20190416T135058_20190417T194948_0179_024_181_3060_MAR_O_NT_002_subset.txt',\n",
       " 'S3B_OL_2_WFR____20190419T141025_20190419T141325_20190420T222059_0179_024_224_3060_MAR_O_NT_002_subset.txt',\n",
       " 'S3B_OL_2_WFR____20190420T134414_20190420T134714_20190421T203823_0180_024_238_3060_MAR_O_NT_002_subset.txt',\n",
       " 'S3B_OL_2_WFR____20190423T140640_20190423T140940_20190424T202127_0179_024_281_3060_MAR_O_NT_002_subset.txt',\n",
       " 'S3B_OL_2_WFR____20190424T134029_20190424T134329_20190425T221344_0179_024_295_3060_MAR_O_NT_002_subset.txt',\n",
       " 'S3B_OL_2_WFR____20190427T140255_20190427T140555_20190428T192057_0179_024_338_3060_MAR_O_NT_002_subset.txt',\n",
       " 'S3B_OL_2_WFR____20190428T133644_20190428T133944_20190429T224445_0179_024_352_3060_MAR_O_NT_002_subset.txt',\n",
       " 'S3B_OL_2_WFR____20190501T135911_20190501T140211_20190502T200605_0179_025_010_3060_MAR_O_NT_002_subset.txt',\n",
       " 'S3B_OL_2_WFR____20190502T133300_20190502T133600_20190503T191830_0179_025_024_3060_MAR_O_NT_002_subset.txt',\n",
       " 'S3B_OL_2_WFR____20190505T135526_20190505T135826_20190506T204618_0179_025_067_3060_MAR_O_NT_002_subset.txt',\n",
       " 'S3B_OL_2_WFR____20190512T141407_20190512T141707_20190513T205858_0179_025_167_3060_MAR_O_NT_002_subset.txt',\n",
       " 'S3B_OL_2_WFR____20190513T134756_20190513T135056_20190514T201056_0179_025_181_3060_MAR_O_NT_002_subset.txt',\n",
       " 'S3B_OL_2_WFR____20190516T141022_20190516T141322_20190517T221919_0179_025_224_3060_MAR_O_NT_002_subset.txt',\n",
       " 'S3B_OL_2_WFR____20190517T134411_20190517T134711_20190518T190927_0180_025_238_3060_MAR_O_NT_002_subset.txt',\n",
       " 'S3B_OL_2_WFR____20190521T134026_20190521T134326_20190522T224447_0179_025_295_3060_MAR_O_NT_002_subset.txt',\n",
       " 'S3B_OL_2_WFR____20190524T140252_20190524T140552_20190525T192318_0180_025_338_3060_MAR_O_NT_002_subset.txt',\n",
       " 'S3B_OL_2_WFR____20190525T133641_20190525T133941_20190526T213800_0179_025_352_3060_MAR_O_NT_002_subset.txt',\n",
       " 'S3B_OL_2_WFR____20190528T135906_20190528T140206_20190529T231025_0179_026_010_3060_MAR_O_NT_002_subset.txt',\n",
       " 'S3B_OL_2_WFR____20190529T133255_20190529T133555_20190530T194330_0179_026_024_3060_MAR_O_NT_002_subset.txt',\n",
       " 'S3B_OL_2_WFR____20190601T135521_20190601T135821_20190602T220639_0179_026_067_3060_MAR_O_NT_002_subset.txt',\n",
       " 'S3B_OL_2_WFR____20190602T132910_20190602T133210_20190603T221040_0180_026_081_3060_MAR_O_NT_002_subset.txt',\n",
       " 'S3B_OL_2_WFR____20190606T132525_20190606T132825_20190613T171852_0179_026_138_3060_MAR_O_NT_002_subset.txt',\n",
       " 'S3B_OL_2_WFR____20190608T141402_20190608T141702_20190609T210254_0179_026_167_3060_MAR_O_NT_002_subset.txt',\n",
       " 'S3B_OL_2_WFR____20190609T134751_20190609T135051_20190610T204655_0179_026_181_3060_MAR_O_NT_002_subset.txt',\n",
       " 'S3B_OL_2_WFR____20190612T141017_20190612T141317_20190613T213817_0179_026_224_3060_MAR_O_NT_002_subset.txt',\n",
       " 'S3B_OL_2_WFR____20190613T134406_20190613T134706_20190614T222508_0179_026_238_3060_MAR_O_NT_002_subset.txt',\n",
       " 'S3B_OL_2_WFR____20190616T140632_20190616T140932_20190617T204901_0179_026_281_3060_MAR_O_NT_002_subset.txt',\n",
       " 'S3B_OL_2_WFR____20190617T134021_20190617T134321_20190618T223238_0179_026_295_3060_MAR_O_NT_002_subset.txt',\n",
       " 'S3B_OL_2_WFR____20190620T140248_20190620T140548_20190621T195510_0179_026_338_3060_MAR_O_NT_002_subset.txt',\n",
       " 'S3B_OL_2_WFR____20190621T133637_20190621T133937_20190622T204224_0179_026_352_3060_MAR_O_NT_002_subset.txt',\n",
       " 'S3B_OL_2_WFR____20190624T135904_20190624T140204_20190625T234257_0179_027_010_3060_MAR_O_NT_002_subset.txt',\n",
       " 'S3B_OL_2_WFR____20190625T133253_20190625T133553_20190626T223220_0179_027_024_3060_MAR_O_NT_002_subset.txt',\n",
       " 'S3B_OL_2_WFR____20190628T135520_20190628T135820_20190629T221239_0180_027_067_3060_MAR_O_NT_002_subset.txt',\n",
       " 'S3B_OL_2_WFR____20190629T132909_20190629T133209_20190630T214039_0179_027_081_3060_MAR_O_NT_002_subset.txt',\n",
       " 'S3B_OL_2_WFR____20190702T135136_20190702T135436_20190703T231007_0179_027_124_3060_MAR_O_NT_002_subset.txt',\n",
       " 'S3B_OL_2_WFR____20190703T132526_20190703T132826_20190704T194538_0179_027_138_3060_MAR_O_NT_002_subset.txt',\n",
       " 'S3B_OL_2_WFR____20190705T141403_20190705T141703_20190706T220644_0179_027_167_3060_MAR_O_NT_002_subset.txt',\n",
       " 'S3B_OL_2_WFR____20190706T134752_20190706T135052_20190707T221118_0179_027_181_3060_MAR_O_NT_002_subset.txt',\n",
       " 'S3B_OL_2_WFR____20190709T141019_20190709T141319_20190710T230126_0179_027_224_3060_MAR_O_NT_002_subset.txt',\n",
       " 'S3B_OL_2_WFR____20190710T134408_20190710T134708_20190711T224146_0180_027_238_3060_MAR_O_NT_002_subset.txt',\n",
       " 'S3B_OL_2_WFR____20190713T140635_20190713T140935_20190714T194159_0180_027_281_3060_MAR_O_NT_002_subset.txt',\n",
       " 'S3B_OL_2_WFR____20190714T134024_20190714T134324_20190715T213527_0180_027_295_3060_MAR_O_NT_002_subset.txt',\n",
       " 'S3B_OL_2_WFR____20190717T140251_20190717T140551_20190718T223732_0179_027_338_3060_MAR_O_NT_002_subset.txt',\n",
       " 'S3B_OL_2_WFR____20190722T133256_20190722T133556_20190723T215914_0179_028_024_3060_MAR_O_NT_002_subset.txt',\n",
       " 'S3B_OL_2_WFR____20190725T135522_20190725T135822_20190726T213655_0179_028_067_3060_MAR_O_NT_002_subset.txt',\n",
       " 'S3B_OL_2_WFR____20190726T132912_20190726T133212_20190727T203557_0179_028_081_3060_MAR_O_NT_002_subset.txt',\n",
       " 'S3B_OL_2_WFR____20190729T135138_20190729T135438_20190730T232312_0179_028_124_3060_MAR_O_NT_002_subset.txt',\n",
       " 'S3B_OL_2_WFR____20190730T132527_20190730T132827_20190731T212755_0179_028_138_3060_MAR_O_NT_002_subset.txt',\n",
       " 'S3B_OL_2_WFR____20190801T141405_20190801T141705_20190802T215720_0179_028_167_3060_MAR_O_NT_002_subset.txt',\n",
       " 'S3B_OL_2_WFR____20190802T134754_20190802T135054_20190803T193405_0179_028_181_3060_MAR_O_NT_002_subset.txt',\n",
       " 'S3B_OL_2_WFR____20190805T141020_20190805T141320_20190806T231533_0179_028_224_3060_MAR_O_NT_002_subset.txt',\n",
       " 'S3B_OL_2_WFR____20190806T134409_20190806T134709_20190807T231126_0179_028_238_3060_MAR_O_NT_002_subset.txt',\n",
       " 'S3B_OL_2_WFR____20190809T140636_20190809T140936_20190810T213443_0179_028_281_3060_MAR_O_NT_002_subset.txt',\n",
       " 'S3B_OL_2_WFR____20190810T134025_20190810T134325_20190811T220524_0179_028_295_3060_MAR_O_NT_002_subset.txt',\n",
       " 'S3B_OL_2_WFR____20190813T140251_20190813T140551_20190814T232809_0179_028_338_3060_MAR_O_NT_002_subset.txt',\n",
       " 'S3B_OL_2_WFR____20190814T133640_20190814T133940_20190815T223205_0179_028_352_3060_MAR_O_NT_002_subset.txt',\n",
       " 'S3B_OL_2_WFR____20190817T135907_20190817T140207_20190818T223704_0179_029_010_3060_MAR_O_NT_002_subset.txt',\n",
       " 'S3B_OL_2_WFR____20190818T133256_20190818T133556_20190819T190419_0180_029_024_3060_MAR_O_NT_002_subset.txt',\n",
       " 'S3B_OL_2_WFR____20190821T135522_20190821T135822_20190822T230644_0179_029_067_3060_MAR_O_NT_002_subset.txt',\n",
       " 'S3B_OL_2_WFR____20190822T132911_20190822T133211_20190823T205403_0180_029_081_3060_MAR_O_NT_002_subset.txt',\n",
       " 'S3B_OL_2_WFR____20190825T135137_20190825T135437_20190826T221952_0179_029_124_3060_MAR_O_NT_002_subset.txt',\n",
       " 'S3B_OL_2_WFR____20190826T132526_20190826T132826_20190827T233944_0179_029_138_3060_MAR_O_NT_002_subset.txt',\n",
       " 'S3B_OL_2_WFR____20190828T141403_20190828T141703_20190829T232024_0180_029_167_3060_MAR_O_NT_002_subset.txt',\n",
       " 'S3B_OL_2_WFR____20190829T134752_20190829T135052_20190830T200953_0179_029_181_3060_MAR_O_NT_002_subset.txt',\n",
       " 'S3B_OL_2_WFR____20190901T141019_20190901T141319_20190902T224002_0179_029_224_3060_MAR_O_NT_002_subset.txt',\n",
       " 'S3B_OL_2_WFR____20190902T134408_20190902T134708_20190903T223305_0179_029_238_3060_MAR_O_NT_002_subset.txt',\n",
       " 'S3B_OL_2_WFR____20190905T140635_20190905T140935_20190906T201441_0180_029_281_3060_MAR_O_NT_002_subset.txt',\n",
       " 'S3B_OL_2_WFR____20190906T134024_20190906T134324_20190907T221023_0179_029_295_3060_MAR_O_NT_002_subset.txt',\n",
       " 'S3B_OL_2_WFR____20190909T140250_20190909T140550_20190911T001620_0180_029_338_3060_MAR_O_NT_002_subset.txt',\n",
       " 'S3B_OL_2_WFR____20190910T133639_20190910T133939_20190911T201548_0179_029_352_3060_MAR_O_NT_002_subset.txt',\n",
       " 'S3B_OL_2_WFR____20190913T135906_20190913T140206_20190914T223601_0179_030_010_3060_MAR_O_NT_002_subset.txt',\n",
       " 'S3B_OL_2_WFR____20190914T133255_20190914T133555_20190915T201218_0180_030_024_3060_MAR_O_NT_002_subset.txt',\n",
       " 'S3B_OL_2_WFR____20190917T135521_20190917T135821_20190918T222807_0179_030_067_3060_MAR_O_NT_002_subset.txt',\n",
       " 'S3B_OL_2_WFR____20190918T132910_20190918T133210_20190919T230319_0179_030_081_3060_MAR_O_NT_002_subset.txt',\n",
       " 'S3B_OL_2_WFR____20190921T135136_20190921T135436_20190922T191342_0179_030_124_3060_MAR_O_NT_002_subset.txt',\n",
       " 'S3B_OL_2_WFR____20190922T132525_20190922T132825_20190923T203948_0180_030_138_3060_MAR_O_NT_002_subset.txt',\n",
       " 'S3B_OL_2_WFR____20190924T141403_20190924T141703_20190925T230431_0180_030_167_3060_MAR_O_NT_002_subset.txt',\n",
       " 'S3B_OL_2_WFR____20190925T134752_20190925T135052_20190926T224651_0179_030_181_3060_MAR_O_NT_002_subset.txt',\n",
       " 'S3B_OL_2_WFR____20190928T141018_20190928T141318_20190929T224828_0179_030_224_3060_MAR_O_NT_002_subset.txt',\n",
       " 'S3B_OL_2_WFR____20190929T134407_20190929T134707_20190930T223218_0179_030_238_3060_MAR_O_NT_002_subset.txt',\n",
       " 'S3B_OL_2_WFR____20191002T140633_20191002T140933_20191003T222714_0179_030_281_3060_MAR_O_NT_002_subset.txt',\n",
       " 'S3B_OL_2_WFR____20191003T134022_20191003T134322_20191004T194233_0179_030_295_3060_MAR_O_NT_002_subset.txt',\n",
       " 'S3B_OL_2_WFR____20191006T140248_20191006T140548_20191007T193450_0179_030_338_3060_MAR_O_NT_002_subset.txt',\n",
       " 'S3B_OL_2_WFR____20191007T133637_20191007T133937_20191008T220834_0179_030_352_3060_MAR_O_NT_002_subset.txt',\n",
       " 'S3B_OL_2_WFR____20191010T135903_20191010T140203_20191011T205039_0179_031_010_3060_MAR_O_NT_002_subset.txt',\n",
       " 'S3B_OL_2_WFR____20191011T133252_20191011T133552_20191012T221904_0179_031_024_3060_MAR_O_NT_002_subset.txt',\n",
       " 'S3B_OL_2_WFR____20191014T135517_20191014T135817_20191015T201228_0179_031_067_3060_MAR_O_NT_002_subset.txt',\n",
       " 'S3B_OL_2_WFR____20191015T132906_20191015T133206_20191016T225148_0179_031_081_3060_MAR_O_NT_002_subset.txt',\n",
       " 'S3B_OL_2_WFR____20191018T135133_20191018T135433_20191019T222301_0179_031_124_3060_MAR_O_NT_002_subset.txt',\n",
       " 'S3B_OL_2_WFR____20191019T132522_20191019T132822_20191020T215432_0180_031_138_3060_MAR_O_NT_002_subset.txt',\n",
       " 'S3B_OL_2_WFR____20191022T134749_20191022T135049_20191023T205012_0179_031_181_3060_MAR_O_NT_002_subset.txt',\n",
       " 'S3B_OL_2_WFR____20191025T141016_20191025T141316_20191026T201808_0179_031_224_3060_MAR_O_NT_002_subset.txt',\n",
       " 'S3B_OL_2_WFR____20191026T134406_20191026T134706_20191027T215853_0179_031_238_3060_MAR_O_NT_002_subset.txt',\n",
       " 'S3B_OL_2_WFR____20191029T140633_20191029T140933_20191030T234050_0179_031_281_3060_MAR_O_NT_002_subset.txt',\n",
       " 'S3B_OL_2_WFR____20191030T134022_20191030T134322_20191112T213415_0180_031_295_3060_MAR_O_NT_002_subset.txt',\n",
       " 'S3B_OL_2_WFR____20191102T140249_20191102T140549_20191122T173636_0179_031_338_3060_MAR_O_NT_002_subset.txt',\n",
       " 'S3B_OL_2_WFR____20191103T133638_20191103T133938_20191106T193256_0179_031_352_3060_MAR_O_NT_002_subset.txt',\n",
       " 'S3B_OL_2_WFR____20191106T135905_20191106T140205_20191125T121351_0179_032_010_3060_MAR_O_NT_002_subset.txt',\n",
       " 'S3B_OL_2_WFR____20191107T133255_20191107T133555_20191108T222639_0179_032_024_3060_MAR_O_NT_002_subset.txt',\n",
       " 'S3B_OL_2_WFR____20191110T135522_20191110T135822_20191111T211847_0179_032_067_3060_MAR_O_NT_002_subset.txt',\n",
       " 'S3B_OL_2_WFR____20191111T132911_20191111T133211_20191128T074133_0180_032_081_3060_MAR_O_NT_002_subset.txt',\n",
       " 'S3B_OL_2_WFR____20191114T135138_20191114T135438_20191115T221503_0179_032_124_3060_MAR_O_NT_002_subset.txt',\n",
       " 'S3B_OL_2_WFR____20191115T132527_20191115T132827_20191116T201624_0179_032_138_3060_MAR_O_NT_002_subset.txt',\n",
       " 'S3B_OL_2_WFR____20191118T134754_20191118T135054_20191202T105229_0179_032_181_3060_MAR_O_NT_002_subset.txt',\n",
       " 'S3B_OL_2_WFR____20191121T141020_20191121T141320_20191204T194421_0179_032_224_3060_MAR_O_NT_002_subset.txt',\n",
       " 'S3B_OL_2_WFR____20191122T134409_20191122T134709_20191205T165219_0179_032_238_3060_MAR_O_NT_002_subset.txt',\n",
       " 'S3B_OL_2_WFR____20191125T140636_20191125T140936_20191208T002044_0179_032_281_3060_MAR_O_NT_002_subset.txt',\n",
       " 'S3B_OL_2_WFR____20191126T134025_20191126T134325_20191208T221202_0179_032_295_3060_MAR_O_NT_002_subset.txt',\n",
       " 'S3B_OL_2_WFR____20191129T140252_20191129T140552_20191211T045749_0179_032_338_3060_MAR_O_NT_002_subset.txt',\n",
       " 'S3B_OL_2_WFR____20191130T133641_20191130T133941_20191212T061729_0179_032_352_3060_MAR_O_NT_002_subset.txt',\n",
       " 'S3B_OL_2_WFR____20191203T135907_20191203T140207_20191214T181905_0179_033_010_3060_MAR_O_NT_002_subset.txt',\n",
       " 'S3B_OL_2_WFR____20191204T133256_20191204T133556_20191215T144348_0179_033_024_3060_MAR_O_NT_002_subset.txt',\n",
       " 'S3B_OL_2_WFR____20191207T135523_20191207T135823_20191218T075950_0179_033_067_3060_MAR_O_NT_002_subset.txt',\n",
       " 'S3B_OL_2_WFR____20191208T132912_20191208T133212_20191219T041226_0179_033_081_3060_MAR_O_NT_002_subset.txt',\n",
       " 'S3B_OL_2_WFR____20191211T135138_20191211T135438_20191221T160615_0179_033_124_3060_MAR_O_NT_002_subset.txt',\n",
       " 'S3B_OL_2_WFR____20191212T132527_20191212T132827_20191222T115444_0179_033_138_3060_MAR_O_NT_002_subset.txt',\n",
       " 'S3B_OL_2_WFR____20191215T134754_20191215T135054_20191225T013424_0179_033_181_3060_MAR_O_NT_002_subset.txt',\n",
       " 'S3B_OL_2_WFR____20191218T141020_20191218T141320_20191227T140202_0179_033_224_3060_MAR_O_NT_002_subset.txt',\n",
       " 'S3B_OL_2_WFR____20191219T134409_20191219T134709_20191228T073240_0179_033_238_3060_MAR_O_NT_002_subset.txt',\n",
       " 'S3B_OL_2_WFR____20191222T140636_20191222T140936_20191230T225830_0179_033_281_3060_MAR_O_NT_002_subset.txt',\n",
       " 'S3B_OL_2_WFR____20191223T134025_20191223T134325_20191231T185722_0179_033_295_3060_MAR_O_NT_002_subset.txt',\n",
       " 'S3B_OL_2_WFR____20191226T140251_20191226T140551_20200103T064308_0179_033_338_3060_MAR_O_NT_002_subset.txt',\n",
       " 'S3B_OL_2_WFR____20191227T133640_20191227T133940_20200104T033911_0179_033_352_3060_MAR_O_NT_002_subset.txt',\n",
       " 'S3B_OL_2_WFR____20191230T135906_20191230T140206_20200106T170021_0179_034_010_3060_MAR_O_NT_002_subset.txt',\n",
       " 'S3B_OL_2_WFR____20191231T133256_20191231T133556_20200107T114914_0179_034_024_3060_MAR_O_NT_002_subset.txt',\n",
       " 'S3B_OL_2_WFR____20200103T135522_20200103T135822_20200109T202923_0180_034_067_3060_MAR_O_NT_002_subset.txt',\n",
       " 'S3B_OL_2_WFR____20200104T132911_20200104T133211_20200110T161835_0179_034_081_3060_MAR_O_NT_002_subset.txt',\n",
       " 'S3B_OL_2_WFR____20200107T135137_20200107T135437_20200113T002108_0179_034_124_3060_MAR_O_NT_002_subset.txt',\n",
       " 'S3B_OL_2_WFR____20200108T132526_20200108T132826_20200113T204241_0179_034_138_3060_MAR_O_NT_002_subset.txt',\n",
       " 'S3B_OL_2_WFR____20200111T134752_20200111T135052_20200116T060233_0179_034_181_3060_MAR_O_NT_002_subset.txt',\n",
       " 'S3B_OL_2_WFR____20200114T141019_20200114T141319_20200118T060819_0179_034_224_3060_MAR_O_NT_002_subset.txt',\n",
       " 'S3B_OL_2_WFR____20200115T134408_20200115T134708_20200118T222049_0180_034_238_3060_MAR_O_NT_002_subset.txt',\n",
       " 'S3B_OL_2_WFR____20200118T140634_20200118T140934_20200121T123441_0179_034_281_3060_MAR_O_NT_002_subset.txt',\n",
       " 'S3B_OL_2_WFR____20200119T134023_20200119T134323_20200122T065315_0179_034_295_3060_MAR_O_NT_002_subset.txt',\n",
       " 'S3B_OL_2_WFR____20200122T140249_20200122T140549_20200123T224319_0179_034_338_3060_MAR_O_NT_002_subset.txt',\n",
       " 'S3B_OL_2_WFR____20200123T133638_20200123T133938_20200124T222121_0179_034_352_3060_MAR_O_NT_002_subset.txt',\n",
       " 'S3B_OL_2_WFR____20200126T135904_20200126T140204_20200127T195407_0179_035_010_3060_MAR_O_NT_002_subset.txt',\n",
       " 'S3B_OL_2_WFR____20200127T133253_20200127T133553_20200128T195208_0180_035_024_3060_MAR_O_NT_002_subset.txt',\n",
       " 'S3B_OL_2_WFR____20200130T135519_20200130T135819_20200131T224540_0179_035_067_3060_MAR_O_NT_002_subset.txt',\n",
       " 'S3B_OL_2_WFR____20200131T132908_20200131T133208_20200201T195837_0179_035_081_3060_MAR_O_NT_002_subset.txt',\n",
       " 'S3B_OL_2_WFR____20200203T135134_20200203T135434_20200204T214900_0179_035_124_3060_MAR_O_NT_002_subset.txt',\n",
       " 'S3B_OL_2_WFR____20200204T132523_20200204T132823_20200205T184924_0179_035_138_3060_MAR_O_NT_002_subset.txt',\n",
       " 'S3B_OL_2_WFR____20200207T134750_20200207T135050_20200208T224053_0179_035_181_3060_MAR_O_NT_002_subset.txt',\n",
       " 'S3B_OL_2_WFR____20200210T141017_20200210T141317_20200211T223612_0179_035_224_3060_MAR_O_NT_002_subset.txt',\n",
       " 'S3B_OL_2_WFR____20200211T134406_20200211T134706_20200212T190206_0179_035_238_3060_MAR_O_NT_002_subset.txt',\n",
       " 'S3B_OL_2_WFR____20200214T140633_20200214T140933_20200215T210517_0179_035_281_3060_MAR_O_NT_002_subset.txt',\n",
       " 'S3B_OL_2_WFR____20200215T134022_20200215T134322_20200216T220036_0179_035_295_3060_MAR_O_NT_002_subset.txt',\n",
       " 'S3B_OL_2_WFR____20200218T140249_20200218T140549_20200219T214456_0179_035_338_3060_MAR_O_NT_002_subset.txt',\n",
       " 'S3B_OL_2_WFR____20200219T133638_20200219T133938_20200220T212005_0179_035_352_3060_MAR_O_NT_002_subset.txt',\n",
       " 'S3B_OL_2_WFR____20200222T135905_20200222T140205_20200223T223142_0179_036_010_3060_MAR_O_NT_002_subset.txt',\n",
       " 'S3B_OL_2_WFR____20200223T133255_20200223T133555_20200224T220719_0179_036_024_3060_MAR_O_NT_002_subset.txt',\n",
       " 'S3B_OL_2_WFR____20200226T135521_20200226T135821_20200302T071746_0179_036_067_3060_MAR_O_NT_002_subset.txt',\n",
       " 'S3B_OL_2_WFR____20200227T132911_20200227T133211_20200228T211455_0180_036_081_3060_MAR_O_NT_002_subset.txt',\n",
       " 'S3B_OL_2_WFR____20200301T135137_20200301T135437_20200302T213617_0179_036_124_3060_MAR_O_NT_002_subset.txt',\n",
       " 'S3B_OL_2_WFR____20200302T132527_20200302T132827_20200303T221846_0179_036_138_3060_MAR_O_NT_002_subset.txt',\n",
       " 'S3B_OL_2_WFR____20200305T134753_20200305T135053_20200306T225842_0179_036_181_3060_MAR_O_NT_002_subset.txt',\n",
       " 'S3B_OL_2_WFR____20200308T141020_20200308T141320_20200309T225533_0180_036_224_3060_MAR_O_NT_002_subset.txt',\n",
       " 'S3B_OL_2_WFR____20200309T134409_20200309T134709_20200310T215230_0179_036_238_3060_MAR_O_NT_002_subset.txt',\n",
       " 'S3B_OL_2_WFR____20200312T140636_20200312T140936_20200313T233134_0179_036_281_3060_MAR_O_NT_002_subset.txt',\n",
       " 'S3B_OL_2_WFR____20200313T134025_20200313T134325_20200314T220041_0180_036_295_3060_MAR_O_NT_002_subset.txt',\n",
       " 'S3B_OL_2_WFR____20200316T140252_20200316T140552_20200317T194658_0179_036_338_3060_MAR_O_NT_002_subset.txt',\n",
       " 'S3B_OL_2_WFR____20200317T133641_20200317T133941_20200318T201158_0179_036_352_3060_MAR_O_NT_002_subset.txt',\n",
       " 'S3B_OL_2_WFR____20200320T135908_20200320T140208_20200321T230125_0179_037_010_3060_MAR_O_NT_002_subset.txt',\n",
       " 'S3B_OL_2_WFR____20200321T133257_20200321T133557_20200322T221345_0179_037_024_3060_MAR_O_NT_002_subset.txt',\n",
       " 'S3B_OL_2_WFR____20200324T135523_20200324T135823_20200325T221820_0179_037_067_3060_MAR_O_NT_002_subset.txt',\n",
       " 'S3B_OL_2_WFR____20200325T132912_20200325T133212_20200326T193301_0179_037_081_3060_MAR_O_NT_002_subset.txt',\n",
       " 'S3B_OL_2_WFR____20200328T135139_20200328T135439_20200329T224045_0179_037_124_3060_MAR_O_NT_002_subset.txt',\n",
       " 'S3B_OL_2_WFR____20200329T132528_20200329T132828_20200330T192518_0179_037_138_3060_MAR_O_NT_002_subset.txt']"
      ]
     },
     "execution_count": 85,
     "metadata": {},
     "output_type": "execute_result"
    }
   ],
   "source": [
    "os.listdir(workdir)"
   ]
  },
  {
   "cell_type": "code",
   "execution_count": 86,
   "metadata": {},
   "outputs": [
    {
     "data": {
      "text/plain": [
       "370"
      ]
     },
     "execution_count": 86,
     "metadata": {},
     "output_type": "execute_result"
    }
   ],
   "source": [
    "len(os.listdir(workdir))"
   ]
  },
  {
   "cell_type": "code",
   "execution_count": 87,
   "metadata": {
    "scrolled": true
   },
   "outputs": [
    {
     "data": {
      "text/plain": [
       "'D:\\\\processing\\\\win\\\\MANACAPURU\\\\S3B_OL_2_WFR____20190722T133256_20190722T133556_20190723T215914_0179_028_024_3060_MAR_O_NT_002_subset.txt'"
      ]
     },
     "execution_count": 87,
     "metadata": {},
     "output_type": "execute_result"
    }
   ],
   "source": [
    "myday = 'S3B_OL_2_WFR____20190722T133256_20190722T133556_20190723T215914_0179_028_024_3060_MAR_O_NT_002_subset.txt'\n",
    "complete_path = os.path.join(workdir,myday)\n",
    "complete_path"
   ]
  },
  {
   "cell_type": "code",
   "execution_count": 93,
   "metadata": {},
   "outputs": [
    {
     "data": {
      "text/plain": [
       "'MANACAPURU WFR 20190722T133256'"
      ]
     },
     "execution_count": 93,
     "metadata": {},
     "output_type": "execute_result"
    }
   ],
   "source": [
    "figdate = os.path.basename(complete_path).split('____')[1].split('_')[0]\n",
    "figtitl = 'MANACAPURU WFR '+figdate\n",
    "figtitl"
   ]
  },
  {
   "cell_type": "code",
   "execution_count": 99,
   "metadata": {},
   "outputs": [
    {
     "data": {
      "text/plain": [
       "'D:\\\\processing\\\\win\\\\a1_plots\\\\mass_jm_scatter_cloudmask_on_WFR\\\\20190722T133256.png'"
      ]
     },
     "execution_count": 99,
     "metadata": {},
     "output_type": "execute_result"
    }
   ],
   "source": [
    "os.path.join(savedir,figdate+'.png')"
   ]
  },
  {
   "cell_type": "code",
   "execution_count": 88,
   "metadata": {},
   "outputs": [
    {
     "data": {
      "text/plain": [
       "2598"
      ]
     },
     "execution_count": 88,
     "metadata": {},
     "output_type": "execute_result"
    }
   ],
   "source": [
    "# read text file and convert to pandas dataframe\n",
    "df = pd.read_csv(complete_path, sep='\\t', skiprows=1)\n",
    "\n",
    "# Get + Delete: indexes for which column LON has value 0\n",
    "indexNames = df[ df['longitude:double'] == 0 ].index\n",
    "df.drop(indexNames , inplace=True)\n",
    "\n",
    "# Get + Delete: indexes for which column WQSF <= 40\n",
    "indexNames = df[ df['WQSF_lsb:double'] <= 40 ].index\n",
    "df.drop(indexNames , inplace=True)\n",
    "\n",
    "len(df)"
   ]
  },
  {
   "cell_type": "code",
   "execution_count": 89,
   "metadata": {},
   "outputs": [],
   "source": [
    "def mass_sktr(xdata, ydata, xlabel, ylabel, color, clabel, title, savepathname):\n",
    "    plt.rcParams['figure.figsize'] = [9.4, 8]\n",
    "    fig = plt.figure()\n",
    "    ax = plt.axes()\n",
    "    ax.set_title(title)\n",
    "\n",
    "    img = ax.scatter(xdata, ydata, s=3, c=color)\n",
    "\n",
    "    ax.plot( [-1,1],[-1,1],'k-', linewidth=1)\n",
    "    ax.plot( [0,0],[-1,1], c='grey', linestyle='dashed', linewidth=1)\n",
    "    ax.plot( [-1,1],[0,0], c='grey', linestyle='dashed', linewidth=1)\n",
    "    \n",
    "    ax.set_xlabel(xlabel)\n",
    "    ax.set_ylabel(ylabel)\n",
    "\n",
    "    ax.set_xlim(-0.02,0.2)\n",
    "    ax.set_ylim(-0.02,0.2)\n",
    "    plt.text(0.160,0.003,'% Reflectance')\n",
    "    \n",
    "    fig.colorbar(img, ax=ax)\n",
    "\n",
    "    plt.savefig(savepathname)"
   ]
  },
  {
   "cell_type": "code",
   "execution_count": 94,
   "metadata": {},
   "outputs": [
    {
     "data": {
      "image/png": "[encoded data removed]",
      "text/plain": [
       "<Figure size 676.8x576 with 2 Axes>"
      ]
     },
     "metadata": {
      "needs_background": "light"
     },
     "output_type": "display_data"
    }
   ],
   "source": [
    "mass_sktr(xdata=df['Oa08_reflectance:float'],\n",
    "          ydata=df['Oa21_reflectance:float'],\n",
    "          xlabel='Oa08: 665 nm',\n",
    "          ylabel='Oa17: 865 nm',\n",
    "          color=df['T865:float'],\n",
    "          clabel='T865',\n",
    "          title='MANACAPURU L2_WFR - DATE - BX : BY',\n",
    "          savepathname='D:\\\\processing\\\\win\\\\a1_plots\\\\mass_jm_scatter_cloudmask_on_WFR\\\\test01massplot.png')"
   ]
  },
  {
   "cell_type": "code",
   "execution_count": null,
   "metadata": {},
   "outputs": [],
   "source": [
    "for img in os.listdir(workdir):\n",
    "    \n",
    "    # get complete path + filename\n",
    "    complete_path = os.path.join(workdir,img)\n",
    "    \n",
    "    # read text file and convert to pandas dataframe\n",
    "    df = pd.read_csv(complete_path, sep='\\t', skiprows=1)\n",
    "    \n",
    "    # Get + Delete: indexes for which column LON has value 0\n",
    "    indexNames = df[ df['longitude:double'] == 0 ].index\n",
    "    df.drop(indexNames , inplace=True)\n",
    "    \n",
    "    # Get + Delete: indexes for which column WQSF <= 40\n",
    "    indexNames = df[ df['WQSF_lsb:double'] <= 40 ].index\n",
    "    df.drop(indexNames , inplace=True)\n",
    "    \n",
    "    # fig params\n",
    "    figdate = os.path.basename(img).split('____')[1].split('_')[0]\n",
    "    figtitl = 'MANACAPURU WFR '+figdate\n",
    "    savpt = os.path.join(savedir,figdate+'.png')\n",
    "    \n",
    "    print(f'Generating image: {savpt}')\n",
    "    \n",
    "    # ------- generate plot\n",
    "    mass_sktr(xdata=df['Oa08_reflectance:float'],\n",
    "              ydata=df['Oa21_reflectance:float'],\n",
    "              xlabel='Oa08: 665 nm',\n",
    "              ylabel='Oa17: 865 nm',\n",
    "              color=df['T865:float'],\n",
    "              clabel='T865',\n",
    "              title=figtitl,\n",
    "              savepathname=savpt)"
   ]
  },
  {
   "cell_type": "code",
   "execution_count": null,
   "metadata": {},
   "outputs": [],
   "source": []
  }
 ],
 "metadata": {
  "kernelspec": {
   "display_name": "Python 3",
   "language": "python",
   "name": "python3"
  },
  "language_info": {
   "codemirror_mode": {
    "name": "ipython",
    "version": 3
   },
   "file_extension": ".py",
   "mimetype": "text/x-python",
   "name": "python",
   "nbconvert_exporter": "python",
   "pygments_lexer": "ipython3",
   "version": "3.6.10"
  }
 },
 "nbformat": 4,
 "nbformat_minor": 4
}
