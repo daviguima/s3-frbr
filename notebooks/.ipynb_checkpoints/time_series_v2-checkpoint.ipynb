{
 "cells": [
  {
   "cell_type": "code",
   "execution_count": null,
   "metadata": {},
   "outputs": [],
   "source": [
    "import os\n",
    "import sys\n",
    "import time\n",
    "import pandas as pd\n",
    "import numpy as np\n",
    "import matplotlib.pyplot as plt\n",
    "from datetime import datetime\n",
    "\n",
    "sys.path.append('../')\n",
    "\n",
    "from tsgen import TsGenerator\n",
    "\n",
    "tsgen = TsGenerator()"
   ]
  },
  {
   "cell_type": "markdown",
   "metadata": {},
   "source": [
    "## Defining the working directories"
   ]
  },
  {
   "cell_type": "markdown",
   "metadata": {},
   "source": [
    "* Folder of files containing raw pixels extracted with GPT\n",
    "* Folder to save the processed files\n",
    "* Folder in which the plots should be saved"
   ]
  },
  {
   "cell_type": "code",
   "execution_count": null,
   "metadata": {},
   "outputs": [],
   "source": [
    "in_dir = 'D:\\\\processing\\\\win\\\\MANACAPURUv5'\n",
    "out_dir = 'D:\\\\processing\\\\win\\\\MADEIRAv5'\n",
    "img_dir = 'D:\\\\processing\\\\win\\\\a1_plots\\\\MADEIRAv5'"
   ]
  },
  {
   "cell_type": "code",
   "execution_count": null,
   "metadata": {},
   "outputs": [],
   "source": [
    "todo = tsgen.build_list_from_subset(in_dir)\n",
    "todo_fullpath = [os.path.join(in_dir,csv) for csv in todo]\n",
    "print(f'{todo[0]}\\n\\n{todo_fullpath[0]}')"
   ]
  },
  {
   "cell_type": "markdown",
   "metadata": {},
   "source": [
    "## Generating new CSVs and plots based in the RAW data."
   ]
  },
  {
   "cell_type": "code",
   "execution_count": null,
   "metadata": {},
   "outputs": [],
   "source": [
    "t1 = time.perf_counter()\n",
    "skiplst = []\n",
    "donelst = []\n",
    "\n",
    "total = len(todo_fullpath)\n",
    "for n,img in enumerate(todo_fullpath):\n",
    "    print(f'>>> Processing: {n+1} of {total} ... {img}')\n",
    "    \n",
    "    # reprocessing the raw CSVs and removing \n",
    "    # reflectances above the threshold in IR.\n",
    "    dfpth, df = tsgen.update_csvs(csv_path=img,\n",
    "                                  savepath=out_dir,\n",
    "                                  threshold=0.2)\n",
    "    \n",
    "    if len(df) < 1:\n",
    "        print(f'Skipping empty CSV: {dfpth}')\n",
    "        skiplst.append(img)\n",
    "        continue\n",
    "    else:\n",
    "        donelst.append(img)\n",
    "    \n",
    "    \n",
    "    # fig params -------------------------------------------------\n",
    "    figdate = os.path.basename(img).split('____')[1].split('_')[0]\n",
    "    figtitl = 'MANACAPURU WFR '+figdate\n",
    "    savpt = os.path.join(img_dir,figdate+'.png')\n",
    "    \n",
    "    print(f'Generating image: {savpt}')\n",
    "    \n",
    "    # generate plot v1 --------------------------\n",
    "    tsgen.plot_single_sktr(\n",
    "        xdata=df['Oa08_reflectance:float'],\n",
    "        ydata=df['Oa21_reflectance:float'],\n",
    "        xlabel='Oa08: 665 nm',\n",
    "        ylabel='Oa17: 865 nm',\n",
    "        color=df['T865:float'],\n",
    "        clabel='T865',\n",
    "        title=figtitl,\n",
    "        savepathname=savpt)\n",
    "\n",
    "t2 = time.perf_counter()\n",
    "print(f'>>> Finished in {round(t2 - t1, 2)} second(s). <<<')"
   ]
  },
  {
   "cell_type": "markdown",
   "metadata": {},
   "source": [
    "## Generating mean values dataset"
   ]
  },
  {
   "cell_type": "code",
   "execution_count": null,
   "metadata": {},
   "outputs": [],
   "source": [
    "wdir = out_dir\n",
    "\n",
    "todo = tsgen.build_list_from_subset(wdir)\n",
    "\n",
    "todo_fullpath = [os.path.join(wdir,txt) for txt in todo]"
   ]
  },
  {
   "cell_type": "markdown",
   "metadata": {},
   "source": [
    "## Converting and saving the list of mean values into a XLS excel file."
   ]
  },
  {
   "cell_type": "code",
   "execution_count": null,
   "metadata": {},
   "outputs": [],
   "source": [
    "data = tsgen.generate_time_series_datav2(wdir,todo)\n",
    "\n",
    "series_df = pd.DataFrame(data=data)\n",
    "\n",
    "# series_df.to_excel('D:\\\\processing\\\\win\\\\MADEIRAv5.xlsx', sheet_name='madeirav5')"
   ]
  },
  {
   "cell_type": "code",
   "execution_count": null,
   "metadata": {},
   "outputs": [],
   "source": [
    "series_df.head()"
   ]
  },
  {
   "cell_type": "code",
   "execution_count": null,
   "metadata": {},
   "outputs": [],
   "source": [
    "list(series_df.columns)"
   ]
  },
  {
   "cell_type": "code",
   "execution_count": null,
   "metadata": {},
   "outputs": [],
   "source": [
    "df = pd.read_csv(todo_fullpath[0])\n",
    "df.head()"
   ]
  },
  {
   "cell_type": "code",
   "execution_count": null,
   "metadata": {},
   "outputs": [],
   "source": [
    "list(df.columns)"
   ]
  },
  {
   "cell_type": "code",
   "execution_count": null,
   "metadata": {},
   "outputs": [],
   "source": [
    "tsgen.plot_sidebyside_sktr(x1_data=df['Oa08_reflectance:float'],\n",
    "                           y1_data=df['Oa17_reflectance:float'],\n",
    "                           x2_data=df['Oa08_reflectance:float'],\n",
    "                           y2_data=df['Oa17_reflectance:float'],\n",
    "                           x_lbl='RED',\n",
    "                           y_lbl='NIR',\n",
    "                           c1_data=df['A865:float'],\n",
    "                           c1_lbl='A865',\n",
    "                           c2_data=df['T865:float'],\n",
    "                           c2_lbl='T865',\n",
    "                           title='TITLE')"
   ]
  },
  {
   "cell_type": "code",
   "execution_count": null,
   "metadata": {},
   "outputs": [],
   "source": []
  }
 ],
 "metadata": {
  "kernelspec": {
   "display_name": "Python 3",
   "language": "python",
   "name": "python3"
  },
  "language_info": {
   "codemirror_mode": {
    "name": "ipython",
    "version": 3
   },
   "file_extension": ".py",
   "mimetype": "text/x-python",
   "name": "python",
   "nbconvert_exporter": "python",
   "pygments_lexer": "ipython3",
   "version": "3.6.10"
  }
 },
 "nbformat": 4,
 "nbformat_minor": 4
}
