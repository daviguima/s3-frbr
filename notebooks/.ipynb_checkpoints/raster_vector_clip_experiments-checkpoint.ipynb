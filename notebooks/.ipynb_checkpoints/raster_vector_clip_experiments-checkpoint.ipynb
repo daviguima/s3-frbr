{
 "cells": [
  {
   "cell_type": "markdown",
   "metadata": {},
   "source": [
    "## Clip raster with vector"
   ]
  },
  {
   "cell_type": "code",
   "execution_count": 9,
   "metadata": {},
   "outputs": [],
   "source": [
    "import rasterio\n",
    "# https://rasterio.readthedocs.io/en/latest/quickstart.html"
   ]
  },
  {
   "cell_type": "code",
   "execution_count": 8,
   "metadata": {},
   "outputs": [],
   "source": [
    "dataset = rasterio.open('D:\\\\S3\\\\s3jm\\\\S3B_OL_1_EFR____20200219T133638_20200219T133938_20200220T164913_0179_035_352_3060_LN1_O_NT_002_processed.tif')"
   ]
  },
  {
   "cell_type": "code",
   "execution_count": 6,
   "metadata": {},
   "outputs": [
    {
     "ename": "AttributeError",
     "evalue": "'NoneType' object has no attribute 'replace'",
     "output_type": "error",
     "traceback": [
      "\u001b[1;31m---------------------------------------------------------------------------\u001b[0m",
      "\u001b[1;31mAttributeError\u001b[0m                            Traceback (most recent call last)",
      "\u001b[1;32m<ipython-input-6-6b50687afdd9>\u001b[0m in \u001b[0;36m<module>\u001b[1;34m\u001b[0m\n\u001b[0;32m      3\u001b[0m     \u001b[0mcountry_name\u001b[0m \u001b[1;33m=\u001b[0m \u001b[0mft\u001b[0m\u001b[1;33m.\u001b[0m\u001b[0mGetFieldAsString\u001b[0m\u001b[1;33m(\u001b[0m\u001b[1;34m'admin'\u001b[0m\u001b[1;33m)\u001b[0m\u001b[1;33m\u001b[0m\u001b[1;33m\u001b[0m\u001b[0m\n\u001b[0;32m      4\u001b[0m \u001b[1;33m\u001b[0m\u001b[0m\n\u001b[1;32m----> 5\u001b[1;33m     \u001b[0moutraster\u001b[0m \u001b[1;33m=\u001b[0m \u001b[0minraster\u001b[0m\u001b[1;33m.\u001b[0m\u001b[0mreplace\u001b[0m\u001b[1;33m(\u001b[0m\u001b[1;34m'.tif'\u001b[0m\u001b[1;33m,\u001b[0m \u001b[1;34m'_%s.tif'\u001b[0m \u001b[1;33m%\u001b[0m \u001b[0mcountry_name\u001b[0m\u001b[1;33m.\u001b[0m\u001b[0mreplace\u001b[0m\u001b[1;33m(\u001b[0m\u001b[1;34m' '\u001b[0m\u001b[1;33m,\u001b[0m \u001b[1;34m'_'\u001b[0m\u001b[1;33m)\u001b[0m\u001b[1;33m)\u001b[0m\u001b[1;33m\u001b[0m\u001b[1;33m\u001b[0m\u001b[0m\n\u001b[0m\u001b[0;32m      6\u001b[0m     subprocess.call(['gdalwarp', inraster, outraster, '-cutline', inshape, \n\u001b[0;32m      7\u001b[0m                      '-crop_to_cutline', '-cwhere', \"'admin'='%s'\" % country_name])\n",
      "\u001b[1;31mAttributeError\u001b[0m: 'NoneType' object has no attribute 'replace'"
     ]
    }
   ],
   "source": [
    "while ft:\n",
    "\n",
    "    country_name = ft.GetFieldAsString('admin')\n",
    "\n",
    "    outraster = inraster.replace('.tif', '_%s.tif' % country_name.replace(' ', '_'))    \n",
    "    subprocess.call(['gdalwarp', inraster, outraster, '-cutline', inshape, \n",
    "                     '-crop_to_cutline', '-cwhere', \"'admin'='%s'\" % country_name])\n",
    "\n",
    "    ft = lyr.GetNextFeature()\n",
    "\n",
    "ds = None"
   ]
  },
  {
   "cell_type": "code",
   "execution_count": 10,
   "metadata": {},
   "outputs": [
    {
     "data": {
      "text/plain": [
       "'D:\\\\S3\\\\s3jm\\\\S3B_OL_1_EFR____20200219T133638_20200219T133938_20200220T164913_0179_035_352_3060_LN1_O_NT_002_processed.tif'"
      ]
     },
     "execution_count": 10,
     "metadata": {},
     "output_type": "execute_result"
    }
   ],
   "source": [
    "dataset.name"
   ]
  },
  {
   "cell_type": "code",
   "execution_count": 11,
   "metadata": {},
   "outputs": [
    {
     "data": {
      "text/plain": [
       "'r'"
      ]
     },
     "execution_count": 11,
     "metadata": {},
     "output_type": "execute_result"
    }
   ],
   "source": [
    "dataset.mode"
   ]
  },
  {
   "cell_type": "code",
   "execution_count": 12,
   "metadata": {},
   "outputs": [
    {
     "data": {
      "text/plain": [
       "False"
      ]
     },
     "execution_count": 12,
     "metadata": {},
     "output_type": "execute_result"
    }
   ],
   "source": [
    "dataset.closed"
   ]
  },
  {
   "cell_type": "code",
   "execution_count": 13,
   "metadata": {},
   "outputs": [
    {
     "data": {
      "text/plain": [
       "16"
      ]
     },
     "execution_count": 13,
     "metadata": {},
     "output_type": "execute_result"
    }
   ],
   "source": [
    "dataset.count"
   ]
  },
  {
   "cell_type": "code",
   "execution_count": 14,
   "metadata": {},
   "outputs": [
    {
     "data": {
      "text/plain": [
       "4866"
      ]
     },
     "execution_count": 14,
     "metadata": {},
     "output_type": "execute_result"
    }
   ],
   "source": [
    "dataset.width"
   ]
  },
  {
   "cell_type": "code",
   "execution_count": 15,
   "metadata": {},
   "outputs": [
    {
     "data": {
      "text/plain": [
       "4576"
      ]
     },
     "execution_count": 15,
     "metadata": {},
     "output_type": "execute_result"
    }
   ],
   "source": [
    "dataset.height"
   ]
  },
  {
   "cell_type": "code",
   "execution_count": 16,
   "metadata": {},
   "outputs": [
    {
     "data": {
      "text/plain": [
       "BoundingBox(left=-65.596559569388, bottom=-13.330588184588242, right=-51.54237102215476, top=-0.11398999467058246)"
      ]
     },
     "execution_count": 16,
     "metadata": {},
     "output_type": "execute_result"
    }
   ],
   "source": [
    "dataset.bounds"
   ]
  },
  {
   "cell_type": "code",
   "execution_count": 17,
   "metadata": {},
   "outputs": [
    {
     "data": {
      "text/plain": [
       "CRS.from_epsg(4326)"
      ]
     },
     "execution_count": 17,
     "metadata": {},
     "output_type": "execute_result"
    }
   ],
   "source": [
    "dataset.crs"
   ]
  },
  {
   "cell_type": "markdown",
   "metadata": {},
   "source": [
    "## CLIP USING FIONA"
   ]
  },
  {
   "cell_type": "code",
   "execution_count": 29,
   "metadata": {},
   "outputs": [],
   "source": [
    "import fiona\n",
    "from rasterstats.io import Raster\n",
    "from rasterstats import zonal_stats\n",
    "\n",
    "def clip_raster_by_shp(rasterpath, shppath, band=1):\n",
    "    \"\"\"\n",
    "    Given an input raster (path) and shapefile (path), returns the raster object\n",
    "    corresponding to the raster defined by the bounds of the shapefile\n",
    "    \"\"\"\n",
    "\n",
    "    with fiona.open(shppath,nan_as_nodata=True) as f:\n",
    "        geom_bounds = f.bounds\n",
    "\n",
    "    with Raster(rasterpath, band=band) as raster_obj:\n",
    "        rast = raster_obj.read(bounds=geom_bounds) \n",
    "\n",
    "    return rast"
   ]
  },
  {
   "cell_type": "code",
   "execution_count": 23,
   "metadata": {},
   "outputs": [],
   "source": [
    "crop_raster = clip_raster_by_shp(rasterpath='D:\\\\S3\\\\s3jm\\\\S3B_OL_1_EFR____20200219T133638_20200219T133938_20200220T164913_0179_035_352_3060_LN1_O_NT_002_processed.tif',\n",
    "                   shppath='D:\\\\A1_JM\\\\areas\\\\manacapuru.shp')"
   ]
  },
  {
   "cell_type": "code",
   "execution_count": 24,
   "metadata": {},
   "outputs": [
    {
     "data": {
      "text/plain": [
       "<rasterstats.io.Raster at 0x1dc3d6bc2b0>"
      ]
     },
     "execution_count": 24,
     "metadata": {},
     "output_type": "execute_result"
    }
   ],
   "source": [
    "crop_raster"
   ]
  },
  {
   "cell_type": "code",
   "execution_count": 31,
   "metadata": {},
   "outputs": [],
   "source": [
    "with fiona.open('D:\\\\A1_JM\\\\areas\\\\manacapuru.shp') as src:\n",
    "    zs = zonal_stats(src, 'D:\\\\S3\\\\s3jm\\\\S3B_OL_1_EFR____20200219T133638_20200219T133938_20200220T164913_0179_035_352_3060_LN1_O_NT_002_processed.tif',\n",
    "                stats=\"count\",\n",
    "                raster_out=True)[0].keys()\n",
    "    \n"
   ]
  },
  {
   "cell_type": "code",
   "execution_count": null,
   "metadata": {},
   "outputs": [],
   "source": []
  }
 ],
 "metadata": {
  "kernelspec": {
   "display_name": "Python 3",
   "language": "python",
   "name": "python3"
  },
  "language_info": {
   "codemirror_mode": {
    "name": "ipython",
    "version": 3
   },
   "file_extension": ".py",
   "mimetype": "text/x-python",
   "name": "python",
   "nbconvert_exporter": "python",
   "pygments_lexer": "ipython3",
   "version": "3.6.10"
  }
 },
 "nbformat": 4,
 "nbformat_minor": 4
}
