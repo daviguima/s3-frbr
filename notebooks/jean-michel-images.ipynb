{
 "cells": [
  {
   "cell_type": "code",
   "execution_count": 2,
   "metadata": {},
   "outputs": [],
   "source": [
    "import os\n",
    "import sys\n",
    "import time\n",
    "\n",
    "import pandas as pd\n",
    "import matplotlib.pyplot as plt\n",
    "\n",
    "sys.path.append('../')\n",
    "\n",
    "from tsgen import TsGenerator\n",
    "from outsourcing import GDALBridge\n",
    "import tif_explorer"
   ]
  },
  {
   "cell_type": "code",
   "execution_count": 3,
   "metadata": {},
   "outputs": [
    {
     "data": {
      "text/plain": [
       "['D:\\\\S3\\\\s3jm\\\\S3A_OL_1_EFR____20200213T133119_20200213T133419_20200214T171023_0179_055_024_3060_LN1_O_NT_002_processed.tif',\n",
       " 'D:\\\\S3\\\\s3jm\\\\S3A_OL_1_EFR____20200223T141227_20200223T141527_20200224T185002_0180_055_167_3060_LN1_O_NT_002_processed.tif',\n",
       " 'D:\\\\S3\\\\s3jm\\\\S3B_OL_1_EFR____20200215T134022_20200215T134322_20200216T175042_0179_035_295_3060_LN1_O_NT_002_processed.tif',\n",
       " 'D:\\\\S3\\\\s3jm\\\\S3B_OL_1_EFR____20200218T140249_20200218T140549_20200219T173507_0179_035_338_3060_LN1_O_NT_002_processed.tif',\n",
       " 'D:\\\\S3\\\\s3jm\\\\S3B_OL_1_EFR____20200219T133638_20200219T133938_20200220T164913_0179_035_352_3060_LN1_O_NT_002_processed.tif']"
      ]
     },
     "execution_count": 3,
     "metadata": {},
     "output_type": "execute_result"
    }
   ],
   "source": [
    "work_dir = \"D:\\\\S3\\\\s3jm\"\n",
    "\n",
    "s3imgs = os.listdir(work_dir)\n",
    "\n",
    "# Cleaning .hdf and .xml files from the list\n",
    "s3imgs = [f for f in s3imgs if f.endswith('.tif')]\n",
    "s3imgs = [os.path.join(work_dir,s) for s in s3imgs]\n",
    "s3imgs[0:5]"
   ]
  },
  {
   "cell_type": "code",
   "execution_count": 4,
   "metadata": {},
   "outputs": [
    {
     "data": {
      "text/plain": [
       "['D:\\\\A1_JM\\\\areas\\\\coari.shp',\n",
       " 'D:\\\\A1_JM\\\\areas\\\\fonte_boa.shp',\n",
       " 'D:\\\\A1_JM\\\\areas\\\\madeira.shp',\n",
       " 'D:\\\\A1_JM\\\\areas\\\\manacapuru.shp',\n",
       " 'D:\\\\A1_JM\\\\areas\\\\negro.shp',\n",
       " 'D:\\\\A1_JM\\\\areas\\\\tefe.shp']"
      ]
     },
     "execution_count": 4,
     "metadata": {},
     "output_type": "execute_result"
    }
   ],
   "source": [
    "# get KML/SHP list\n",
    "areas_path = 'D:\\\\A1_JM\\\\areas'\n",
    "areas = os.listdir(areas_path)\n",
    "areas = [os.path.join(areas_path,a) for a in areas if a.endswith('.shp')]\n",
    "areas"
   ]
  },
  {
   "cell_type": "code",
   "execution_count": 5,
   "metadata": {},
   "outputs": [
    {
     "name": "stderr",
     "output_type": "stream",
     "text": [
      "C:\\Users\\david\\.conda\\envs\\git-prj\\lib\\site-packages\\rasterstats\\io.py:301: UserWarning: Setting nodata to -999; specify nodata explicitly\n",
      "  warnings.warn(\"Setting nodata to -999; specify nodata explicitly\")\n"
     ]
    }
   ],
   "source": [
    "# testing zonal statistics\n",
    "run = tif_explorer.TFXP()\n",
    "bandstats = run.tif_stats(areas[3],s3imgs[0])"
   ]
  },
  {
   "cell_type": "code",
   "execution_count": 6,
   "metadata": {},
   "outputs": [
    {
     "data": {
      "text/plain": [
       "{'Datetime': '2020-02-13 13:31:19',\n",
       " 'Date-String': '20200213T133119',\n",
       " 'B1-400': 0.31865707667971316,\n",
       " 'B2-412.5': 0.31048115099720947,\n",
       " 'B3-442.5': 0.3183587337902167,\n",
       " 'B4-490': 0.32676503412518465,\n",
       " 'B5-510': 0.3379443263193532,\n",
       " 'B6-560': 0.3555654925260588,\n",
       " 'B7-620': 0.3667510765912262,\n",
       " 'B8-665': 0.37011710734877706,\n",
       " 'B9-673.75': 0.3692568442732272,\n",
       " 'B10-681.25': 0.3726421113242777,\n",
       " 'B11-708.75': 0.4423169682703751,\n",
       " 'B12-753.75': 0.4438577152284759,\n",
       " 'B16-778.75': 0.4552168667668664,\n",
       " 'B17-865': 0.4656505522098654,\n",
       " 'B18-885': 0.4741053039590857,\n",
       " 'B21-1020': 0.44451547623933024,\n",
       " 'filename': 'S3A_OL_1_EFR____20200213T133119_20200213T133419_20200214T171023_0179_055_024_3060_LN1_O_NT_002_processed.tif'}"
      ]
     },
     "execution_count": 6,
     "metadata": {},
     "output_type": "execute_result"
    }
   ],
   "source": [
    "bandstats"
   ]
  },
  {
   "cell_type": "code",
   "execution_count": 7,
   "metadata": {},
   "outputs": [
    {
     "name": "stderr",
     "output_type": "stream",
     "text": [
      "C:\\Users\\david\\.conda\\envs\\git-prj\\lib\\site-packages\\numpy\\core\\_methods.py:38: RuntimeWarning: overflow encountered in reduce\n",
      "  return umr_sum(a, axis, dtype, out, keepdims, initial, where)\n"
     ]
    },
    {
     "name": "stdout",
     "output_type": "stream",
     "text": [
      "Finished in 5.84 second(s).\n"
     ]
    }
   ],
   "source": [
    "t1 = time.perf_counter()\n",
    "\n",
    "coari_bstats = [run.tif_stats(areas[0], img) for img in s3imgs]\n",
    "fonte_boa_bstats = [run.tif_stats(areas[1], img) for img in s3imgs]\n",
    "madeira_bstats = [run.tif_stats(areas[2], img) for img in s3imgs]\n",
    "manacapuru_bstats = [run.tif_stats(areas[3], img) for img in s3imgs]\n",
    "negro_bstats = [run.tif_stats(areas[4], img) for img in s3imgs]\n",
    "tefe_bstats = [run.tif_stats(areas[5], img) for img in s3imgs]\n",
    "\n",
    "t2 = time.perf_counter()\n",
    "print(f'Finished in {round(t2 - t1, 2)} second(s).')"
   ]
  },
  {
   "cell_type": "code",
   "execution_count": 8,
   "metadata": {},
   "outputs": [
    {
     "data": {
      "text/plain": [
       "[{'Datetime': '2020-02-13 13:31:19',\n",
       "  'Date-String': '20200213T133119',\n",
       "  'B1-400': inf,\n",
       "  'B2-412.5': inf,\n",
       "  'B3-442.5': inf,\n",
       "  'B4-490': inf,\n",
       "  'B5-510': inf,\n",
       "  'B6-560': inf,\n",
       "  'B7-620': inf,\n",
       "  'B8-665': inf,\n",
       "  'B9-673.75': inf,\n",
       "  'B10-681.25': inf,\n",
       "  'B11-708.75': inf,\n",
       "  'B12-753.75': inf,\n",
       "  'B16-778.75': inf,\n",
       "  'B17-865': inf,\n",
       "  'B18-885': inf,\n",
       "  'B21-1020': inf,\n",
       "  'filename': 'S3A_OL_1_EFR____20200213T133119_20200213T133419_20200214T171023_0179_055_024_3060_LN1_O_NT_002_processed.tif'},\n",
       " {'Datetime': '2020-02-23 14:12:27',\n",
       "  'Date-String': '20200223T141227',\n",
       "  'B1-400': 0.13760754442590428,\n",
       "  'B2-412.5': 0.13095001460999015,\n",
       "  'B3-442.5': 0.14340149886964812,\n",
       "  'B4-490': 0.15525885153943159,\n",
       "  'B5-510': 0.16160348006120817,\n",
       "  'B6-560': 0.18555057555671753,\n",
       "  'B7-620': 0.20139724851593258,\n",
       "  'B8-665': 0.20539002906619094,\n",
       "  'B9-673.75': 0.2063746655081201,\n",
       "  'B10-681.25': 0.20770465520423229,\n",
       "  'B11-708.75': 0.22316176046536662,\n",
       "  'B12-753.75': 0.22103105680210383,\n",
       "  'B16-778.75': 0.22865576556348424,\n",
       "  'B17-865': 0.22317634642593503,\n",
       "  'B18-885': 0.22152750811238928,\n",
       "  'B21-1020': 0.1967164047121063,\n",
       "  'filename': 'S3A_OL_1_EFR____20200223T141227_20200223T141527_20200224T185002_0180_055_167_3060_LN1_O_NT_002_processed.tif'},\n",
       " {'Datetime': '2020-02-15 13:40:22',\n",
       "  'Date-String': '20200215T134022',\n",
       "  'B1-400': 0.002821564859772915,\n",
       "  'B2-412.5': -0.01124824076010317,\n",
       "  'B3-442.5': -0.012363319634278863,\n",
       "  'B4-490': -0.0004089787069412635,\n",
       "  'B5-510': 0.009136034578409388,\n",
       "  'B6-560': 0.04632506066495857,\n",
       "  'B7-620': 0.06686324242670466,\n",
       "  'B8-665': 0.07430846361127649,\n",
       "  'B9-673.75': 0.0764876465033595,\n",
       "  'B10-681.25': 0.0784104852987856,\n",
       "  'B11-708.75': 0.09834653222542343,\n",
       "  'B12-753.75': 0.11846618889649957,\n",
       "  'B16-778.75': 0.13118370139209515,\n",
       "  'B17-865': 0.12895418585366447,\n",
       "  'B18-885': 0.12824373853336413,\n",
       "  'B21-1020': 0.13114111679338186,\n",
       "  'filename': 'S3B_OL_1_EFR____20200215T134022_20200215T134322_20200216T175042_0179_035_295_3060_LN1_O_NT_002_processed.tif'},\n",
       " {'Datetime': '2020-02-18 14:02:49',\n",
       "  'Date-String': '20200218T140249',\n",
       "  'B1-400': 0.016808327397514092,\n",
       "  'B2-412.5': 0.020493648285813872,\n",
       "  'B3-442.5': 0.031998469707198315,\n",
       "  'B4-490': 0.050688831097972155,\n",
       "  'B5-510': 0.060945733338826184,\n",
       "  'B6-560': 0.09310011915619229,\n",
       "  'B7-620': 0.1212596744994168,\n",
       "  'B8-665': 0.1282937864122643,\n",
       "  'B9-673.75': 0.1305140944698921,\n",
       "  'B10-681.25': 0.13202129737770946,\n",
       "  'B11-708.75': 0.1204454769057397,\n",
       "  'B12-753.75': 0.061347463082748105,\n",
       "  'B16-778.75': 0.06692085444092936,\n",
       "  'B17-865': 0.04054788556847936,\n",
       "  'B18-885': 0.03472243645699176,\n",
       "  'B21-1020': 0.010182824883824373,\n",
       "  'filename': 'S3B_OL_1_EFR____20200218T140249_20200218T140549_20200219T173507_0179_035_338_3060_LN1_O_NT_002_processed.tif'},\n",
       " {'Datetime': '2020-02-19 13:36:38',\n",
       "  'Date-String': '20200219T133638',\n",
       "  'B1-400': 0.2822003230870327,\n",
       "  'B2-412.5': 0.26543828185845014,\n",
       "  'B3-442.5': 0.2688623351100078,\n",
       "  'B4-490': 0.27669945832724885,\n",
       "  'B5-510': 0.2849498998338931,\n",
       "  'B6-560': 0.30171569634078077,\n",
       "  'B7-620': 0.31370687039099004,\n",
       "  'B8-665': 0.31878495736285534,\n",
       "  'B9-673.75': 0.3179188903618453,\n",
       "  'B10-681.25': 0.3202696470456703,\n",
       "  'B11-708.75': 0.3761195958217728,\n",
       "  'B12-753.75': 0.38343445014359423,\n",
       "  'B16-778.75': 0.39431743681245135,\n",
       "  'B17-865': 0.40930841273607865,\n",
       "  'B18-885': 0.4185040910667348,\n",
       "  'B21-1020': 0.4359989344516647,\n",
       "  'filename': 'S3B_OL_1_EFR____20200219T133638_20200219T133938_20200220T164913_0179_035_352_3060_LN1_O_NT_002_processed.tif'},\n",
       " {'Datetime': '2020-02-23 13:32:55',\n",
       "  'Date-String': '20200223T133255',\n",
       "  'B1-400': inf,\n",
       "  'B2-412.5': inf,\n",
       "  'B3-442.5': inf,\n",
       "  'B4-490': inf,\n",
       "  'B5-510': inf,\n",
       "  'B6-560': inf,\n",
       "  'B7-620': inf,\n",
       "  'B8-665': inf,\n",
       "  'B9-673.75': inf,\n",
       "  'B10-681.25': inf,\n",
       "  'B11-708.75': inf,\n",
       "  'B12-753.75': inf,\n",
       "  'B16-778.75': inf,\n",
       "  'B17-865': inf,\n",
       "  'B18-885': inf,\n",
       "  'B21-1020': inf,\n",
       "  'filename': 'S3B_OL_1_EFR____20200223T133255_20200223T133555_20200224T172544_0179_036_024_3060_LN1_O_NT_002_processed.tif'}]"
      ]
     },
     "execution_count": 8,
     "metadata": {},
     "output_type": "execute_result"
    }
   ],
   "source": [
    "coari_bstats"
   ]
  },
  {
   "cell_type": "code",
   "execution_count": 20,
   "metadata": {},
   "outputs": [],
   "source": [
    "df_coari = pd.DataFrame(coari_bstats)\n",
    "df_fonte_boa = pd.DataFrame(fonte_boa_bstats)\n",
    "df_madeira = pd.DataFrame(madeira_bstats)\n",
    "df_manaca = pd.DataFrame(manacapuru_bstats)\n",
    "df_negro = pd.DataFrame(negro_bstats)\n",
    "df_tefe = pd.DataFrame(tefe_bstats)"
   ]
  },
  {
   "cell_type": "code",
   "execution_count": 25,
   "metadata": {},
   "outputs": [],
   "source": [
    "df_coari.to_excel(os.path.join(work_dir,'stats_coari.xlsx'), sheet_name='mean_reflec', index=False)\n",
    "df_fonte_boa.to_excel(os.path.join(work_dir,'stats_fonte_boa.xlsx'), sheet_name='mean_reflec', index=False)\n",
    "df_madeira.to_excel(os.path.join(work_dir,'stats_madeira.xlsx'), sheet_name='mean_reflec', index=False)\n",
    "df_manaca.to_excel(os.path.join(work_dir,'stats_manacapuru.xlsx'), sheet_name='mean_reflec', index=False)\n",
    "df_negro.to_excel(os.path.join(work_dir,'stats_negro.xlsx'), sheet_name='mean_reflec', index=False)\n",
    "df_tefe.to_excel(os.path.join(work_dir,'stats_tefe.xlsx'), sheet_name='mean_reflec', index=False)"
   ]
  },
  {
   "cell_type": "code",
   "execution_count": 1,
   "metadata": {},
   "outputs": [
    {
     "ename": "NameError",
     "evalue": "name 'coari_bstats' is not defined",
     "output_type": "error",
     "traceback": [
      "\u001b[1;31m---------------------------------------------------------------------------\u001b[0m",
      "\u001b[1;31mNameError\u001b[0m                                 Traceback (most recent call last)",
      "\u001b[1;32m<ipython-input-1-7bca856c0c86>\u001b[0m in \u001b[0;36m<module>\u001b[1;34m\u001b[0m\n\u001b[1;32m----> 1\u001b[1;33m \u001b[0mcoari_bstats\u001b[0m\u001b[1;33m\u001b[0m\u001b[1;33m\u001b[0m\u001b[0m\n\u001b[0m",
      "\u001b[1;31mNameError\u001b[0m: name 'coari_bstats' is not defined"
     ]
    }
   ],
   "source": [
    "coari_bstats"
   ]
  }
 ],
 "metadata": {
  "kernelspec": {
   "display_name": "Python 3",
   "language": "python",
   "name": "python3"
  },
  "language_info": {
   "codemirror_mode": {
    "name": "ipython",
    "version": 3
   },
   "file_extension": ".py",
   "mimetype": "text/x-python",
   "name": "python",
   "nbconvert_exporter": "python",
   "pygments_lexer": "ipython3",
   "version": "3.6.10"
  }
 },
 "nbformat": 4,
 "nbformat_minor": 4
}
