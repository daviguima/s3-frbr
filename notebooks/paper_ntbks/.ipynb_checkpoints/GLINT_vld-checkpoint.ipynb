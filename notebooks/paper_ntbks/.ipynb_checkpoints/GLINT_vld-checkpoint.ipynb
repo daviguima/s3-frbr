{
 "cells": [
  {
   "cell_type": "code",
   "execution_count": 1,
   "metadata": {},
   "outputs": [
    {
     "name": "stdout",
     "output_type": "stream",
     "text": [
      "sen3r-NcExplorer: from mpl_toolkits.basemap import Basemap FAILED!You can still proceed without plotting any maps.\n",
      "Declaring class instance from: SEN3R:Nc_Explorer\n",
      "Input NetCDF file folder not set. Proceed at your own risk.\n",
      "Declaring class instance from: SEN3R:Nc_Explorer\n",
      "Input NetCDF file folder not set. Proceed at your own risk.\n"
     ]
    }
   ],
   "source": [
    "from pathlib import Path\n",
    "\n",
    "import matplotlib.pyplot as plt\n",
    "import pandas as pd\n",
    "import numpy as np\n",
    "import netCDF4 as nc\n",
    "\n",
    "import sys\n",
    "sys.path.append('../../')\n",
    "\n",
    "from parallel_get_xy_poly import ParallelCoord\n",
    "from nc_explorer import NcExplorer\n",
    "from tsgen import TsGenerator\n",
    "\n",
    "gpc = ParallelCoord()\n",
    "tsg = TsGenerator()\n",
    "exp = NcExplorer()"
   ]
  },
  {
   "cell_type": "markdown",
   "metadata": {},
   "source": [
    "## TESTING SUN AND OBS ANGLES FOR GLINT"
   ]
  },
  {
   "cell_type": "code",
   "execution_count": 2,
   "metadata": {},
   "outputs": [],
   "source": [
    "def get_glint(df):\n",
    "    \"\"\"\n",
    "    Calculates glint angle based on paper:\n",
    "    An Enhanced Contextual Fire Detection Algorithm for MODIS\n",
    "    https://www.sciencedirect.com/science/article/pii/S0034425703001846\n",
    "    https://doi.org/10.1016/S0034-4257(03)00184-6\n",
    "    \"\"\"\n",
    "\n",
    "    df['GLINT'] = np.degrees(np.arccos(np.cos(np.deg2rad(df['OZA:float'])) *\n",
    "                                       np.cos(np.deg2rad(df['SZA:float'])) -\n",
    "                                       np.sin(np.deg2rad(df['OZA:float'])) *\n",
    "                                       np.sin(np.deg2rad(df['SZA:float'])) *\n",
    "                                       np.cos(np.deg2rad(abs(df['SAA:float'] - df['OAA:float'])))))\n",
    "\n",
    "    # excel version\n",
    "    # =GRAUS(ACOS(COS(RADIANOS(OZA))*COS(RADIANOS(SZA))-SEN(RADIANOS(OZA))*SEN(RADIANOS(SZA))*COS(RADIANOS(ABS(SAA-OAA)))))\n",
    "\n",
    "    return df"
   ]
  },
  {
   "cell_type": "code",
   "execution_count": 3,
   "metadata": {},
   "outputs": [],
   "source": [
    "# Just a small refactoring of the old code\n",
    "def get_x_y(lat_arr, lon_arr, lat, lon):\n",
    "\n",
    "    grid = np.concatenate([lat_arr[..., None], lon_arr[..., None]], axis=2)\n",
    "    \n",
    "    vector = np.array([lat, lon]).reshape(1, 1, -1)\n",
    "    subtraction = vector - grid \n",
    "    dist = np.linalg.norm(subtraction, axis=2)\n",
    "    result = np.where(dist == dist.min())\n",
    "    target_x_y = result[0][0], result[1][0]\n",
    "    \n",
    "    return target_x_y\n",
    "    \n",
    "# considering that creating the 2D grid consumes memory, we will get all coordinates in just one pass\n",
    "def get_x_y_poly(lat_arr, lon_arr, polyline):\n",
    "    grid = np.concatenate([lat_arr[..., None], lon_arr[..., None]], axis=2)\n",
    "    \n",
    "    # Polyline is a GeoJSON coordinate array\n",
    "    polyline = polyline.squeeze()\n",
    "    \n",
    "    # loop through each vertice\n",
    "    vertices = []\n",
    "    for i in range(polyline.shape[0]):\n",
    "        \n",
    "        vector = np.array([polyline[i, 1], polyline[i, 0]]).reshape(1, 1, -1)\n",
    "        subtraction = vector - grid \n",
    "        dist = np.linalg.norm(subtraction, axis=2)\n",
    "        result = np.where(dist == dist.min())\n",
    "        target_x_y = [result[0][0], result[1][0]]\n",
    "        \n",
    "        vertices.append(target_x_y)\n",
    "    return np.array(vertices)\n",
    "\n",
    "def bbox(vertices):\n",
    "    \"Get the bounding box of the vertices. Just for visualization purposes\"\n",
    "    ymin = np.min(vertices[:,0])\n",
    "    ymax = np.max(vertices[:,0])    \n",
    "    xmin = np.min(vertices[:,1])\n",
    "    xmax = np.max(vertices[:,1])        \n",
    "    return xmin, xmax, ymin, ymax\n"
   ]
  },
  {
   "cell_type": "code",
   "execution_count": 4,
   "metadata": {},
   "outputs": [
    {
     "data": {
      "text/plain": [
       "['chl_nn.nc',\n",
       " 'chl_oc4me.nc',\n",
       " 'geo_coordinates.nc',\n",
       " 'instrument_data.nc',\n",
       " 'iop_nn.nc',\n",
       " 'iwv.nc',\n",
       " 'Oa01_reflectance.nc',\n",
       " 'Oa02_reflectance.nc',\n",
       " 'Oa03_reflectance.nc',\n",
       " 'Oa04_reflectance.nc',\n",
       " 'Oa05_reflectance.nc',\n",
       " 'Oa06_reflectance.nc',\n",
       " 'Oa07_reflectance.nc',\n",
       " 'Oa08_reflectance.nc',\n",
       " 'Oa09_reflectance.nc',\n",
       " 'Oa10_reflectance.nc',\n",
       " 'Oa11_reflectance.nc',\n",
       " 'Oa12_reflectance.nc',\n",
       " 'Oa16_reflectance.nc',\n",
       " 'Oa17_reflectance.nc',\n",
       " 'Oa18_reflectance.nc',\n",
       " 'Oa21_reflectance.nc',\n",
       " 'par.nc',\n",
       " 'tie_geometries.nc',\n",
       " 'tie_geo_coordinates.nc',\n",
       " 'tie_meteo.nc',\n",
       " 'time_coordinates.nc',\n",
       " 'trsp.nc',\n",
       " 'tsm_nn.nc',\n",
       " 'wqsf.nc',\n",
       " 'w_aer.nc']"
      ]
     },
     "execution_count": 4,
     "metadata": {},
     "output_type": "execute_result"
    }
   ],
   "source": [
    "# WFR - UNIX\n",
    "path = Path('/d_drive_data/S3/L2_WFR/S3A_OL_2_WFR____20191104T135002_20191104T135302_20191124T134508_0179_051_124_3060_MAR_O_NT_002.SEN3')\n",
    "\n",
    "# Load image folder to SEN3R:NcExplorer.py\n",
    "exp.nc_folder = path\n",
    "\n",
    "# Create a list with all valid NetCDF4 files\n",
    "ncfs = exp.get_valid_band_files(rad_only=False)\n",
    "ncfs"
   ]
  },
  {
   "cell_type": "code",
   "execution_count": 6,
   "metadata": {},
   "outputs": [],
   "source": [
    "geo_coord = nc.Dataset(path/'geo_coordinates.nc')\n",
    "g_lat = geo_coord['latitude'][:]\n",
    "g_lon = geo_coord['longitude'][:]\n",
    "\n",
    "tie_geo = nc.Dataset(path/'tie_geo_coordinates.nc')\n",
    "t_lat = tie_geo['latitude'][:]\n",
    "t_lon = tie_geo['longitude'][:]\n",
    "\n",
    "tie_geometries = nc.Dataset(path/'tie_geometries.nc')\n",
    "OAA = tie_geometries['OAA'][:]\n",
    "OZA = tie_geometries['OZA'][:]\n",
    "SAA = tie_geometries['SAA'][:]\n",
    "SZA = tie_geometries['SZA'][:]"
   ]
  },
  {
   "cell_type": "markdown",
   "metadata": {},
   "source": [
    "## READ BUFFER POLYGON"
   ]
  },
  {
   "cell_type": "code",
   "execution_count": 8,
   "metadata": {},
   "outputs": [],
   "source": [
    "import json\n",
    "\n",
    "with open('/home/dvdgmf/qgis_out/manacapuru_buffer.geojson') as f:\n",
    "    data = json.load(f)\n",
    "\n",
    "for feature in data['features']:\n",
    "    poly = feature['geometry']['coordinates']    \n",
    "poly = np.array(poly[0])"
   ]
  },
  {
   "cell_type": "code",
   "execution_count": 9,
   "metadata": {},
   "outputs": [
    {
     "name": "stdout",
     "output_type": "stream",
     "text": [
      "CPU times: user 122 ms, sys: 183 ms, total: 305 ms\n",
      "Wall time: 4.62 s\n"
     ]
    }
   ],
   "source": [
    "%time g_vertices = gpc.parallel_get_xy_poly(g_lat, g_lon, poly)"
   ]
  },
  {
   "cell_type": "code",
   "execution_count": 10,
   "metadata": {},
   "outputs": [
    {
     "name": "stdout",
     "output_type": "stream",
     "text": [
      "CPU times: user 25.8 ms, sys: 78.9 ms, total: 105 ms\n",
      "Wall time: 118 ms\n"
     ]
    }
   ],
   "source": [
    "%time t_vertices = gpc.parallel_get_xy_poly(t_lat, t_lon, poly)"
   ]
  },
  {
   "cell_type": "code",
   "execution_count": 12,
   "metadata": {},
   "outputs": [
    {
     "data": {
      "text/plain": [
       "(2328, 2653, 672, 865)"
      ]
     },
     "execution_count": 12,
     "metadata": {},
     "output_type": "execute_result"
    }
   ],
   "source": [
    "bbox(g_vertices)"
   ]
  },
  {
   "cell_type": "code",
   "execution_count": 13,
   "metadata": {},
   "outputs": [
    {
     "data": {
      "text/plain": [
       "(36, 41, 671, 866)"
      ]
     },
     "execution_count": 13,
     "metadata": {},
     "output_type": "execute_result"
    }
   ],
   "source": [
    "bbox(t_vertices)"
   ]
  },
  {
   "cell_type": "code",
   "execution_count": 22,
   "metadata": {},
   "outputs": [
    {
     "data": {
      "image/png": "[encoded data removed]",
      "text/plain": [
       "<Figure size 1152x504 with 2 Axes>"
      ]
     },
     "metadata": {
      "needs_background": "light"
     },
     "output_type": "display_data"
    }
   ],
   "source": [
    "band = SZA\n",
    "bname = 'SZA'\n",
    "vertices = t_vertices\n",
    "\n",
    "xmin, xmax, ymin, ymax = bbox(vertices)\n",
    "\n",
    "%matplotlib inline\n",
    "\n",
    "plt.rcParams['figure.figsize'] = [16, 7]\n",
    "plt.plot(vertices[:,1],vertices[:,0]*-1,c='k')\n",
    "plt.imshow(band.data[ymin:ymax, xmin:xmax])\n",
    "plt.colorbar()\n",
    "plt.show()"
   ]
  },
  {
   "cell_type": "code",
   "execution_count": 15,
   "metadata": {},
   "outputs": [
    {
     "data": {
      "text/html": [
       "<div>\n",
       "<style scoped>\n",
       "    .dataframe tbody tr th:only-of-type {\n",
       "        vertical-align: middle;\n",
       "    }\n",
       "\n",
       "    .dataframe tbody tr th {\n",
       "        vertical-align: top;\n",
       "    }\n",
       "\n",
       "    .dataframe thead th {\n",
       "        text-align: right;\n",
       "    }\n",
       "</style>\n",
       "<table border=\"1\" class=\"dataframe\">\n",
       "  <thead>\n",
       "    <tr style=\"text-align: right;\">\n",
       "      <th></th>\n",
       "      <th>SZA</th>\n",
       "      <th>x</th>\n",
       "      <th>y</th>\n",
       "    </tr>\n",
       "  </thead>\n",
       "  <tbody>\n",
       "    <tr>\n",
       "      <th>0</th>\n",
       "      <td>30.825381</td>\n",
       "      <td>671</td>\n",
       "      <td>41</td>\n",
       "    </tr>\n",
       "    <tr>\n",
       "      <th>1</th>\n",
       "      <td>30.820967</td>\n",
       "      <td>677</td>\n",
       "      <td>41</td>\n",
       "    </tr>\n",
       "    <tr>\n",
       "      <th>2</th>\n",
       "      <td>30.820232</td>\n",
       "      <td>678</td>\n",
       "      <td>41</td>\n",
       "    </tr>\n",
       "    <tr>\n",
       "      <th>3</th>\n",
       "      <td>30.819496</td>\n",
       "      <td>679</td>\n",
       "      <td>41</td>\n",
       "    </tr>\n",
       "    <tr>\n",
       "      <th>4</th>\n",
       "      <td>30.818762</td>\n",
       "      <td>680</td>\n",
       "      <td>41</td>\n",
       "    </tr>\n",
       "  </tbody>\n",
       "</table>\n",
       "</div>"
      ],
      "text/plain": [
       "         SZA    x   y\n",
       "0  30.825381  671  41\n",
       "1  30.820967  677  41\n",
       "2  30.820232  678  41\n",
       "3  30.819496  679  41\n",
       "4  30.818762  680  41"
      ]
     },
     "execution_count": 15,
     "metadata": {},
     "output_type": "execute_result"
    }
   ],
   "source": [
    "# Generate extraction mask\n",
    "from skimage.draw import polygon\n",
    "\n",
    "img = np.zeros(band.shape)\n",
    "rr, cc = polygon(vertices[:,0], vertices[:,1], band.shape)\n",
    "img[rr, cc] = 1\n",
    "\n",
    "# Apply the mask and get the reflectance\n",
    "syn_val = band[rr, cc]\n",
    "\n",
    "# Create a DF from the extracted reflectance\n",
    "custom_subset = {bname:syn_val.data,'x':rr,'y':cc}\n",
    "df = pd.DataFrame(custom_subset)\n",
    "df.head()"
   ]
  },
  {
   "cell_type": "code",
   "execution_count": 16,
   "metadata": {},
   "outputs": [
    {
     "data": {
      "text/plain": [
       "307"
      ]
     },
     "execution_count": 16,
     "metadata": {},
     "output_type": "execute_result"
    }
   ],
   "source": [
    "len(df)"
   ]
  },
  {
   "cell_type": "code",
   "execution_count": 17,
   "metadata": {},
   "outputs": [
    {
     "data": {
      "text/plain": [
       "<matplotlib.colorbar.Colorbar at 0x7f8d307cd9d0>"
      ]
     },
     "execution_count": 17,
     "metadata": {},
     "output_type": "execute_result"
    },
    {
     "data": {
      "image/png": "[encoded data removed]",
      "text/plain": [
       "<Figure size 1152x504 with 2 Axes>"
      ]
     },
     "metadata": {
      "needs_background": "light"
     },
     "output_type": "display_data"
    }
   ],
   "source": [
    "# plt.plot(vertices[:,1],vertices[:,0]*-1,c='k')\n",
    "plt.scatter(df['y'],df['x']*-1,c=df['SZA'],s=3)\n",
    "plt.colorbar()"
   ]
  },
  {
   "cell_type": "code",
   "execution_count": 18,
   "metadata": {},
   "outputs": [
    {
     "data": {
      "text/plain": [
       "(4091, 4865)"
      ]
     },
     "execution_count": 18,
     "metadata": {},
     "output_type": "execute_result"
    }
   ],
   "source": [
    "g_lon.shape"
   ]
  },
  {
   "cell_type": "code",
   "execution_count": 20,
   "metadata": {},
   "outputs": [
    {
     "data": {
      "text/plain": [
       "(4091, 77)"
      ]
     },
     "execution_count": 20,
     "metadata": {},
     "output_type": "execute_result"
    }
   ],
   "source": [
    "t_lon.shape"
   ]
  },
  {
   "cell_type": "code",
   "execution_count": null,
   "metadata": {},
   "outputs": [],
   "source": []
  }
 ],
 "metadata": {
  "kernelspec": {
   "display_name": "Python 3",
   "language": "python",
   "name": "python3"
  },
  "language_info": {
   "codemirror_mode": {
    "name": "ipython",
    "version": 3
   },
   "file_extension": ".py",
   "mimetype": "text/x-python",
   "name": "python",
   "nbconvert_exporter": "python",
   "pygments_lexer": "ipython3",
   "version": "3.9.1"
  }
 },
 "nbformat": 4,
 "nbformat_minor": 4
}
