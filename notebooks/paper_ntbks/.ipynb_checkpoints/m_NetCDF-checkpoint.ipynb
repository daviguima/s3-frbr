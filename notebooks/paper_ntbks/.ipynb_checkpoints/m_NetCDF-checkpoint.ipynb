{
 "cells": [
  {
   "cell_type": "code",
   "execution_count": 190,
   "metadata": {},
   "outputs": [],
   "source": [
    "import waterdetect\n",
    "from pathlib import Path\n",
    "import gdal\n",
    "import matplotlib.pyplot as plt\n",
    "import numpy as np\n",
    "import netCDF4 as nc"
   ]
  },
  {
   "cell_type": "code",
   "execution_count": 179,
   "metadata": {},
   "outputs": [
    {
     "data": {
      "text/plain": [
       "True"
      ]
     },
     "execution_count": 179,
     "metadata": {},
     "output_type": "execute_result"
    }
   ],
   "source": [
    "# Create a path to the S3 image\n",
    "path = Path('D:/Images/Download/Sentinel3/S3A_OL_2_WFR____20191104T135002_20191104T135302_20191124T134508_0179_051_124_3060_MAR_O_NT_002.SEN3')\n",
    "path.exists()"
   ]
  },
  {
   "cell_type": "code",
   "execution_count": 185,
   "metadata": {},
   "outputs": [],
   "source": [
    "# Open the coordinates arrays\n",
    "ds = nc.Dataset(path/'geo_coordinates.nc')\n",
    "lat = ds['latitude'][:]\n",
    "lon = ds['longitude'][:]"
   ]
  },
  {
   "cell_type": "code",
   "execution_count": 201,
   "metadata": {},
   "outputs": [
    {
     "data": {
      "text/plain": [
       "(1, 27, 3)"
      ]
     },
     "execution_count": 201,
     "metadata": {},
     "output_type": "execute_result"
    }
   ],
   "source": [
    "# define the polygon (coordinates from the sample GeoJSON example)\n",
    "polygon = np.array([ [ [ -61.304292937753878, -3.580746157823998, 0.0 ], [ -61.189738482291098, -3.570230611586103, 0.0 ], [ -61.051796038163282, -3.570623959031377, 0.0 ], [ -60.971175020538652, -3.593840244684938, 0.0 ], [ -60.9034262153111, -3.563360680269377, 0.0 ], [ -60.805020782919101, -3.506299406583337, 0.0 ], [ -60.753519094627137, -3.450505864090518, 0.0 ], [ -60.722456984927447, -3.39425947814228, 0.0 ], [ -60.69176635463603, -3.326974300372498, 0.0 ], [ -60.64421466170581, -3.314434177206381, 0.0 ], [ -60.572625051875058, -3.314523058454226, 0.0 ], [ -60.514541318054583, -3.307213505528399, 0.0 ], [ -60.501849367185159, -3.346258308422025, 0.0 ], [ -60.583418632397368, -3.33894030325553, 0.0 ], [ -60.665840030658408, -3.344760708787252, 0.0 ], [ -60.686558678731473, -3.374889635076542, 0.0 ], [ -60.755654470359637, -3.48512230522507, 0.0 ], [ -60.807307277936701, -3.544639712461309, 0.0 ], [ -60.874728354510736, -3.576891855197255, 0.0 ], [ -60.903342826613887, -3.613227458340859, 0.0 ], [ -60.932989587372482, -3.622059697419507, 0.0 ], [ -61.021414925808919, -3.605966358767145, 0.0 ], [ -61.091500853927002, -3.593526609351898, 0.0 ], [ -61.14960696557246, -3.598958178779615, 0.0 ], [ -61.240461667923427, -3.607404228546328, 0.0 ], [ -61.305985273744547, -3.604193025913813, 0.0 ], [ -61.304292937753878, -3.580746157823998, 0.0 ] ] ])\n",
    "polygon.shape"
   ]
  },
  {
   "cell_type": "code",
   "execution_count": 221,
   "metadata": {},
   "outputs": [
    {
     "data": {
      "text/plain": [
       "array([[-61.30429294,  -3.58074616],\n",
       "       [-61.18973848,  -3.57023061],\n",
       "       [-61.05179604,  -3.57062396],\n",
       "       [-60.97117502,  -3.59384024],\n",
       "       [-60.90342622,  -3.56336068],\n",
       "       [-60.80502078,  -3.50629941],\n",
       "       [-60.75351909,  -3.45050586],\n",
       "       [-60.72245698,  -3.39425948],\n",
       "       [-60.69176635,  -3.3269743 ],\n",
       "       [-60.64421466,  -3.31443418],\n",
       "       [-60.57262505,  -3.31452306],\n",
       "       [-60.51454132,  -3.30721351],\n",
       "       [-60.50184937,  -3.34625831],\n",
       "       [-60.58341863,  -3.3389403 ],\n",
       "       [-60.66584003,  -3.34476071],\n",
       "       [-60.68655868,  -3.37488964],\n",
       "       [-60.75565447,  -3.48512231],\n",
       "       [-60.80730728,  -3.54463971],\n",
       "       [-60.87472835,  -3.57689186],\n",
       "       [-60.90334283,  -3.61322746],\n",
       "       [-60.93298959,  -3.6220597 ],\n",
       "       [-61.02141493,  -3.60596636],\n",
       "       [-61.09150085,  -3.59352661],\n",
       "       [-61.14960697,  -3.59895818],\n",
       "       [-61.24046167,  -3.60740423],\n",
       "       [-61.30598527,  -3.60419303],\n",
       "       [-61.30429294,  -3.58074616]])"
      ]
     },
     "execution_count": 221,
     "metadata": {},
     "output_type": "execute_result"
    }
   ],
   "source": [
    "polygon[0, :, :2]"
   ]
  },
  {
   "cell_type": "code",
   "execution_count": 261,
   "metadata": {},
   "outputs": [],
   "source": [
    "# Just a small refactoring of the old code\n",
    "def get_x_y(lat_arr, lon_arr, lat, lon):\n",
    "\n",
    "    grid = np.concatenate([lat_arr[..., None], lon_arr[..., None]], axis=2)\n",
    "    vector = np.array([lat, lon]).reshape(1, 1, -1)\n",
    "    subtraction = vector - grid \n",
    "    dist = np.linalg.norm(subtraction, axis=2)\n",
    "\n",
    "    result = np.where(dist == dist.min())\n",
    "    target_x_y = result[0][0], result[1][0]\n",
    "    \n",
    "    return target_x_y\n",
    "    \n",
    "# considering that creating the 2D grid consumes memory, we will get all coordinates in just one pass\n",
    "def get_x_y_poly(lat_arr, lon_arr, polyline):\n",
    "    grid = np.concatenate([lat_arr[..., None], lon_arr[..., None]], axis=2)\n",
    "    \n",
    "    # Polyline is a GeoJSON coordinate array\n",
    "    polyline = polyline.squeeze()\n",
    "    \n",
    "    # loop through each vertice\n",
    "    vertices = []\n",
    "    for i in range(polyline.shape[0]):\n",
    "        vector = np.array([polyline[i, 1], polyline[i, 0]]).reshape(1, 1, -1)\n",
    "        \n",
    "        subtraction = vector - grid \n",
    "        dist = np.linalg.norm(subtraction, axis=2)\n",
    "        result = np.where(dist == dist.min())\n",
    "        target_x_y = [result[0][0], result[1][0]]\n",
    "        vertices.append(target_x_y)\n",
    "    return np.array(vertices)\n",
    "\n",
    "def bbox(vertices):\n",
    "    \"Get the bounding box of the vertices. Just for visualization purposes\"\n",
    "    ymin = np.min(vertices[:,0])\n",
    "    ymax = np.max(vertices[:,0])    \n",
    "    xmin = np.min(vertices[:,1])\n",
    "    xmax = np.max(vertices[:,1])        \n",
    "    return xmin, xmax, ymin, ymax\n"
   ]
  },
  {
   "cell_type": "code",
   "execution_count": 218,
   "metadata": {},
   "outputs": [
    {
     "data": {
      "text/plain": [
       "(846, 2339)"
      ]
     },
     "execution_count": 218,
     "metadata": {},
     "output_type": "execute_result"
    }
   ],
   "source": [
    "get_x_y(lat, lon, -3.580746157823998, -61.304292937753878)"
   ]
  },
  {
   "cell_type": "code",
   "execution_count": 260,
   "metadata": {},
   "outputs": [
    {
     "name": "stdout",
     "output_type": "stream",
     "text": [
      "Wall time: 17.1 s\n"
     ]
    }
   ],
   "source": [
    "%time vertices = get_x_y_poly(lat, lon, polygon)"
   ]
  },
  {
   "cell_type": "code",
   "execution_count": 239,
   "metadata": {},
   "outputs": [
    {
     "data": {
      "text/plain": [
       "<matplotlib.image.AxesImage at 0x1891dd38888>"
      ]
     },
     "execution_count": 239,
     "metadata": {},
     "output_type": "execute_result"
    },
    {
     "data": {
      "image/png": "[encoded data removed]",
      "text/plain": [
       "<Figure size 432x288 with 1 Axes>"
      ]
     },
     "metadata": {
      "needs_background": "light"
     },
     "output_type": "display_data"
    }
   ],
   "source": [
    "# Open one band\n",
    "ds = nc.Dataset(path/'Oa02_reflectance.nc')\n",
    "band = ds['Oa02_reflectance'][:]\n",
    "\n",
    "xmin, xmax, ymin, ymax = bbox(vertices)\n",
    "\n",
    "plt.imshow(band.data[ymin:ymax, xmin:xmax])"
   ]
  },
  {
   "cell_type": "code",
   "execution_count": 270,
   "metadata": {},
   "outputs": [
    {
     "data": {
      "text/plain": [
       "<matplotlib.image.AxesImage at 0x1892709bd08>"
      ]
     },
     "execution_count": 270,
     "metadata": {},
     "output_type": "execute_result"
    },
    {
     "data": {
      "image/png": "[encoded data removed]",
      "text/plain": [
       "<Figure size 432x288 with 1 Axes>"
      ]
     },
     "metadata": {
      "needs_background": "light"
     },
     "output_type": "display_data"
    }
   ],
   "source": [
    "from skimage.draw import polygon\n",
    "img = np.zeros(band.shape)\n",
    "rr, cc = polygon(vertices[:,0], vertices[:,1], band.shape)\n",
    "img[rr, cc]=1\n",
    "plt.imshow(img[ymin:ymax, xmin:xmax])"
   ]
  },
  {
   "cell_type": "code",
   "execution_count": 275,
   "metadata": {},
   "outputs": [
    {
     "data": {
      "text/plain": [
       "(3899,)"
      ]
     },
     "execution_count": 275,
     "metadata": {},
     "output_type": "execute_result"
    }
   ],
   "source": [
    "# get the reflectances of the pixels in the polygon.\n",
    "# do the same for the other bands\n",
    "reflectances = band[rr, cc]\n",
    "\n",
    "reflectances.data.shape"
   ]
  }
 ],
 "metadata": {
  "kernelspec": {
   "display_name": "Python 3",
   "language": "python",
   "name": "python3"
  },
  "language_info": {
   "codemirror_mode": {
    "name": "ipython",
    "version": 3
   },
   "file_extension": ".py",
   "mimetype": "text/x-python",
   "name": "python",
   "nbconvert_exporter": "python",
   "pygments_lexer": "ipython3",
   "version": "3.7.7"
  }
 },
 "nbformat": 4,
 "nbformat_minor": 4
}
