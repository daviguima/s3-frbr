{
 "cells": [
  {
   "cell_type": "markdown",
   "metadata": {},
   "source": [
    "## gdal/nc4 approach"
   ]
  },
  {
   "cell_type": "code",
   "execution_count": 2,
   "metadata": {},
   "outputs": [],
   "source": [
    "import gdal\n",
    "import netCDF4 as nc\n",
    "from osgeo import osr\n",
    "import matplotlib.pyplot as plt"
   ]
  },
  {
   "cell_type": "code",
   "execution_count": 83,
   "metadata": {},
   "outputs": [],
   "source": [
    "tie_geo_nc = r'D:\\processing\\win\\icor_mask\\S3B_OL_1_EFR____20190722T133256_20190722T133556_20190723T181207_0179_028_024_3060_LN1_O_NT_002.SEN3\\tie_geo_coordinates.nc'\n",
    "geocoords_nc = r'D:\\processing\\win\\icor_mask\\S3B_OL_1_EFR____20190722T133256_20190722T133556_20190723T181207_0179_028_024_3060_LN1_O_NT_002.SEN3\\geo_coordinates.nc'\n",
    "qlflags_nc = r'D:\\processing\\win\\icor_mask\\S3B_OL_1_EFR____20190722T133256_20190722T133556_20190723T181207_0179_028_024_3060_LN1_O_NT_002.SEN3\\qualityFlags.nc'\n",
    "wqlflags_nc = r'D:\\processing\\win\\icor_mask\\S3B_OL_2_WFR____20190722T133256_20190722T133556_20190723T215914_0179_028_024_3060_MAR_O_NT_002.SEN3\\wqsf.nc'"
   ]
  },
  {
   "cell_type": "code",
   "execution_count": 52,
   "metadata": {},
   "outputs": [],
   "source": [
    "tiecoords_nc_data = nc.Dataset(tie_geo_nc, 'r')"
   ]
  },
  {
   "cell_type": "code",
   "execution_count": 4,
   "metadata": {},
   "outputs": [],
   "source": [
    "coords_nc_data = nc.Dataset(geocoords_nc, 'r')"
   ]
  },
  {
   "cell_type": "code",
   "execution_count": 86,
   "metadata": {},
   "outputs": [],
   "source": [
    "qlflags_nc_data = nc.Dataset(qlflags_nc, 'r')"
   ]
  },
  {
   "cell_type": "code",
   "execution_count": 88,
   "metadata": {},
   "outputs": [],
   "source": [
    "wqf_nc_data = nc.Dataset(wqlflags_nc, 'r')"
   ]
  },
  {
   "cell_type": "code",
   "execution_count": 89,
   "metadata": {},
   "outputs": [
    {
     "name": "stdout",
     "output_type": "stream",
     "text": [
      "OrderedDict([('columns', <class 'netCDF4._netCDF4.Dimension'>: name = 'columns', size = 4865\n",
      "), ('rows', <class 'netCDF4._netCDF4.Dimension'>: name = 'rows', size = 4091\n",
      ")])\n"
     ]
    }
   ],
   "source": [
    "print(wqf_nc_data.dimensions)"
   ]
  },
  {
   "cell_type": "code",
   "execution_count": 53,
   "metadata": {},
   "outputs": [
    {
     "name": "stdout",
     "output_type": "stream",
     "text": [
      "<class 'netCDF4._netCDF4.Dataset'>\n",
      "root group (NETCDF4 data model, file format HDF5):\n",
      "    absolute_orbit_number: 6456\n",
      "    ac_subsampling_factor: 64\n",
      "    al_subsampling_factor: 1\n",
      "    comment:  \n",
      "    contact: eosupport@copernicus.esa.int\n",
      "    creation_time: 2019-07-23T18:12:07Z\n",
      "    history:   2019-07-23T18:12:07Z: PUGCoreProcessor /data/ipf-s3/workdir42/596609505/JobOrder.596609505.xml\n",
      "    institution: LN1\n",
      "    netCDF_version: 4.2 of Mar 13 2018 10:14:33 $\n",
      "    product_name: S3B_OL_1_EFR____20190722T133256_20190722T133556_20190723T181207_0179_028_024_3060_LN1_O_NT_002.SEN3\n",
      "    references: S3IPF PDS 004.1 - i2r2 - Product Data Format Specification - OLCI Level 1, S3IPF PDS 002 - i1r7 - Product Data Format Specification - Product Structures, S3IPF DPM 002 - i2r1 - Detailed Processing Model - OLCI Level 1\n",
      "    resolution: [ 270 294 ]\n",
      "    source: IPF-OL-1-EO 06.08\n",
      "    start_time: 2019-07-22T13:32:55.880287Z\n",
      "    stop_time: 2019-07-22T13:35:55.848029Z\n",
      "    title: OLCI Level 1b Product, Tie-Point Geo Coordinates Data Set\n",
      "    dimensions(sizes): tie_columns(77), tie_rows(4091)\n",
      "    variables(dimensions): int32 \u001b[4mlatitude\u001b[0m(tie_rows,tie_columns), int32 \u001b[4mlongitude\u001b[0m(tie_rows,tie_columns)\n",
      "    groups: \n",
      "\n"
     ]
    }
   ],
   "source": [
    "print(tiecoords_nc_data)"
   ]
  },
  {
   "cell_type": "code",
   "execution_count": 7,
   "metadata": {},
   "outputs": [
    {
     "name": "stdout",
     "output_type": "stream",
     "text": [
      "<class 'netCDF4._netCDF4.Dataset'>\n",
      "root group (NETCDF4 data model, file format HDF5):\n",
      "    absolute_orbit_number: 6456\n",
      "    ac_subsampling_factor: 64\n",
      "    al_subsampling_factor: 1\n",
      "    comment:  \n",
      "    contact: eosupport@copernicus.esa.int\n",
      "    creation_time: 2019-07-23T18:12:07Z\n",
      "    history:   2019-07-23T18:12:07Z: PUGCoreProcessor /data/ipf-s3/workdir42/596609505/JobOrder.596609505.xml\n",
      "    institution: LN1\n",
      "    netCDF_version: 4.2 of Mar 13 2018 10:14:33 $\n",
      "    product_name: S3B_OL_1_EFR____20190722T133256_20190722T133556_20190723T181207_0179_028_024_3060_LN1_O_NT_002.SEN3\n",
      "    references: S3IPF PDS 004.1 - i2r2 - Product Data Format Specification - OLCI Level 1, S3IPF PDS 002 - i1r7 - Product Data Format Specification - Product Structures, S3IPF DPM 002 - i2r1 - Detailed Processing Model - OLCI Level 1\n",
      "    resolution: [ 270 294 ]\n",
      "    source: IPF-OL-1-EO 06.08\n",
      "    start_time: 2019-07-22T13:32:55.880287Z\n",
      "    stop_time: 2019-07-22T13:35:55.848029Z\n",
      "    title: OLCI Level 1b Product, Geo Coordinates Data Set\n",
      "    dimensions(sizes): columns(4865), rows(4091)\n",
      "    variables(dimensions): int16 \u001b[4maltitude\u001b[0m(rows,columns), int32 \u001b[4mlatitude\u001b[0m(rows,columns), int32 \u001b[4mlongitude\u001b[0m(rows,columns)\n",
      "    groups: \n",
      "\n"
     ]
    }
   ],
   "source": [
    "print(coords_nc_data)"
   ]
  },
  {
   "cell_type": "code",
   "execution_count": 8,
   "metadata": {
    "scrolled": true
   },
   "outputs": [
    {
     "name": "stdout",
     "output_type": "stream",
     "text": [
      "<class 'netCDF4._netCDF4.Dataset'>\n",
      "root group (NETCDF4 data model, file format HDF5):\n",
      "    absolute_orbit_number: 6456\n",
      "    ac_subsampling_factor: 64\n",
      "    al_subsampling_factor: 1\n",
      "    comment:  \n",
      "    contact: eosupport@copernicus.esa.int\n",
      "    creation_time: 2019-07-23T18:12:07Z\n",
      "    history:   2019-07-23T18:12:07Z: PUGCoreProcessor /data/ipf-s3/workdir42/596609505/JobOrder.596609505.xml\n",
      "    institution: LN1\n",
      "    netCDF_version: 4.2 of Mar 13 2018 10:14:33 $\n",
      "    product_name: S3B_OL_1_EFR____20190722T133256_20190722T133556_20190723T181207_0179_028_024_3060_LN1_O_NT_002.SEN3\n",
      "    references: S3IPF PDS 004.1 - i2r2 - Product Data Format Specification - OLCI Level 1, S3IPF PDS 002 - i1r7 - Product Data Format Specification - Product Structures, S3IPF DPM 002 - i2r1 - Detailed Processing Model - OLCI Level 1\n",
      "    resolution: [ 270 294 ]\n",
      "    source: IPF-OL-1-EO 06.08\n",
      "    start_time: 2019-07-22T13:32:55.880287Z\n",
      "    stop_time: 2019-07-22T13:35:55.848029Z\n",
      "    title: OLCI Level 1b Product, Classification and Quality Flags Data Set\n",
      "    dimensions(sizes): columns(4865), rows(4091)\n",
      "    variables(dimensions): uint32 \u001b[4mquality_flags\u001b[0m(rows,columns)\n",
      "    groups: \n",
      "\n"
     ]
    }
   ],
   "source": [
    "print(qlflags_nc_data)"
   ]
  },
  {
   "cell_type": "code",
   "execution_count": 90,
   "metadata": {},
   "outputs": [
    {
     "name": "stdout",
     "output_type": "stream",
     "text": [
      "<class 'netCDF4._netCDF4.Dataset'>\n",
      "root group (NETCDF4 data model, file format HDF5):\n",
      "    absolute_orbit_number: 6456\n",
      "    ac_subsampling_factor: 64\n",
      "    al_subsampling_factor: 1\n",
      "    comment:  \n",
      "    contact: ops@eumetsat.int\n",
      "    creation_time: 2019-07-23T21:59:14Z\n",
      "    history:   2019-07-23T21:59:14Z: PUGCoreProcessor /data/ipf-s3/workdir32/600358894/JobOrder.600358894.xml\n",
      "    institution: MAR\n",
      "    netCDF_version: 4.2 of Jul  5 2012 17:07:43 $\n",
      "    product_name: S3B_OL_2_WFR____20190722T133256_20190722T133556_20190723T215914_0179_028_024_3060_MAR_O_NT_002.SEN3\n",
      "    references: S3IPF PDS 004.3 - i2r2 - Product Data Format Specification - OLCI Level 2 Marine, S3IPF PDS 002 - i1r7 - Product Data Format Specification - Product Structures, S3IPF DPM 008 - i1r3 - Detailed Processing Model - OLCI Level 2\n",
      "    resolution: [ 270 294 ]\n",
      "    source: IPF-OL-2 06.13\n",
      "    start_time: 2019-07-22T13:32:55.880287Z\n",
      "    stop_time: 2019-07-22T13:35:55.848029Z\n",
      "    title: OLCI Level 2 WATER Product, Classification, Quality and Science Flags Data Set\n",
      "    dimensions(sizes): columns(4865), rows(4091)\n",
      "    variables(dimensions): uint64 \u001b[4mWQSF\u001b[0m(rows,columns)\n",
      "    groups: \n",
      "\n"
     ]
    }
   ],
   "source": [
    "print(wqf_nc_data)"
   ]
  },
  {
   "cell_type": "code",
   "execution_count": 55,
   "metadata": {},
   "outputs": [],
   "source": [
    "tie_lon = tiecoords_nc_data.variables['longitude'][:]\n",
    "tie_lat = tiecoords_nc_data.variables['latitude'][:]"
   ]
  },
  {
   "cell_type": "code",
   "execution_count": 9,
   "metadata": {},
   "outputs": [],
   "source": [
    "lon = coords_nc_data.variables['longitude'][:]"
   ]
  },
  {
   "cell_type": "code",
   "execution_count": 10,
   "metadata": {},
   "outputs": [],
   "source": [
    "lat = coords_nc_data.variables['latitude'][:]"
   ]
  },
  {
   "cell_type": "code",
   "execution_count": 11,
   "metadata": {},
   "outputs": [],
   "source": [
    "flags = qlflags_nc_data.variables['quality_flags'][:,:]"
   ]
  },
  {
   "cell_type": "code",
   "execution_count": 91,
   "metadata": {},
   "outputs": [],
   "source": [
    "wflags = wqf_nc_data.variables['WQSF'][:,:]"
   ]
  },
  {
   "cell_type": "code",
   "execution_count": 99,
   "metadata": {},
   "outputs": [],
   "source": [
    "extracted = wflags[wflags == 8]"
   ]
  },
  {
   "cell_type": "code",
   "execution_count": 100,
   "metadata": {},
   "outputs": [
    {
     "data": {
      "text/plain": [
       "(869636,)"
      ]
     },
     "execution_count": 100,
     "metadata": {},
     "output_type": "execute_result"
    }
   ],
   "source": [
    "extracted.shape"
   ]
  },
  {
   "cell_type": "code",
   "execution_count": 94,
   "metadata": {},
   "outputs": [
    {
     "data": {
      "text/plain": [
       "(4091, 4865)"
      ]
     },
     "execution_count": 94,
     "metadata": {},
     "output_type": "execute_result"
    }
   ],
   "source": [
    "flags.shape"
   ]
  },
  {
   "cell_type": "code",
   "execution_count": 15,
   "metadata": {},
   "outputs": [],
   "source": [
    "flags_nomask = flags.data"
   ]
  },
  {
   "cell_type": "code",
   "execution_count": 67,
   "metadata": {},
   "outputs": [
    {
     "data": {
      "text/plain": [
       "numpy.ndarray"
      ]
     },
     "execution_count": 67,
     "metadata": {},
     "output_type": "execute_result"
    }
   ],
   "source": [
    "type(flags_nomask)"
   ]
  },
  {
   "cell_type": "code",
   "execution_count": 62,
   "metadata": {},
   "outputs": [
    {
     "data": {
      "text/plain": [
       "(4091, 4865)"
      ]
     },
     "execution_count": 62,
     "metadata": {},
     "output_type": "execute_result"
    }
   ],
   "source": [
    "flags_nomask.shape"
   ]
  },
  {
   "cell_type": "code",
   "execution_count": 60,
   "metadata": {},
   "outputs": [],
   "source": [
    "xmin, ymin, xmax, ymax = [lon.min(), lat.min(), lon.max(), lat.max()]\n",
    "txmin, tymin, txmax, tymax = [tie_lon.min(), tie_lat.min(), tie_lon.max(), tie_lat.max()]"
   ]
  },
  {
   "cell_type": "code",
   "execution_count": 59,
   "metadata": {},
   "outputs": [
    {
     "data": {
      "text/plain": [
       "[-64.666183, -13.341156, -50.618148999999995, -0.126354]"
      ]
     },
     "execution_count": 59,
     "metadata": {},
     "output_type": "execute_result"
    }
   ],
   "source": [
    "[lon.min(), lat.min(), lon.max(), lat.max()]"
   ]
  },
  {
   "cell_type": "code",
   "execution_count": 61,
   "metadata": {},
   "outputs": [
    {
     "data": {
      "text/plain": [
       "[-64.666175, -13.341156, -50.618140999999994, -0.126354]"
      ]
     },
     "execution_count": 61,
     "metadata": {},
     "output_type": "execute_result"
    }
   ],
   "source": [
    "[tie_lon.min(), tie_lat.min(), tie_lon.max(), tie_lat.max()]"
   ]
  },
  {
   "cell_type": "code",
   "execution_count": 68,
   "metadata": {
    "scrolled": true
   },
   "outputs": [
    {
     "data": {
      "text/plain": [
       "(array([[3957.,    0.,    0., ...,    0.,  134.,    0.],\n",
       "        [3936.,    0.,    0., ...,    0.,  155.,    0.],\n",
       "        [3939.,    0.,    0., ...,    0.,  152.,    0.],\n",
       "        ...,\n",
       "        [4074.,    0.,    0., ...,    0.,   17.,    0.],\n",
       "        [4068.,    0.,    0., ...,    0.,   23.,    0.],\n",
       "        [4056.,    0.,    0., ...,    0.,   35.,    0.]]),\n",
       " array([2.14748365e+09, 2.21585080e+09, 2.28421796e+09, 2.35258511e+09,\n",
       "        2.42095227e+09, 2.48931942e+09, 2.55768658e+09, 2.62605373e+09,\n",
       "        2.69442089e+09, 2.76278804e+09, 2.83115520e+09]),\n",
       " <a list of 4865 Lists of Patches objects>)"
      ]
     },
     "execution_count": 68,
     "metadata": {},
     "output_type": "execute_result"
    },
    {
     "data": {
      "image/png": "[encoded data removed]",
      "text/plain": [
       "<Figure size 432x288 with 1 Axes>"
      ]
     },
     "metadata": {
      "needs_background": "light"
     },
     "output_type": "display_data"
    }
   ],
   "source": [
    "plt.hist(flags)"
   ]
  },
  {
   "cell_type": "code",
   "execution_count": 103,
   "metadata": {
    "scrolled": true
   },
   "outputs": [
    {
     "data": {
      "text/plain": [
       "masked_array(data=[2147483648, 2149580800, 2149580801, 2149580808,\n",
       "                   2149580864, 2151677952, 2155872256, 2157969408,\n",
       "                   2157969409, 2157969416, 2160066560, 2164260864,\n",
       "                   2168455168, 2172649472, 2181038080, 2281701376,\n",
       "                   2283798528, 2283799040, 2285895680, 2290089984,\n",
       "                   2292187136, 2294284288, 2298478592, 2684354560,\n",
       "                   2688548864, 2692743168, 2696937472, 2701131776,\n",
       "                   2709520384, 2717908992, 2818572288, 2822766592,\n",
       "                   2826960896, 2831155200],\n",
       "             mask=False,\n",
       "       fill_value=999999,\n",
       "            dtype=uint32)"
      ]
     },
     "execution_count": 103,
     "metadata": {},
     "output_type": "execute_result"
    }
   ],
   "source": [
    "np.unique(flags)"
   ]
  },
  {
   "cell_type": "code",
   "execution_count": 70,
   "metadata": {
    "scrolled": true
   },
   "outputs": [
    {
     "data": {
      "text/plain": [
       "array([2147483648, 2149580800, 2149580801, 2149580808, 2149580864,\n",
       "       2151677952, 2155872256, 2157969408, 2157969409, 2157969416,\n",
       "       2160066560, 2164260864, 2168455168, 2172649472, 2181038080,\n",
       "       2281701376, 2283798528, 2283799040, 2285895680, 2290089984,\n",
       "       2292187136, 2294284288, 2298478592, 2684354560, 2688548864,\n",
       "       2692743168, 2696937472, 2701131776, 2709520384, 2717908992,\n",
       "       2818572288, 2822766592, 2826960896, 2831155200], dtype=uint32)"
      ]
     },
     "execution_count": 70,
     "metadata": {},
     "output_type": "execute_result"
    }
   ],
   "source": [
    "np.unique(flags_nomask)"
   ]
  },
  {
   "cell_type": "code",
   "execution_count": 124,
   "metadata": {},
   "outputs": [
    {
     "data": {
      "text/plain": [
       "numpy.ma.core.MaskedArray"
      ]
     },
     "execution_count": 124,
     "metadata": {},
     "output_type": "execute_result"
    }
   ],
   "source": [
    "speciflags = wflags == 8\n",
    "type(speciflags)"
   ]
  },
  {
   "cell_type": "code",
   "execution_count": 122,
   "metadata": {},
   "outputs": [
    {
     "data": {
      "text/plain": [
       "<matplotlib.image.AxesImage at 0x2c3ffcadd30>"
      ]
     },
     "execution_count": 122,
     "metadata": {},
     "output_type": "execute_result"
    },
    {
     "data": {
      "image/png": "[encoded data removed]",
      "text/plain": [
       "<Figure size 432x288 with 1 Axes>"
      ]
     },
     "metadata": {
      "needs_background": "light"
     },
     "output_type": "display_data"
    }
   ],
   "source": [
    "plt.imshow(speciflags)"
   ]
  },
  {
   "cell_type": "code",
   "execution_count": 72,
   "metadata": {
    "scrolled": true
   },
   "outputs": [
    {
     "data": {
      "text/plain": [
       "<matplotlib.image.AxesImage at 0x2c3ffbaae10>"
      ]
     },
     "execution_count": 72,
     "metadata": {},
     "output_type": "execute_result"
    },
    {
     "data": {
      "image/png": "[encoded data removed]",
      "text/plain": [
       "<Figure size 432x288 with 1 Axes>"
      ]
     },
     "metadata": {
      "needs_background": "light"
     },
     "output_type": "display_data"
    }
   ],
   "source": [
    "plt.imshow(flags)"
   ]
  },
  {
   "cell_type": "code",
   "execution_count": 120,
   "metadata": {},
   "outputs": [
    {
     "data": {
      "text/plain": [
       "<matplotlib.image.AxesImage at 0x2c3ffc8db70>"
      ]
     },
     "execution_count": 120,
     "metadata": {},
     "output_type": "execute_result"
    },
    {
     "data": {
      "image/png": "[encoded data removed]",
      "text/plain": [
       "<Figure size 432x288 with 1 Axes>"
      ]
     },
     "metadata": {
      "needs_background": "light"
     },
     "output_type": "display_data"
    }
   ],
   "source": [
    "plt.imshow(wflags, vmin=8388607, vmax=8388608)"
   ]
  },
  {
   "cell_type": "code",
   "execution_count": 65,
   "metadata": {},
   "outputs": [
    {
     "data": {
      "text/plain": [
       "<matplotlib.image.AxesImage at 0x2c32c1e28d0>"
      ]
     },
     "execution_count": 65,
     "metadata": {},
     "output_type": "execute_result"
    },
    {
     "data": {
      "image/png": "[encoded data removed]",
      "text/plain": [
       "<Figure size 432x288 with 1 Axes>"
      ]
     },
     "metadata": {
      "needs_background": "light"
     },
     "output_type": "display_data"
    }
   ],
   "source": [
    "plt.imshow(flags_nomask)"
   ]
  },
  {
   "cell_type": "code",
   "execution_count": 23,
   "metadata": {},
   "outputs": [
    {
     "data": {
      "text/plain": [
       "<matplotlib.image.AxesImage at 0x2c328ba2780>"
      ]
     },
     "execution_count": 23,
     "metadata": {},
     "output_type": "execute_result"
    },
    {
     "data": {
      "image/png": "[encoded data removed]",
      "text/plain": [
       "<Figure size 432x288 with 1 Axes>"
      ]
     },
     "metadata": {
      "needs_background": "light"
     },
     "output_type": "display_data"
    }
   ],
   "source": [
    "plt.imshow(lon)"
   ]
  },
  {
   "cell_type": "code",
   "execution_count": 19,
   "metadata": {},
   "outputs": [
    {
     "name": "stdout",
     "output_type": "stream",
     "text": [
      "(-64.666183, 0.0028875712230215845, 0, -0.126354, 0, -0.003230213150818871) \n",
      " --- \n",
      " 4865 4091\n"
     ]
    }
   ],
   "source": [
    "# https://gis.stackexchange.com/questions/261677/determine-the-geotransformation-to-convert-a-netcdf-to-geotiff\n",
    "\n",
    "nx = coords_nc_data.dimensions['columns'].size\n",
    "ny = coords_nc_data.dimensions['rows'].size\n",
    "\n",
    "xmin, ymin, xmax, ymax = [lon.min(), lat.min(), lon.max(), lat.max()]\n",
    "xres = (xmax - xmin) / float(nx)\n",
    "yres = (ymax - ymin) / float(ny)\n",
    "geotransform = (xmin, xres, 0, ymax, 0, -yres)\n",
    "print(geotransform,'\\n --- \\n',nx, ny)"
   ]
  },
  {
   "cell_type": "code",
   "execution_count": 24,
   "metadata": {},
   "outputs": [],
   "source": [
    "geotransform2 = (-64.66684894352004, 0.002888197418897582, 0.0, -0.1263540012212161, 0.0, -0.002888197418897582)"
   ]
  },
  {
   "cell_type": "code",
   "execution_count": 25,
   "metadata": {},
   "outputs": [],
   "source": [
    "dst_ds = gdal.GetDriverByName('GTiff').Create('cloud_test_output_3.tif', nx, ny, 1, gdal.GDT_Float32)\n",
    "# dst_ds = gdal.GetDriverByName('GTiff').Create('output.tif', ny, nx, 1, gdal.GDT_Float32)\n",
    "\n",
    "dst_ds.SetGeoTransform(geotransform2)        # specify coords\n",
    "srs = osr.SpatialReference()                # establish encoding\n",
    "srs.ImportFromEPSG(4326)                    # WGS84 lat/long\n",
    "dst_ds.SetProjection(srs.ExportToWkt())     # export coords to file\n",
    "dst_ds.GetRasterBand(1).WriteArray(flags)   # write r-band to the raster\n",
    "dst_ds.FlushCache()                         # write to disk\n",
    "dst_ds = None   "
   ]
  },
  {
   "cell_type": "markdown",
   "metadata": {},
   "source": [
    "## XARRAY approach"
   ]
  },
  {
   "cell_type": "code",
   "execution_count": 27,
   "metadata": {},
   "outputs": [],
   "source": [
    "import rioxarray\n",
    "import xarray"
   ]
  },
  {
   "cell_type": "code",
   "execution_count": 28,
   "metadata": {},
   "outputs": [],
   "source": [
    "xds = xarray.open_dataset('D:\\processing\\win\\icor_mask\\S3B_OL_1_EFR____20190722T133256_20190722T133556_20190723T181207_0179_028_024_3060_LN1_O_NT_002.SEN3\\qualityFlags.nc')"
   ]
  },
  {
   "cell_type": "code",
   "execution_count": 29,
   "metadata": {},
   "outputs": [
    {
     "data": {
      "text/html": [
       "<div><svg style=\"position: absolute; width: 0; height: 0; overflow: hidden\">\n",
       "<defs>\n",
       "<symbol id=\"icon-database\" viewBox=\"0 0 32 32\">\n",
       "<path d=\"M16 0c-8.837 0-16 2.239-16 5v4c0 2.761 7.163 5 16 5s16-2.239 16-5v-4c0-2.761-7.163-5-16-5z\"></path>\n",
       "<path d=\"M16 17c-8.837 0-16-2.239-16-5v6c0 2.761 7.163 5 16 5s16-2.239 16-5v-6c0 2.761-7.163 5-16 5z\"></path>\n",
       "<path d=\"M16 26c-8.837 0-16-2.239-16-5v6c0 2.761 7.163 5 16 5s16-2.239 16-5v-6c0 2.761-7.163 5-16 5z\"></path>\n",
       "</symbol>\n",
       "<symbol id=\"icon-file-text2\" viewBox=\"0 0 32 32\">\n",
       "<path d=\"M28.681 7.159c-0.694-0.947-1.662-2.053-2.724-3.116s-2.169-2.030-3.116-2.724c-1.612-1.182-2.393-1.319-2.841-1.319h-15.5c-1.378 0-2.5 1.121-2.5 2.5v27c0 1.378 1.122 2.5 2.5 2.5h23c1.378 0 2.5-1.122 2.5-2.5v-19.5c0-0.448-0.137-1.23-1.319-2.841zM24.543 5.457c0.959 0.959 1.712 1.825 2.268 2.543h-4.811v-4.811c0.718 0.556 1.584 1.309 2.543 2.268zM28 29.5c0 0.271-0.229 0.5-0.5 0.5h-23c-0.271 0-0.5-0.229-0.5-0.5v-27c0-0.271 0.229-0.5 0.5-0.5 0 0 15.499-0 15.5 0v7c0 0.552 0.448 1 1 1h7v19.5z\"></path>\n",
       "<path d=\"M23 26h-14c-0.552 0-1-0.448-1-1s0.448-1 1-1h14c0.552 0 1 0.448 1 1s-0.448 1-1 1z\"></path>\n",
       "<path d=\"M23 22h-14c-0.552 0-1-0.448-1-1s0.448-1 1-1h14c0.552 0 1 0.448 1 1s-0.448 1-1 1z\"></path>\n",
       "<path d=\"M23 18h-14c-0.552 0-1-0.448-1-1s0.448-1 1-1h14c0.552 0 1 0.448 1 1s-0.448 1-1 1z\"></path>\n",
       "</symbol>\n",
       "</defs>\n",
       "</svg>\n",
       "<style>/* CSS stylesheet for displaying xarray objects in jupyterlab.\n",
       " *\n",
       " */\n",
       "\n",
       ":root {\n",
       "  --xr-font-color0: var(--jp-content-font-color0, rgba(0, 0, 0, 1));\n",
       "  --xr-font-color2: var(--jp-content-font-color2, rgba(0, 0, 0, 0.54));\n",
       "  --xr-font-color3: var(--jp-content-font-color3, rgba(0, 0, 0, 0.38));\n",
       "  --xr-border-color: var(--jp-border-color2, #e0e0e0);\n",
       "  --xr-disabled-color: var(--jp-layout-color3, #bdbdbd);\n",
       "  --xr-background-color: var(--jp-layout-color0, white);\n",
       "  --xr-background-color-row-even: var(--jp-layout-color1, white);\n",
       "  --xr-background-color-row-odd: var(--jp-layout-color2, #eeeeee);\n",
       "}\n",
       "\n",
       "html[theme=dark],\n",
       "body.vscode-dark {\n",
       "  --xr-font-color0: rgba(255, 255, 255, 1);\n",
       "  --xr-font-color2: rgba(255, 255, 255, 0.54);\n",
       "  --xr-font-color3: rgba(255, 255, 255, 0.38);\n",
       "  --xr-border-color: #1F1F1F;\n",
       "  --xr-disabled-color: #515151;\n",
       "  --xr-background-color: #111111;\n",
       "  --xr-background-color-row-even: #111111;\n",
       "  --xr-background-color-row-odd: #313131;\n",
       "}\n",
       "\n",
       ".xr-wrap {\n",
       "  display: block;\n",
       "  min-width: 300px;\n",
       "  max-width: 700px;\n",
       "}\n",
       "\n",
       ".xr-text-repr-fallback {\n",
       "  /* fallback to plain text repr when CSS is not injected (untrusted notebook) */\n",
       "  display: none;\n",
       "}\n",
       "\n",
       ".xr-header {\n",
       "  padding-top: 6px;\n",
       "  padding-bottom: 6px;\n",
       "  margin-bottom: 4px;\n",
       "  border-bottom: solid 1px var(--xr-border-color);\n",
       "}\n",
       "\n",
       ".xr-header > div,\n",
       ".xr-header > ul {\n",
       "  display: inline;\n",
       "  margin-top: 0;\n",
       "  margin-bottom: 0;\n",
       "}\n",
       "\n",
       ".xr-obj-type,\n",
       ".xr-array-name {\n",
       "  margin-left: 2px;\n",
       "  margin-right: 10px;\n",
       "}\n",
       "\n",
       ".xr-obj-type {\n",
       "  color: var(--xr-font-color2);\n",
       "}\n",
       "\n",
       ".xr-sections {\n",
       "  padding-left: 0 !important;\n",
       "  display: grid;\n",
       "  grid-template-columns: 150px auto auto 1fr 20px 20px;\n",
       "}\n",
       "\n",
       ".xr-section-item {\n",
       "  display: contents;\n",
       "}\n",
       "\n",
       ".xr-section-item input {\n",
       "  display: none;\n",
       "}\n",
       "\n",
       ".xr-section-item input + label {\n",
       "  color: var(--xr-disabled-color);\n",
       "}\n",
       "\n",
       ".xr-section-item input:enabled + label {\n",
       "  cursor: pointer;\n",
       "  color: var(--xr-font-color2);\n",
       "}\n",
       "\n",
       ".xr-section-item input:enabled + label:hover {\n",
       "  color: var(--xr-font-color0);\n",
       "}\n",
       "\n",
       ".xr-section-summary {\n",
       "  grid-column: 1;\n",
       "  color: var(--xr-font-color2);\n",
       "  font-weight: 500;\n",
       "}\n",
       "\n",
       ".xr-section-summary > span {\n",
       "  display: inline-block;\n",
       "  padding-left: 0.5em;\n",
       "}\n",
       "\n",
       ".xr-section-summary-in:disabled + label {\n",
       "  color: var(--xr-font-color2);\n",
       "}\n",
       "\n",
       ".xr-section-summary-in + label:before {\n",
       "  display: inline-block;\n",
       "  content: '►';\n",
       "  font-size: 11px;\n",
       "  width: 15px;\n",
       "  text-align: center;\n",
       "}\n",
       "\n",
       ".xr-section-summary-in:disabled + label:before {\n",
       "  color: var(--xr-disabled-color);\n",
       "}\n",
       "\n",
       ".xr-section-summary-in:checked + label:before {\n",
       "  content: '▼';\n",
       "}\n",
       "\n",
       ".xr-section-summary-in:checked + label > span {\n",
       "  display: none;\n",
       "}\n",
       "\n",
       ".xr-section-summary,\n",
       ".xr-section-inline-details {\n",
       "  padding-top: 4px;\n",
       "  padding-bottom: 4px;\n",
       "}\n",
       "\n",
       ".xr-section-inline-details {\n",
       "  grid-column: 2 / -1;\n",
       "}\n",
       "\n",
       ".xr-section-details {\n",
       "  display: none;\n",
       "  grid-column: 1 / -1;\n",
       "  margin-bottom: 5px;\n",
       "}\n",
       "\n",
       ".xr-section-summary-in:checked ~ .xr-section-details {\n",
       "  display: contents;\n",
       "}\n",
       "\n",
       ".xr-array-wrap {\n",
       "  grid-column: 1 / -1;\n",
       "  display: grid;\n",
       "  grid-template-columns: 20px auto;\n",
       "}\n",
       "\n",
       ".xr-array-wrap > label {\n",
       "  grid-column: 1;\n",
       "  vertical-align: top;\n",
       "}\n",
       "\n",
       ".xr-preview {\n",
       "  color: var(--xr-font-color3);\n",
       "}\n",
       "\n",
       ".xr-array-preview,\n",
       ".xr-array-data {\n",
       "  padding: 0 5px !important;\n",
       "  grid-column: 2;\n",
       "}\n",
       "\n",
       ".xr-array-data,\n",
       ".xr-array-in:checked ~ .xr-array-preview {\n",
       "  display: none;\n",
       "}\n",
       "\n",
       ".xr-array-in:checked ~ .xr-array-data,\n",
       ".xr-array-preview {\n",
       "  display: inline-block;\n",
       "}\n",
       "\n",
       ".xr-dim-list {\n",
       "  display: inline-block !important;\n",
       "  list-style: none;\n",
       "  padding: 0 !important;\n",
       "  margin: 0;\n",
       "}\n",
       "\n",
       ".xr-dim-list li {\n",
       "  display: inline-block;\n",
       "  padding: 0;\n",
       "  margin: 0;\n",
       "}\n",
       "\n",
       ".xr-dim-list:before {\n",
       "  content: '(';\n",
       "}\n",
       "\n",
       ".xr-dim-list:after {\n",
       "  content: ')';\n",
       "}\n",
       "\n",
       ".xr-dim-list li:not(:last-child):after {\n",
       "  content: ',';\n",
       "  padding-right: 5px;\n",
       "}\n",
       "\n",
       ".xr-has-index {\n",
       "  font-weight: bold;\n",
       "}\n",
       "\n",
       ".xr-var-list,\n",
       ".xr-var-item {\n",
       "  display: contents;\n",
       "}\n",
       "\n",
       ".xr-var-item > div,\n",
       ".xr-var-item label,\n",
       ".xr-var-item > .xr-var-name span {\n",
       "  background-color: var(--xr-background-color-row-even);\n",
       "  margin-bottom: 0;\n",
       "}\n",
       "\n",
       ".xr-var-item > .xr-var-name:hover span {\n",
       "  padding-right: 5px;\n",
       "}\n",
       "\n",
       ".xr-var-list > li:nth-child(odd) > div,\n",
       ".xr-var-list > li:nth-child(odd) > label,\n",
       ".xr-var-list > li:nth-child(odd) > .xr-var-name span {\n",
       "  background-color: var(--xr-background-color-row-odd);\n",
       "}\n",
       "\n",
       ".xr-var-name {\n",
       "  grid-column: 1;\n",
       "}\n",
       "\n",
       ".xr-var-dims {\n",
       "  grid-column: 2;\n",
       "}\n",
       "\n",
       ".xr-var-dtype {\n",
       "  grid-column: 3;\n",
       "  text-align: right;\n",
       "  color: var(--xr-font-color2);\n",
       "}\n",
       "\n",
       ".xr-var-preview {\n",
       "  grid-column: 4;\n",
       "}\n",
       "\n",
       ".xr-var-name,\n",
       ".xr-var-dims,\n",
       ".xr-var-dtype,\n",
       ".xr-preview,\n",
       ".xr-attrs dt {\n",
       "  white-space: nowrap;\n",
       "  overflow: hidden;\n",
       "  text-overflow: ellipsis;\n",
       "  padding-right: 10px;\n",
       "}\n",
       "\n",
       ".xr-var-name:hover,\n",
       ".xr-var-dims:hover,\n",
       ".xr-var-dtype:hover,\n",
       ".xr-attrs dt:hover {\n",
       "  overflow: visible;\n",
       "  width: auto;\n",
       "  z-index: 1;\n",
       "}\n",
       "\n",
       ".xr-var-attrs,\n",
       ".xr-var-data {\n",
       "  display: none;\n",
       "  background-color: var(--xr-background-color) !important;\n",
       "  padding-bottom: 5px !important;\n",
       "}\n",
       "\n",
       ".xr-var-attrs-in:checked ~ .xr-var-attrs,\n",
       ".xr-var-data-in:checked ~ .xr-var-data {\n",
       "  display: block;\n",
       "}\n",
       "\n",
       ".xr-var-data > table {\n",
       "  float: right;\n",
       "}\n",
       "\n",
       ".xr-var-name span,\n",
       ".xr-var-data,\n",
       ".xr-attrs {\n",
       "  padding-left: 25px !important;\n",
       "}\n",
       "\n",
       ".xr-attrs,\n",
       ".xr-var-attrs,\n",
       ".xr-var-data {\n",
       "  grid-column: 1 / -1;\n",
       "}\n",
       "\n",
       "dl.xr-attrs {\n",
       "  padding: 0;\n",
       "  margin: 0;\n",
       "  display: grid;\n",
       "  grid-template-columns: 125px auto;\n",
       "}\n",
       "\n",
       ".xr-attrs dt, dd {\n",
       "  padding: 0;\n",
       "  margin: 0;\n",
       "  float: left;\n",
       "  padding-right: 10px;\n",
       "  width: auto;\n",
       "}\n",
       "\n",
       ".xr-attrs dt {\n",
       "  font-weight: normal;\n",
       "  grid-column: 1;\n",
       "}\n",
       "\n",
       ".xr-attrs dt:hover span {\n",
       "  display: inline-block;\n",
       "  background: var(--xr-background-color);\n",
       "  padding-right: 10px;\n",
       "}\n",
       "\n",
       ".xr-attrs dd {\n",
       "  grid-column: 2;\n",
       "  white-space: pre-wrap;\n",
       "  word-break: break-all;\n",
       "}\n",
       "\n",
       ".xr-icon-database,\n",
       ".xr-icon-file-text2 {\n",
       "  display: inline-block;\n",
       "  vertical-align: middle;\n",
       "  width: 1em;\n",
       "  height: 1.5em !important;\n",
       "  stroke-width: 0;\n",
       "  stroke: currentColor;\n",
       "  fill: currentColor;\n",
       "}\n",
       "</style><pre class='xr-text-repr-fallback'>&lt;xarray.Dataset&gt;\n",
       "Dimensions:        (columns: 4865, rows: 4091)\n",
       "Dimensions without coordinates: columns, rows\n",
       "Data variables:\n",
       "    quality_flags  (rows, columns) uint32 ...\n",
       "Attributes:\n",
       "    absolute_orbit_number:  6456\n",
       "    ac_subsampling_factor:  64\n",
       "    al_subsampling_factor:  1\n",
       "    comment:                 \n",
       "    contact:                eosupport@copernicus.esa.int\n",
       "    creation_time:          2019-07-23T18:12:07Z\n",
       "    history:                  2019-07-23T18:12:07Z: PUGCoreProcessor /data/ip...\n",
       "    institution:            LN1\n",
       "    netCDF_version:         4.2 of Mar 13 2018 10:14:33 $\n",
       "    product_name:           S3B_OL_1_EFR____20190722T133256_20190722T133556_2...\n",
       "    references:             S3IPF PDS 004.1 - i2r2 - Product Data Format Spec...\n",
       "    resolution:             [ 270 294 ]\n",
       "    source:                 IPF-OL-1-EO 06.08\n",
       "    start_time:             2019-07-22T13:32:55.880287Z\n",
       "    stop_time:              2019-07-22T13:35:55.848029Z\n",
       "    title:                  OLCI Level 1b Product, Classification and Quality...</pre><div class='xr-wrap' hidden><div class='xr-header'><div class='xr-obj-type'>xarray.Dataset</div></div><ul class='xr-sections'><li class='xr-section-item'><input id='section-ad64c24f-1296-4534-9331-b0a0b5323042' class='xr-section-summary-in' type='checkbox' disabled ><label for='section-ad64c24f-1296-4534-9331-b0a0b5323042' class='xr-section-summary'  title='Expand/collapse section'>Dimensions:</label><div class='xr-section-inline-details'><ul class='xr-dim-list'><li><span>columns</span>: 4865</li><li><span>rows</span>: 4091</li></ul></div><div class='xr-section-details'></div></li><li class='xr-section-item'><input id='section-ade986c9-dae7-4aad-bc3e-ac185518b119' class='xr-section-summary-in' type='checkbox' disabled ><label for='section-ade986c9-dae7-4aad-bc3e-ac185518b119' class='xr-section-summary'  title='Expand/collapse section'>Coordinates: <span>(0)</span></label><div class='xr-section-inline-details'></div><div class='xr-section-details'><ul class='xr-var-list'></ul></div></li><li class='xr-section-item'><input id='section-0d3c4814-2a32-421b-8d95-6a5db3c04823' class='xr-section-summary-in' type='checkbox'  checked><label for='section-0d3c4814-2a32-421b-8d95-6a5db3c04823' class='xr-section-summary' >Data variables: <span>(1)</span></label><div class='xr-section-inline-details'></div><div class='xr-section-details'><ul class='xr-var-list'><li class='xr-var-item'><div class='xr-var-name'><span>quality_flags</span></div><div class='xr-var-dims'>(rows, columns)</div><div class='xr-var-dtype'>uint32</div><div class='xr-var-preview xr-preview'>...</div><input id='attrs-ed6bb499-5dea-4417-8164-18f0a20792d1' class='xr-var-attrs-in' type='checkbox' ><label for='attrs-ed6bb499-5dea-4417-8164-18f0a20792d1' title='Show/Hide attributes'><svg class='icon xr-icon-file-text2'><use xlink:href='#icon-file-text2'></use></svg></label><input id='data-d0355cda-3319-48b2-b2f0-c08d3f0699a9' class='xr-var-data-in' type='checkbox'><label for='data-d0355cda-3319-48b2-b2f0-c08d3f0699a9' title='Show/Hide data repr'><svg class='icon xr-icon-database'><use xlink:href='#icon-database'></use></svg></label><div class='xr-var-attrs'><dl class='xr-attrs'><dt><span>coordinates :</span></dt><dd>time_stamp altitude latitude longitude</dd><dt><span>flag_masks :</span></dt><dd>[2147483648 1073741824  536870912  268435456  134217728   67108864\n",
       "   33554432   16777216    8388608    4194304    2097152    1048576\n",
       "     524288     262144     131072      65536      32768      16384\n",
       "       8192       4096       2048       1024        512        256\n",
       "        128         64         32         16          8          4\n",
       "          2          1]</dd><dt><span>flag_meanings :</span></dt><dd>land coastline fresh_inland_water tidal_region bright straylight_risk invalid cosmetic duplicated sun-glint_risk dubious saturated@Oa01 saturated@Oa02 saturated@Oa03 saturated@Oa04 saturated@Oa05 saturated@Oa06 saturated@Oa07 saturated@Oa08 saturated@Oa09 saturated@Oa10 saturated@Oa11 saturated@Oa12 saturated@Oa13 saturated@Oa14 saturated@Oa15 saturated@Oa16 saturated@Oa17 saturated@Oa18 saturated@Oa19 saturated@Oa20 saturated@Oa21</dd><dt><span>long_name :</span></dt><dd>Classification and quality flags</dd></dl></div><div class='xr-var-data'><pre>[19902715 values with dtype=uint32]</pre></div></li></ul></div></li><li class='xr-section-item'><input id='section-fec2f54b-6855-48df-96f6-27001826558f' class='xr-section-summary-in' type='checkbox'  ><label for='section-fec2f54b-6855-48df-96f6-27001826558f' class='xr-section-summary' >Attributes: <span>(16)</span></label><div class='xr-section-inline-details'></div><div class='xr-section-details'><dl class='xr-attrs'><dt><span>absolute_orbit_number :</span></dt><dd>6456</dd><dt><span>ac_subsampling_factor :</span></dt><dd>64</dd><dt><span>al_subsampling_factor :</span></dt><dd>1</dd><dt><span>comment :</span></dt><dd> </dd><dt><span>contact :</span></dt><dd>eosupport@copernicus.esa.int</dd><dt><span>creation_time :</span></dt><dd>2019-07-23T18:12:07Z</dd><dt><span>history :</span></dt><dd>  2019-07-23T18:12:07Z: PUGCoreProcessor /data/ipf-s3/workdir42/596609505/JobOrder.596609505.xml</dd><dt><span>institution :</span></dt><dd>LN1</dd><dt><span>netCDF_version :</span></dt><dd>4.2 of Mar 13 2018 10:14:33 $</dd><dt><span>product_name :</span></dt><dd>S3B_OL_1_EFR____20190722T133256_20190722T133556_20190723T181207_0179_028_024_3060_LN1_O_NT_002.SEN3</dd><dt><span>references :</span></dt><dd>S3IPF PDS 004.1 - i2r2 - Product Data Format Specification - OLCI Level 1, S3IPF PDS 002 - i1r7 - Product Data Format Specification - Product Structures, S3IPF DPM 002 - i2r1 - Detailed Processing Model - OLCI Level 1</dd><dt><span>resolution :</span></dt><dd>[ 270 294 ]</dd><dt><span>source :</span></dt><dd>IPF-OL-1-EO 06.08</dd><dt><span>start_time :</span></dt><dd>2019-07-22T13:32:55.880287Z</dd><dt><span>stop_time :</span></dt><dd>2019-07-22T13:35:55.848029Z</dd><dt><span>title :</span></dt><dd>OLCI Level 1b Product, Classification and Quality Flags Data Set</dd></dl></div></li></ul></div></div>"
      ],
      "text/plain": [
       "<xarray.Dataset>\n",
       "Dimensions:        (columns: 4865, rows: 4091)\n",
       "Dimensions without coordinates: columns, rows\n",
       "Data variables:\n",
       "    quality_flags  (rows, columns) uint32 ...\n",
       "Attributes:\n",
       "    absolute_orbit_number:  6456\n",
       "    ac_subsampling_factor:  64\n",
       "    al_subsampling_factor:  1\n",
       "    comment:                 \n",
       "    contact:                eosupport@copernicus.esa.int\n",
       "    creation_time:          2019-07-23T18:12:07Z\n",
       "    history:                  2019-07-23T18:12:07Z: PUGCoreProcessor /data/ip...\n",
       "    institution:            LN1\n",
       "    netCDF_version:         4.2 of Mar 13 2018 10:14:33 $\n",
       "    product_name:           S3B_OL_1_EFR____20190722T133256_20190722T133556_2...\n",
       "    references:             S3IPF PDS 004.1 - i2r2 - Product Data Format Spec...\n",
       "    resolution:             [ 270 294 ]\n",
       "    source:                 IPF-OL-1-EO 06.08\n",
       "    start_time:             2019-07-22T13:32:55.880287Z\n",
       "    stop_time:              2019-07-22T13:35:55.848029Z\n",
       "    title:                  OLCI Level 1b Product, Classification and Quality..."
      ]
     },
     "execution_count": 29,
     "metadata": {},
     "output_type": "execute_result"
    }
   ],
   "source": [
    "xds"
   ]
  },
  {
   "cell_type": "code",
   "execution_count": 30,
   "metadata": {},
   "outputs": [],
   "source": [
    "geoc_xds = xarray.open_dataset('D:\\processing\\win\\icor_mask\\S3B_OL_1_EFR____20190722T133256_20190722T133556_20190723T181207_0179_028_024_3060_LN1_O_NT_002.SEN3\\geo_coordinates.nc')"
   ]
  },
  {
   "cell_type": "code",
   "execution_count": 31,
   "metadata": {},
   "outputs": [
    {
     "data": {
      "text/html": [
       "<div><svg style=\"position: absolute; width: 0; height: 0; overflow: hidden\">\n",
       "<defs>\n",
       "<symbol id=\"icon-database\" viewBox=\"0 0 32 32\">\n",
       "<path d=\"M16 0c-8.837 0-16 2.239-16 5v4c0 2.761 7.163 5 16 5s16-2.239 16-5v-4c0-2.761-7.163-5-16-5z\"></path>\n",
       "<path d=\"M16 17c-8.837 0-16-2.239-16-5v6c0 2.761 7.163 5 16 5s16-2.239 16-5v-6c0 2.761-7.163 5-16 5z\"></path>\n",
       "<path d=\"M16 26c-8.837 0-16-2.239-16-5v6c0 2.761 7.163 5 16 5s16-2.239 16-5v-6c0 2.761-7.163 5-16 5z\"></path>\n",
       "</symbol>\n",
       "<symbol id=\"icon-file-text2\" viewBox=\"0 0 32 32\">\n",
       "<path d=\"M28.681 7.159c-0.694-0.947-1.662-2.053-2.724-3.116s-2.169-2.030-3.116-2.724c-1.612-1.182-2.393-1.319-2.841-1.319h-15.5c-1.378 0-2.5 1.121-2.5 2.5v27c0 1.378 1.122 2.5 2.5 2.5h23c1.378 0 2.5-1.122 2.5-2.5v-19.5c0-0.448-0.137-1.23-1.319-2.841zM24.543 5.457c0.959 0.959 1.712 1.825 2.268 2.543h-4.811v-4.811c0.718 0.556 1.584 1.309 2.543 2.268zM28 29.5c0 0.271-0.229 0.5-0.5 0.5h-23c-0.271 0-0.5-0.229-0.5-0.5v-27c0-0.271 0.229-0.5 0.5-0.5 0 0 15.499-0 15.5 0v7c0 0.552 0.448 1 1 1h7v19.5z\"></path>\n",
       "<path d=\"M23 26h-14c-0.552 0-1-0.448-1-1s0.448-1 1-1h14c0.552 0 1 0.448 1 1s-0.448 1-1 1z\"></path>\n",
       "<path d=\"M23 22h-14c-0.552 0-1-0.448-1-1s0.448-1 1-1h14c0.552 0 1 0.448 1 1s-0.448 1-1 1z\"></path>\n",
       "<path d=\"M23 18h-14c-0.552 0-1-0.448-1-1s0.448-1 1-1h14c0.552 0 1 0.448 1 1s-0.448 1-1 1z\"></path>\n",
       "</symbol>\n",
       "</defs>\n",
       "</svg>\n",
       "<style>/* CSS stylesheet for displaying xarray objects in jupyterlab.\n",
       " *\n",
       " */\n",
       "\n",
       ":root {\n",
       "  --xr-font-color0: var(--jp-content-font-color0, rgba(0, 0, 0, 1));\n",
       "  --xr-font-color2: var(--jp-content-font-color2, rgba(0, 0, 0, 0.54));\n",
       "  --xr-font-color3: var(--jp-content-font-color3, rgba(0, 0, 0, 0.38));\n",
       "  --xr-border-color: var(--jp-border-color2, #e0e0e0);\n",
       "  --xr-disabled-color: var(--jp-layout-color3, #bdbdbd);\n",
       "  --xr-background-color: var(--jp-layout-color0, white);\n",
       "  --xr-background-color-row-even: var(--jp-layout-color1, white);\n",
       "  --xr-background-color-row-odd: var(--jp-layout-color2, #eeeeee);\n",
       "}\n",
       "\n",
       "html[theme=dark],\n",
       "body.vscode-dark {\n",
       "  --xr-font-color0: rgba(255, 255, 255, 1);\n",
       "  --xr-font-color2: rgba(255, 255, 255, 0.54);\n",
       "  --xr-font-color3: rgba(255, 255, 255, 0.38);\n",
       "  --xr-border-color: #1F1F1F;\n",
       "  --xr-disabled-color: #515151;\n",
       "  --xr-background-color: #111111;\n",
       "  --xr-background-color-row-even: #111111;\n",
       "  --xr-background-color-row-odd: #313131;\n",
       "}\n",
       "\n",
       ".xr-wrap {\n",
       "  display: block;\n",
       "  min-width: 300px;\n",
       "  max-width: 700px;\n",
       "}\n",
       "\n",
       ".xr-text-repr-fallback {\n",
       "  /* fallback to plain text repr when CSS is not injected (untrusted notebook) */\n",
       "  display: none;\n",
       "}\n",
       "\n",
       ".xr-header {\n",
       "  padding-top: 6px;\n",
       "  padding-bottom: 6px;\n",
       "  margin-bottom: 4px;\n",
       "  border-bottom: solid 1px var(--xr-border-color);\n",
       "}\n",
       "\n",
       ".xr-header > div,\n",
       ".xr-header > ul {\n",
       "  display: inline;\n",
       "  margin-top: 0;\n",
       "  margin-bottom: 0;\n",
       "}\n",
       "\n",
       ".xr-obj-type,\n",
       ".xr-array-name {\n",
       "  margin-left: 2px;\n",
       "  margin-right: 10px;\n",
       "}\n",
       "\n",
       ".xr-obj-type {\n",
       "  color: var(--xr-font-color2);\n",
       "}\n",
       "\n",
       ".xr-sections {\n",
       "  padding-left: 0 !important;\n",
       "  display: grid;\n",
       "  grid-template-columns: 150px auto auto 1fr 20px 20px;\n",
       "}\n",
       "\n",
       ".xr-section-item {\n",
       "  display: contents;\n",
       "}\n",
       "\n",
       ".xr-section-item input {\n",
       "  display: none;\n",
       "}\n",
       "\n",
       ".xr-section-item input + label {\n",
       "  color: var(--xr-disabled-color);\n",
       "}\n",
       "\n",
       ".xr-section-item input:enabled + label {\n",
       "  cursor: pointer;\n",
       "  color: var(--xr-font-color2);\n",
       "}\n",
       "\n",
       ".xr-section-item input:enabled + label:hover {\n",
       "  color: var(--xr-font-color0);\n",
       "}\n",
       "\n",
       ".xr-section-summary {\n",
       "  grid-column: 1;\n",
       "  color: var(--xr-font-color2);\n",
       "  font-weight: 500;\n",
       "}\n",
       "\n",
       ".xr-section-summary > span {\n",
       "  display: inline-block;\n",
       "  padding-left: 0.5em;\n",
       "}\n",
       "\n",
       ".xr-section-summary-in:disabled + label {\n",
       "  color: var(--xr-font-color2);\n",
       "}\n",
       "\n",
       ".xr-section-summary-in + label:before {\n",
       "  display: inline-block;\n",
       "  content: '►';\n",
       "  font-size: 11px;\n",
       "  width: 15px;\n",
       "  text-align: center;\n",
       "}\n",
       "\n",
       ".xr-section-summary-in:disabled + label:before {\n",
       "  color: var(--xr-disabled-color);\n",
       "}\n",
       "\n",
       ".xr-section-summary-in:checked + label:before {\n",
       "  content: '▼';\n",
       "}\n",
       "\n",
       ".xr-section-summary-in:checked + label > span {\n",
       "  display: none;\n",
       "}\n",
       "\n",
       ".xr-section-summary,\n",
       ".xr-section-inline-details {\n",
       "  padding-top: 4px;\n",
       "  padding-bottom: 4px;\n",
       "}\n",
       "\n",
       ".xr-section-inline-details {\n",
       "  grid-column: 2 / -1;\n",
       "}\n",
       "\n",
       ".xr-section-details {\n",
       "  display: none;\n",
       "  grid-column: 1 / -1;\n",
       "  margin-bottom: 5px;\n",
       "}\n",
       "\n",
       ".xr-section-summary-in:checked ~ .xr-section-details {\n",
       "  display: contents;\n",
       "}\n",
       "\n",
       ".xr-array-wrap {\n",
       "  grid-column: 1 / -1;\n",
       "  display: grid;\n",
       "  grid-template-columns: 20px auto;\n",
       "}\n",
       "\n",
       ".xr-array-wrap > label {\n",
       "  grid-column: 1;\n",
       "  vertical-align: top;\n",
       "}\n",
       "\n",
       ".xr-preview {\n",
       "  color: var(--xr-font-color3);\n",
       "}\n",
       "\n",
       ".xr-array-preview,\n",
       ".xr-array-data {\n",
       "  padding: 0 5px !important;\n",
       "  grid-column: 2;\n",
       "}\n",
       "\n",
       ".xr-array-data,\n",
       ".xr-array-in:checked ~ .xr-array-preview {\n",
       "  display: none;\n",
       "}\n",
       "\n",
       ".xr-array-in:checked ~ .xr-array-data,\n",
       ".xr-array-preview {\n",
       "  display: inline-block;\n",
       "}\n",
       "\n",
       ".xr-dim-list {\n",
       "  display: inline-block !important;\n",
       "  list-style: none;\n",
       "  padding: 0 !important;\n",
       "  margin: 0;\n",
       "}\n",
       "\n",
       ".xr-dim-list li {\n",
       "  display: inline-block;\n",
       "  padding: 0;\n",
       "  margin: 0;\n",
       "}\n",
       "\n",
       ".xr-dim-list:before {\n",
       "  content: '(';\n",
       "}\n",
       "\n",
       ".xr-dim-list:after {\n",
       "  content: ')';\n",
       "}\n",
       "\n",
       ".xr-dim-list li:not(:last-child):after {\n",
       "  content: ',';\n",
       "  padding-right: 5px;\n",
       "}\n",
       "\n",
       ".xr-has-index {\n",
       "  font-weight: bold;\n",
       "}\n",
       "\n",
       ".xr-var-list,\n",
       ".xr-var-item {\n",
       "  display: contents;\n",
       "}\n",
       "\n",
       ".xr-var-item > div,\n",
       ".xr-var-item label,\n",
       ".xr-var-item > .xr-var-name span {\n",
       "  background-color: var(--xr-background-color-row-even);\n",
       "  margin-bottom: 0;\n",
       "}\n",
       "\n",
       ".xr-var-item > .xr-var-name:hover span {\n",
       "  padding-right: 5px;\n",
       "}\n",
       "\n",
       ".xr-var-list > li:nth-child(odd) > div,\n",
       ".xr-var-list > li:nth-child(odd) > label,\n",
       ".xr-var-list > li:nth-child(odd) > .xr-var-name span {\n",
       "  background-color: var(--xr-background-color-row-odd);\n",
       "}\n",
       "\n",
       ".xr-var-name {\n",
       "  grid-column: 1;\n",
       "}\n",
       "\n",
       ".xr-var-dims {\n",
       "  grid-column: 2;\n",
       "}\n",
       "\n",
       ".xr-var-dtype {\n",
       "  grid-column: 3;\n",
       "  text-align: right;\n",
       "  color: var(--xr-font-color2);\n",
       "}\n",
       "\n",
       ".xr-var-preview {\n",
       "  grid-column: 4;\n",
       "}\n",
       "\n",
       ".xr-var-name,\n",
       ".xr-var-dims,\n",
       ".xr-var-dtype,\n",
       ".xr-preview,\n",
       ".xr-attrs dt {\n",
       "  white-space: nowrap;\n",
       "  overflow: hidden;\n",
       "  text-overflow: ellipsis;\n",
       "  padding-right: 10px;\n",
       "}\n",
       "\n",
       ".xr-var-name:hover,\n",
       ".xr-var-dims:hover,\n",
       ".xr-var-dtype:hover,\n",
       ".xr-attrs dt:hover {\n",
       "  overflow: visible;\n",
       "  width: auto;\n",
       "  z-index: 1;\n",
       "}\n",
       "\n",
       ".xr-var-attrs,\n",
       ".xr-var-data {\n",
       "  display: none;\n",
       "  background-color: var(--xr-background-color) !important;\n",
       "  padding-bottom: 5px !important;\n",
       "}\n",
       "\n",
       ".xr-var-attrs-in:checked ~ .xr-var-attrs,\n",
       ".xr-var-data-in:checked ~ .xr-var-data {\n",
       "  display: block;\n",
       "}\n",
       "\n",
       ".xr-var-data > table {\n",
       "  float: right;\n",
       "}\n",
       "\n",
       ".xr-var-name span,\n",
       ".xr-var-data,\n",
       ".xr-attrs {\n",
       "  padding-left: 25px !important;\n",
       "}\n",
       "\n",
       ".xr-attrs,\n",
       ".xr-var-attrs,\n",
       ".xr-var-data {\n",
       "  grid-column: 1 / -1;\n",
       "}\n",
       "\n",
       "dl.xr-attrs {\n",
       "  padding: 0;\n",
       "  margin: 0;\n",
       "  display: grid;\n",
       "  grid-template-columns: 125px auto;\n",
       "}\n",
       "\n",
       ".xr-attrs dt, dd {\n",
       "  padding: 0;\n",
       "  margin: 0;\n",
       "  float: left;\n",
       "  padding-right: 10px;\n",
       "  width: auto;\n",
       "}\n",
       "\n",
       ".xr-attrs dt {\n",
       "  font-weight: normal;\n",
       "  grid-column: 1;\n",
       "}\n",
       "\n",
       ".xr-attrs dt:hover span {\n",
       "  display: inline-block;\n",
       "  background: var(--xr-background-color);\n",
       "  padding-right: 10px;\n",
       "}\n",
       "\n",
       ".xr-attrs dd {\n",
       "  grid-column: 2;\n",
       "  white-space: pre-wrap;\n",
       "  word-break: break-all;\n",
       "}\n",
       "\n",
       ".xr-icon-database,\n",
       ".xr-icon-file-text2 {\n",
       "  display: inline-block;\n",
       "  vertical-align: middle;\n",
       "  width: 1em;\n",
       "  height: 1.5em !important;\n",
       "  stroke-width: 0;\n",
       "  stroke: currentColor;\n",
       "  fill: currentColor;\n",
       "}\n",
       "</style><pre class='xr-text-repr-fallback'>&lt;xarray.Dataset&gt;\n",
       "Dimensions:    (columns: 4865, rows: 4091)\n",
       "Dimensions without coordinates: columns, rows\n",
       "Data variables:\n",
       "    altitude   (rows, columns) float32 ...\n",
       "    latitude   (rows, columns) float64 ...\n",
       "    longitude  (rows, columns) float64 ...\n",
       "Attributes:\n",
       "    absolute_orbit_number:  6456\n",
       "    ac_subsampling_factor:  64\n",
       "    al_subsampling_factor:  1\n",
       "    comment:                 \n",
       "    contact:                eosupport@copernicus.esa.int\n",
       "    creation_time:          2019-07-23T18:12:07Z\n",
       "    history:                  2019-07-23T18:12:07Z: PUGCoreProcessor /data/ip...\n",
       "    institution:            LN1\n",
       "    netCDF_version:         4.2 of Mar 13 2018 10:14:33 $\n",
       "    product_name:           S3B_OL_1_EFR____20190722T133256_20190722T133556_2...\n",
       "    references:             S3IPF PDS 004.1 - i2r2 - Product Data Format Spec...\n",
       "    resolution:             [ 270 294 ]\n",
       "    source:                 IPF-OL-1-EO 06.08\n",
       "    start_time:             2019-07-22T13:32:55.880287Z\n",
       "    stop_time:              2019-07-22T13:35:55.848029Z\n",
       "    title:                  OLCI Level 1b Product, Geo Coordinates Data Set</pre><div class='xr-wrap' hidden><div class='xr-header'><div class='xr-obj-type'>xarray.Dataset</div></div><ul class='xr-sections'><li class='xr-section-item'><input id='section-25e7c482-a988-41ae-8efd-f4d718fdd8a0' class='xr-section-summary-in' type='checkbox' disabled ><label for='section-25e7c482-a988-41ae-8efd-f4d718fdd8a0' class='xr-section-summary'  title='Expand/collapse section'>Dimensions:</label><div class='xr-section-inline-details'><ul class='xr-dim-list'><li><span>columns</span>: 4865</li><li><span>rows</span>: 4091</li></ul></div><div class='xr-section-details'></div></li><li class='xr-section-item'><input id='section-d37cb45e-f66e-40e3-9602-d69891afce83' class='xr-section-summary-in' type='checkbox' disabled ><label for='section-d37cb45e-f66e-40e3-9602-d69891afce83' class='xr-section-summary'  title='Expand/collapse section'>Coordinates: <span>(0)</span></label><div class='xr-section-inline-details'></div><div class='xr-section-details'><ul class='xr-var-list'></ul></div></li><li class='xr-section-item'><input id='section-a1b89596-f533-4fcc-92a3-1e5f85328fd7' class='xr-section-summary-in' type='checkbox'  checked><label for='section-a1b89596-f533-4fcc-92a3-1e5f85328fd7' class='xr-section-summary' >Data variables: <span>(3)</span></label><div class='xr-section-inline-details'></div><div class='xr-section-details'><ul class='xr-var-list'><li class='xr-var-item'><div class='xr-var-name'><span>altitude</span></div><div class='xr-var-dims'>(rows, columns)</div><div class='xr-var-dtype'>float32</div><div class='xr-var-preview xr-preview'>...</div><input id='attrs-9f00f250-71e1-44ef-88d9-37e1b4d76f4b' class='xr-var-attrs-in' type='checkbox' ><label for='attrs-9f00f250-71e1-44ef-88d9-37e1b4d76f4b' title='Show/Hide attributes'><svg class='icon xr-icon-file-text2'><use xlink:href='#icon-file-text2'></use></svg></label><input id='data-f034829c-d2bc-4d37-a6dc-f394f1f3d63d' class='xr-var-data-in' type='checkbox'><label for='data-f034829c-d2bc-4d37-a6dc-f394f1f3d63d' title='Show/Hide data repr'><svg class='icon xr-icon-database'><use xlink:href='#icon-database'></use></svg></label><div class='xr-var-attrs'><dl class='xr-attrs'><dt><span>long_name :</span></dt><dd>DEM corrected altitude</dd><dt><span>standard_name :</span></dt><dd>altitude</dd><dt><span>units :</span></dt><dd>m</dd><dt><span>valid_max :</span></dt><dd>9000</dd><dt><span>valid_min :</span></dt><dd>-1000</dd></dl></div><div class='xr-var-data'><pre>[19902715 values with dtype=float32]</pre></div></li><li class='xr-var-item'><div class='xr-var-name'><span>latitude</span></div><div class='xr-var-dims'>(rows, columns)</div><div class='xr-var-dtype'>float64</div><div class='xr-var-preview xr-preview'>...</div><input id='attrs-982d9613-162a-4bd5-92d8-698d4a8cb315' class='xr-var-attrs-in' type='checkbox' ><label for='attrs-982d9613-162a-4bd5-92d8-698d4a8cb315' title='Show/Hide attributes'><svg class='icon xr-icon-file-text2'><use xlink:href='#icon-file-text2'></use></svg></label><input id='data-e1421fd2-1ef3-4aa7-a464-c3dec0d53e17' class='xr-var-data-in' type='checkbox'><label for='data-e1421fd2-1ef3-4aa7-a464-c3dec0d53e17' title='Show/Hide data repr'><svg class='icon xr-icon-database'><use xlink:href='#icon-database'></use></svg></label><div class='xr-var-attrs'><dl class='xr-attrs'><dt><span>long_name :</span></dt><dd>DEM corrected latitude</dd><dt><span>standard_name :</span></dt><dd>latitude</dd><dt><span>units :</span></dt><dd>degrees_north</dd><dt><span>valid_max :</span></dt><dd>90000000</dd><dt><span>valid_min :</span></dt><dd>-90000000</dd></dl></div><div class='xr-var-data'><pre>[19902715 values with dtype=float64]</pre></div></li><li class='xr-var-item'><div class='xr-var-name'><span>longitude</span></div><div class='xr-var-dims'>(rows, columns)</div><div class='xr-var-dtype'>float64</div><div class='xr-var-preview xr-preview'>...</div><input id='attrs-3d56db92-d04d-4f14-b071-8bb2339ee9b3' class='xr-var-attrs-in' type='checkbox' ><label for='attrs-3d56db92-d04d-4f14-b071-8bb2339ee9b3' title='Show/Hide attributes'><svg class='icon xr-icon-file-text2'><use xlink:href='#icon-file-text2'></use></svg></label><input id='data-e8b95363-0616-481e-9f76-aaa4cb649ac7' class='xr-var-data-in' type='checkbox'><label for='data-e8b95363-0616-481e-9f76-aaa4cb649ac7' title='Show/Hide data repr'><svg class='icon xr-icon-database'><use xlink:href='#icon-database'></use></svg></label><div class='xr-var-attrs'><dl class='xr-attrs'><dt><span>long_name :</span></dt><dd>DEM corrected longitude</dd><dt><span>standard_name :</span></dt><dd>longitude</dd><dt><span>units :</span></dt><dd>degrees_east</dd><dt><span>valid_max :</span></dt><dd>180000000</dd><dt><span>valid_min :</span></dt><dd>-180000000</dd></dl></div><div class='xr-var-data'><pre>[19902715 values with dtype=float64]</pre></div></li></ul></div></li><li class='xr-section-item'><input id='section-0cd78c35-e52a-409d-b752-c0f24c01f775' class='xr-section-summary-in' type='checkbox'  ><label for='section-0cd78c35-e52a-409d-b752-c0f24c01f775' class='xr-section-summary' >Attributes: <span>(16)</span></label><div class='xr-section-inline-details'></div><div class='xr-section-details'><dl class='xr-attrs'><dt><span>absolute_orbit_number :</span></dt><dd>6456</dd><dt><span>ac_subsampling_factor :</span></dt><dd>64</dd><dt><span>al_subsampling_factor :</span></dt><dd>1</dd><dt><span>comment :</span></dt><dd> </dd><dt><span>contact :</span></dt><dd>eosupport@copernicus.esa.int</dd><dt><span>creation_time :</span></dt><dd>2019-07-23T18:12:07Z</dd><dt><span>history :</span></dt><dd>  2019-07-23T18:12:07Z: PUGCoreProcessor /data/ipf-s3/workdir42/596609505/JobOrder.596609505.xml</dd><dt><span>institution :</span></dt><dd>LN1</dd><dt><span>netCDF_version :</span></dt><dd>4.2 of Mar 13 2018 10:14:33 $</dd><dt><span>product_name :</span></dt><dd>S3B_OL_1_EFR____20190722T133256_20190722T133556_20190723T181207_0179_028_024_3060_LN1_O_NT_002.SEN3</dd><dt><span>references :</span></dt><dd>S3IPF PDS 004.1 - i2r2 - Product Data Format Specification - OLCI Level 1, S3IPF PDS 002 - i1r7 - Product Data Format Specification - Product Structures, S3IPF DPM 002 - i2r1 - Detailed Processing Model - OLCI Level 1</dd><dt><span>resolution :</span></dt><dd>[ 270 294 ]</dd><dt><span>source :</span></dt><dd>IPF-OL-1-EO 06.08</dd><dt><span>start_time :</span></dt><dd>2019-07-22T13:32:55.880287Z</dd><dt><span>stop_time :</span></dt><dd>2019-07-22T13:35:55.848029Z</dd><dt><span>title :</span></dt><dd>OLCI Level 1b Product, Geo Coordinates Data Set</dd></dl></div></li></ul></div></div>"
      ],
      "text/plain": [
       "<xarray.Dataset>\n",
       "Dimensions:    (columns: 4865, rows: 4091)\n",
       "Dimensions without coordinates: columns, rows\n",
       "Data variables:\n",
       "    altitude   (rows, columns) float32 ...\n",
       "    latitude   (rows, columns) float64 ...\n",
       "    longitude  (rows, columns) float64 ...\n",
       "Attributes:\n",
       "    absolute_orbit_number:  6456\n",
       "    ac_subsampling_factor:  64\n",
       "    al_subsampling_factor:  1\n",
       "    comment:                 \n",
       "    contact:                eosupport@copernicus.esa.int\n",
       "    creation_time:          2019-07-23T18:12:07Z\n",
       "    history:                  2019-07-23T18:12:07Z: PUGCoreProcessor /data/ip...\n",
       "    institution:            LN1\n",
       "    netCDF_version:         4.2 of Mar 13 2018 10:14:33 $\n",
       "    product_name:           S3B_OL_1_EFR____20190722T133256_20190722T133556_2...\n",
       "    references:             S3IPF PDS 004.1 - i2r2 - Product Data Format Spec...\n",
       "    resolution:             [ 270 294 ]\n",
       "    source:                 IPF-OL-1-EO 06.08\n",
       "    start_time:             2019-07-22T13:32:55.880287Z\n",
       "    stop_time:              2019-07-22T13:35:55.848029Z\n",
       "    title:                  OLCI Level 1b Product, Geo Coordinates Data Set"
      ]
     },
     "execution_count": 31,
     "metadata": {},
     "output_type": "execute_result"
    }
   ],
   "source": [
    "geoc_xds"
   ]
  },
  {
   "cell_type": "code",
   "execution_count": 33,
   "metadata": {},
   "outputs": [
    {
     "data": {
      "text/html": [
       "<div><svg style=\"position: absolute; width: 0; height: 0; overflow: hidden\">\n",
       "<defs>\n",
       "<symbol id=\"icon-database\" viewBox=\"0 0 32 32\">\n",
       "<path d=\"M16 0c-8.837 0-16 2.239-16 5v4c0 2.761 7.163 5 16 5s16-2.239 16-5v-4c0-2.761-7.163-5-16-5z\"></path>\n",
       "<path d=\"M16 17c-8.837 0-16-2.239-16-5v6c0 2.761 7.163 5 16 5s16-2.239 16-5v-6c0 2.761-7.163 5-16 5z\"></path>\n",
       "<path d=\"M16 26c-8.837 0-16-2.239-16-5v6c0 2.761 7.163 5 16 5s16-2.239 16-5v-6c0 2.761-7.163 5-16 5z\"></path>\n",
       "</symbol>\n",
       "<symbol id=\"icon-file-text2\" viewBox=\"0 0 32 32\">\n",
       "<path d=\"M28.681 7.159c-0.694-0.947-1.662-2.053-2.724-3.116s-2.169-2.030-3.116-2.724c-1.612-1.182-2.393-1.319-2.841-1.319h-15.5c-1.378 0-2.5 1.121-2.5 2.5v27c0 1.378 1.122 2.5 2.5 2.5h23c1.378 0 2.5-1.122 2.5-2.5v-19.5c0-0.448-0.137-1.23-1.319-2.841zM24.543 5.457c0.959 0.959 1.712 1.825 2.268 2.543h-4.811v-4.811c0.718 0.556 1.584 1.309 2.543 2.268zM28 29.5c0 0.271-0.229 0.5-0.5 0.5h-23c-0.271 0-0.5-0.229-0.5-0.5v-27c0-0.271 0.229-0.5 0.5-0.5 0 0 15.499-0 15.5 0v7c0 0.552 0.448 1 1 1h7v19.5z\"></path>\n",
       "<path d=\"M23 26h-14c-0.552 0-1-0.448-1-1s0.448-1 1-1h14c0.552 0 1 0.448 1 1s-0.448 1-1 1z\"></path>\n",
       "<path d=\"M23 22h-14c-0.552 0-1-0.448-1-1s0.448-1 1-1h14c0.552 0 1 0.448 1 1s-0.448 1-1 1z\"></path>\n",
       "<path d=\"M23 18h-14c-0.552 0-1-0.448-1-1s0.448-1 1-1h14c0.552 0 1 0.448 1 1s-0.448 1-1 1z\"></path>\n",
       "</symbol>\n",
       "</defs>\n",
       "</svg>\n",
       "<style>/* CSS stylesheet for displaying xarray objects in jupyterlab.\n",
       " *\n",
       " */\n",
       "\n",
       ":root {\n",
       "  --xr-font-color0: var(--jp-content-font-color0, rgba(0, 0, 0, 1));\n",
       "  --xr-font-color2: var(--jp-content-font-color2, rgba(0, 0, 0, 0.54));\n",
       "  --xr-font-color3: var(--jp-content-font-color3, rgba(0, 0, 0, 0.38));\n",
       "  --xr-border-color: var(--jp-border-color2, #e0e0e0);\n",
       "  --xr-disabled-color: var(--jp-layout-color3, #bdbdbd);\n",
       "  --xr-background-color: var(--jp-layout-color0, white);\n",
       "  --xr-background-color-row-even: var(--jp-layout-color1, white);\n",
       "  --xr-background-color-row-odd: var(--jp-layout-color2, #eeeeee);\n",
       "}\n",
       "\n",
       "html[theme=dark],\n",
       "body.vscode-dark {\n",
       "  --xr-font-color0: rgba(255, 255, 255, 1);\n",
       "  --xr-font-color2: rgba(255, 255, 255, 0.54);\n",
       "  --xr-font-color3: rgba(255, 255, 255, 0.38);\n",
       "  --xr-border-color: #1F1F1F;\n",
       "  --xr-disabled-color: #515151;\n",
       "  --xr-background-color: #111111;\n",
       "  --xr-background-color-row-even: #111111;\n",
       "  --xr-background-color-row-odd: #313131;\n",
       "}\n",
       "\n",
       ".xr-wrap {\n",
       "  display: block;\n",
       "  min-width: 300px;\n",
       "  max-width: 700px;\n",
       "}\n",
       "\n",
       ".xr-text-repr-fallback {\n",
       "  /* fallback to plain text repr when CSS is not injected (untrusted notebook) */\n",
       "  display: none;\n",
       "}\n",
       "\n",
       ".xr-header {\n",
       "  padding-top: 6px;\n",
       "  padding-bottom: 6px;\n",
       "  margin-bottom: 4px;\n",
       "  border-bottom: solid 1px var(--xr-border-color);\n",
       "}\n",
       "\n",
       ".xr-header > div,\n",
       ".xr-header > ul {\n",
       "  display: inline;\n",
       "  margin-top: 0;\n",
       "  margin-bottom: 0;\n",
       "}\n",
       "\n",
       ".xr-obj-type,\n",
       ".xr-array-name {\n",
       "  margin-left: 2px;\n",
       "  margin-right: 10px;\n",
       "}\n",
       "\n",
       ".xr-obj-type {\n",
       "  color: var(--xr-font-color2);\n",
       "}\n",
       "\n",
       ".xr-sections {\n",
       "  padding-left: 0 !important;\n",
       "  display: grid;\n",
       "  grid-template-columns: 150px auto auto 1fr 20px 20px;\n",
       "}\n",
       "\n",
       ".xr-section-item {\n",
       "  display: contents;\n",
       "}\n",
       "\n",
       ".xr-section-item input {\n",
       "  display: none;\n",
       "}\n",
       "\n",
       ".xr-section-item input + label {\n",
       "  color: var(--xr-disabled-color);\n",
       "}\n",
       "\n",
       ".xr-section-item input:enabled + label {\n",
       "  cursor: pointer;\n",
       "  color: var(--xr-font-color2);\n",
       "}\n",
       "\n",
       ".xr-section-item input:enabled + label:hover {\n",
       "  color: var(--xr-font-color0);\n",
       "}\n",
       "\n",
       ".xr-section-summary {\n",
       "  grid-column: 1;\n",
       "  color: var(--xr-font-color2);\n",
       "  font-weight: 500;\n",
       "}\n",
       "\n",
       ".xr-section-summary > span {\n",
       "  display: inline-block;\n",
       "  padding-left: 0.5em;\n",
       "}\n",
       "\n",
       ".xr-section-summary-in:disabled + label {\n",
       "  color: var(--xr-font-color2);\n",
       "}\n",
       "\n",
       ".xr-section-summary-in + label:before {\n",
       "  display: inline-block;\n",
       "  content: '►';\n",
       "  font-size: 11px;\n",
       "  width: 15px;\n",
       "  text-align: center;\n",
       "}\n",
       "\n",
       ".xr-section-summary-in:disabled + label:before {\n",
       "  color: var(--xr-disabled-color);\n",
       "}\n",
       "\n",
       ".xr-section-summary-in:checked + label:before {\n",
       "  content: '▼';\n",
       "}\n",
       "\n",
       ".xr-section-summary-in:checked + label > span {\n",
       "  display: none;\n",
       "}\n",
       "\n",
       ".xr-section-summary,\n",
       ".xr-section-inline-details {\n",
       "  padding-top: 4px;\n",
       "  padding-bottom: 4px;\n",
       "}\n",
       "\n",
       ".xr-section-inline-details {\n",
       "  grid-column: 2 / -1;\n",
       "}\n",
       "\n",
       ".xr-section-details {\n",
       "  display: none;\n",
       "  grid-column: 1 / -1;\n",
       "  margin-bottom: 5px;\n",
       "}\n",
       "\n",
       ".xr-section-summary-in:checked ~ .xr-section-details {\n",
       "  display: contents;\n",
       "}\n",
       "\n",
       ".xr-array-wrap {\n",
       "  grid-column: 1 / -1;\n",
       "  display: grid;\n",
       "  grid-template-columns: 20px auto;\n",
       "}\n",
       "\n",
       ".xr-array-wrap > label {\n",
       "  grid-column: 1;\n",
       "  vertical-align: top;\n",
       "}\n",
       "\n",
       ".xr-preview {\n",
       "  color: var(--xr-font-color3);\n",
       "}\n",
       "\n",
       ".xr-array-preview,\n",
       ".xr-array-data {\n",
       "  padding: 0 5px !important;\n",
       "  grid-column: 2;\n",
       "}\n",
       "\n",
       ".xr-array-data,\n",
       ".xr-array-in:checked ~ .xr-array-preview {\n",
       "  display: none;\n",
       "}\n",
       "\n",
       ".xr-array-in:checked ~ .xr-array-data,\n",
       ".xr-array-preview {\n",
       "  display: inline-block;\n",
       "}\n",
       "\n",
       ".xr-dim-list {\n",
       "  display: inline-block !important;\n",
       "  list-style: none;\n",
       "  padding: 0 !important;\n",
       "  margin: 0;\n",
       "}\n",
       "\n",
       ".xr-dim-list li {\n",
       "  display: inline-block;\n",
       "  padding: 0;\n",
       "  margin: 0;\n",
       "}\n",
       "\n",
       ".xr-dim-list:before {\n",
       "  content: '(';\n",
       "}\n",
       "\n",
       ".xr-dim-list:after {\n",
       "  content: ')';\n",
       "}\n",
       "\n",
       ".xr-dim-list li:not(:last-child):after {\n",
       "  content: ',';\n",
       "  padding-right: 5px;\n",
       "}\n",
       "\n",
       ".xr-has-index {\n",
       "  font-weight: bold;\n",
       "}\n",
       "\n",
       ".xr-var-list,\n",
       ".xr-var-item {\n",
       "  display: contents;\n",
       "}\n",
       "\n",
       ".xr-var-item > div,\n",
       ".xr-var-item label,\n",
       ".xr-var-item > .xr-var-name span {\n",
       "  background-color: var(--xr-background-color-row-even);\n",
       "  margin-bottom: 0;\n",
       "}\n",
       "\n",
       ".xr-var-item > .xr-var-name:hover span {\n",
       "  padding-right: 5px;\n",
       "}\n",
       "\n",
       ".xr-var-list > li:nth-child(odd) > div,\n",
       ".xr-var-list > li:nth-child(odd) > label,\n",
       ".xr-var-list > li:nth-child(odd) > .xr-var-name span {\n",
       "  background-color: var(--xr-background-color-row-odd);\n",
       "}\n",
       "\n",
       ".xr-var-name {\n",
       "  grid-column: 1;\n",
       "}\n",
       "\n",
       ".xr-var-dims {\n",
       "  grid-column: 2;\n",
       "}\n",
       "\n",
       ".xr-var-dtype {\n",
       "  grid-column: 3;\n",
       "  text-align: right;\n",
       "  color: var(--xr-font-color2);\n",
       "}\n",
       "\n",
       ".xr-var-preview {\n",
       "  grid-column: 4;\n",
       "}\n",
       "\n",
       ".xr-var-name,\n",
       ".xr-var-dims,\n",
       ".xr-var-dtype,\n",
       ".xr-preview,\n",
       ".xr-attrs dt {\n",
       "  white-space: nowrap;\n",
       "  overflow: hidden;\n",
       "  text-overflow: ellipsis;\n",
       "  padding-right: 10px;\n",
       "}\n",
       "\n",
       ".xr-var-name:hover,\n",
       ".xr-var-dims:hover,\n",
       ".xr-var-dtype:hover,\n",
       ".xr-attrs dt:hover {\n",
       "  overflow: visible;\n",
       "  width: auto;\n",
       "  z-index: 1;\n",
       "}\n",
       "\n",
       ".xr-var-attrs,\n",
       ".xr-var-data {\n",
       "  display: none;\n",
       "  background-color: var(--xr-background-color) !important;\n",
       "  padding-bottom: 5px !important;\n",
       "}\n",
       "\n",
       ".xr-var-attrs-in:checked ~ .xr-var-attrs,\n",
       ".xr-var-data-in:checked ~ .xr-var-data {\n",
       "  display: block;\n",
       "}\n",
       "\n",
       ".xr-var-data > table {\n",
       "  float: right;\n",
       "}\n",
       "\n",
       ".xr-var-name span,\n",
       ".xr-var-data,\n",
       ".xr-attrs {\n",
       "  padding-left: 25px !important;\n",
       "}\n",
       "\n",
       ".xr-attrs,\n",
       ".xr-var-attrs,\n",
       ".xr-var-data {\n",
       "  grid-column: 1 / -1;\n",
       "}\n",
       "\n",
       "dl.xr-attrs {\n",
       "  padding: 0;\n",
       "  margin: 0;\n",
       "  display: grid;\n",
       "  grid-template-columns: 125px auto;\n",
       "}\n",
       "\n",
       ".xr-attrs dt, dd {\n",
       "  padding: 0;\n",
       "  margin: 0;\n",
       "  float: left;\n",
       "  padding-right: 10px;\n",
       "  width: auto;\n",
       "}\n",
       "\n",
       ".xr-attrs dt {\n",
       "  font-weight: normal;\n",
       "  grid-column: 1;\n",
       "}\n",
       "\n",
       ".xr-attrs dt:hover span {\n",
       "  display: inline-block;\n",
       "  background: var(--xr-background-color);\n",
       "  padding-right: 10px;\n",
       "}\n",
       "\n",
       ".xr-attrs dd {\n",
       "  grid-column: 2;\n",
       "  white-space: pre-wrap;\n",
       "  word-break: break-all;\n",
       "}\n",
       "\n",
       ".xr-icon-database,\n",
       ".xr-icon-file-text2 {\n",
       "  display: inline-block;\n",
       "  vertical-align: middle;\n",
       "  width: 1em;\n",
       "  height: 1.5em !important;\n",
       "  stroke-width: 0;\n",
       "  stroke: currentColor;\n",
       "  fill: currentColor;\n",
       "}\n",
       "</style><pre class='xr-text-repr-fallback'>&lt;xarray.Dataset&gt;\n",
       "Dimensions:        (columns: 4865, rows: 4091)\n",
       "Dimensions without coordinates: columns, rows\n",
       "Data variables:\n",
       "    quality_flags  (rows, columns) uint32 ...\n",
       "Attributes:\n",
       "    absolute_orbit_number:  6456\n",
       "    ac_subsampling_factor:  64\n",
       "    al_subsampling_factor:  1\n",
       "    comment:                 \n",
       "    contact:                eosupport@copernicus.esa.int\n",
       "    creation_time:          2019-07-23T18:12:07Z\n",
       "    history:                  2019-07-23T18:12:07Z: PUGCoreProcessor /data/ip...\n",
       "    institution:            LN1\n",
       "    netCDF_version:         4.2 of Mar 13 2018 10:14:33 $\n",
       "    product_name:           S3B_OL_1_EFR____20190722T133256_20190722T133556_2...\n",
       "    references:             S3IPF PDS 004.1 - i2r2 - Product Data Format Spec...\n",
       "    resolution:             [ 270 294 ]\n",
       "    source:                 IPF-OL-1-EO 06.08\n",
       "    start_time:             2019-07-22T13:32:55.880287Z\n",
       "    stop_time:              2019-07-22T13:35:55.848029Z\n",
       "    title:                  OLCI Level 1b Product, Classification and Quality...</pre><div class='xr-wrap' hidden><div class='xr-header'><div class='xr-obj-type'>xarray.Dataset</div></div><ul class='xr-sections'><li class='xr-section-item'><input id='section-75562248-f4dc-4f6c-b16c-1d2496b801e8' class='xr-section-summary-in' type='checkbox' disabled ><label for='section-75562248-f4dc-4f6c-b16c-1d2496b801e8' class='xr-section-summary'  title='Expand/collapse section'>Dimensions:</label><div class='xr-section-inline-details'><ul class='xr-dim-list'><li><span>columns</span>: 4865</li><li><span>rows</span>: 4091</li></ul></div><div class='xr-section-details'></div></li><li class='xr-section-item'><input id='section-0d8bab92-aafc-4f89-9304-d64b3f93fc8e' class='xr-section-summary-in' type='checkbox' disabled ><label for='section-0d8bab92-aafc-4f89-9304-d64b3f93fc8e' class='xr-section-summary'  title='Expand/collapse section'>Coordinates: <span>(0)</span></label><div class='xr-section-inline-details'></div><div class='xr-section-details'><ul class='xr-var-list'></ul></div></li><li class='xr-section-item'><input id='section-45d554d5-2cfa-4749-9785-bbac1ee73c70' class='xr-section-summary-in' type='checkbox'  checked><label for='section-45d554d5-2cfa-4749-9785-bbac1ee73c70' class='xr-section-summary' >Data variables: <span>(1)</span></label><div class='xr-section-inline-details'></div><div class='xr-section-details'><ul class='xr-var-list'><li class='xr-var-item'><div class='xr-var-name'><span>quality_flags</span></div><div class='xr-var-dims'>(rows, columns)</div><div class='xr-var-dtype'>uint32</div><div class='xr-var-preview xr-preview'>...</div><input id='attrs-36b05613-f33e-49fe-b48f-fc6633e62f32' class='xr-var-attrs-in' type='checkbox' ><label for='attrs-36b05613-f33e-49fe-b48f-fc6633e62f32' title='Show/Hide attributes'><svg class='icon xr-icon-file-text2'><use xlink:href='#icon-file-text2'></use></svg></label><input id='data-14a7892c-9dc1-44d2-854c-357331894197' class='xr-var-data-in' type='checkbox'><label for='data-14a7892c-9dc1-44d2-854c-357331894197' title='Show/Hide data repr'><svg class='icon xr-icon-database'><use xlink:href='#icon-database'></use></svg></label><div class='xr-var-attrs'><dl class='xr-attrs'><dt><span>coordinates :</span></dt><dd>time_stamp altitude latitude longitude</dd><dt><span>flag_masks :</span></dt><dd>[2147483648 1073741824  536870912  268435456  134217728   67108864\n",
       "   33554432   16777216    8388608    4194304    2097152    1048576\n",
       "     524288     262144     131072      65536      32768      16384\n",
       "       8192       4096       2048       1024        512        256\n",
       "        128         64         32         16          8          4\n",
       "          2          1]</dd><dt><span>flag_meanings :</span></dt><dd>land coastline fresh_inland_water tidal_region bright straylight_risk invalid cosmetic duplicated sun-glint_risk dubious saturated@Oa01 saturated@Oa02 saturated@Oa03 saturated@Oa04 saturated@Oa05 saturated@Oa06 saturated@Oa07 saturated@Oa08 saturated@Oa09 saturated@Oa10 saturated@Oa11 saturated@Oa12 saturated@Oa13 saturated@Oa14 saturated@Oa15 saturated@Oa16 saturated@Oa17 saturated@Oa18 saturated@Oa19 saturated@Oa20 saturated@Oa21</dd><dt><span>long_name :</span></dt><dd>Classification and quality flags</dd></dl></div><div class='xr-var-data'><pre>[19902715 values with dtype=uint32]</pre></div></li></ul></div></li><li class='xr-section-item'><input id='section-f30ad6e7-a2fd-4e8d-805e-b5129a39486c' class='xr-section-summary-in' type='checkbox'  ><label for='section-f30ad6e7-a2fd-4e8d-805e-b5129a39486c' class='xr-section-summary' >Attributes: <span>(16)</span></label><div class='xr-section-inline-details'></div><div class='xr-section-details'><dl class='xr-attrs'><dt><span>absolute_orbit_number :</span></dt><dd>6456</dd><dt><span>ac_subsampling_factor :</span></dt><dd>64</dd><dt><span>al_subsampling_factor :</span></dt><dd>1</dd><dt><span>comment :</span></dt><dd> </dd><dt><span>contact :</span></dt><dd>eosupport@copernicus.esa.int</dd><dt><span>creation_time :</span></dt><dd>2019-07-23T18:12:07Z</dd><dt><span>history :</span></dt><dd>  2019-07-23T18:12:07Z: PUGCoreProcessor /data/ipf-s3/workdir42/596609505/JobOrder.596609505.xml</dd><dt><span>institution :</span></dt><dd>LN1</dd><dt><span>netCDF_version :</span></dt><dd>4.2 of Mar 13 2018 10:14:33 $</dd><dt><span>product_name :</span></dt><dd>S3B_OL_1_EFR____20190722T133256_20190722T133556_20190723T181207_0179_028_024_3060_LN1_O_NT_002.SEN3</dd><dt><span>references :</span></dt><dd>S3IPF PDS 004.1 - i2r2 - Product Data Format Specification - OLCI Level 1, S3IPF PDS 002 - i1r7 - Product Data Format Specification - Product Structures, S3IPF DPM 002 - i2r1 - Detailed Processing Model - OLCI Level 1</dd><dt><span>resolution :</span></dt><dd>[ 270 294 ]</dd><dt><span>source :</span></dt><dd>IPF-OL-1-EO 06.08</dd><dt><span>start_time :</span></dt><dd>2019-07-22T13:32:55.880287Z</dd><dt><span>stop_time :</span></dt><dd>2019-07-22T13:35:55.848029Z</dd><dt><span>title :</span></dt><dd>OLCI Level 1b Product, Classification and Quality Flags Data Set</dd></dl></div></li></ul></div></div>"
      ],
      "text/plain": [
       "<xarray.Dataset>\n",
       "Dimensions:        (columns: 4865, rows: 4091)\n",
       "Dimensions without coordinates: columns, rows\n",
       "Data variables:\n",
       "    quality_flags  (rows, columns) uint32 ...\n",
       "Attributes:\n",
       "    absolute_orbit_number:  6456\n",
       "    ac_subsampling_factor:  64\n",
       "    al_subsampling_factor:  1\n",
       "    comment:                 \n",
       "    contact:                eosupport@copernicus.esa.int\n",
       "    creation_time:          2019-07-23T18:12:07Z\n",
       "    history:                  2019-07-23T18:12:07Z: PUGCoreProcessor /data/ip...\n",
       "    institution:            LN1\n",
       "    netCDF_version:         4.2 of Mar 13 2018 10:14:33 $\n",
       "    product_name:           S3B_OL_1_EFR____20190722T133256_20190722T133556_2...\n",
       "    references:             S3IPF PDS 004.1 - i2r2 - Product Data Format Spec...\n",
       "    resolution:             [ 270 294 ]\n",
       "    source:                 IPF-OL-1-EO 06.08\n",
       "    start_time:             2019-07-22T13:32:55.880287Z\n",
       "    stop_time:              2019-07-22T13:35:55.848029Z\n",
       "    title:                  OLCI Level 1b Product, Classification and Quality..."
      ]
     },
     "execution_count": 33,
     "metadata": {},
     "output_type": "execute_result"
    }
   ],
   "source": [
    "xds.rio.set_crs(\"epsg:4326\")"
   ]
  },
  {
   "cell_type": "code",
   "execution_count": 34,
   "metadata": {},
   "outputs": [
    {
     "ename": "DimensionError",
     "evalue": "x dimension not found. 'set_spatial_dims()' can address this. Data variable: quality_flags",
     "output_type": "error",
     "traceback": [
      "\u001b[1;31m---------------------------------------------------------------------------\u001b[0m",
      "\u001b[1;31mDimensionError\u001b[0m                            Traceback (most recent call last)",
      "\u001b[1;32m<ipython-input-34-5ab0ed7915b0>\u001b[0m in \u001b[0;36m<module>\u001b[1;34m\u001b[0m\n\u001b[1;32m----> 1\u001b[1;33m \u001b[0mxds\u001b[0m\u001b[1;33m[\u001b[0m\u001b[1;34m\"quality_flags\"\u001b[0m\u001b[1;33m]\u001b[0m\u001b[1;33m.\u001b[0m\u001b[0mrio\u001b[0m\u001b[1;33m.\u001b[0m\u001b[0mto_raster\u001b[0m\u001b[1;33m(\u001b[0m\u001b[1;34m'D:\\processing\\win\\icor_mask\\test.tif'\u001b[0m\u001b[1;33m)\u001b[0m\u001b[1;33m\u001b[0m\u001b[1;33m\u001b[0m\u001b[0m\n\u001b[0m",
      "\u001b[1;32m~\\.conda\\envs\\git-prj\\lib\\site-packages\\rioxarray\\rioxarray.py\u001b[0m in \u001b[0;36mto_raster\u001b[1;34m(self, raster_path, driver, dtype, tags, windowed, recalc_transform, **profile_kwargs)\u001b[0m\n\u001b[0;32m   1707\u001b[0m             \u001b[1;34m\"w\"\u001b[0m\u001b[1;33m,\u001b[0m\u001b[1;33m\u001b[0m\u001b[1;33m\u001b[0m\u001b[0m\n\u001b[0;32m   1708\u001b[0m             \u001b[0mdriver\u001b[0m\u001b[1;33m=\u001b[0m\u001b[0mdriver\u001b[0m\u001b[1;33m,\u001b[0m\u001b[1;33m\u001b[0m\u001b[1;33m\u001b[0m\u001b[0m\n\u001b[1;32m-> 1709\u001b[1;33m             \u001b[0mheight\u001b[0m\u001b[1;33m=\u001b[0m\u001b[0mint\u001b[0m\u001b[1;33m(\u001b[0m\u001b[0mself\u001b[0m\u001b[1;33m.\u001b[0m\u001b[0mheight\u001b[0m\u001b[1;33m)\u001b[0m\u001b[1;33m,\u001b[0m\u001b[1;33m\u001b[0m\u001b[1;33m\u001b[0m\u001b[0m\n\u001b[0m\u001b[0;32m   1710\u001b[0m             \u001b[0mwidth\u001b[0m\u001b[1;33m=\u001b[0m\u001b[0mint\u001b[0m\u001b[1;33m(\u001b[0m\u001b[0mself\u001b[0m\u001b[1;33m.\u001b[0m\u001b[0mwidth\u001b[0m\u001b[1;33m)\u001b[0m\u001b[1;33m,\u001b[0m\u001b[1;33m\u001b[0m\u001b[1;33m\u001b[0m\u001b[0m\n\u001b[0;32m   1711\u001b[0m             \u001b[0mcount\u001b[0m\u001b[1;33m=\u001b[0m\u001b[0mint\u001b[0m\u001b[1;33m(\u001b[0m\u001b[0mself\u001b[0m\u001b[1;33m.\u001b[0m\u001b[0mcount\u001b[0m\u001b[1;33m)\u001b[0m\u001b[1;33m,\u001b[0m\u001b[1;33m\u001b[0m\u001b[1;33m\u001b[0m\u001b[0m\n",
      "\u001b[1;32m~\\.conda\\envs\\git-prj\\lib\\site-packages\\rioxarray\\rioxarray.py\u001b[0m in \u001b[0;36mheight\u001b[1;34m(self)\u001b[0m\n\u001b[0;32m    772\u001b[0m         \u001b[1;32mif\u001b[0m \u001b[0mself\u001b[0m\u001b[1;33m.\u001b[0m\u001b[0m_height\u001b[0m \u001b[1;32mis\u001b[0m \u001b[1;32mnot\u001b[0m \u001b[1;32mNone\u001b[0m\u001b[1;33m:\u001b[0m\u001b[1;33m\u001b[0m\u001b[1;33m\u001b[0m\u001b[0m\n\u001b[0;32m    773\u001b[0m             \u001b[1;32mreturn\u001b[0m \u001b[0mself\u001b[0m\u001b[1;33m.\u001b[0m\u001b[0m_height\u001b[0m\u001b[1;33m\u001b[0m\u001b[1;33m\u001b[0m\u001b[0m\n\u001b[1;32m--> 774\u001b[1;33m         \u001b[0mself\u001b[0m\u001b[1;33m.\u001b[0m\u001b[0m_height\u001b[0m \u001b[1;33m=\u001b[0m \u001b[0mself\u001b[0m\u001b[1;33m.\u001b[0m\u001b[0m_obj\u001b[0m\u001b[1;33m[\u001b[0m\u001b[0mself\u001b[0m\u001b[1;33m.\u001b[0m\u001b[0my_dim\u001b[0m\u001b[1;33m]\u001b[0m\u001b[1;33m.\u001b[0m\u001b[0msize\u001b[0m\u001b[1;33m\u001b[0m\u001b[1;33m\u001b[0m\u001b[0m\n\u001b[0m\u001b[0;32m    775\u001b[0m         \u001b[1;32mreturn\u001b[0m \u001b[0mself\u001b[0m\u001b[1;33m.\u001b[0m\u001b[0m_height\u001b[0m\u001b[1;33m\u001b[0m\u001b[1;33m\u001b[0m\u001b[0m\n\u001b[0;32m    776\u001b[0m \u001b[1;33m\u001b[0m\u001b[0m\n",
      "\u001b[1;32m~\\.conda\\envs\\git-prj\\lib\\site-packages\\rioxarray\\rioxarray.py\u001b[0m in \u001b[0;36my_dim\u001b[1;34m(self)\u001b[0m\n\u001b[0;32m    755\u001b[0m             \u001b[1;32mreturn\u001b[0m \u001b[0mself\u001b[0m\u001b[1;33m.\u001b[0m\u001b[0m_y_dim\u001b[0m\u001b[1;33m\u001b[0m\u001b[1;33m\u001b[0m\u001b[0m\n\u001b[0;32m    756\u001b[0m         raise DimensionError(\n\u001b[1;32m--> 757\u001b[1;33m             \u001b[1;34m\"x dimension not found. 'set_spatial_dims()' can address this.\"\u001b[0m\u001b[1;33m\u001b[0m\u001b[1;33m\u001b[0m\u001b[0m\n\u001b[0m\u001b[0;32m    758\u001b[0m             \u001b[1;34mf\"{_get_data_var_message(self._obj)}\"\u001b[0m\u001b[1;33m\u001b[0m\u001b[1;33m\u001b[0m\u001b[0m\n\u001b[0;32m    759\u001b[0m         )\n",
      "\u001b[1;31mDimensionError\u001b[0m: x dimension not found. 'set_spatial_dims()' can address this. Data variable: quality_flags"
     ]
    }
   ],
   "source": [
    "xds[\"quality_flags\"].rio.to_raster('D:\\processing\\win\\icor_mask\\test.tif')"
   ]
  },
  {
   "cell_type": "markdown",
   "metadata": {},
   "source": [
    "## GDAL band replacing approach"
   ]
  },
  {
   "cell_type": "code",
   "execution_count": 41,
   "metadata": {},
   "outputs": [],
   "source": [
    "from osgeo import gdal\n",
    "import osr\n",
    "import numpy as np\n",
    "import matplotlib.pyplot as plt"
   ]
  },
  {
   "cell_type": "code",
   "execution_count": 27,
   "metadata": {},
   "outputs": [],
   "source": [
    "filename = r'D:\\processing\\win\\icor_mask\\S3B_OL_1_EFR____20190722T133256_20190722T133556_20190723T181207_0179_028_024_3060_LN1_O_NT_002_processed.tif'"
   ]
  },
  {
   "cell_type": "code",
   "execution_count": 29,
   "metadata": {},
   "outputs": [
    {
     "name": "stdout",
     "output_type": "stream",
     "text": [
      "GEOGCS[\"WGS 84\",DATUM[\"WGS_1984\",SPHEROID[\"WGS 84\",6378137,298.257223563,AUTHORITY[\"EPSG\",\"7030\"]],AUTHORITY[\"EPSG\",\"6326\"]],PRIMEM[\"Greenwich\",0,AUTHORITY[\"EPSG\",\"8901\"]],UNIT[\"degree\",0.0174532925199433,AUTHORITY[\"EPSG\",\"9122\"]],AXIS[\"Latitude\",NORTH],AXIS[\"Longitude\",EAST],AUTHORITY[\"EPSG\",\"4326\"]] \n",
      " --- \n",
      " (-64.66684894352004, 0.002888197418897582, 0.0, -0.1263540012212161, 0.0, -0.002888197418897582)\n"
     ]
    }
   ],
   "source": [
    "SourceDS = gdal.Open(filename)\n",
    "projection = SourceDS.GetProjection()\n",
    "geo_transform = SourceDS.GetGeoTransform()\n",
    "print(projection,'\\n --- \\n',geo_transform)"
   ]
  },
  {
   "cell_type": "code",
   "execution_count": 36,
   "metadata": {},
   "outputs": [
    {
     "name": "stdout",
     "output_type": "stream",
     "text": [
      "<class 'numpy.ndarray'> (16, 4577, 4866)\n"
     ]
    }
   ],
   "source": [
    "image_mtx = SourceDS.ReadAsArray()\n",
    "print(type(image_mtx), image_mtx.shape)"
   ]
  },
  {
   "cell_type": "code",
   "execution_count": 44,
   "metadata": {},
   "outputs": [
    {
     "name": "stdout",
     "output_type": "stream",
     "text": [
      "4326\n"
     ]
    }
   ],
   "source": [
    "proj = osr.SpatialReference(wkt=SourceDS.GetProjection())\n",
    "print(proj.GetAttrValue('AUTHORITY',1))"
   ]
  },
  {
   "cell_type": "code",
   "execution_count": 39,
   "metadata": {},
   "outputs": [
    {
     "data": {
      "text/plain": [
       "<matplotlib.image.AxesImage at 0x2c32be52550>"
      ]
     },
     "execution_count": 39,
     "metadata": {},
     "output_type": "execute_result"
    },
    {
     "data": {
      "image/png": "[encoded data removed]",
      "text/plain": [
       "<Figure size 432x288 with 1 Axes>"
      ]
     },
     "metadata": {
      "needs_background": "light"
     },
     "output_type": "display_data"
    }
   ],
   "source": [
    "plt.imshow(image_mtx[8])"
   ]
  },
  {
   "cell_type": "code",
   "execution_count": 40,
   "metadata": {},
   "outputs": [
    {
     "data": {
      "text/plain": [
       "nan"
      ]
     },
     "execution_count": 40,
     "metadata": {},
     "output_type": "execute_result"
    }
   ],
   "source": [
    "image_mtx[8,0,0]"
   ]
  },
  {
   "cell_type": "code",
   "execution_count": 45,
   "metadata": {},
   "outputs": [
    {
     "name": "stdout",
     "output_type": "stream",
     "text": [
      "Driver: GTiff/GeoTIFF\n",
      "Files: D:\\processing\\win\\icor_mask\\S3B_OL_1_EFR____20190722T133256_20190722T133556_20190723T181207_0179_028_024_3060_LN1_O_NT_002_processed.tif\n",
      "Size is 4866, 4577\n",
      "Coordinate System is:\n",
      "GEOGCRS[\"WGS 84\",\n",
      "    DATUM[\"World Geodetic System 1984\",\n",
      "        ELLIPSOID[\"WGS 84\",6378137,298.257223563,\n",
      "            LENGTHUNIT[\"metre\",1]]],\n",
      "    PRIMEM[\"Greenwich\",0,\n",
      "        ANGLEUNIT[\"degree\",0.0174532925199433]],\n",
      "    CS[ellipsoidal,2],\n",
      "        AXIS[\"geodetic latitude (Lat)\",north,\n",
      "            ORDER[1],\n",
      "            ANGLEUNIT[\"degree\",0.0174532925199433]],\n",
      "        AXIS[\"geodetic longitude (Lon)\",east,\n",
      "            ORDER[2],\n",
      "            ANGLEUNIT[\"degree\",0.0174532925199433]],\n",
      "    USAGE[\n",
      "        SCOPE[\"unknown\"],\n",
      "        AREA[\"World\"],\n",
      "        BBOX[-90,-180,90,180]],\n",
      "    ID[\"EPSG\",4326]]\n",
      "Data axis to CRS axis mapping: 2,1\n",
      "Origin = (-64.666848943520037,-0.126354001221216)\n",
      "Pixel Size = (0.002888197418898,-0.002888197418898)\n",
      "Metadata:\n",
      "  AREA_OR_POINT=Area\n",
      "Image Structure Metadata:\n",
      "  INTERLEAVE=BAND\n",
      "Corner Coordinates:\n",
      "Upper Left  ( -64.6668489,  -0.1263540) ( 64d40' 0.66\"W,  0d 7'34.87\"S)\n",
      "Lower Left  ( -64.6668489, -13.3456336) ( 64d40' 0.66\"W, 13d20'44.28\"S)\n",
      "Upper Right ( -50.6128803,  -0.1263540) ( 50d36'46.37\"W,  0d 7'34.87\"S)\n",
      "Lower Right ( -50.6128803, -13.3456336) ( 50d36'46.37\"W, 13d20'44.28\"S)\n",
      "Center      ( -57.6398646,  -6.7359938) ( 57d38'23.51\"W,  6d44' 9.58\"S)\n",
      "Band 1 Block=4866x1 Type=Float32, ColorInterp=Gray\n",
      "  Description = Oa1\n",
      "  NoData Value=inf\n",
      "  Unit Type: w_sqmsrcm\n",
      "Band 2 Block=4866x1 Type=Float32, ColorInterp=Undefined\n",
      "  Description = Oa2\n",
      "  NoData Value=inf\n",
      "  Unit Type: w_sqmsrcm\n",
      "Band 3 Block=4866x1 Type=Float32, ColorInterp=Undefined\n",
      "  Description = Oa3\n",
      "  NoData Value=inf\n",
      "  Unit Type: w_sqmsrcm\n",
      "Band 4 Block=4866x1 Type=Float32, ColorInterp=Undefined\n",
      "  Description = Oa4\n",
      "  NoData Value=inf\n",
      "  Unit Type: w_sqmsrcm\n",
      "Band 5 Block=4866x1 Type=Float32, ColorInterp=Undefined\n",
      "  Description = Oa5\n",
      "  NoData Value=inf\n",
      "  Unit Type: w_sqmsrcm\n",
      "Band 6 Block=4866x1 Type=Float32, ColorInterp=Undefined\n",
      "  Description = Oa6\n",
      "  NoData Value=inf\n",
      "  Unit Type: w_sqmsrcm\n",
      "Band 7 Block=4866x1 Type=Float32, ColorInterp=Undefined\n",
      "  Description = Oa7\n",
      "  NoData Value=inf\n",
      "  Unit Type: w_sqmsrcm\n",
      "Band 8 Block=4866x1 Type=Float32, ColorInterp=Undefined\n",
      "  Description = Oa8\n",
      "  NoData Value=inf\n",
      "  Unit Type: w_sqmsrcm\n",
      "Band 9 Block=4866x1 Type=Float32, ColorInterp=Undefined\n",
      "  Description = Oa9\n",
      "  NoData Value=inf\n",
      "  Unit Type: w_sqmsrcm\n",
      "Band 10 Block=4866x1 Type=Float32, ColorInterp=Undefined\n",
      "  Description = Oa10\n",
      "  NoData Value=inf\n",
      "  Unit Type: w_sqmsrcm\n",
      "Band 11 Block=4866x1 Type=Float32, ColorInterp=Undefined\n",
      "  Description = Oa11\n",
      "  NoData Value=inf\n",
      "  Unit Type: w_sqmsrcm\n",
      "Band 12 Block=4866x1 Type=Float32, ColorInterp=Undefined\n",
      "  Description = Oa12\n",
      "  NoData Value=inf\n",
      "  Unit Type: w_sqmsrcm\n",
      "Band 13 Block=4866x1 Type=Float32, ColorInterp=Undefined\n",
      "  Description = Oa16\n",
      "  NoData Value=inf\n",
      "  Unit Type: w_sqmsrcm\n",
      "Band 14 Block=4866x1 Type=Float32, ColorInterp=Undefined\n",
      "  Description = Oa17\n",
      "  NoData Value=inf\n",
      "  Unit Type: w_sqmsrcm\n",
      "Band 15 Block=4866x1 Type=Float32, ColorInterp=Undefined\n",
      "  Description = Oa18\n",
      "  NoData Value=inf\n",
      "  Unit Type: w_sqmsrcm\n",
      "Band 16 Block=4866x1 Type=Float32, ColorInterp=Undefined\n",
      "  Description = Oa21\n",
      "  NoData Value=inf\n",
      "  Unit Type: w_sqmsrcm\n",
      "\n"
     ]
    }
   ],
   "source": [
    "info = gdal.Info(SourceDS, deserialize=True)\n",
    "print(info) "
   ]
  },
  {
   "cell_type": "code",
   "execution_count": 47,
   "metadata": {},
   "outputs": [],
   "source": [
    "gcps = SourceDS.GetGCPs()\n",
    "\n",
    "\n",
    "# gcps = ds.GetGCPs()\n",
    "# gt = gdal.GCPsToGeoTransform(gcps)"
   ]
  },
  {
   "cell_type": "code",
   "execution_count": 50,
   "metadata": {},
   "outputs": [
    {
     "name": "stdout",
     "output_type": "stream",
     "text": [
      "()\n"
     ]
    }
   ],
   "source": [
    "print(gcps)"
   ]
  },
  {
   "cell_type": "code",
   "execution_count": null,
   "metadata": {},
   "outputs": [],
   "source": []
  }
 ],
 "metadata": {
  "kernelspec": {
   "display_name": "Python 3",
   "language": "python",
   "name": "python3"
  },
  "language_info": {
   "codemirror_mode": {
    "name": "ipython",
    "version": 3
   },
   "file_extension": ".py",
   "mimetype": "text/x-python",
   "name": "python",
   "nbconvert_exporter": "python",
   "pygments_lexer": "ipython3",
   "version": "3.6.10"
  }
 },
 "nbformat": 4,
 "nbformat_minor": 4
}
