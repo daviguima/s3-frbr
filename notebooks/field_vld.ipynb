{
 "cells": [
  {
   "cell_type": "code",
   "execution_count": 1,
   "metadata": {},
   "outputs": [
    {
     "name": "stdout",
     "output_type": "stream",
     "text": [
      "sen3r-NcExplorer: from mpl_toolkits.basemap import Basemap FAILED!You can still proceed without plotting any maps.\n",
      "Declaring class instance from: SEN3R:Nc_Explorer\n",
      "Input NetCDF file folder not set. Proceed at your own risk.\n"
     ]
    }
   ],
   "source": [
    "import os\n",
    "\n",
    "import pandas as pd\n",
    "import numpy as np\n",
    "import matplotlib.pyplot as plt\n",
    "\n",
    "from datetime import datetime\n",
    "\n",
    "import sys\n",
    "sys.path.append('../')\n",
    "\n",
    "from nc_explorer import NcExplorer\n",
    "exp = NcExplorer()"
   ]
  },
  {
   "cell_type": "code",
   "execution_count": 18,
   "metadata": {},
   "outputs": [],
   "source": [
    "def dfcompat(df1, df2, colname):\n",
    "    \"\"\"\n",
    "    Compare two pd.DataFrames given a common column in both of them,\n",
    "    then, return two new DFs containing only the rows where they mach in\n",
    "    the given column and the set used to match them.\n",
    "    \"\"\"\n",
    "    set_df1 = set(df1[colname])\n",
    "    set_df2 = set(df2[colname])\n",
    "    matches = set_df1.intersection(set_df2)\n",
    "    \n",
    "    df1_match = df1[df1[colname].isin(matches)]\n",
    "    df2_match = df2[df2[colname].isin(matches)]\n",
    "    \n",
    "    return df1_match, df2_match, matches"
   ]
  },
  {
   "cell_type": "code",
   "execution_count": 4,
   "metadata": {},
   "outputs": [],
   "source": [
    "df = pd.read_excel('/d_drive_data/processing/OTHER_PLATFORMS/andre_field_data_s3compat.xlsx')"
   ]
  },
  {
   "cell_type": "code",
   "execution_count": 5,
   "metadata": {},
   "outputs": [
    {
     "data": {
      "text/html": [
       "<div>\n",
       "<style scoped>\n",
       "    .dataframe tbody tr th:only-of-type {\n",
       "        vertical-align: middle;\n",
       "    }\n",
       "\n",
       "    .dataframe tbody tr th {\n",
       "        vertical-align: top;\n",
       "    }\n",
       "\n",
       "    .dataframe thead th {\n",
       "        text-align: right;\n",
       "    }\n",
       "</style>\n",
       "<table border=\"1\" class=\"dataframe\">\n",
       "  <thead>\n",
       "    <tr style=\"text-align: right;\">\n",
       "      <th></th>\n",
       "      <th>Date</th>\n",
       "      <th>Oa01</th>\n",
       "      <th>Oa02</th>\n",
       "      <th>Oa03</th>\n",
       "      <th>Oa04</th>\n",
       "      <th>Oa05</th>\n",
       "      <th>Oa06</th>\n",
       "      <th>Oa07</th>\n",
       "      <th>Oa08</th>\n",
       "      <th>Oa09</th>\n",
       "      <th>...</th>\n",
       "      <th>Oa12</th>\n",
       "      <th>Oa13</th>\n",
       "      <th>Oa14</th>\n",
       "      <th>Oa15</th>\n",
       "      <th>Oa16</th>\n",
       "      <th>Oa17</th>\n",
       "      <th>Oa18</th>\n",
       "      <th>Oa19</th>\n",
       "      <th>Oa20</th>\n",
       "      <th>Oa21</th>\n",
       "    </tr>\n",
       "  </thead>\n",
       "  <tbody>\n",
       "    <tr>\n",
       "      <th>0</th>\n",
       "      <td>2017-12-05 00:35:23</td>\n",
       "      <td>0.011827</td>\n",
       "      <td>0.012984</td>\n",
       "      <td>0.016698</td>\n",
       "      <td>0.021469</td>\n",
       "      <td>0.024181</td>\n",
       "      <td>0.032995</td>\n",
       "      <td>0.039927</td>\n",
       "      <td>0.041732</td>\n",
       "      <td>0.042042</td>\n",
       "      <td>...</td>\n",
       "      <td>0.025976</td>\n",
       "      <td>0.027293</td>\n",
       "      <td>0.027368</td>\n",
       "      <td>0.026883</td>\n",
       "      <td>0.027374</td>\n",
       "      <td>0.018107</td>\n",
       "      <td>0.015585</td>\n",
       "      <td>0.013942</td>\n",
       "      <td>0.007581</td>\n",
       "      <td>NaN</td>\n",
       "    </tr>\n",
       "    <tr>\n",
       "      <th>1</th>\n",
       "      <td>2017-12-05 00:35:37</td>\n",
       "      <td>0.012268</td>\n",
       "      <td>0.013483</td>\n",
       "      <td>0.017370</td>\n",
       "      <td>0.022365</td>\n",
       "      <td>0.025190</td>\n",
       "      <td>0.034345</td>\n",
       "      <td>0.041453</td>\n",
       "      <td>0.043174</td>\n",
       "      <td>0.043481</td>\n",
       "      <td>...</td>\n",
       "      <td>0.026294</td>\n",
       "      <td>0.027590</td>\n",
       "      <td>0.027648</td>\n",
       "      <td>0.027153</td>\n",
       "      <td>0.027701</td>\n",
       "      <td>0.018230</td>\n",
       "      <td>0.015661</td>\n",
       "      <td>0.013852</td>\n",
       "      <td>0.007402</td>\n",
       "      <td>NaN</td>\n",
       "    </tr>\n",
       "    <tr>\n",
       "      <th>2</th>\n",
       "      <td>2017-12-05 00:35:37</td>\n",
       "      <td>0.012269</td>\n",
       "      <td>0.013536</td>\n",
       "      <td>0.017615</td>\n",
       "      <td>0.022850</td>\n",
       "      <td>0.025796</td>\n",
       "      <td>0.035310</td>\n",
       "      <td>0.042599</td>\n",
       "      <td>0.044378</td>\n",
       "      <td>0.044681</td>\n",
       "      <td>...</td>\n",
       "      <td>0.026353</td>\n",
       "      <td>0.027693</td>\n",
       "      <td>0.027750</td>\n",
       "      <td>0.027250</td>\n",
       "      <td>0.027776</td>\n",
       "      <td>0.017920</td>\n",
       "      <td>0.015336</td>\n",
       "      <td>0.013675</td>\n",
       "      <td>0.007709</td>\n",
       "      <td>NaN</td>\n",
       "    </tr>\n",
       "    <tr>\n",
       "      <th>3</th>\n",
       "      <td>2017-12-05 00:35:37</td>\n",
       "      <td>0.012653</td>\n",
       "      <td>0.013864</td>\n",
       "      <td>0.017740</td>\n",
       "      <td>0.022686</td>\n",
       "      <td>0.025493</td>\n",
       "      <td>0.034596</td>\n",
       "      <td>0.041625</td>\n",
       "      <td>0.043392</td>\n",
       "      <td>0.043681</td>\n",
       "      <td>...</td>\n",
       "      <td>0.026732</td>\n",
       "      <td>0.028057</td>\n",
       "      <td>0.028110</td>\n",
       "      <td>0.027617</td>\n",
       "      <td>0.028149</td>\n",
       "      <td>0.018605</td>\n",
       "      <td>0.016029</td>\n",
       "      <td>0.014230</td>\n",
       "      <td>0.007931</td>\n",
       "      <td>NaN</td>\n",
       "    </tr>\n",
       "    <tr>\n",
       "      <th>4</th>\n",
       "      <td>2017-12-05 00:35:37</td>\n",
       "      <td>0.012484</td>\n",
       "      <td>0.013745</td>\n",
       "      <td>0.017753</td>\n",
       "      <td>0.022880</td>\n",
       "      <td>0.025775</td>\n",
       "      <td>0.035144</td>\n",
       "      <td>0.042338</td>\n",
       "      <td>0.044145</td>\n",
       "      <td>0.044465</td>\n",
       "      <td>...</td>\n",
       "      <td>0.026700</td>\n",
       "      <td>0.028063</td>\n",
       "      <td>0.028128</td>\n",
       "      <td>0.027630</td>\n",
       "      <td>0.028143</td>\n",
       "      <td>0.018358</td>\n",
       "      <td>0.015732</td>\n",
       "      <td>0.014046</td>\n",
       "      <td>0.007752</td>\n",
       "      <td>NaN</td>\n",
       "    </tr>\n",
       "  </tbody>\n",
       "</table>\n",
       "<p>5 rows × 22 columns</p>\n",
       "</div>"
      ],
      "text/plain": [
       "                 Date      Oa01      Oa02      Oa03      Oa04      Oa05  \\\n",
       "0 2017-12-05 00:35:23  0.011827  0.012984  0.016698  0.021469  0.024181   \n",
       "1 2017-12-05 00:35:37  0.012268  0.013483  0.017370  0.022365  0.025190   \n",
       "2 2017-12-05 00:35:37  0.012269  0.013536  0.017615  0.022850  0.025796   \n",
       "3 2017-12-05 00:35:37  0.012653  0.013864  0.017740  0.022686  0.025493   \n",
       "4 2017-12-05 00:35:37  0.012484  0.013745  0.017753  0.022880  0.025775   \n",
       "\n",
       "       Oa06      Oa07      Oa08      Oa09  ...      Oa12      Oa13      Oa14  \\\n",
       "0  0.032995  0.039927  0.041732  0.042042  ...  0.025976  0.027293  0.027368   \n",
       "1  0.034345  0.041453  0.043174  0.043481  ...  0.026294  0.027590  0.027648   \n",
       "2  0.035310  0.042599  0.044378  0.044681  ...  0.026353  0.027693  0.027750   \n",
       "3  0.034596  0.041625  0.043392  0.043681  ...  0.026732  0.028057  0.028110   \n",
       "4  0.035144  0.042338  0.044145  0.044465  ...  0.026700  0.028063  0.028128   \n",
       "\n",
       "       Oa15      Oa16      Oa17      Oa18      Oa19      Oa20  Oa21  \n",
       "0  0.026883  0.027374  0.018107  0.015585  0.013942  0.007581   NaN  \n",
       "1  0.027153  0.027701  0.018230  0.015661  0.013852  0.007402   NaN  \n",
       "2  0.027250  0.027776  0.017920  0.015336  0.013675  0.007709   NaN  \n",
       "3  0.027617  0.028149  0.018605  0.016029  0.014230  0.007931   NaN  \n",
       "4  0.027630  0.028143  0.018358  0.015732  0.014046  0.007752   NaN  \n",
       "\n",
       "[5 rows x 22 columns]"
      ]
     },
     "execution_count": 5,
     "metadata": {},
     "output_type": "execute_result"
    }
   ],
   "source": [
    "df.head()"
   ]
  },
  {
   "cell_type": "code",
   "execution_count": 6,
   "metadata": {},
   "outputs": [],
   "source": [
    "df['pydt'] = pd.to_datetime(df['Date'])"
   ]
  },
  {
   "cell_type": "code",
   "execution_count": 44,
   "metadata": {},
   "outputs": [
    {
     "data": {
      "text/plain": [
       "numpy.datetime64('2017-12-05T00:35:23.000000000')"
      ]
     },
     "execution_count": 44,
     "metadata": {},
     "output_type": "execute_result"
    }
   ],
   "source": [
    "# Days of observed ground truth\n",
    "field_days = list(df['pydt'].unique())\n",
    "field_days[0]"
   ]
  },
  {
   "cell_type": "code",
   "execution_count": 46,
   "metadata": {},
   "outputs": [
    {
     "data": {
      "text/plain": [
       "datetime.datetime(2017, 12, 5, 0, 0)"
      ]
     },
     "execution_count": 46,
     "metadata": {},
     "output_type": "execute_result"
    }
   ],
   "source": [
    "# convert from datetime64 to datetime.datetime\n",
    "field_days = [f.astype('M8[ms]').astype('O') for f in field_days]\n",
    "# drop hour, minute, second\n",
    "field_days_notime = [e.replace(hour=0, minute=0, second=0) for e in field_days]\n",
    "field_days_notime[0]"
   ]
  },
  {
   "cell_type": "code",
   "execution_count": 33,
   "metadata": {},
   "outputs": [
    {
     "data": {
      "text/plain": [
       "['20160425T134227',\n",
       " '20160428T140436',\n",
       " '20160429T133846',\n",
       " '20160502T140055',\n",
       " '20160503T133505']"
      ]
     },
     "execution_count": 33,
     "metadata": {},
     "output_type": "execute_result"
    }
   ],
   "source": [
    "l2wfr = os.listdir('/d_drive_data/S3/L2_WFR_subset/MANACAPURU')\n",
    "l2wfr_dates = [s3img.split('____')[1].split('_')[0] for s3img in l2wfr]\n",
    "l2wfr_dates[0:5]"
   ]
  },
  {
   "cell_type": "code",
   "execution_count": 34,
   "metadata": {},
   "outputs": [
    {
     "data": {
      "text/plain": [
       "datetime.datetime(2016, 4, 25, 13, 42, 27)"
      ]
     },
     "execution_count": 34,
     "metadata": {},
     "output_type": "execute_result"
    }
   ],
   "source": [
    "# Days of S3 orbital images\n",
    "l2wfr_pydts = [datetime.strptime(img_date, '%Y%m%dT%H%M%S') for img_date in l2wfr_dates]\n",
    "l2wfr_pydts[0]"
   ]
  },
  {
   "cell_type": "code",
   "execution_count": 35,
   "metadata": {},
   "outputs": [
    {
     "data": {
      "text/plain": [
       "datetime.datetime(2016, 4, 25, 0, 0)"
      ]
     },
     "execution_count": 35,
     "metadata": {},
     "output_type": "execute_result"
    }
   ],
   "source": [
    "# removes hour:minute:seconds from Sentinel-3 data.\n",
    "l2wfr_pydts_notime = [e.replace(hour=0, minute=0, second=0) for e in l2wfr_pydts]\n",
    "l2wfr_pydts_notime[0]"
   ]
  },
  {
   "cell_type": "code",
   "execution_count": 47,
   "metadata": {},
   "outputs": [],
   "source": [
    "# Turn both data in a SET in order to compare\n",
    "set_field = set(field_days_notime)\n",
    "set_s3 = set(l2wfr_pydts_notime)\n",
    "matches = set_field.intersection(set_s3)"
   ]
  },
  {
   "cell_type": "code",
   "execution_count": 48,
   "metadata": {},
   "outputs": [
    {
     "data": {
      "text/plain": [
       "9"
      ]
     },
     "execution_count": 48,
     "metadata": {},
     "output_type": "execute_result"
    }
   ],
   "source": [
    "len(set_field)"
   ]
  },
  {
   "cell_type": "code",
   "execution_count": 49,
   "metadata": {},
   "outputs": [
    {
     "data": {
      "text/plain": [
       "892"
      ]
     },
     "execution_count": 49,
     "metadata": {},
     "output_type": "execute_result"
    }
   ],
   "source": [
    "len(set_s3)"
   ]
  },
  {
   "cell_type": "code",
   "execution_count": 51,
   "metadata": {},
   "outputs": [
    {
     "name": "stdout",
     "output_type": "stream",
     "text": [
      "2017-12-05 00:00:00\n",
      "2019-03-13 00:00:00\n",
      "2019-05-17 00:00:00\n",
      "2019-02-14 00:00:00\n",
      "2019-04-21 00:00:00\n",
      "2018-05-25 00:00:00\n"
     ]
    }
   ],
   "source": [
    "for m in matches:\n",
    "    print(m)"
   ]
  },
  {
   "cell_type": "code",
   "execution_count": 52,
   "metadata": {},
   "outputs": [],
   "source": [
    "matches = ['S3A_OL_2_WFR____20171205T141218_20171205T141518_20171206T200523_0179_025_167_3059_MAR_O_NT_002_subset.txt',\n",
    "'S3A_OL_2_WFR____20190313T140838_20190313T141138_20190314T214804_0179_042_224_3060_MAR_O_NT_002_subset.txt',\n",
    "'S3B_OL_2_WFR____20190517T134411_20190517T134711_20190518T190927_0180_025_238_3060_MAR_O_NT_002_subset.txt',\n",
    "'S3A_OL_2_WFR____20190214T140841_20190214T141141_20190215T231651_0179_041_224_3060_MAR_O_NT_002_subset.txt',\n",
    "'S3A_OL_2_WFR____20190421T135732_20190421T140032_20190422T221041_0179_044_010_3060_MAR_O_NT_002_subset.txt',\n",
    "'S3A_OL_2_WFR____20180525T133838_20180525T134138_20180526T203409_0179_031_295_3060_MAR_O_NT_002_subset.txt']"
   ]
  },
  {
   "cell_type": "code",
   "execution_count": 53,
   "metadata": {},
   "outputs": [
    {
     "data": {
      "text/plain": [
       "['S3A_OL_2_WFR____20171205T141218_20171205T141518_20171206T200523_0179_025_167_3059_MAR_O_NT_002_subset.txt',\n",
       " 'S3A_OL_2_WFR____20190313T140838_20190313T141138_20190314T214804_0179_042_224_3060_MAR_O_NT_002_subset.txt',\n",
       " 'S3B_OL_2_WFR____20190517T134411_20190517T134711_20190518T190927_0180_025_238_3060_MAR_O_NT_002_subset.txt',\n",
       " 'S3A_OL_2_WFR____20190214T140841_20190214T141141_20190215T231651_0179_041_224_3060_MAR_O_NT_002_subset.txt',\n",
       " 'S3A_OL_2_WFR____20190421T135732_20190421T140032_20190422T221041_0179_044_010_3060_MAR_O_NT_002_subset.txt',\n",
       " 'S3A_OL_2_WFR____20180525T133838_20180525T134138_20180526T203409_0179_031_295_3060_MAR_O_NT_002_subset.txt']"
      ]
     },
     "execution_count": 53,
     "metadata": {},
     "output_type": "execute_result"
    }
   ],
   "source": [
    "matches"
   ]
  },
  {
   "cell_type": "code",
   "execution_count": null,
   "metadata": {},
   "outputs": [],
   "source": []
  }
 ],
 "metadata": {
  "kernelspec": {
   "display_name": "Python 3",
   "language": "python",
   "name": "python3"
  },
  "language_info": {
   "codemirror_mode": {
    "name": "ipython",
    "version": 3
   },
   "file_extension": ".py",
   "mimetype": "text/x-python",
   "name": "python",
   "nbconvert_exporter": "python",
   "pygments_lexer": "ipython3",
   "version": "3.9.1"
  }
 },
 "nbformat": 4,
 "nbformat_minor": 4
}
